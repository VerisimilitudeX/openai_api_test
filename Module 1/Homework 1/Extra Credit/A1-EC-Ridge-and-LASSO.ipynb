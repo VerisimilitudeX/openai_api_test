{
    "metadata": {
        "kernelspec": {
            "name": "python3",
            "display_name": "Python 3 (ipykernel)",
            "language": "python"
        }
    },
    "nbformat": 4,
    "nbformat_minor": 0,
    "cells": [
        {
            "attachments": {},
            "cell_type": "markdown",
            "metadata": {},
            "source": [
                "# Assignment 1 Extra Credit - Grid Search and ElasticNet\n",
                "\n",
                "The following section is only for extra credit. It is here if you have extra time and want to look at something a bit more advanced that you could use in practice.\n",
                "\n",
                "\n",
                "Recall from the syllabus\n",
                "\u003e There will sometimes be small extra credit opportunities as well, but these will not make a major impact in course grades. The extra credit can affect your grade by potentially pushing you up to the next grade point if you are very close (e.g. 3.0 to 3.1). They are meant to be fun extensions rather than required parts of the course. Our advice is to complete extra credit for your own learning or review, but it is unlikely to be an efficient use of your time if you are completing it solely to boost your grade.\n",
                "\n",
                "\n",
                "Fill in the cells provided marked `TODO` with code to answer the questions. Answers should do the computation stated rather than writing in hard-coded values. So for example, if a problem asks you to compute the average age of people in a dataset, you should be writing Python code in this notebook to do the computation instead of plugging it into some calculator and saving the hard-coded answer in the variable. In other words, we should be able to run your code on a smaller/larger dataset and get correct answers for those datasets with your code.\n",
                "\n",
                "It is generally a good idea to restart the kernel and run all cells (especially before turning it in) to make sure your code runs correctly. Answer the questions on Gradescope and make sure to download this file once you've finished the assignment and upload it to Canvas as well.\n",
                "\n",
                "Note, you are not allowed to share any portions of this notebook outside of this class.\n",
                "\n",
                "\u003e Copyright ©2023 Emily Fox and Hunter Schafer.  All rights reserved.  Permission is hereby granted to students registered for University of Washington CSE/STAT 416 for use solely during Spring Quarter 2024 for purposes of the course.  No other use, copying, distribution, or modification is permitted without prior written consent. Copyrights for third-party components of this work must be honored.  Instructors interested in reusing these course materials should contact the author.\n",
                "\n",
                "---"
            ]
        },
        {
            "attachments": {},
            "cell_type": "markdown",
            "metadata": {},
            "source": [
                "We first need to re-process the data so we walk you through steps similar to HW1 to load in and process the data. Note your solutions here will be very similar to your HW1 solutions. The big exception though is that we will not need a validation set since we will be using cross-validation for model selection (described later). This means your code will be almost the same as HW1 for these processing steps, except that there is no explicit validation set."
            ]
        },
        {
            "attachments": {},
            "cell_type": "markdown",
            "metadata": {},
            "source": [
                "We start by importing most of the common libraries used."
            ]
        },
        {
            "cell_type": "code",
            "execution_count": 47,
            "metadata": {},
            "outputs": [],
            "source": [
                "# Conventionally people rename these common imports for brevity\n",
                "import pandas as pd\n",
                "import numpy as np\n",
                "import matplotlib.pyplot as plt\n",
                "\n",
                "# Magic command to make the plots appear in-line (it's actually called a \"magic command\")\n",
                "%matplotlib inline"
            ]
        },
        {
            "attachments": {},
            "cell_type": "markdown",
            "metadata": {},
            "source": [
                "We then need to load in the data and compute the relevant features. Note, you still need to fill out part of this code like you did in this part on the main assignment."
            ]
        },
        {
            "cell_type": "code",
            "execution_count": 48,
            "metadata": {},
            "outputs": [
                {
                    "data": {
                        "text/html": "\u003cdiv\u003e\n\u003cstyle scoped\u003e\n    .dataframe tbody tr th:only-of-type {\n        vertical-align: middle;\n    }\n\n    .dataframe tbody tr th {\n        vertical-align: top;\n    }\n\n    .dataframe thead th {\n        text-align: right;\n    }\n\u003c/style\u003e\n\u003ctable border=\"1\" class=\"dataframe\"\u003e\n  \u003cthead\u003e\n    \u003ctr style=\"text-align: right;\"\u003e\n      \u003cth\u003e\u003c/th\u003e\n      \u003cth\u003ebedrooms\u003c/th\u003e\n      \u003cth\u003ebedrooms_square\u003c/th\u003e\n      \u003cth\u003ebedrooms_sqrt\u003c/th\u003e\n      \u003cth\u003ebathrooms\u003c/th\u003e\n      \u003cth\u003ebathrooms_square\u003c/th\u003e\n      \u003cth\u003ebathrooms_sqrt\u003c/th\u003e\n      \u003cth\u003esqft_living\u003c/th\u003e\n      \u003cth\u003esqft_living_square\u003c/th\u003e\n      \u003cth\u003esqft_living_sqrt\u003c/th\u003e\n      \u003cth\u003esqft_lot\u003c/th\u003e\n      \u003cth\u003e...\u003c/th\u003e\n      \u003cth\u003esqft_above_sqrt\u003c/th\u003e\n      \u003cth\u003esqft_basement\u003c/th\u003e\n      \u003cth\u003esqft_basement_square\u003c/th\u003e\n      \u003cth\u003esqft_basement_sqrt\u003c/th\u003e\n      \u003cth\u003eyr_built\u003c/th\u003e\n      \u003cth\u003eyr_built_square\u003c/th\u003e\n      \u003cth\u003eyr_built_sqrt\u003c/th\u003e\n      \u003cth\u003eyr_renovated\u003c/th\u003e\n      \u003cth\u003eyr_renovated_square\u003c/th\u003e\n      \u003cth\u003eyr_renovated_sqrt\u003c/th\u003e\n    \u003c/tr\u003e\n  \u003c/thead\u003e\n  \u003ctbody\u003e\n    \u003ctr\u003e\n      \u003cth\u003e17384\u003c/th\u003e\n      \u003ctd\u003e2\u003c/td\u003e\n      \u003ctd\u003e4\u003c/td\u003e\n      \u003ctd\u003e1.414214\u003c/td\u003e\n      \u003ctd\u003e1.50\u003c/td\u003e\n      \u003ctd\u003e2.2500\u003c/td\u003e\n      \u003ctd\u003e1.224745\u003c/td\u003e\n      \u003ctd\u003e1430\u003c/td\u003e\n      \u003ctd\u003e2044900\u003c/td\u003e\n      \u003ctd\u003e37.815341\u003c/td\u003e\n      \u003ctd\u003e1650\u003c/td\u003e\n      \u003ctd\u003e...\u003c/td\u003e\n      \u003ctd\u003e37.815341\u003c/td\u003e\n      \u003ctd\u003e0\u003c/td\u003e\n      \u003ctd\u003e0\u003c/td\u003e\n      \u003ctd\u003e0.000000\u003c/td\u003e\n      \u003ctd\u003e1999\u003c/td\u003e\n      \u003ctd\u003e3996001\u003c/td\u003e\n      \u003ctd\u003e44.710178\u003c/td\u003e\n      \u003ctd\u003e0\u003c/td\u003e\n      \u003ctd\u003e0\u003c/td\u003e\n      \u003ctd\u003e0.0\u003c/td\u003e\n    \u003c/tr\u003e\n    \u003ctr\u003e\n      \u003cth\u003e722\u003c/th\u003e\n      \u003ctd\u003e4\u003c/td\u003e\n      \u003ctd\u003e16\u003c/td\u003e\n      \u003ctd\u003e2.000000\u003c/td\u003e\n      \u003ctd\u003e3.25\u003c/td\u003e\n      \u003ctd\u003e10.5625\u003c/td\u003e\n      \u003ctd\u003e1.802776\u003c/td\u003e\n      \u003ctd\u003e4670\u003c/td\u003e\n      \u003ctd\u003e21808900\u003c/td\u003e\n      \u003ctd\u003e68.337398\u003c/td\u003e\n      \u003ctd\u003e51836\u003c/td\u003e\n      \u003ctd\u003e...\u003c/td\u003e\n      \u003ctd\u003e68.337398\u003c/td\u003e\n      \u003ctd\u003e0\u003c/td\u003e\n      \u003ctd\u003e0\u003c/td\u003e\n      \u003ctd\u003e0.000000\u003c/td\u003e\n      \u003ctd\u003e1988\u003c/td\u003e\n      \u003ctd\u003e3952144\u003c/td\u003e\n      \u003ctd\u003e44.586994\u003c/td\u003e\n      \u003ctd\u003e0\u003c/td\u003e\n      \u003ctd\u003e0\u003c/td\u003e\n      \u003ctd\u003e0.0\u003c/td\u003e\n    \u003c/tr\u003e\n    \u003ctr\u003e\n      \u003cth\u003e2680\u003c/th\u003e\n      \u003ctd\u003e2\u003c/td\u003e\n      \u003ctd\u003e4\u003c/td\u003e\n      \u003ctd\u003e1.414214\u003c/td\u003e\n      \u003ctd\u003e0.75\u003c/td\u003e\n      \u003ctd\u003e0.5625\u003c/td\u003e\n      \u003ctd\u003e0.866025\u003c/td\u003e\n      \u003ctd\u003e1440\u003c/td\u003e\n      \u003ctd\u003e2073600\u003c/td\u003e\n      \u003ctd\u003e37.947332\u003c/td\u003e\n      \u003ctd\u003e3700\u003c/td\u003e\n      \u003ctd\u003e...\u003c/td\u003e\n      \u003ctd\u003e34.641016\u003c/td\u003e\n      \u003ctd\u003e240\u003c/td\u003e\n      \u003ctd\u003e57600\u003c/td\u003e\n      \u003ctd\u003e15.491933\u003c/td\u003e\n      \u003ctd\u003e1914\u003c/td\u003e\n      \u003ctd\u003e3663396\u003c/td\u003e\n      \u003ctd\u003e43.749286\u003c/td\u003e\n      \u003ctd\u003e0\u003c/td\u003e\n      \u003ctd\u003e0\u003c/td\u003e\n      \u003ctd\u003e0.0\u003c/td\u003e\n    \u003c/tr\u003e\n    \u003ctr\u003e\n      \u003cth\u003e18754\u003c/th\u003e\n      \u003ctd\u003e2\u003c/td\u003e\n      \u003ctd\u003e4\u003c/td\u003e\n      \u003ctd\u003e1.414214\u003c/td\u003e\n      \u003ctd\u003e1.00\u003c/td\u003e\n      \u003ctd\u003e1.0000\u003c/td\u003e\n      \u003ctd\u003e1.000000\u003c/td\u003e\n      \u003ctd\u003e1130\u003c/td\u003e\n      \u003ctd\u003e1276900\u003c/td\u003e\n      \u003ctd\u003e33.615473\u003c/td\u003e\n      \u003ctd\u003e2640\u003c/td\u003e\n      \u003ctd\u003e...\u003c/td\u003e\n      \u003ctd\u003e33.615473\u003c/td\u003e\n      \u003ctd\u003e0\u003c/td\u003e\n      \u003ctd\u003e0\u003c/td\u003e\n      \u003ctd\u003e0.000000\u003c/td\u003e\n      \u003ctd\u003e1927\u003c/td\u003e\n      \u003ctd\u003e3713329\u003c/td\u003e\n      \u003ctd\u003e43.897608\u003c/td\u003e\n      \u003ctd\u003e0\u003c/td\u003e\n      \u003ctd\u003e0\u003c/td\u003e\n      \u003ctd\u003e0.0\u003c/td\u003e\n    \u003c/tr\u003e\n    \u003ctr\u003e\n      \u003cth\u003e14554\u003c/th\u003e\n      \u003ctd\u003e4\u003c/td\u003e\n      \u003ctd\u003e16\u003c/td\u003e\n      \u003ctd\u003e2.000000\u003c/td\u003e\n      \u003ctd\u003e2.50\u003c/td\u003e\n      \u003ctd\u003e6.2500\u003c/td\u003e\n      \u003ctd\u003e1.581139\u003c/td\u003e\n      \u003ctd\u003e3180\u003c/td\u003e\n      \u003ctd\u003e10112400\u003c/td\u003e\n      \u003ctd\u003e56.391489\u003c/td\u003e\n      \u003ctd\u003e9603\u003c/td\u003e\n      \u003ctd\u003e...\u003c/td\u003e\n      \u003ctd\u003e56.391489\u003c/td\u003e\n      \u003ctd\u003e0\u003c/td\u003e\n      \u003ctd\u003e0\u003c/td\u003e\n      \u003ctd\u003e0.000000\u003c/td\u003e\n      \u003ctd\u003e2002\u003c/td\u003e\n      \u003ctd\u003e4008004\u003c/td\u003e\n      \u003ctd\u003e44.743715\u003c/td\u003e\n      \u003ctd\u003e0\u003c/td\u003e\n      \u003ctd\u003e0\u003c/td\u003e\n      \u003ctd\u003e0.0\u003c/td\u003e\n    \u003c/tr\u003e\n  \u003c/tbody\u003e\n\u003c/table\u003e\n\u003cp\u003e5 rows × 39 columns\u003c/p\u003e\n\u003c/div\u003e",
                        "text/plain": "       bedrooms  bedrooms_square  bedrooms_sqrt  bathrooms  bathrooms_square  \\\n17384         2                4       1.414214       1.50            2.2500   \n722           4               16       2.000000       3.25           10.5625   \n2680          2                4       1.414214       0.75            0.5625   \n18754         2                4       1.414214       1.00            1.0000   \n14554         4               16       2.000000       2.50            6.2500   \n\n       bathrooms_sqrt  sqft_living  sqft_living_square  sqft_living_sqrt  \\\n17384        1.224745         1430             2044900         37.815341   \n722          1.802776         4670            21808900         68.337398   \n2680         0.866025         1440             2073600         37.947332   \n18754        1.000000         1130             1276900         33.615473   \n14554        1.581139         3180            10112400         56.391489   \n\n       sqft_lot  ...  sqft_above_sqrt  sqft_basement  sqft_basement_square  \\\n17384      1650  ...        37.815341              0                     0   \n722       51836  ...        68.337398              0                     0   \n2680       3700  ...        34.641016            240                 57600   \n18754      2640  ...        33.615473              0                     0   \n14554      9603  ...        56.391489              0                     0   \n\n       sqft_basement_sqrt  yr_built  yr_built_square  yr_built_sqrt  \\\n17384            0.000000      1999          3996001      44.710178   \n722              0.000000      1988          3952144      44.586994   \n2680            15.491933      1914          3663396      43.749286   \n18754            0.000000      1927          3713329      43.897608   \n14554            0.000000      2002          4008004      44.743715   \n\n       yr_renovated  yr_renovated_square  yr_renovated_sqrt  \n17384             0                    0                0.0  \n722               0                    0                0.0  \n2680              0                    0                0.0  \n18754             0                    0                0.0  \n14554             0                    0                0.0  \n\n[5 rows x 39 columns]"
                    },
                    "execution_count": 48,
                    "metadata": {},
                    "output_type": "execute_result"
                }
            ],
            "source": [
                "from math import sqrt\n",
                "\n",
                "# Load in data\n",
                "sales = pd.read_csv('home_data.csv') \n",
                "# Selects 1% of the data\n",
                "sales = sales.sample(frac=0.01, random_state=0) \n",
                "\n",
                "\n",
                "# All of the features of interest\n",
                "selected_inputs = [\n",
                "    'bedrooms', \n",
                "    'bathrooms',\n",
                "    'sqft_living', \n",
                "    'sqft_lot', \n",
                "    'floors', \n",
                "    'waterfront', \n",
                "    'view', \n",
                "    'condition', \n",
                "    'grade',\n",
                "    'sqft_above',\n",
                "    'sqft_basement',\n",
                "    'yr_built', \n",
                "    'yr_renovated'\n",
                "]\n",
                "\n",
                "# Compute the square and sqrt of each feature\n",
                "all_features = []\n",
                "for data_input in selected_inputs:\n",
                "    square_feat = data_input + '_square'\n",
                "    sqrt_feat = data_input + '_sqrt'\n",
                "    \n",
                "    # TODO compute the square of the column feature_name, add it to sales as a \n",
                "    # new column, squared_feature_name\n",
                "    sales[square_feat] = sales[data_input] ** 2\n",
                "    \n",
                "    # TODO compute the sqrt of the column feature_name, add it to sales as a\n",
                "    # new column, sqrt_feature_name\n",
                "    sales[sqrt_feat] = sales[data_input] ** (1/2)\n",
                "\n",
                "    all_features.extend([data_input, square_feat, sqrt_feat])\n",
                "    \n",
                "# Split the data into features and price\n",
                "price = sales['price']\n",
                "sales = sales[all_features]\n",
                "\n",
                "sales.head()"
            ]
        },
        {
            "attachments": {},
            "cell_type": "markdown",
            "metadata": {},
            "source": [
                "Because we will be using cross-validation, we do not need to make a validation set when splitting up our data. Below is some pre-written code to to train test split, but you need to fill in the right value for `\u003cNUM\u003e` to make 80% of the data be for training and 20% for test."
            ]
        },
        {
            "cell_type": "code",
            "execution_count": 49,
            "metadata": {},
            "outputs": [],
            "source": [
                "# TODO Fill in the numbers to make datasets of the right size.\n",
                "from sklearn.model_selection import train_test_split\n",
                "\n",
                "train_sales, test_sales, train_price, test_price = \\\n",
                "    train_test_split(sales, price, test_size=0.2, random_state=6)"
            ]
        },
        {
            "attachments": {},
            "cell_type": "markdown",
            "metadata": {},
            "source": [
                "Next, you need to preprocess the data so that it is standardized. Use the same procedure for standaridization that you used in HW2 and save your results to `train_sales` and `test_sales`."
            ]
        },
        {
            "cell_type": "code",
            "execution_count": 50,
            "metadata": {},
            "outputs": [],
            "source": [
                "# TODO Standardize the data\n",
                "from sklearn.preprocessing import StandardScaler\n",
                "\n",
                "scaler = StandardScaler()\n",
                "\n",
                "scaler.fit(train_sales, train_price)\n",
                "train_sales = scaler.transform(train_sales)\n",
                "test_sales = scaler.transform(test_sales)"
            ]
        },
        {
            "attachments": {},
            "cell_type": "markdown",
            "metadata": {},
            "source": [
                "\n",
                "\n",
                "# Grid Search and ElasticNet\n",
                "As we discused in lecture, there are pros to using Ridge and pros to using LASSO. ElasticNet is a model that allows you to use both and tune how much importance you put to one vs the other. The quality metric for ElasticNet is: \n",
                "\n",
                "$$\\hat{w}_{ElasticNet} = \\min_w RSS(w) + \\lambda_1 \\left\\lVert w \\right\\rVert_1 + \\lambda_2 \\left\\lVert w \\right\\rVert_2^2$$\n",
                "\n",
                "However, the `sklearn` implementation asks you to specify the paramters slightly differently. Instead of specifying a $\\lambda_1$ and $\\lambda_2$, they ask you to speciy `alpha` ($\\alpha$) and `l1_ratio` ($\\rho$) .Where $\\alpha$ is the penalty strength and $\\rho$ is the ratio of the penalty that goes to the L1 penalty vs the L2 penalty. $\\rho$ should be a number between 0 and 1.\n",
                "\n",
                "$$\\hat{w}_{ElasticNet} = \\min_w RSS(w) + \\alpha*\\rho \\left\\lVert w \\right\\rVert_1 + \\alpha*(1-\\rho) \\left\\lVert w \\right\\rVert_2^2$$\n",
                "\n",
                "\n",
                "\n",
                "Grid Search is a process of tuning multiple hyper-parameters at the same time by using cross validation. It is essentially the same as what you did in the main assignment, but uses nested loops to try all possible pairs of settings and uses cross-validation instead of a validation set.\n",
                "\n",
                "For this exercise, look at the documentation for [ElasticNet](https://scikit-learn.org/stable/modules/generated/sklearn.linear_model.ElasticNet.html) and [GridSearchCV](https://scikit-learn.org/stable/modules/generated/sklearn.model_selection.GridSearchCV.html#sklearn.model_selection.GridSearchCV) to find the optimal settings of the hyper-parameters `alpha` and `l1_ratio`. \n",
                "\n",
                "*Some implemenation details*\n",
                "* Use $k$-fold cross validation with $k=4$.\n",
                "* Store your `GridSearchCV` object in a variable called `search`.\n",
                "* Use $\\alpha$ with values `np.logspace(2,5,4)` and $\\rho$ (`l1_ratio`) with values `np.linspace(0,1,5)`.\n",
                "* Save the result of the best hyperparamters in a variable called `best_params`. It should be a dictionary with keys `'alpha'` and `'l1_ratio'`.\n",
                ""
            ]
        },
        {
            "cell_type": "code",
            "execution_count": 51,
            "metadata": {},
            "outputs": [
                {
                    "name": "stderr",
                    "output_type": "stream",
                    "text": "/usr/lib/python3.12/site-packages/sklearn/linear_model/_coordinate_descent.py:697: ConvergenceWarning: Objective did not converge. You might want to increase the number of iterations, check the scale of the features or consider increasing regularisation. Duality gap: 1.011e+13, tolerance: 2.163e+09 Linear regression models with null weight for the l1 regularization term are more efficiently fitted using one of the solvers implemented in sklearn.linear_model.Ridge/RidgeCV instead.\n  model = cd_fast.enet_coordinate_descent(\n/usr/lib/python3.12/site-packages/sklearn/linear_model/_coordinate_descent.py:697: ConvergenceWarning: Objective did not converge. You might want to increase the number of iterations, check the scale of the features or consider increasing regularisation. Duality gap: 9.952e+12, tolerance: 2.132e+09 Linear regression models with null weight for the l1 regularization term are more efficiently fitted using one of the solvers implemented in sklearn.linear_model.Ridge/RidgeCV instead.\n  model = cd_fast.enet_coordinate_descent(\n/usr/lib/python3.12/site-packages/sklearn/linear_model/_coordinate_descent.py:697: ConvergenceWarning: Objective did not converge. You might want to increase the number of iterations, check the scale of the features or consider increasing regularisation. Duality gap: 8.715e+12, tolerance: 1.873e+09 Linear regression models with null weight for the l1 regularization term are more efficiently fitted using one of the solvers implemented in sklearn.linear_model.Ridge/RidgeCV instead.\n  model = cd_fast.enet_coordinate_descent(\n/usr/lib/python3.12/site-packages/sklearn/linear_model/_coordinate_descent.py:697: ConvergenceWarning: Objective did not converge. You might want to increase the number of iterations, check the scale of the features or consider increasing regularisation. Duality gap: 6.843e+12, tolerance: 1.440e+09 Linear regression models with null weight for the l1 regularization term are more efficiently fitted using one of the solvers implemented in sklearn.linear_model.Ridge/RidgeCV instead.\n  model = cd_fast.enet_coordinate_descent(\n/usr/lib/python3.12/site-packages/sklearn/linear_model/_coordinate_descent.py:697: ConvergenceWarning: Objective did not converge. You might want to increase the number of iterations, check the scale of the features or consider increasing regularisation. Duality gap: 1.155e+12, tolerance: 2.163e+09\n  model = cd_fast.enet_coordinate_descent(\n/usr/lib/python3.12/site-packages/sklearn/linear_model/_coordinate_descent.py:697: ConvergenceWarning: Objective did not converge. You might want to increase the number of iterations, check the scale of the features or consider increasing regularisation. Duality gap: 1.269e+12, tolerance: 2.132e+09\n  model = cd_fast.enet_coordinate_descent(\n/usr/lib/python3.12/site-packages/sklearn/linear_model/_coordinate_descent.py:697: ConvergenceWarning: Objective did not converge. You might want to increase the number of iterations, check the scale of the features or consider increasing regularisation. Duality gap: 7.065e+11, tolerance: 1.873e+09\n  model = cd_fast.enet_coordinate_descent(\n/usr/lib/python3.12/site-packages/sklearn/linear_model/_coordinate_descent.py:697: ConvergenceWarning: Objective did not converge. You might want to increase the number of iterations, check the scale of the features or consider increasing regularisation. Duality gap: 7.823e+11, tolerance: 1.440e+09\n  model = cd_fast.enet_coordinate_descent(\n/usr/lib/python3.12/site-packages/sklearn/linear_model/_coordinate_descent.py:697: ConvergenceWarning: Objective did not converge. You might want to increase the number of iterations, check the scale of the features or consider increasing regularisation. Duality gap: 1.074e+13, tolerance: 2.163e+09 Linear regression models with null weight for the l1 regularization term are more efficiently fitted using one of the solvers implemented in sklearn.linear_model.Ridge/RidgeCV instead.\n  model = cd_fast.enet_coordinate_descent(\n/usr/lib/python3.12/site-packages/sklearn/linear_model/_coordinate_descent.py:697: ConvergenceWarning: Objective did not converge. You might want to increase the number of iterations, check the scale of the features or consider increasing regularisation. Duality gap: 1.058e+13, tolerance: 2.132e+09 Linear regression models with null weight for the l1 regularization term are more efficiently fitted using one of the solvers implemented in sklearn.linear_model.Ridge/RidgeCV instead.\n  model = cd_fast.enet_coordinate_descent(\n/usr/lib/python3.12/site-packages/sklearn/linear_model/_coordinate_descent.py:697: ConvergenceWarning: Objective did not converge. You might want to increase the number of iterations, check the scale of the features or consider increasing regularisation. Duality gap: 9.293e+12, tolerance: 1.873e+09 Linear regression models with null weight for the l1 regularization term are more efficiently fitted using one of the solvers implemented in sklearn.linear_model.Ridge/RidgeCV instead.\n  model = cd_fast.enet_coordinate_descent(\n/usr/lib/python3.12/site-packages/sklearn/linear_model/_coordinate_descent.py:697: ConvergenceWarning: Objective did not converge. You might want to increase the number of iterations, check the scale of the features or consider increasing regularisation. Duality gap: 7.162e+12, tolerance: 1.440e+09 Linear regression models with null weight for the l1 regularization term are more efficiently fitted using one of the solvers implemented in sklearn.linear_model.Ridge/RidgeCV instead.\n  model = cd_fast.enet_coordinate_descent(\n/usr/lib/python3.12/site-packages/sklearn/linear_model/_coordinate_descent.py:697: ConvergenceWarning: Objective did not converge. You might want to increase the number of iterations, check the scale of the features or consider increasing regularisation. Duality gap: 7.663e+09, tolerance: 2.163e+09\n  model = cd_fast.enet_coordinate_descent(\n/usr/lib/python3.12/site-packages/sklearn/linear_model/_coordinate_descent.py:697: ConvergenceWarning: Objective did not converge. You might want to increase the number of iterations, check the scale of the features or consider increasing regularisation. Duality gap: 1.757e+10, tolerance: 2.132e+09\n  model = cd_fast.enet_coordinate_descent(\n/usr/lib/python3.12/site-packages/sklearn/linear_model/_coordinate_descent.py:697: ConvergenceWarning: Objective did not converge. You might want to increase the number of iterations, check the scale of the features or consider increasing regularisation. Duality gap: 1.571e+10, tolerance: 1.440e+09\n  model = cd_fast.enet_coordinate_descent(\n/usr/lib/python3.12/site-packages/sklearn/linear_model/_coordinate_descent.py:697: ConvergenceWarning: Objective did not converge. You might want to increase the number of iterations, check the scale of the features or consider increasing regularisation. Duality gap: 1.081e+13, tolerance: 2.163e+09 Linear regression models with null weight for the l1 regularization term are more efficiently fitted using one of the solvers implemented in sklearn.linear_model.Ridge/RidgeCV instead.\n  model = cd_fast.enet_coordinate_descent(\n/usr/lib/python3.12/site-packages/sklearn/linear_model/_coordinate_descent.py:697: ConvergenceWarning: Objective did not converge. You might want to increase the number of iterations, check the scale of the features or consider increasing regularisation. Duality gap: 1.065e+13, tolerance: 2.132e+09 Linear regression models with null weight for the l1 regularization term are more efficiently fitted using one of the solvers implemented in sklearn.linear_model.Ridge/RidgeCV instead.\n  model = cd_fast.enet_coordinate_descent(\n/usr/lib/python3.12/site-packages/sklearn/linear_model/_coordinate_descent.py:697: ConvergenceWarning: Objective did not converge. You might want to increase the number of iterations, check the scale of the features or consider increasing regularisation. Duality gap: 9.358e+12, tolerance: 1.873e+09 Linear regression models with null weight for the l1 regularization term are more efficiently fitted using one of the solvers implemented in sklearn.linear_model.Ridge/RidgeCV instead.\n  model = cd_fast.enet_coordinate_descent(\n/usr/lib/python3.12/site-packages/sklearn/linear_model/_coordinate_descent.py:697: ConvergenceWarning: Objective did not converge. You might want to increase the number of iterations, check the scale of the features or consider increasing regularisation. Duality gap: 7.198e+12, tolerance: 1.440e+09 Linear regression models with null weight for the l1 regularization term are more efficiently fitted using one of the solvers implemented in sklearn.linear_model.Ridge/RidgeCV instead.\n  model = cd_fast.enet_coordinate_descent(\n/usr/lib/python3.12/site-packages/sklearn/linear_model/_coordinate_descent.py:697: ConvergenceWarning: Objective did not converge. You might want to increase the number of iterations, check the scale of the features or consider increasing regularisation. Duality gap: 1.082e+13, tolerance: 2.163e+09 Linear regression models with null weight for the l1 regularization term are more efficiently fitted using one of the solvers implemented in sklearn.linear_model.Ridge/RidgeCV instead.\n  model = cd_fast.enet_coordinate_descent(\n/usr/lib/python3.12/site-packages/sklearn/linear_model/_coordinate_descent.py:697: ConvergenceWarning: Objective did not converge. You might want to increase the number of iterations, check the scale of the features or consider increasing regularisation. Duality gap: 1.066e+13, tolerance: 2.132e+09 Linear regression models with null weight for the l1 regularization term are more efficiently fitted using one of the solvers implemented in sklearn.linear_model.Ridge/RidgeCV instead.\n  model = cd_fast.enet_coordinate_descent(\n/usr/lib/python3.12/site-packages/sklearn/linear_model/_coordinate_descent.py:697: ConvergenceWarning: Objective did not converge. You might want to increase the number of iterations, check the scale of the features or consider increasing regularisation. Duality gap: 9.364e+12, tolerance: 1.873e+09 Linear regression models with null weight for the l1 regularization term are more efficiently fitted using one of the solvers implemented in sklearn.linear_model.Ridge/RidgeCV instead.\n  model = cd_fast.enet_coordinate_descent(\n/usr/lib/python3.12/site-packages/sklearn/linear_model/_coordinate_descent.py:697: ConvergenceWarning: Objective did not converge. You might want to increase the number of iterations, check the scale of the features or consider increasing regularisation. Duality gap: 7.202e+12, tolerance: 1.440e+09 Linear regression models with null weight for the l1 regularization term are more efficiently fitted using one of the solvers implemented in sklearn.linear_model.Ridge/RidgeCV instead.\n  model = cd_fast.enet_coordinate_descent(\n"
                }
            ],
            "source": [
                "### edTest(test_ec_grid_search_elastic_net) ###\n",
                "from sklearn.linear_model import ElasticNet\n",
                "from sklearn.model_selection import GridSearchCV\n",
                "\n",
                "param_grid = {\"alpha\": np.logspace(2, 5, 4), \"l1_ratio\": np.linspace(0,1,5)}\n",
                "\n",
                "regr = ElasticNet(random_state=53)\n",
                "search = GridSearchCV(regr, param_grid, cv=4)\n",
                "search.fit(train_sales, train_price)\n",
                "\n",
                "best_params= search.best_params_"
            ]
        },
        {
            "cell_type": "code",
            "execution_count": 52,
            "metadata": {},
            "outputs": [],
            "source": [
                ""
            ]
        },
        {
            "cell_type": "code",
            "execution_count": 53,
            "metadata": {},
            "outputs": [],
            "source": [
                ""
            ]
        }
    ]
}
