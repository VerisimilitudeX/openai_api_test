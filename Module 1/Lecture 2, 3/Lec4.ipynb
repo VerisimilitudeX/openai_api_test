{
    "metadata": {
        "kernelspec": {
            "name": "python3",
            "display_name": "Python 3",
            "language": "python"
        }
    },
    "nbformat": 4,
    "nbformat_minor": 0,
    "cells": [
        {
            "attachments": {},
            "cell_type": "markdown",
            "metadata": {},
            "source": [
                "First we write some starter code to generate data"
            ]
        },
        {
            "cell_type": "code",
            "execution_count": 0,
            "metadata": {},
            "outputs": [],
            "source": [
                "import numpy as np\n",
                "import matplotlib.pyplot as plt\n",
                "\n",
                "import matplotlib\n",
                "font = {'size': 18}\n",
                "matplotlib.rc('font', **font)\n",
                "\n",
                "%matplotlib inline"
            ]
        },
        {
            "cell_type": "code",
            "execution_count": 0,
            "metadata": {},
            "outputs": [],
            "source": [
                "# Define the true function f\n",
                "def f(x):\n",
                "    return 100 * (x - 0.5) ** 3 - 10 * x + 2 * x + 2 * 6.25"
            ]
        },
        {
            "cell_type": "code",
            "execution_count": 0,
            "metadata": {},
            "outputs": [],
            "source": [
                "# Generate a list of x's so we can properly draw the model\n",
                "xs = np.linspace(0, 1, 1000).reshape((1000, 1))"
            ]
        },
        {
            "cell_type": "code",
            "execution_count": 0,
            "metadata": {},
            "outputs": [
                {
                    "data": {
                        "text/plain": [
                            "[\u003cmatplotlib.lines.Line2D at 0x7ff4cd04ee50\u003e]"
                        ]
                    },
                    "execution_count": 0,
                    "metadata": {
                        "tags": []
                    },
                    "output_type": "execute_result"
                },
                {
                    "data": {
                        "image/png": "[encoded data removed]",
                        "text/plain": [
                            "\u003cFigure size 432x288 with 1 Axes\u003e"
                        ]
                    },
                    "metadata": {
                        "needs_background": "light",
                        "tags": []
                    },
                    "output_type": "display_data"
                }
            ],
            "source": [
                "plt.plot(xs, f(xs))"
            ]
        },
        {
            "cell_type": "code",
            "execution_count": 0,
            "metadata": {},
            "outputs": [
                {
                    "data": {
                        "text/plain": [
                            "array([[0.51978166],\n",
                            "       [0.32738947],\n",
                            "       [0.6713648 ],\n",
                            "       [0.05112713],\n",
                            "       [0.91152348],\n",
                            "       [0.8426922 ],\n",
                            "       [0.65737208],\n",
                            "       [0.72436712],\n",
                            "       [0.05150502],\n",
                            "       [0.42035122],\n",
                            "       [0.25383305],\n",
                            "       [0.57056263],\n",
                            "       [0.42305305],\n",
                            "       [0.94234912],\n",
                            "       [0.38386539],\n",
                            "       [0.94270754],\n",
                            "       [0.34579529],\n",
                            "       [0.94671439],\n",
                            "       [0.26795725],\n",
                            "       [0.90025616]])"
                        ]
                    },
                    "execution_count": 0,
                    "metadata": {
                        "tags": []
                    },
                    "output_type": "execute_result"
                }
            ],
            "source": [
                "# Generate 20 random data points\n",
                "X = np.random.uniform(0 , 1, 20).reshape((20, 1))\n",
                "X"
            ]
        },
        {
            "cell_type": "code",
            "execution_count": 0,
            "metadata": {},
            "outputs": [],
            "source": [
                "# Generate 20 noisy targets for training data\n",
                "y = f(X) + np.random.normal(0, 1, (20, 1))"
            ]
        },
        {
            "cell_type": "code",
            "execution_count": 0,
            "metadata": {},
            "outputs": [
                {
                    "data": {
                        "text/plain": [
                            "\u003cmatplotlib.collections.PathCollection at 0x7ff4cd031bd0\u003e"
                        ]
                    },
                    "execution_count": 0,
                    "metadata": {
                        "tags": []
                    },
                    "output_type": "execute_result"
                },
                {
                    "data": {
                        "image/png": "[encoded data removed]",
                        "text/plain": [
                            "\u003cFigure size 432x288 with 1 Axes\u003e"
                        ]
                    },
                    "metadata": {
                        "needs_background": "light",
                        "tags": []
                    },
                    "output_type": "display_data"
                }
            ],
            "source": [
                "# Plot them together\n",
                "plt.plot(xs, f(xs), color='green')\n",
                "plt.scatter(X, y, color='black')"
            ]
        },
        {
            "attachments": {},
            "cell_type": "markdown",
            "metadata": {},
            "source": [
                "# Demo 1: Lasso Regression\n",
                "This demo shows how the penalty for $\\lambda$ affects the resulting function"
            ]
        },
        {
            "cell_type": "code",
            "execution_count": 0,
            "metadata": {},
            "outputs": [],
            "source": [
                "# Simple code to train a Lasso model\n",
                "from sklearn.linear_model import Lasso\n",
                "model = Lasso(alpha=1.5)"
            ]
        },
        {
            "cell_type": "code",
            "execution_count": 0,
            "metadata": {},
            "outputs": [],
            "source": [
                "from sklearn.preprocessing import PolynomialFeatures\n",
                "\n",
                "# Define the function for plotting\n",
                "def poly_model_lasso(lam, degree, X, y, xs, ):\n",
                "    # Generate polynomial features of degree p\n",
                "    poly = PolynomialFeatures(degree)\n",
                "    X_poly = poly.fit_transform(X)\n",
                "    xs_poly = poly.transform(xs)\n",
                "\n",
                "    # Train the model and make predictions along all xs\n",
                "    model = Lasso(alpha=lam)\n",
                "    model.fit(X_poly, y)\n",
                "    predictions = model.predict(xs_poly)\n",
                "\n",
                "    # Plot the prediction results\n",
                "    plt.scatter(X, y, label='Data', c='black')\n",
                "    plt.plot(xs, predictions, label='Predicted f')\n",
                "\n",
                "    # Customize plot for readability\n",
                "    plt.title(f'Lambda {lam:0.2e}')\n",
                "    plt.xlabel('x')\n",
                "    plt.ylabel('y')\n",
                "    plt.legend(bbox_to_anchor=(1.04,1), loc=\"upper left\")  # Legend outside plot\n",
                "    plt.xlim(0, 1)\n",
                "    plt.ylim(0, y.max() + 1)\n",
                "\n",
                "    plt.show()"
            ]
        },
        {
            "cell_type": "code",
            "execution_count": 0,
            "metadata": {},
            "outputs": [
                {
                    "data": {
                        "application/vnd.jupyter.widget-view+json": {
                            "model_id": "1529413147f549cdb22301f82e2a0f31",
                            "version_major": 2,
                            "version_minor": 0
                        },
                        "text/plain": [
                            "interactive(children=(FloatLogSlider(value=0.001, description='lam', max=3.0, min=-3.0), IntSlider(value=1, de…"
                        ]
                    },
                    "metadata": {
                        "tags": []
                    },
                    "output_type": "display_data"
                }
            ],
            "source": [
                "# Define interaction code\n",
                "from ipywidgets import fixed, interactive, IntSlider, FloatLogSlider, widget, widgets\n",
                "\n",
                "interactive_plot = interactive(poly_model_lasso, \n",
                "                               lam=FloatLogSlider(min=-3, max=3, value=-3),\n",
                "                               degree=IntSlider(min=0, max=20, value=1),\n",
                "                               X=fixed(X),\n",
                "                               y=fixed(y),\n",
                "                               xs=fixed(xs))\n",
                "\n",
                "output = interactive_plot.children[-1]\n",
                "output.layout.height = '350px'\n",
                "interactive_plot"
            ]
        },
        {
            "attachments": {},
            "cell_type": "markdown",
            "metadata": {},
            "source": [
                "# Demo 2: Visualizing Lasso Regression\n",
                "First, some set up work to setup the initial state to make computations faster"
            ]
        },
        {
            "cell_type": "code",
            "execution_count": 0,
            "metadata": {},
            "outputs": [],
            "source": [
                "import math\n",
                "\n",
                "from ipywidgets import interactive, FloatLogSlider, FloatSlider, widget, widgets\n",
                "from IPython.display import display\n",
                "\n",
                "from matplotlib import ticker\n",
                "\n",
                "# Make a datset that has features of all 1s for the intercept\n",
                "X_mod = np.ones((X.shape[0], 2))\n",
                "X_mod[:, 1] = X[:, 0]\n",
                "\n",
                "\n",
                "def compute_lasso_path(X, y, lambdas):\n",
                "    \"\"\"\n",
                "    Computes the LASSO Regression coefficient path for the given list of lambdas\n",
                "    \n",
                "    Trains a Lasso model for each value of lambda and returns the coefficients\n",
                "    as a (2, len(lambdas)) array storing the coefficients as columns.\n",
                "    \"\"\"\n",
                "    coefs = np.zeros((2, len(lambdas)))\n",
                "    for i, lam in enumerate(lambdas):\n",
                "        model = Lasso(alpha=lam, fit_intercept=False)\n",
                "        model.fit(X, y)\n",
                "        coefs[:, i] = model.coef_\n",
                "    return coefs\n",
                "    \n",
                "    \n",
                "def rss(X, y, w0s, w1s):\n",
                "    \"\"\"\n",
                "    Compute the value of the RSS metric for each combo of w0 and w1\n",
                "    \n",
                "    Returns a numpy array of RSS values of size ((w0s.size, w1s.size))\n",
                "    \"\"\"\n",
                "    rss_values = np.zeros(shape=(w0s.size, w1s.size))\n",
                "\n",
                "    # For every setting of w0 and w1\n",
                "    for i, w0 in enumerate(w0s):\n",
                "        for j, w1 in enumerate(w1s):\n",
                "            w = np.array([w0, w1]).reshape((2,1))\n",
                "            # This computes RSS(w)\n",
                "            rss_values[j, i] = np.sum((y - X @ w) ** 2) \n",
                "    return rss_values / (2 * len(X))\n",
                "\n",
                "# Set up common state\n",
                "lambda_params = (-5, 2)\n",
                "lambdas = np.logspace(lambda_params[0], lambda_params[1], 50)\n",
                "coefs = compute_lasso_path(X_mod, y, lambdas)\n",
                "w0s = np.linspace(-15, 15, 200)\n",
                "w1s = np.linspace(-15, 15, 200)\n",
                "# Clever: We only have to compute RSS once since it only dpeends on data and possible w0s and w1s\n",
                "rss_values = rss(X_mod, y, w0s=w0s, w1s=w1s)"
            ]
        },
        {
            "cell_type": "code",
            "execution_count": 0,
            "metadata": {},
            "outputs": [],
            "source": [
                "def plot_contour(axis, w0s, w1s, values):\n",
                "    \"\"\"\n",
                "    Plots a contour plot on the given axis using w0s as the x-axis,\n",
                "    w1s as the y-axis, and values as the z-axis.\n",
                "    \"\"\"\n",
                "    # First, plot the color gradient\n",
                "    axis.contourf(w0s, w1s, values, levels=100, alpha=.5)\n",
                "    \n",
                "    # Then plot the labelled contours\n",
                "    cs = axis.contour(w0s, w1s, values, levels=10, colors='black')\n",
                "    axis.clabel(cs, inline=1, fontsize=8)\n",
                "    \n",
                "    # Then draw the x and y axes\n",
                "    axis.axhline(0, color='black', alpha=.5, dashes=[2, 4], linewidth=1)\n",
                "    axis.axvline(0, color='black', alpha=0.5, dashes=[2, 4], linewidth=1)\n",
                "    axis.set_xlim(w0s.min(), w0s.max())\n",
                "    axis.set_ylim(w1s.min(), w1s.max())\n",
                "\n",
                "    \n",
                "# Setup the objects that hold widget state\n",
                "w0_widget  = FloatSlider(min=math.floor(w0s.min()), max=math.ceil(w0s.max()), continuous_update=False)\n",
                "w1_widget  = FloatSlider(min=math.floor(w1s.min()), max=math.ceil(w1s.max()), continuous_update=False)\n",
                "lam_widget = FloatLogSlider(min=lambda_params[0], max=lambda_params[1], value=lambda_params[0], continuous_update=False)\n",
                "\n",
                "def do_ols(event):\n",
                "    \"\"\"\n",
                "    When clicked, will fit a LinearRegression model to the data and change the values for the widgets\n",
                "    \"\"\"\n",
                "    model = LinearRegression(fit_intercept=False)\n",
                "    model.fit(X_mod, y)\n",
                "    w0_widget.value = model.coef_[0, 0]\n",
                "    w1_widget.value = model.coef_[0, 1]\n",
                "    \n",
                "\n",
                "\n",
                "def do_lasso(event):\n",
                "    \"\"\"\n",
                "    When clicked, will fit a Lasso model to the data and change the values for the widgets\n",
                "    \"\"\"\n",
                "    model = Lasso(alpha=lam_widget.value, fit_intercept=False)\n",
                "    model.fit(X_mod, y)\n",
                "    print(lam_widget.value, model)\n",
                "    print(model.coef_)\n",
                "    w0_widget.value = model.coef_[0]\n",
                "    w1_widget.value = model.coef_[1]\n",
                "    \n",
                "# Create the buttons\n",
                "button_ols = widgets.Button(\n",
                "    description='Find Ordinary Least Squares Solution',\n",
                "    layout={'width': '300px'}\n",
                ")\n",
                "button_ols.on_click(do_ols) \n",
                "button_lasso = widgets.Button(\n",
                "    description='Find LASSO Regression Solution',\n",
                "    layout={'width': '300px'}\n",
                ")\n",
                "button_lasso.on_click(do_lasso)\n",
                "\n",
                "\n",
                "def plot(w0, w1, lam, show_path):\n",
                "    \"\"\"\n",
                "    Plots the graph showing the quality metric at the different w0 and w1 pairs using lambda strength\n",
                "    lam for Lasso regression. If show_path is True, shows coefficient paths.\n",
                "    \"\"\"\n",
                "    if show_path:\n",
                "        fig, [[ax1, ax2, ax3], [ax4, ax5, ax6]] = plt.subplots(ncols=3, nrows=2, figsize=(30, 15))\n",
                "        ax4.axis('off')\n",
                "        ax6.axis('off')\n",
                "    else:\n",
                "        fig, [ax1, ax2, ax3] = plt.subplots(ncols=3, figsize=(30, 7))\n",
                "        \n",
                "\n",
                "    xs = np.linspace(0, 1, 100)\n",
                "    \n",
                "    # Plot the data on ax1\n",
                "    ax1.scatter(X, y, c='black', label='Data')\n",
                "    ax1.plot(xs, w0 + w1 * xs, label=f'y = {w0:.2f} + {w1:.2f}x')\n",
                "    ax1.set_xlim(0, 1)\n",
                "    ax1.set_ylim(-0.05, y.max() + 1)\n",
                "    ax1.set_xlabel('x')\n",
                "    ax1.set_ylabel('y')\n",
                "    ax1.set_title('Data + Prediction')\n",
                "    ax1.legend()\n",
                "    \n",
                "    # Plot 2 shows RSS alone\n",
                "    plot_contour(ax2, w0s, w1s, rss_values)\n",
                "    if show_path:\n",
                "        ax2.plot(coefs[0, :], coefs[1, :], c='w')\n",
                "    ax2.scatter(np.array([w0]), np.array([w1]), edgecolor='black', facecolor='white', s=100)\n",
                "    ax2.set_title('Ordinary Least Squares QM')\n",
                "    ax2.set_xlabel('w0')\n",
                "    ax2.set_ylabel('w1')\n",
                "    \n",
                "    # Plot 3 shows RSS + L1 Norm\n",
                "    lasso_penalties = np.abs(w0s.reshape((w0s.shape[0], 1)))  + np.abs(w1s)\n",
                "    plot_contour(ax3, w0s, w1s, rss_values + lam * lasso_penalties)\n",
                "    if show_path:\n",
                "        ax3.plot(coefs[0, :], coefs[1, :], c='w')\n",
                "    ax3.scatter(np.array([w0]), np.array([w1]), edgecolor='black', facecolor='white', s=100)\n",
                "    ax3.set_xlabel('w0')\n",
                "    ax3.set_ylabel('w1')\n",
                "    ax3.set_title(f'Lasso Regression QM: Lambda={lam:.2e}')\n",
                "\n",
                "    \n",
                "    # Show the standard coefficient path chart\n",
                "    if show_path:\n",
                "        ax5.plot(lambdas, coefs[0, :], label='w0')\n",
                "        ax5.plot(lambdas, coefs[1, :], label='w1')\n",
                "        \n",
                "        ax5.legend(bbox_to_anchor=(1.04,1), loc=\"upper left\")\n",
                "        ax5.set_xlabel('lambda')\n",
                "        ax5.set_ylabel('magnitude')\n",
                "        ax5.set_title('Coefficient Path')\n",
                "        \n",
                "    plt.show()\n",
                "\n",
                "interactive_plot = interactive(plot, w0=w0_widget, w1=w1_widget, lam=lam_widget, show_path=False)\n",
                "output = interactive_plot.children[-1]\n",
                "output.layout.height = '800px'"
            ]
        },
        {
            "attachments": {},
            "cell_type": "markdown",
            "metadata": {},
            "source": [
                "Ordinary Least Squares\n",
                "$$\\hat{w}_{LS} = \\min_w RSS(w)$$\n",
                "\n",
                "Lasso Regression\n",
                "\n",
                "$$\\hat{w}_{lasso} = \\min_w RSS(w) + \\lambda ||w||_1$$"
            ]
        },
        {
            "cell_type": "code",
            "execution_count": 0,
            "metadata": {},
            "outputs": [
                {
                    "data": {
                        "application/vnd.jupyter.widget-view+json": {
                            "model_id": "6642d88982a64f15826b2e97f603de34",
                            "version_major": 2,
                            "version_minor": 0
                        },
                        "text/plain": [
                            "HBox(children=(Button(description='Find Ordinary Least Squares Solution', layout=Layout(width='300px'), style=…"
                        ]
                    },
                    "metadata": {
                        "tags": []
                    },
                    "output_type": "display_data"
                },
                {
                    "data": {
                        "application/vnd.jupyter.widget-view+json": {
                            "model_id": "acb579c8eb2e43b68c3400676faecc9f",
                            "version_major": 2,
                            "version_minor": 0
                        },
                        "text/plain": [
                            "interactive(children=(FloatSlider(value=0.0, continuous_update=False, description='w0', max=15.0, min=-15.0), …"
                        ]
                    },
                    "metadata": {
                        "tags": []
                    },
                    "output_type": "display_data"
                }
            ],
            "source": [
                "display(widgets.HBox([button_ols, button_lasso]))\n",
                "interactive_plot"
            ]
        },
        {
            "attachments": {},
            "cell_type": "markdown",
            "metadata": {},
            "source": [
                "# Demo 6b: Visualizing LASSO Regression - Don't Penalize Intercept\n",
                "Here is the exact repeat of all the code from before, but that doesn't penalize $w_0$"
            ]
        },
        {
            "cell_type": "code",
            "execution_count": 0,
            "metadata": {},
            "outputs": [],
            "source": [
                "from sklearn.linear_model import Lasso"
            ]
        },
        {
            "cell_type": "code",
            "execution_count": 0,
            "metadata": {},
            "outputs": [],
            "source": [
                "import math\n",
                "\n",
                "from ipywidgets import interactive, FloatLogSlider, FloatSlider, widget, widgets\n",
                "from IPython.display import display\n",
                "\n",
                "from matplotlib import ticker\n",
                "\n",
                "def compute_lasso_path2(X, y, lambdas):\n",
                "    coefs = np.zeros((2, len(lambdas)))\n",
                "    for i, lam in enumerate(lambdas):\n",
                "        model = Lasso(alpha=lam, fit_intercept=True)\n",
                "        model.fit(X, y)\n",
                "        coefs[0, i] = model.intercept_\n",
                "        coefs[1, i] = model.coef_[0]\n",
                "    return coefs\n",
                "\n",
                "    \n",
                "def rss2(X, y, w0s, w1s):\n",
                "    rss_values = np.zeros(shape=(w0s.size, w1s.size))\n",
                "\n",
                "    # For every setting of w0 and w1\n",
                "    for i, w0 in enumerate(w0s):\n",
                "        for j, w1 in enumerate(w1s):\n",
                "            # This computes RSS(w)\n",
                "            rss_values[j, i] = np.sum((y - (w0 + X * w1)) ** 2) / (2 * len(X))\n",
                "    return rss_values\n",
                "\n",
                "lambda_params2 = (-5, 2)\n",
                "lambdas2 = np.logspace(lambda_params2[0], lambda_params2[1], 50)\n",
                "coefs2 = compute_lasso_path2(X, y, lambdas2)\n",
                "w0s2 = np.linspace(-15, 15, 200)\n",
                "w1s2 = np.linspace(-15, 15, 200)\n",
                "rss_values2 = rss2(X, y, w0s=w0s2, w1s=w1s2)"
            ]
        },
        {
            "cell_type": "code",
            "execution_count": 0,
            "metadata": {},
            "outputs": [],
            "source": [
                "def plot_contour(axis, w0s, w1s, values):\n",
                "    # First, plot the color gradient\n",
                "    axis.contourf(w0s, w1s, values, levels=100, alpha=.5)\n",
                "    \n",
                "    # Then plot the labelled contours\n",
                "    cs = axis.contour(w0s, w1s, values, levels=10, colors='black')\n",
                "    axis.clabel(cs, inline=1, fontsize=8)\n",
                "    \n",
                "    # Then draw the x and y axes\n",
                "    axis.axhline(0, color='black', alpha=.5, dashes=[2, 4], linewidth=1)\n",
                "    axis.axvline(0, color='black', alpha=0.5, dashes=[2, 4], linewidth=1)\n",
                "    axis.set_xlim(w0s.min(), w0s.max())\n",
                "    axis.set_ylim(w1s.min(), w1s.max())\n",
                "\n",
                "    \n",
                "# Setup the objects that hold widget state\n",
                "w0_widget2  = FloatSlider(min=math.floor(w0s2.min()), max=math.ceil(w0s2.max()), continuous_update=False)\n",
                "w1_widget2  = FloatSlider(min=math.floor(w1s2.min()), max=math.ceil(w1s2.max()), continuous_update=False)\n",
                "lam_widget2 = FloatLogSlider(min=lambda_params2[0], max=lambda_params2[1], value=lambda_params2[0], continuous_update=False)\n",
                "\n",
                "\n",
                "# Define the buttons that will find the OLS or lasso solutions\n",
                "def do_ols2(event):\n",
                "    model = LinearRegression()\n",
                "    model.fit(X, y)\n",
                "    w0_widget2.value = model.intercept_\n",
                "    w1_widget2.value = model.coef_[0, 0]\n",
                "    \n",
                "    \n",
                "def do_lasso2(event):\n",
                "    model = Lasso(alpha=lam_widget2.value)\n",
                "    model.fit(X, y)\n",
                "    w0_widget2.value = model.intercept_\n",
                "    w1_widget2.value = model.coef_[0]\n",
                "    \n",
                "# Creat the buttons \n",
                "button_ols2 = widgets.Button(\n",
                "    description='Find Ordinary Least Squares Solution',\n",
                "    layout={'width': '300px'}\n",
                ")\n",
                "button_ols2.on_click(do_ols2)   \n",
                "button_lasso2 = widgets.Button(\n",
                "    description='Find LASSO Regression Solution',\n",
                "    layout={'width': '300px'}\n",
                ")\n",
                "button_lasso2.on_click(do_lasso2)\n",
                "\n",
                "\n",
                "def plot(w0, w1, lam, show_path):\n",
                "    if show_path:\n",
                "        fig, [[ax1, ax2, ax3], [ax4, ax5, ax6]] = plt.subplots(ncols=3, nrows=2, figsize=(30, 15))\n",
                "        ax4.axis('off')\n",
                "        ax6.axis('off')\n",
                "    else:\n",
                "        fig, [ax1, ax2, ax3] = plt.subplots(ncols=3, figsize=(30, 7))\n",
                "        \n",
                "\n",
                "    xs = np.linspace(0, 1, 100)\n",
                "    \n",
                "    # Plot the data on ax1\n",
                "    ax1.scatter(X, y, c='black', label='Data')\n",
                "    ax1.plot(xs, w0 + w1 * xs, label=f'y = {w0:.2f} + {w1:.2f}x')\n",
                "    ax1.set_xlim(0, 1)\n",
                "    ax1.set_ylim(-0.05, y.max() + 1)\n",
                "    ax1.set_xlabel('x')\n",
                "    ax1.set_ylabel('y')\n",
                "    ax1.set_title('Data + Prediction')\n",
                "    ax1.legend()\n",
                "    \n",
                "    # Plot 2 shows RSS alone\n",
                "    plot_contour(ax2, w0s2, w1s2, rss_values2)\n",
                "    if show_path:\n",
                "        ax2.plot(coefs2[0, :], coefs2[1, :], c='w')\n",
                "    ax2.scatter(np.array([w0]), np.array([w1]), edgecolor='black', facecolor='white', s=100)\n",
                "    ax2.set_title('Ordinary Least Squares QM')\n",
                "    ax2.set_xlabel('w0')\n",
                "    ax2.set_ylabel('w1')\n",
                "    \n",
                "    # Plot 3 shows RSS + L1 Norm\n",
                "    lasso_penalties = np.abs(w1s2.reshape((w1s2.shape[0], 1))) + np.zeros((w1s2.shape[0]))\n",
                "    plot_contour(ax3, w0s2, w1s2, rss_values2 + lam * lasso_penalties)\n",
                "    if show_path:\n",
                "        ax3.plot(coefs2[0, :], coefs2[1, :], c='w')\n",
                "    ax3.scatter(np.array([w0]), np.array([w1]), edgecolor='black', facecolor='white', s=100)\n",
                "    ax3.set_xlabel('w0')\n",
                "    ax3.set_ylabel('w1')\n",
                "    ax3.set_title(f'LASSO Regression QM: Lambda={lam:.2e}')\n",
                "\n",
                "    \n",
                "    # Show the s2tandard coefficient path chart\n",
                "    if show_path:\n",
                "        ax5.plot(lambdas, coefs2[0, :], label='w0')\n",
                "        ax5.plot(lambdas, coefs2[1, :], label='w1')\n",
                "        \n",
                "        ax5.legend(bbox_to_anchor=(1.04,1), loc=\"upper left\")\n",
                "        ax5.set_xlabel('lambda')\n",
                "        ax5.set_ylabel('magnitude')\n",
                "        ax5.set_title('Coefficient Path')\n",
                "        \n",
                "    plt.show()\n",
                "\n",
                "interactive_plot2 = interactive(plot, w0=w0_widget2, w1=w1_widget2, lam=lam_widget2, show_path=False)\n",
                "output = interactive_plot2.children[-1]\n",
                "output.layout.height = '800px'"
            ]
        },
        {
            "cell_type": "code",
            "execution_count": 0,
            "metadata": {},
            "outputs": [
                {
                    "data": {
                        "application/vnd.jupyter.widget-view+json": {
                            "model_id": "8fb5ec0cbc3d48d2afc05454288cfd34",
                            "version_major": 2,
                            "version_minor": 0
                        },
                        "text/plain": [
                            "HBox(children=(Button(description='Find Ordinary Least Squares Solution', layout=Layout(width='300px'), style=…"
                        ]
                    },
                    "metadata": {
                        "tags": []
                    },
                    "output_type": "display_data"
                },
                {
                    "data": {
                        "application/vnd.jupyter.widget-view+json": {
                            "model_id": "6eeec8684f03493ebe50aed4c3803c9b",
                            "version_major": 2,
                            "version_minor": 0
                        },
                        "text/plain": [
                            "interactive(children=(FloatSlider(value=0.0, continuous_update=False, description='w0', max=15.0, min=-15.0), …"
                        ]
                    },
                    "metadata": {
                        "tags": []
                    },
                    "output_type": "display_data"
                }
            ],
            "source": [
                "display(widgets.HBox([button_ols2, button_lasso2]))\n",
                "interactive_plot2"
            ]
        },
        {
            "cell_type": "code",
            "execution_count": 0,
            "metadata": {},
            "outputs": [],
            "source": [
                ""
            ]
        },
        {
            "cell_type": "code",
            "execution_count": 0,
            "metadata": {},
            "outputs": [],
            "source": [
                ""
            ]
        }
    ]
}
