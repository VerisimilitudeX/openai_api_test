{
    "cells": [
        {
            "attachments": {},
            "cell_type": "markdown",
            "metadata": {},
            "source": [
                "# 1. Setting up"
            ]
        },
        {
            "attachments": {},
            "cell_type": "markdown",
            "metadata": {},
            "source": [
                "Import all required modules"
            ]
        },
        {
            "cell_type": "code",
            "execution_count": 1,
            "metadata": {},
            "outputs": [],
            "source": [
                "import numpy as np\n",
                "import pandas as pd\n",
                "\n",
                "from sklearn.model_selection import train_test_split\n",
                "from sklearn.preprocessing import StandardScaler\n",
                "from sklearn.metrics import mean_squared_error\n",
                "from sklearn.linear_model import Ridge\n",
                "from sklearn.linear_model import Lasso\n",
                "from sklearn.linear_model import LinearRegression\n",
                "from sklearn.model_selection import cross_val_score\n",
                "\n",
                "np.random.seed(416)"
            ]
        },
        {
            "attachments": {},
            "cell_type": "markdown",
            "metadata": {},
            "source": [
                "**Note:** Whenever you see print statements, you can uncomment them and run the code block to gain an understanding of the dataset.\n",
                "\n",
                "\n",
                "Read in the crime data of Philedelphia and view it. For additional info on the dataset we're using, see [this](https://www.kaggle.com/datasets/minnieliang/philadelphia-crime-rate-data).\n",
                "\n",
                "**Discussion:** Notice the shape of the data. Do you see anything that is a problem?\n",
                "\n",
                "Let's try to understand the dataset we are using. Each row represents the data of a particular city. the features are:\n",
                "\n",
                "1. HousePrice = the mean house price in that city\n",
                "2. HsPrc($10,000) = HousePrice / 10,000\n",
                "3. CrimeRate = Crime rate in that city\n",
                "4. MilesPhila = Miles of city from Philedelphia\n",
                "5. popChg = change in population \n",
                "6. Name = Name of the city\n",
                "7. County = County the city is in"
            ]
        },
        {
            "cell_type": "code",
            "execution_count": 2,
            "metadata": {},
            "outputs": [
                {
                    "data": {
                        "text/html": [
                            "<div>\n",
                            "<style scoped>\n",
                            "    .dataframe tbody tr th:only-of-type {\n",
                            "        vertical-align: middle;\n",
                            "    }\n",
                            "\n",
                            "    .dataframe tbody tr th {\n",
                            "        vertical-align: top;\n",
                            "    }\n",
                            "\n",
                            "    .dataframe thead th {\n",
                            "        text-align: right;\n",
                            "    }\n",
                            "</style>\n",
                            "<table border=\"1\" class=\"dataframe\">\n",
                            "  <thead>\n",
                            "    <tr style=\"text-align: right;\">\n",
                            "      <th></th>\n",
                            "      <th>HousePrice</th>\n",
                            "      <th>HsPrc ($10,000)</th>\n",
                            "      <th>CrimeRate</th>\n",
                            "      <th>MilesPhila</th>\n",
                            "      <th>PopChg</th>\n",
                            "      <th>Name</th>\n",
                            "      <th>County</th>\n",
                            "    </tr>\n",
                            "  </thead>\n",
                            "  <tbody>\n",
                            "    <tr>\n",
                            "      <th>0</th>\n",
                            "      <td>140463</td>\n",
                            "      <td>14.0463</td>\n",
                            "      <td>29.7</td>\n",
                            "      <td>10.0</td>\n",
                            "      <td>-1.0</td>\n",
                            "      <td>Abington</td>\n",
                            "      <td>Montgome</td>\n",
                            "    </tr>\n",
                            "    <tr>\n",
                            "      <th>1</th>\n",
                            "      <td>113033</td>\n",
                            "      <td>11.3033</td>\n",
                            "      <td>24.1</td>\n",
                            "      <td>18.0</td>\n",
                            "      <td>4.0</td>\n",
                            "      <td>Ambler</td>\n",
                            "      <td>Montgome</td>\n",
                            "    </tr>\n",
                            "    <tr>\n",
                            "      <th>2</th>\n",
                            "      <td>124186</td>\n",
                            "      <td>12.4186</td>\n",
                            "      <td>19.5</td>\n",
                            "      <td>25.0</td>\n",
                            "      <td>8.0</td>\n",
                            "      <td>Aston</td>\n",
                            "      <td>Delaware</td>\n",
                            "    </tr>\n",
                            "    <tr>\n",
                            "      <th>3</th>\n",
                            "      <td>110490</td>\n",
                            "      <td>11.0490</td>\n",
                            "      <td>49.4</td>\n",
                            "      <td>25.0</td>\n",
                            "      <td>2.7</td>\n",
                            "      <td>Bensalem</td>\n",
                            "      <td>Bucks</td>\n",
                            "    </tr>\n",
                            "    <tr>\n",
                            "      <th>4</th>\n",
                            "      <td>79124</td>\n",
                            "      <td>7.9124</td>\n",
                            "      <td>54.1</td>\n",
                            "      <td>19.0</td>\n",
                            "      <td>3.9</td>\n",
                            "      <td>Bristol B.</td>\n",
                            "      <td>Bucks</td>\n",
                            "    </tr>\n",
                            "  </tbody>\n",
                            "</table>\n",
                            "</div>"
                        ],
                        "text/plain": [
                            "   HousePrice  HsPrc ($10,000)  CrimeRate  MilesPhila  PopChg        Name  \\\n",
                            "0      140463          14.0463       29.7        10.0    -1.0    Abington   \n",
                            "1      113033          11.3033       24.1        18.0     4.0      Ambler   \n",
                            "2      124186          12.4186       19.5        25.0     8.0       Aston   \n",
                            "3      110490          11.0490       49.4        25.0     2.7    Bensalem   \n",
                            "4       79124           7.9124       54.1        19.0     3.9  Bristol B.   \n",
                            "\n",
                            "     County  \n",
                            "0  Montgome  \n",
                            "1  Montgome  \n",
                            "2  Delaware  \n",
                            "3     Bucks  \n",
                            "4     Bucks  "
                        ]
                    },
                    "execution_count": 2,
                    "metadata": {},
                    "output_type": "execute_result"
                }
            ],
            "source": [
                "# TODO: read in crime data and view\n",
                "crime = pd.read_csv(\"Philadelphia_Crime_Rate_noNA.csv\")\n",
                "crime.head()"
            ]
        },
        {
            "attachments": {},
            "cell_type": "markdown",
            "metadata": {},
            "source": [
                "# 2. Pre-processing"
            ]
        },
        {
            "attachments": {},
            "cell_type": "markdown",
            "metadata": {},
            "source": [
                "We want to predict the crime rate for a city in Philedelphia. **What input columns should we use?** (There are multiple reasonable answers.)\n",
                "\n",
                "We believe that the County names are also useful. But they are not numeric.\n",
                "\n",
                "**Discussion:** How do you think we can use those values? [Hint: Can we numerically encode them?]"
            ]
        },
        {
            "cell_type": "code",
            "execution_count": 3,
            "metadata": {},
            "outputs": [
                {
                    "name": "stdout",
                    "output_type": "stream",
                    "text": [
                        "    HousePrice  HsPrc ($10,000)  CrimeRate  MilesPhila  PopChg        Name  \\\n",
                        "0       140463          14.0463       29.7        10.0    -1.0    Abington   \n",
                        "1       113033          11.3033       24.1        18.0     4.0      Ambler   \n",
                        "2       124186          12.4186       19.5        25.0     8.0       Aston   \n",
                        "3       110490          11.0490       49.4        25.0     2.7    Bensalem   \n",
                        "4        79124           7.9124       54.1        19.0     3.9  Bristol B.   \n",
                        "..         ...              ...        ...         ...     ...         ...   \n",
                        "94      174232          17.4232       13.8        25.0     4.7    Westtown   \n",
                        "95      196515          19.6515       29.9        16.0     1.8  Whitemarsh   \n",
                        "96      232714          23.2714        9.9        21.0     0.2  Willistown   \n",
                        "97      245920          24.5920       22.6        10.0     0.3   Wynnewood   \n",
                        "98      130953          13.0953       13.0        24.0     5.2     Yardley   \n",
                        "\n",
                        "      County  Bucks  Chester  Delaware  Montgome  Phila  \n",
                        "0   Montgome  False    False     False      True  False  \n",
                        "1   Montgome  False    False     False      True  False  \n",
                        "2   Delaware  False    False      True     False  False  \n",
                        "3      Bucks   True    False     False     False  False  \n",
                        "4      Bucks   True    False     False     False  False  \n",
                        "..       ...    ...      ...       ...       ...    ...  \n",
                        "94   Chester  False     True     False     False  False  \n",
                        "95  Montgome  False    False     False      True  False  \n",
                        "96   Chester  False     True     False     False  False  \n",
                        "97  Montgome  False    False     False      True  False  \n",
                        "98     Bucks   True    False     False     False  False  \n",
                        "\n",
                        "[98 rows x 12 columns]\n"
                    ]
                }
            ],
            "source": [
                "#One hot encoding all the county values\n",
                "one_hot = pd.get_dummies(crime['County'])\n",
                "#print(one_hot)\n",
                "\n",
                "#We then concatinate the one hot columns with original dataset.\n",
                "crime = pd.concat([crime, one_hot], axis=1)\n",
                "\n",
                "# We need to drop any and all NaN values to filter our data. So we drop any rows that contain a NaN \n",
                "crime = crime.dropna()\n",
                "print(crime)\n",
                "\n",
                "#Now, let's try to find relevant features in our dataset\n",
                "input_cols = [\"HousePrice\", \"PopChg\", \"MilesPhila\", 'Bucks', 'Chester', 'Delaware', 'Montgome', 'Phila']\n",
                "output_col = 'CrimeRate'"
            ]
        },
        {
            "attachments": {},
            "cell_type": "markdown",
            "metadata": {},
            "source": [
                "Split the crime data into a training and test set and then store the input and target data seperately for each set. Use [train/test split](https://scikit-learn.org/stable/modules/generated/sklearn.model_selection.train_test_split.html) from sklearn."
            ]
        },
        {
            "cell_type": "code",
            "execution_count": 4,
            "metadata": {},
            "outputs": [],
            "source": [
                "# TODO: split into training and testing sets\n",
                "train, test = train_test_split(crime, test_size=0.2)\n",
                "\n",
                "# TODO: split data sets into input and target variables\n",
                "train_X = train[input_cols]\n",
                "train_y = train[output_col]\n",
                "\n",
                "test_X = test[input_cols]\n",
                "test_y = test[output_col]"
            ]
        },
        {
            "attachments": {},
            "cell_type": "markdown",
            "metadata": {},
            "source": [
                "Check the shape of each set to make sure they make sense!"
            ]
        },
        {
            "cell_type": "code",
            "execution_count": 5,
            "metadata": {},
            "outputs": [
                {
                    "name": "stdout",
                    "output_type": "stream",
                    "text": [
                        "train input data shape: (78, 8)\n",
                        "train target data shape: (78,)\n",
                        "\n",
                        "test input data shape: (20, 8)\n",
                        "test target data shape: (20,)\n"
                    ]
                }
            ],
            "source": [
                "print(\"train input data shape:\", train_X.shape)\n",
                "print(\"train target data shape:\", train_y.shape)\n",
                "print()\n",
                "print(\"test input data shape:\", test_X.shape)\n",
                "print(\"test target data shape:\", test_y.shape)"
            ]
        },
        {
            "attachments": {},
            "cell_type": "markdown",
            "metadata": {},
            "source": [
                "Normalize training and test set input data (X) using statistics generated from the training set. To do this, use the [Standard Scaler](https://scikit-learn.org/stable/modules/generated/sklearn.preprocessing.StandardScaler.html) from sklearn. (**Conceptual Check**: Why is it important to use statistics generated from the training set?)"
            ]
        },
        {
            "cell_type": "code",
            "execution_count": 6,
            "metadata": {},
            "outputs": [],
            "source": [
                "scaler = StandardScaler()\n",
                "\n",
                "# TODO: Fit StandardScaler() with training data and apply to both training and test data\n",
                "scaler.fit(train_X)\n",
                "train_X_norm = scaler.transform(train_X)\n",
                "test_X_norm = scaler.transform(test_X)"
            ]
        },
        {
            "attachments": {},
            "cell_type": "markdown",
            "metadata": {},
            "source": [
                "View the type of the data post-normalization (as well as the data itself)."
            ]
        },
        {
            "cell_type": "code",
            "execution_count": 7,
            "metadata": {},
            "outputs": [
                {
                    "name": "stdout",
                    "output_type": "stream",
                    "text": [
                        "data type after normalizaton: <class 'numpy.ndarray'>\n"
                    ]
                },
                {
                    "data": {
                        "text/html": [
                            "<div>\n",
                            "<style scoped>\n",
                            "    .dataframe tbody tr th:only-of-type {\n",
                            "        vertical-align: middle;\n",
                            "    }\n",
                            "\n",
                            "    .dataframe tbody tr th {\n",
                            "        vertical-align: top;\n",
                            "    }\n",
                            "\n",
                            "    .dataframe thead th {\n",
                            "        text-align: right;\n",
                            "    }\n",
                            "</style>\n",
                            "<table border=\"1\" class=\"dataframe\">\n",
                            "  <thead>\n",
                            "    <tr style=\"text-align: right;\">\n",
                            "      <th></th>\n",
                            "      <th>0</th>\n",
                            "      <th>1</th>\n",
                            "      <th>2</th>\n",
                            "      <th>3</th>\n",
                            "      <th>4</th>\n",
                            "      <th>5</th>\n",
                            "      <th>6</th>\n",
                            "      <th>7</th>\n",
                            "    </tr>\n",
                            "  </thead>\n",
                            "  <tbody>\n",
                            "    <tr>\n",
                            "      <th>0</th>\n",
                            "      <td>0.447448</td>\n",
                            "      <td>-0.906123</td>\n",
                            "      <td>0.347822</td>\n",
                            "      <td>-0.467707</td>\n",
                            "      <td>-0.467707</td>\n",
                            "      <td>-0.587220</td>\n",
                            "      <td>1.546384</td>\n",
                            "      <td>-0.313993</td>\n",
                            "    </tr>\n",
                            "    <tr>\n",
                            "      <th>1</th>\n",
                            "      <td>0.510510</td>\n",
                            "      <td>-1.216501</td>\n",
                            "      <td>0.117418</td>\n",
                            "      <td>-0.467707</td>\n",
                            "      <td>-0.467707</td>\n",
                            "      <td>-0.587220</td>\n",
                            "      <td>1.546384</td>\n",
                            "      <td>-0.313993</td>\n",
                            "    </tr>\n",
                            "    <tr>\n",
                            "      <th>2</th>\n",
                            "      <td>-0.692668</td>\n",
                            "      <td>0.623599</td>\n",
                            "      <td>-2.186629</td>\n",
                            "      <td>-0.467707</td>\n",
                            "      <td>-0.467707</td>\n",
                            "      <td>-0.587220</td>\n",
                            "      <td>-0.646670</td>\n",
                            "      <td>3.184785</td>\n",
                            "    </tr>\n",
                            "    <tr>\n",
                            "      <th>3</th>\n",
                            "      <td>-0.424976</td>\n",
                            "      <td>0.823128</td>\n",
                            "      <td>0.693429</td>\n",
                            "      <td>-0.467707</td>\n",
                            "      <td>-0.467707</td>\n",
                            "      <td>-0.587220</td>\n",
                            "      <td>1.546384</td>\n",
                            "      <td>-0.313993</td>\n",
                            "    </tr>\n",
                            "    <tr>\n",
                            "      <th>4</th>\n",
                            "      <td>-0.228859</td>\n",
                            "      <td>0.490580</td>\n",
                            "      <td>1.384643</td>\n",
                            "      <td>2.138090</td>\n",
                            "      <td>-0.467707</td>\n",
                            "      <td>-0.587220</td>\n",
                            "      <td>-0.646670</td>\n",
                            "      <td>-0.313993</td>\n",
                            "    </tr>\n",
                            "    <tr>\n",
                            "      <th>...</th>\n",
                            "      <td>...</td>\n",
                            "      <td>...</td>\n",
                            "      <td>...</td>\n",
                            "      <td>...</td>\n",
                            "      <td>...</td>\n",
                            "      <td>...</td>\n",
                            "      <td>...</td>\n",
                            "      <td>...</td>\n",
                            "    </tr>\n",
                            "    <tr>\n",
                            "      <th>73</th>\n",
                            "      <td>-0.487978</td>\n",
                            "      <td>0.446240</td>\n",
                            "      <td>-0.112987</td>\n",
                            "      <td>-0.467707</td>\n",
                            "      <td>-0.467707</td>\n",
                            "      <td>-0.587220</td>\n",
                            "      <td>1.546384</td>\n",
                            "      <td>-0.313993</td>\n",
                            "    </tr>\n",
                            "    <tr>\n",
                            "      <th>74</th>\n",
                            "      <td>0.575603</td>\n",
                            "      <td>1.998131</td>\n",
                            "      <td>1.960655</td>\n",
                            "      <td>-0.467707</td>\n",
                            "      <td>2.138090</td>\n",
                            "      <td>-0.587220</td>\n",
                            "      <td>-0.646670</td>\n",
                            "      <td>-0.313993</td>\n",
                            "    </tr>\n",
                            "    <tr>\n",
                            "      <th>75</th>\n",
                            "      <td>-1.351744</td>\n",
                            "      <td>-1.704238</td>\n",
                            "      <td>-1.725820</td>\n",
                            "      <td>-0.467707</td>\n",
                            "      <td>-0.467707</td>\n",
                            "      <td>-0.587220</td>\n",
                            "      <td>-0.646670</td>\n",
                            "      <td>3.184785</td>\n",
                            "    </tr>\n",
                            "    <tr>\n",
                            "      <th>76</th>\n",
                            "      <td>-0.777229</td>\n",
                            "      <td>-1.016972</td>\n",
                            "      <td>-0.458594</td>\n",
                            "      <td>-0.467707</td>\n",
                            "      <td>-0.467707</td>\n",
                            "      <td>1.702939</td>\n",
                            "      <td>-0.646670</td>\n",
                            "      <td>-0.313993</td>\n",
                            "    </tr>\n",
                            "    <tr>\n",
                            "      <th>77</th>\n",
                            "      <td>0.761470</td>\n",
                            "      <td>-0.196687</td>\n",
                            "      <td>0.117418</td>\n",
                            "      <td>-0.467707</td>\n",
                            "      <td>2.138090</td>\n",
                            "      <td>-0.587220</td>\n",
                            "      <td>-0.646670</td>\n",
                            "      <td>-0.313993</td>\n",
                            "    </tr>\n",
                            "  </tbody>\n",
                            "</table>\n",
                            "<p>78 rows × 8 columns</p>\n",
                            "</div>"
                        ],
                        "text/plain": [
                            "           0         1         2         3         4         5         6  \\\n",
                            "0   0.447448 -0.906123  0.347822 -0.467707 -0.467707 -0.587220  1.546384   \n",
                            "1   0.510510 -1.216501  0.117418 -0.467707 -0.467707 -0.587220  1.546384   \n",
                            "2  -0.692668  0.623599 -2.186629 -0.467707 -0.467707 -0.587220 -0.646670   \n",
                            "3  -0.424976  0.823128  0.693429 -0.467707 -0.467707 -0.587220  1.546384   \n",
                            "4  -0.228859  0.490580  1.384643  2.138090 -0.467707 -0.587220 -0.646670   \n",
                            "..       ...       ...       ...       ...       ...       ...       ...   \n",
                            "73 -0.487978  0.446240 -0.112987 -0.467707 -0.467707 -0.587220  1.546384   \n",
                            "74  0.575603  1.998131  1.960655 -0.467707  2.138090 -0.587220 -0.646670   \n",
                            "75 -1.351744 -1.704238 -1.725820 -0.467707 -0.467707 -0.587220 -0.646670   \n",
                            "76 -0.777229 -1.016972 -0.458594 -0.467707 -0.467707  1.702939 -0.646670   \n",
                            "77  0.761470 -0.196687  0.117418 -0.467707  2.138090 -0.587220 -0.646670   \n",
                            "\n",
                            "           7  \n",
                            "0  -0.313993  \n",
                            "1  -0.313993  \n",
                            "2   3.184785  \n",
                            "3  -0.313993  \n",
                            "4  -0.313993  \n",
                            "..       ...  \n",
                            "73 -0.313993  \n",
                            "74 -0.313993  \n",
                            "75  3.184785  \n",
                            "76 -0.313993  \n",
                            "77 -0.313993  \n",
                            "\n",
                            "[78 rows x 8 columns]"
                        ]
                    },
                    "execution_count": 7,
                    "metadata": {},
                    "output_type": "execute_result"
                }
            ],
            "source": [
                "print(\"data type after normalizaton:\", type(train_X_norm))\n",
                "pd.DataFrame(train_X_norm)"
            ]
        },
        {
            "attachments": {},
            "cell_type": "markdown",
            "metadata": {},
            "source": [
                "# 3. Regularization with Ridge"
            ]
        },
        {
            "attachments": {},
            "cell_type": "markdown",
            "metadata": {},
            "source": [
                "Create a [Ridge](https://scikit-learn.org/stable/modules/generated/sklearn.linear_model.Ridge.html) linear model with a regularization coefficent of 1. \n",
                "\n",
                "Note: This coefficent is referred to as \"lambda (λ)\" in course material and \"alpha\" in the sklearn docs. They are the same thing!"
            ]
        },
        {
            "cell_type": "code",
            "execution_count": 8,
            "metadata": {},
            "outputs": [],
            "source": [
                "# TODO: construct Ridge regularization model with alpha=1.0\n",
                "ridge_model = Ridge(alpha=1.0)"
            ]
        },
        {
            "attachments": {},
            "cell_type": "markdown",
            "metadata": {},
            "source": [
                "Train the model using the training data and output the training error. To do so, define a function rmse(mode, X, y) that calculates the RMSE error for a given model, input, and target data."
            ]
        },
        {
            "cell_type": "code",
            "execution_count": 9,
            "metadata": {},
            "outputs": [],
            "source": [
                "def rmse(model, X, y):\n",
                "    predictions = model.predict(X)\n",
                "    return mean_squared_error(predictions, y, squared=False)"
            ]
        },
        {
            "cell_type": "code",
            "execution_count": 10,
            "metadata": {},
            "outputs": [
                {
                    "name": "stderr",
                    "output_type": "stream",
                    "text": [
                        "c:\\Users\\achar\\AppData\\Local\\Programs\\Python\\Python312\\Lib\\site-packages\\sklearn\\metrics\\_regression.py:492: FutureWarning: 'squared' is deprecated in version 1.4 and will be removed in 1.6. To calculate the root mean squared error, use the function'root_mean_squared_error'.\n",
                        "  warnings.warn(\n"
                    ]
                },
                {
                    "data": {
                        "text/plain": [
                            "np.float64(32.91777348432889)"
                        ]
                    },
                    "execution_count": 10,
                    "metadata": {},
                    "output_type": "execute_result"
                }
            ],
            "source": [
                "# TODO: train Ridge model with training data and output train error using rmse()\n",
                "ridge_model.fit(train_X_norm, train_y)\n",
                "rmse(ridge_model, train_X_norm, train_y)"
            ]
        },
        {
            "attachments": {},
            "cell_type": "markdown",
            "metadata": {},
            "source": [
                "Perform 5-fold cross validation with your Ridge model. Output the array of errors (length 5) as well as the mean error. You should use [Cross Validation Score](https://scikit-learn.org/stable/modules/generated/sklearn.model_selection.cross_val_score.html?highlight=cross_val_scor) from sklearn to do this."
            ]
        },
        {
            "cell_type": "code",
            "execution_count": 11,
            "metadata": {},
            "outputs": [
                {
                    "name": "stderr",
                    "output_type": "stream",
                    "text": [
                        "c:\\Users\\achar\\AppData\\Local\\Programs\\Python\\Python312\\Lib\\site-packages\\sklearn\\metrics\\_regression.py:492: FutureWarning: 'squared' is deprecated in version 1.4 and will be removed in 1.6. To calculate the root mean squared error, use the function'root_mean_squared_error'.\n",
                        "  warnings.warn(\n",
                        "c:\\Users\\achar\\AppData\\Local\\Programs\\Python\\Python312\\Lib\\site-packages\\sklearn\\metrics\\_regression.py:492: FutureWarning: 'squared' is deprecated in version 1.4 and will be removed in 1.6. To calculate the root mean squared error, use the function'root_mean_squared_error'.\n",
                        "  warnings.warn(\n",
                        "c:\\Users\\achar\\AppData\\Local\\Programs\\Python\\Python312\\Lib\\site-packages\\sklearn\\metrics\\_regression.py:492: FutureWarning: 'squared' is deprecated in version 1.4 and will be removed in 1.6. To calculate the root mean squared error, use the function'root_mean_squared_error'.\n",
                        "  warnings.warn(\n",
                        "c:\\Users\\achar\\AppData\\Local\\Programs\\Python\\Python312\\Lib\\site-packages\\sklearn\\metrics\\_regression.py:492: FutureWarning: 'squared' is deprecated in version 1.4 and will be removed in 1.6. To calculate the root mean squared error, use the function'root_mean_squared_error'.\n",
                        "  warnings.warn(\n",
                        "c:\\Users\\achar\\AppData\\Local\\Programs\\Python\\Python312\\Lib\\site-packages\\sklearn\\metrics\\_regression.py:492: FutureWarning: 'squared' is deprecated in version 1.4 and will be removed in 1.6. To calculate the root mean squared error, use the function'root_mean_squared_error'.\n",
                        "  warnings.warn(\n"
                    ]
                }
            ],
            "source": [
                "# TODO: fill out parameters for cross_val_score() and print errors\n",
                "ridge_CV_scores = cross_val_score(ridge_model, train_X_norm, train_y, cv=5, scoring=rmse)"
            ]
        },
        {
            "attachments": {},
            "cell_type": "markdown",
            "metadata": {},
            "source": [
                "Perform 5-fold cross validation on Ridge models with a range of alpha values. For each alpha, print the alpha value and the corresponding mean CV score."
            ]
        },
        {
            "cell_type": "code",
            "execution_count": 12,
            "metadata": {},
            "outputs": [
                {
                    "name": "stdout",
                    "output_type": "stream",
                    "text": [
                        "0.0001\t37.50090263606724\n",
                        "0.1\t37.43970007336746\n",
                        "1\t36.91730282456719\n",
                        "10\t33.56965319795065\n",
                        "100\t29.62088364376266\n",
                        "1000\t31.26781831761904\n",
                        "100000.0\t32.008549856873906\n",
                        "100000000.0\t32.017569248632505\n"
                    ]
                },
                {
                    "name": "stderr",
                    "output_type": "stream",
                    "text": [
                        "c:\\Users\\achar\\AppData\\Local\\Programs\\Python\\Python312\\Lib\\site-packages\\sklearn\\metrics\\_regression.py:492: FutureWarning: 'squared' is deprecated in version 1.4 and will be removed in 1.6. To calculate the root mean squared error, use the function'root_mean_squared_error'.\n",
                        "  warnings.warn(\n",
                        "c:\\Users\\achar\\AppData\\Local\\Programs\\Python\\Python312\\Lib\\site-packages\\sklearn\\metrics\\_regression.py:492: FutureWarning: 'squared' is deprecated in version 1.4 and will be removed in 1.6. To calculate the root mean squared error, use the function'root_mean_squared_error'.\n",
                        "  warnings.warn(\n",
                        "c:\\Users\\achar\\AppData\\Local\\Programs\\Python\\Python312\\Lib\\site-packages\\sklearn\\metrics\\_regression.py:492: FutureWarning: 'squared' is deprecated in version 1.4 and will be removed in 1.6. To calculate the root mean squared error, use the function'root_mean_squared_error'.\n",
                        "  warnings.warn(\n",
                        "c:\\Users\\achar\\AppData\\Local\\Programs\\Python\\Python312\\Lib\\site-packages\\sklearn\\metrics\\_regression.py:492: FutureWarning: 'squared' is deprecated in version 1.4 and will be removed in 1.6. To calculate the root mean squared error, use the function'root_mean_squared_error'.\n",
                        "  warnings.warn(\n",
                        "c:\\Users\\achar\\AppData\\Local\\Programs\\Python\\Python312\\Lib\\site-packages\\sklearn\\metrics\\_regression.py:492: FutureWarning: 'squared' is deprecated in version 1.4 and will be removed in 1.6. To calculate the root mean squared error, use the function'root_mean_squared_error'.\n",
                        "  warnings.warn(\n",
                        "c:\\Users\\achar\\AppData\\Local\\Programs\\Python\\Python312\\Lib\\site-packages\\sklearn\\metrics\\_regression.py:492: FutureWarning: 'squared' is deprecated in version 1.4 and will be removed in 1.6. To calculate the root mean squared error, use the function'root_mean_squared_error'.\n",
                        "  warnings.warn(\n",
                        "c:\\Users\\achar\\AppData\\Local\\Programs\\Python\\Python312\\Lib\\site-packages\\sklearn\\metrics\\_regression.py:492: FutureWarning: 'squared' is deprecated in version 1.4 and will be removed in 1.6. To calculate the root mean squared error, use the function'root_mean_squared_error'.\n",
                        "  warnings.warn(\n",
                        "c:\\Users\\achar\\AppData\\Local\\Programs\\Python\\Python312\\Lib\\site-packages\\sklearn\\metrics\\_regression.py:492: FutureWarning: 'squared' is deprecated in version 1.4 and will be removed in 1.6. To calculate the root mean squared error, use the function'root_mean_squared_error'.\n",
                        "  warnings.warn(\n",
                        "c:\\Users\\achar\\AppData\\Local\\Programs\\Python\\Python312\\Lib\\site-packages\\sklearn\\metrics\\_regression.py:492: FutureWarning: 'squared' is deprecated in version 1.4 and will be removed in 1.6. To calculate the root mean squared error, use the function'root_mean_squared_error'.\n",
                        "  warnings.warn(\n",
                        "c:\\Users\\achar\\AppData\\Local\\Programs\\Python\\Python312\\Lib\\site-packages\\sklearn\\metrics\\_regression.py:492: FutureWarning: 'squared' is deprecated in version 1.4 and will be removed in 1.6. To calculate the root mean squared error, use the function'root_mean_squared_error'.\n",
                        "  warnings.warn(\n",
                        "c:\\Users\\achar\\AppData\\Local\\Programs\\Python\\Python312\\Lib\\site-packages\\sklearn\\metrics\\_regression.py:492: FutureWarning: 'squared' is deprecated in version 1.4 and will be removed in 1.6. To calculate the root mean squared error, use the function'root_mean_squared_error'.\n",
                        "  warnings.warn(\n",
                        "c:\\Users\\achar\\AppData\\Local\\Programs\\Python\\Python312\\Lib\\site-packages\\sklearn\\metrics\\_regression.py:492: FutureWarning: 'squared' is deprecated in version 1.4 and will be removed in 1.6. To calculate the root mean squared error, use the function'root_mean_squared_error'.\n",
                        "  warnings.warn(\n",
                        "c:\\Users\\achar\\AppData\\Local\\Programs\\Python\\Python312\\Lib\\site-packages\\sklearn\\metrics\\_regression.py:492: FutureWarning: 'squared' is deprecated in version 1.4 and will be removed in 1.6. To calculate the root mean squared error, use the function'root_mean_squared_error'.\n",
                        "  warnings.warn(\n",
                        "c:\\Users\\achar\\AppData\\Local\\Programs\\Python\\Python312\\Lib\\site-packages\\sklearn\\metrics\\_regression.py:492: FutureWarning: 'squared' is deprecated in version 1.4 and will be removed in 1.6. To calculate the root mean squared error, use the function'root_mean_squared_error'.\n",
                        "  warnings.warn(\n",
                        "c:\\Users\\achar\\AppData\\Local\\Programs\\Python\\Python312\\Lib\\site-packages\\sklearn\\metrics\\_regression.py:492: FutureWarning: 'squared' is deprecated in version 1.4 and will be removed in 1.6. To calculate the root mean squared error, use the function'root_mean_squared_error'.\n",
                        "  warnings.warn(\n",
                        "c:\\Users\\achar\\AppData\\Local\\Programs\\Python\\Python312\\Lib\\site-packages\\sklearn\\metrics\\_regression.py:492: FutureWarning: 'squared' is deprecated in version 1.4 and will be removed in 1.6. To calculate the root mean squared error, use the function'root_mean_squared_error'.\n",
                        "  warnings.warn(\n",
                        "c:\\Users\\achar\\AppData\\Local\\Programs\\Python\\Python312\\Lib\\site-packages\\sklearn\\metrics\\_regression.py:492: FutureWarning: 'squared' is deprecated in version 1.4 and will be removed in 1.6. To calculate the root mean squared error, use the function'root_mean_squared_error'.\n",
                        "  warnings.warn(\n",
                        "c:\\Users\\achar\\AppData\\Local\\Programs\\Python\\Python312\\Lib\\site-packages\\sklearn\\metrics\\_regression.py:492: FutureWarning: 'squared' is deprecated in version 1.4 and will be removed in 1.6. To calculate the root mean squared error, use the function'root_mean_squared_error'.\n",
                        "  warnings.warn(\n",
                        "c:\\Users\\achar\\AppData\\Local\\Programs\\Python\\Python312\\Lib\\site-packages\\sklearn\\metrics\\_regression.py:492: FutureWarning: 'squared' is deprecated in version 1.4 and will be removed in 1.6. To calculate the root mean squared error, use the function'root_mean_squared_error'.\n",
                        "  warnings.warn(\n",
                        "c:\\Users\\achar\\AppData\\Local\\Programs\\Python\\Python312\\Lib\\site-packages\\sklearn\\metrics\\_regression.py:492: FutureWarning: 'squared' is deprecated in version 1.4 and will be removed in 1.6. To calculate the root mean squared error, use the function'root_mean_squared_error'.\n",
                        "  warnings.warn(\n",
                        "c:\\Users\\achar\\AppData\\Local\\Programs\\Python\\Python312\\Lib\\site-packages\\sklearn\\metrics\\_regression.py:492: FutureWarning: 'squared' is deprecated in version 1.4 and will be removed in 1.6. To calculate the root mean squared error, use the function'root_mean_squared_error'.\n",
                        "  warnings.warn(\n",
                        "c:\\Users\\achar\\AppData\\Local\\Programs\\Python\\Python312\\Lib\\site-packages\\sklearn\\metrics\\_regression.py:492: FutureWarning: 'squared' is deprecated in version 1.4 and will be removed in 1.6. To calculate the root mean squared error, use the function'root_mean_squared_error'.\n",
                        "  warnings.warn(\n",
                        "c:\\Users\\achar\\AppData\\Local\\Programs\\Python\\Python312\\Lib\\site-packages\\sklearn\\metrics\\_regression.py:492: FutureWarning: 'squared' is deprecated in version 1.4 and will be removed in 1.6. To calculate the root mean squared error, use the function'root_mean_squared_error'.\n",
                        "  warnings.warn(\n",
                        "c:\\Users\\achar\\AppData\\Local\\Programs\\Python\\Python312\\Lib\\site-packages\\sklearn\\metrics\\_regression.py:492: FutureWarning: 'squared' is deprecated in version 1.4 and will be removed in 1.6. To calculate the root mean squared error, use the function'root_mean_squared_error'.\n",
                        "  warnings.warn(\n",
                        "c:\\Users\\achar\\AppData\\Local\\Programs\\Python\\Python312\\Lib\\site-packages\\sklearn\\metrics\\_regression.py:492: FutureWarning: 'squared' is deprecated in version 1.4 and will be removed in 1.6. To calculate the root mean squared error, use the function'root_mean_squared_error'.\n",
                        "  warnings.warn(\n",
                        "c:\\Users\\achar\\AppData\\Local\\Programs\\Python\\Python312\\Lib\\site-packages\\sklearn\\metrics\\_regression.py:492: FutureWarning: 'squared' is deprecated in version 1.4 and will be removed in 1.6. To calculate the root mean squared error, use the function'root_mean_squared_error'.\n",
                        "  warnings.warn(\n",
                        "c:\\Users\\achar\\AppData\\Local\\Programs\\Python\\Python312\\Lib\\site-packages\\sklearn\\metrics\\_regression.py:492: FutureWarning: 'squared' is deprecated in version 1.4 and will be removed in 1.6. To calculate the root mean squared error, use the function'root_mean_squared_error'.\n",
                        "  warnings.warn(\n",
                        "c:\\Users\\achar\\AppData\\Local\\Programs\\Python\\Python312\\Lib\\site-packages\\sklearn\\metrics\\_regression.py:492: FutureWarning: 'squared' is deprecated in version 1.4 and will be removed in 1.6. To calculate the root mean squared error, use the function'root_mean_squared_error'.\n",
                        "  warnings.warn(\n",
                        "c:\\Users\\achar\\AppData\\Local\\Programs\\Python\\Python312\\Lib\\site-packages\\sklearn\\metrics\\_regression.py:492: FutureWarning: 'squared' is deprecated in version 1.4 and will be removed in 1.6. To calculate the root mean squared error, use the function'root_mean_squared_error'.\n",
                        "  warnings.warn(\n",
                        "c:\\Users\\achar\\AppData\\Local\\Programs\\Python\\Python312\\Lib\\site-packages\\sklearn\\metrics\\_regression.py:492: FutureWarning: 'squared' is deprecated in version 1.4 and will be removed in 1.6. To calculate the root mean squared error, use the function'root_mean_squared_error'.\n",
                        "  warnings.warn(\n",
                        "c:\\Users\\achar\\AppData\\Local\\Programs\\Python\\Python312\\Lib\\site-packages\\sklearn\\metrics\\_regression.py:492: FutureWarning: 'squared' is deprecated in version 1.4 and will be removed in 1.6. To calculate the root mean squared error, use the function'root_mean_squared_error'.\n",
                        "  warnings.warn(\n",
                        "c:\\Users\\achar\\AppData\\Local\\Programs\\Python\\Python312\\Lib\\site-packages\\sklearn\\metrics\\_regression.py:492: FutureWarning: 'squared' is deprecated in version 1.4 and will be removed in 1.6. To calculate the root mean squared error, use the function'root_mean_squared_error'.\n",
                        "  warnings.warn(\n",
                        "c:\\Users\\achar\\AppData\\Local\\Programs\\Python\\Python312\\Lib\\site-packages\\sklearn\\metrics\\_regression.py:492: FutureWarning: 'squared' is deprecated in version 1.4 and will be removed in 1.6. To calculate the root mean squared error, use the function'root_mean_squared_error'.\n",
                        "  warnings.warn(\n",
                        "c:\\Users\\achar\\AppData\\Local\\Programs\\Python\\Python312\\Lib\\site-packages\\sklearn\\metrics\\_regression.py:492: FutureWarning: 'squared' is deprecated in version 1.4 and will be removed in 1.6. To calculate the root mean squared error, use the function'root_mean_squared_error'.\n",
                        "  warnings.warn(\n",
                        "c:\\Users\\achar\\AppData\\Local\\Programs\\Python\\Python312\\Lib\\site-packages\\sklearn\\metrics\\_regression.py:492: FutureWarning: 'squared' is deprecated in version 1.4 and will be removed in 1.6. To calculate the root mean squared error, use the function'root_mean_squared_error'.\n",
                        "  warnings.warn(\n",
                        "c:\\Users\\achar\\AppData\\Local\\Programs\\Python\\Python312\\Lib\\site-packages\\sklearn\\metrics\\_regression.py:492: FutureWarning: 'squared' is deprecated in version 1.4 and will be removed in 1.6. To calculate the root mean squared error, use the function'root_mean_squared_error'.\n",
                        "  warnings.warn(\n",
                        "c:\\Users\\achar\\AppData\\Local\\Programs\\Python\\Python312\\Lib\\site-packages\\sklearn\\metrics\\_regression.py:492: FutureWarning: 'squared' is deprecated in version 1.4 and will be removed in 1.6. To calculate the root mean squared error, use the function'root_mean_squared_error'.\n",
                        "  warnings.warn(\n",
                        "c:\\Users\\achar\\AppData\\Local\\Programs\\Python\\Python312\\Lib\\site-packages\\sklearn\\metrics\\_regression.py:492: FutureWarning: 'squared' is deprecated in version 1.4 and will be removed in 1.6. To calculate the root mean squared error, use the function'root_mean_squared_error'.\n",
                        "  warnings.warn(\n",
                        "c:\\Users\\achar\\AppData\\Local\\Programs\\Python\\Python312\\Lib\\site-packages\\sklearn\\metrics\\_regression.py:492: FutureWarning: 'squared' is deprecated in version 1.4 and will be removed in 1.6. To calculate the root mean squared error, use the function'root_mean_squared_error'.\n",
                        "  warnings.warn(\n",
                        "c:\\Users\\achar\\AppData\\Local\\Programs\\Python\\Python312\\Lib\\site-packages\\sklearn\\metrics\\_regression.py:492: FutureWarning: 'squared' is deprecated in version 1.4 and will be removed in 1.6. To calculate the root mean squared error, use the function'root_mean_squared_error'.\n",
                        "  warnings.warn(\n"
                    ]
                }
            ],
            "source": [
                "for reg_coef in [0.0001, 0.1, 1, 10, 100, 1000, 10e4, 10e7]:\n",
                "    ridge_model = Ridge(alpha=reg_coef)\n",
                "    ridge_CV_scores = cross_val_score(ridge_model, train_X_norm, train_y, cv=5, scoring=rmse)\n",
                "    print(reg_coef, ridge_CV_scores.mean(), sep='\\t')"
            ]
        },
        {
            "attachments": {},
            "cell_type": "markdown",
            "metadata": {},
            "source": [
                "Take a look at how the weights of Ridge models change as you change the regularization coefficient!"
            ]
        },
        {
            "cell_type": "code",
            "execution_count": 13,
            "metadata": {},
            "outputs": [
                {
                    "name": "stdout",
                    "output_type": "stream",
                    "text": [
                        "Reg coeff. |  Intercept |  ['HousePrice', 'PopChg', 'MilesPhila', 'Bucks', 'Chester', 'Delaware', 'Montgome', 'Phila']\n",
                        "_________________________________________________\n",
                        "0.0001  |  33.57435897435898  |  [ -3.63197189  17.13681315 -14.24752441  -2.23370832  -2.70466811\n",
                        "  -7.72951492   0.04520311  18.36731872]\n",
                        "\n",
                        "0.1  |  33.57435897435898  |  [ -3.63608447  17.07375856 -14.19995246  -2.23448001  -2.69413453\n",
                        "  -7.71463392   0.03962798  18.34037168]\n",
                        "\n",
                        "1  |  33.57435897435898  |  [-3.67137431e+00  1.65239914e+01 -1.37880362e+01 -2.23958735e+00\n",
                        " -2.60158983e+00 -7.58471991e+00 -8.38937656e-03  1.81011014e+01]\n",
                        "\n",
                        "10  |  33.57435897435898  |  [ -3.88521252  12.38453933 -10.83241873  -2.18627031  -1.87616968\n",
                        "  -6.57512436  -0.33331877  16.03148365]\n",
                        "\n",
                        "100  |  33.57435897435898  |  [-3.10333377  2.75480833 -4.24249064 -1.31121125 -0.3460951  -3.10006416\n",
                        " -0.64721913  7.99392311]\n",
                        "\n",
                        "1000  |  33.57435897435898  |  [-0.70776377  0.090652   -0.79471316 -0.28442008 -0.07301084 -0.47373972\n",
                        " -0.16754507  1.47097222]\n",
                        "\n",
                        "100000.0  |  33.57435897435898  |  [-8.18009356e-03  5.20705190e-05 -9.10604925e-03 -3.32803694e-03\n",
                        " -9.98105332e-04 -4.90621522e-03 -1.95538237e-03  1.64237122e-02]\n",
                        "\n",
                        "100000000.0  |  33.57435897435898  |  [-8.19297286e-06  4.14115226e-08 -9.12002321e-06 -3.33387769e-06\n",
                        " -1.00169153e-06 -4.90751552e-06 -1.95861897e-06  1.64435199e-05]\n",
                        "\n"
                    ]
                }
            ],
            "source": [
                "print(\"Reg coeff. | \", \"Intercept | \", input_cols)\n",
                "print(\"_________________________________________________\")\n",
                "\n",
                "for reg_coef in [0.0001, 0.1, 1, 10, 100, 1000, 10e4, 10e7]:\n",
                "    ridge_model = Ridge(alpha=reg_coef)\n",
                "    ridge_model.fit(train_X_norm, train_y)\n",
                "    print(reg_coef,\" | \", ridge_model.intercept_, \" | \", ridge_model.coef_)\n",
                "    print()"
            ]
        },
        {
            "attachments": {},
            "cell_type": "markdown",
            "metadata": {},
            "source": [
                "**Concept check**: How would the weights be different if you didn't regularize them? (i.e., use `LinearRegression` instead of `Ridge`.)\n"
            ]
        },
        {
            "cell_type": "code",
            "execution_count": 14,
            "metadata": {},
            "outputs": [
                {
                    "ename": "NameError",
                    "evalue": "name 'Larger' is not defined",
                    "output_type": "error",
                    "traceback": [
                        "\u001b[1;31m---------------------------------------------------------------------------\u001b[0m",
                        "\u001b[1;31mNameError\u001b[0m                                 Traceback (most recent call last)",
                        "Cell \u001b[1;32mIn[14], line 1\u001b[0m\n\u001b[1;32m----> 1\u001b[0m \u001b[43mLarger\u001b[49m\n",
                        "\u001b[1;31mNameError\u001b[0m: name 'Larger' is not defined"
                    ]
                }
            ],
            "source": [
                "Larger"
            ]
        },
        {
            "attachments": {},
            "cell_type": "markdown",
            "metadata": {},
            "source": [
                "# 4. Regularization with LASSO"
            ]
        },
        {
            "attachments": {},
            "cell_type": "markdown",
            "metadata": {},
            "source": [
                "Create a [LASSO](https://scikit-learn.org/stable/modules/generated/sklearn.linear_model.Lasso.html) linear model with a regularization coefficent of 1."
            ]
        },
        {
            "cell_type": "code",
            "execution_count": null,
            "metadata": {},
            "outputs": [],
            "source": [
                "# TODO: construct LASSO regularization model with alpha=1.0\n",
                "lasso_model = Lasso(alpha=1.0)"
            ]
        },
        {
            "attachments": {},
            "cell_type": "markdown",
            "metadata": {},
            "source": [
                "Train the model using the training data and output the training error."
            ]
        },
        {
            "cell_type": "code",
            "execution_count": null,
            "metadata": {},
            "outputs": [
                {
                    "name": "stderr",
                    "output_type": "stream",
                    "text": [
                        "c:\\Users\\achar\\AppData\\Local\\Programs\\Python\\Python312\\Lib\\site-packages\\sklearn\\metrics\\_regression.py:492: FutureWarning: 'squared' is deprecated in version 1.4 and will be removed in 1.6. To calculate the root mean squared error, use the function'root_mean_squared_error'.\n",
                        "  warnings.warn(\n"
                    ]
                },
                {
                    "data": {
                        "text/plain": [
                            "np.float64(33.06978156973761)"
                        ]
                    },
                    "execution_count": 246,
                    "metadata": {},
                    "output_type": "execute_result"
                }
            ],
            "source": [
                "# TODO: train LASSO model with training data and output train error using rmse()# TODO: train LASSO model with training data and output train error using rmse()\n",
                "lasso_model.fit(train_X_norm, train_y)\n",
                "rmse(lasso_model, train_X_norm, train_y)"
            ]
        },
        {
            "attachments": {},
            "cell_type": "markdown",
            "metadata": {},
            "source": [
                "Perform 5-fold cross validation with your LASSO model. Output the array of errors (length 5) as well as the mean error."
            ]
        },
        {
            "cell_type": "code",
            "execution_count": null,
            "metadata": {},
            "outputs": [
                {
                    "name": "stdout",
                    "output_type": "stream",
                    "text": [
                        "[79.78017559 30.04003674 24.7154594  27.98819809 16.13101237]\n",
                        "35.73097643999485\n"
                    ]
                },
                {
                    "name": "stderr",
                    "output_type": "stream",
                    "text": [
                        "c:\\Users\\achar\\AppData\\Local\\Programs\\Python\\Python312\\Lib\\site-packages\\sklearn\\metrics\\_regression.py:492: FutureWarning: 'squared' is deprecated in version 1.4 and will be removed in 1.6. To calculate the root mean squared error, use the function'root_mean_squared_error'.\n",
                        "  warnings.warn(\n",
                        "c:\\Users\\achar\\AppData\\Local\\Programs\\Python\\Python312\\Lib\\site-packages\\sklearn\\metrics\\_regression.py:492: FutureWarning: 'squared' is deprecated in version 1.4 and will be removed in 1.6. To calculate the root mean squared error, use the function'root_mean_squared_error'.\n",
                        "  warnings.warn(\n",
                        "c:\\Users\\achar\\AppData\\Local\\Programs\\Python\\Python312\\Lib\\site-packages\\sklearn\\metrics\\_regression.py:492: FutureWarning: 'squared' is deprecated in version 1.4 and will be removed in 1.6. To calculate the root mean squared error, use the function'root_mean_squared_error'.\n",
                        "  warnings.warn(\n",
                        "c:\\Users\\achar\\AppData\\Local\\Programs\\Python\\Python312\\Lib\\site-packages\\sklearn\\metrics\\_regression.py:492: FutureWarning: 'squared' is deprecated in version 1.4 and will be removed in 1.6. To calculate the root mean squared error, use the function'root_mean_squared_error'.\n",
                        "  warnings.warn(\n",
                        "c:\\Users\\achar\\AppData\\Local\\Programs\\Python\\Python312\\Lib\\site-packages\\sklearn\\metrics\\_regression.py:492: FutureWarning: 'squared' is deprecated in version 1.4 and will be removed in 1.6. To calculate the root mean squared error, use the function'root_mean_squared_error'.\n",
                        "  warnings.warn(\n"
                    ]
                }
            ],
            "source": [
                "# TODO: fill out parameters for cross_val_score() and print errors\n",
                "lasso_CV_scores = cross_val_score(lasso_model, train_X_norm, train_y, cv=5, scoring=rmse)\n",
                "print(lasso_CV_scores)\n",
                "print(lasso_CV_scores.mean())"
            ]
        },
        {
            "attachments": {},
            "cell_type": "markdown",
            "metadata": {},
            "source": [
                "Perform 5-fold cross validation on LASSO models with a range of alpha values. For each alpha, print the alpha value and the corresponding mean CV score."
            ]
        },
        {
            "cell_type": "code",
            "execution_count": null,
            "metadata": {},
            "outputs": [
                {
                    "name": "stderr",
                    "output_type": "stream",
                    "text": [
                        "c:\\Users\\achar\\AppData\\Local\\Programs\\Python\\Python312\\Lib\\site-packages\\sklearn\\linear_model\\_coordinate_descent.py:697: ConvergenceWarning: Objective did not converge. You might want to increase the number of iterations, check the scale of the features or consider increasing regularisation. Duality gap: 7.148e+02, tolerance: 1.975e+00\n",
                        "  model = cd_fast.enet_coordinate_descent(\n",
                        "c:\\Users\\achar\\AppData\\Local\\Programs\\Python\\Python312\\Lib\\site-packages\\sklearn\\metrics\\_regression.py:492: FutureWarning: 'squared' is deprecated in version 1.4 and will be removed in 1.6. To calculate the root mean squared error, use the function'root_mean_squared_error'.\n",
                        "  warnings.warn(\n",
                        "c:\\Users\\achar\\AppData\\Local\\Programs\\Python\\Python312\\Lib\\site-packages\\sklearn\\metrics\\_regression.py:492: FutureWarning: 'squared' is deprecated in version 1.4 and will be removed in 1.6. To calculate the root mean squared error, use the function'root_mean_squared_error'.\n",
                        "  warnings.warn(\n",
                        "c:\\Users\\achar\\AppData\\Local\\Programs\\Python\\Python312\\Lib\\site-packages\\sklearn\\metrics\\_regression.py:492: FutureWarning: 'squared' is deprecated in version 1.4 and will be removed in 1.6. To calculate the root mean squared error, use the function'root_mean_squared_error'.\n",
                        "  warnings.warn(\n",
                        "c:\\Users\\achar\\AppData\\Local\\Programs\\Python\\Python312\\Lib\\site-packages\\sklearn\\metrics\\_regression.py:492: FutureWarning: 'squared' is deprecated in version 1.4 and will be removed in 1.6. To calculate the root mean squared error, use the function'root_mean_squared_error'.\n",
                        "  warnings.warn(\n",
                        "c:\\Users\\achar\\AppData\\Local\\Programs\\Python\\Python312\\Lib\\site-packages\\sklearn\\metrics\\_regression.py:492: FutureWarning: 'squared' is deprecated in version 1.4 and will be removed in 1.6. To calculate the root mean squared error, use the function'root_mean_squared_error'.\n",
                        "  warnings.warn(\n",
                        "c:\\Users\\achar\\AppData\\Local\\Programs\\Python\\Python312\\Lib\\site-packages\\sklearn\\linear_model\\_coordinate_descent.py:697: ConvergenceWarning: Objective did not converge. You might want to increase the number of iterations, check the scale of the features or consider increasing regularisation. Duality gap: 7.148e+02, tolerance: 1.975e+00\n",
                        "  model = cd_fast.enet_coordinate_descent(\n",
                        "c:\\Users\\achar\\AppData\\Local\\Programs\\Python\\Python312\\Lib\\site-packages\\sklearn\\metrics\\_regression.py:492: FutureWarning: 'squared' is deprecated in version 1.4 and will be removed in 1.6. To calculate the root mean squared error, use the function'root_mean_squared_error'.\n",
                        "  warnings.warn(\n",
                        "c:\\Users\\achar\\AppData\\Local\\Programs\\Python\\Python312\\Lib\\site-packages\\sklearn\\metrics\\_regression.py:492: FutureWarning: 'squared' is deprecated in version 1.4 and will be removed in 1.6. To calculate the root mean squared error, use the function'root_mean_squared_error'.\n",
                        "  warnings.warn(\n",
                        "c:\\Users\\achar\\AppData\\Local\\Programs\\Python\\Python312\\Lib\\site-packages\\sklearn\\metrics\\_regression.py:492: FutureWarning: 'squared' is deprecated in version 1.4 and will be removed in 1.6. To calculate the root mean squared error, use the function'root_mean_squared_error'.\n",
                        "  warnings.warn(\n",
                        "c:\\Users\\achar\\AppData\\Local\\Programs\\Python\\Python312\\Lib\\site-packages\\sklearn\\metrics\\_regression.py:492: FutureWarning: 'squared' is deprecated in version 1.4 and will be removed in 1.6. To calculate the root mean squared error, use the function'root_mean_squared_error'.\n",
                        "  warnings.warn(\n",
                        "c:\\Users\\achar\\AppData\\Local\\Programs\\Python\\Python312\\Lib\\site-packages\\sklearn\\metrics\\_regression.py:492: FutureWarning: 'squared' is deprecated in version 1.4 and will be removed in 1.6. To calculate the root mean squared error, use the function'root_mean_squared_error'.\n",
                        "  warnings.warn(\n",
                        "c:\\Users\\achar\\AppData\\Local\\Programs\\Python\\Python312\\Lib\\site-packages\\sklearn\\metrics\\_regression.py:492: FutureWarning: 'squared' is deprecated in version 1.4 and will be removed in 1.6. To calculate the root mean squared error, use the function'root_mean_squared_error'.\n",
                        "  warnings.warn(\n",
                        "c:\\Users\\achar\\AppData\\Local\\Programs\\Python\\Python312\\Lib\\site-packages\\sklearn\\metrics\\_regression.py:492: FutureWarning: 'squared' is deprecated in version 1.4 and will be removed in 1.6. To calculate the root mean squared error, use the function'root_mean_squared_error'.\n",
                        "  warnings.warn(\n",
                        "c:\\Users\\achar\\AppData\\Local\\Programs\\Python\\Python312\\Lib\\site-packages\\sklearn\\metrics\\_regression.py:492: FutureWarning: 'squared' is deprecated in version 1.4 and will be removed in 1.6. To calculate the root mean squared error, use the function'root_mean_squared_error'.\n",
                        "  warnings.warn(\n",
                        "c:\\Users\\achar\\AppData\\Local\\Programs\\Python\\Python312\\Lib\\site-packages\\sklearn\\metrics\\_regression.py:492: FutureWarning: 'squared' is deprecated in version 1.4 and will be removed in 1.6. To calculate the root mean squared error, use the function'root_mean_squared_error'.\n",
                        "  warnings.warn(\n",
                        "c:\\Users\\achar\\AppData\\Local\\Programs\\Python\\Python312\\Lib\\site-packages\\sklearn\\metrics\\_regression.py:492: FutureWarning: 'squared' is deprecated in version 1.4 and will be removed in 1.6. To calculate the root mean squared error, use the function'root_mean_squared_error'.\n",
                        "  warnings.warn(\n",
                        "c:\\Users\\achar\\AppData\\Local\\Programs\\Python\\Python312\\Lib\\site-packages\\sklearn\\metrics\\_regression.py:492: FutureWarning: 'squared' is deprecated in version 1.4 and will be removed in 1.6. To calculate the root mean squared error, use the function'root_mean_squared_error'.\n",
                        "  warnings.warn(\n",
                        "c:\\Users\\achar\\AppData\\Local\\Programs\\Python\\Python312\\Lib\\site-packages\\sklearn\\metrics\\_regression.py:492: FutureWarning: 'squared' is deprecated in version 1.4 and will be removed in 1.6. To calculate the root mean squared error, use the function'root_mean_squared_error'.\n",
                        "  warnings.warn(\n",
                        "c:\\Users\\achar\\AppData\\Local\\Programs\\Python\\Python312\\Lib\\site-packages\\sklearn\\metrics\\_regression.py:492: FutureWarning: 'squared' is deprecated in version 1.4 and will be removed in 1.6. To calculate the root mean squared error, use the function'root_mean_squared_error'.\n",
                        "  warnings.warn(\n",
                        "c:\\Users\\achar\\AppData\\Local\\Programs\\Python\\Python312\\Lib\\site-packages\\sklearn\\metrics\\_regression.py:492: FutureWarning: 'squared' is deprecated in version 1.4 and will be removed in 1.6. To calculate the root mean squared error, use the function'root_mean_squared_error'.\n",
                        "  warnings.warn(\n",
                        "c:\\Users\\achar\\AppData\\Local\\Programs\\Python\\Python312\\Lib\\site-packages\\sklearn\\metrics\\_regression.py:492: FutureWarning: 'squared' is deprecated in version 1.4 and will be removed in 1.6. To calculate the root mean squared error, use the function'root_mean_squared_error'.\n",
                        "  warnings.warn(\n",
                        "c:\\Users\\achar\\AppData\\Local\\Programs\\Python\\Python312\\Lib\\site-packages\\sklearn\\metrics\\_regression.py:492: FutureWarning: 'squared' is deprecated in version 1.4 and will be removed in 1.6. To calculate the root mean squared error, use the function'root_mean_squared_error'.\n",
                        "  warnings.warn(\n",
                        "c:\\Users\\achar\\AppData\\Local\\Programs\\Python\\Python312\\Lib\\site-packages\\sklearn\\metrics\\_regression.py:492: FutureWarning: 'squared' is deprecated in version 1.4 and will be removed in 1.6. To calculate the root mean squared error, use the function'root_mean_squared_error'.\n",
                        "  warnings.warn(\n",
                        "c:\\Users\\achar\\AppData\\Local\\Programs\\Python\\Python312\\Lib\\site-packages\\sklearn\\metrics\\_regression.py:492: FutureWarning: 'squared' is deprecated in version 1.4 and will be removed in 1.6. To calculate the root mean squared error, use the function'root_mean_squared_error'.\n",
                        "  warnings.warn(\n",
                        "c:\\Users\\achar\\AppData\\Local\\Programs\\Python\\Python312\\Lib\\site-packages\\sklearn\\metrics\\_regression.py:492: FutureWarning: 'squared' is deprecated in version 1.4 and will be removed in 1.6. To calculate the root mean squared error, use the function'root_mean_squared_error'.\n",
                        "  warnings.warn(\n",
                        "c:\\Users\\achar\\AppData\\Local\\Programs\\Python\\Python312\\Lib\\site-packages\\sklearn\\metrics\\_regression.py:492: FutureWarning: 'squared' is deprecated in version 1.4 and will be removed in 1.6. To calculate the root mean squared error, use the function'root_mean_squared_error'.\n",
                        "  warnings.warn(\n",
                        "c:\\Users\\achar\\AppData\\Local\\Programs\\Python\\Python312\\Lib\\site-packages\\sklearn\\metrics\\_regression.py:492: FutureWarning: 'squared' is deprecated in version 1.4 and will be removed in 1.6. To calculate the root mean squared error, use the function'root_mean_squared_error'.\n",
                        "  warnings.warn(\n",
                        "c:\\Users\\achar\\AppData\\Local\\Programs\\Python\\Python312\\Lib\\site-packages\\sklearn\\metrics\\_regression.py:492: FutureWarning: 'squared' is deprecated in version 1.4 and will be removed in 1.6. To calculate the root mean squared error, use the function'root_mean_squared_error'.\n",
                        "  warnings.warn(\n",
                        "c:\\Users\\achar\\AppData\\Local\\Programs\\Python\\Python312\\Lib\\site-packages\\sklearn\\metrics\\_regression.py:492: FutureWarning: 'squared' is deprecated in version 1.4 and will be removed in 1.6. To calculate the root mean squared error, use the function'root_mean_squared_error'.\n",
                        "  warnings.warn(\n",
                        "c:\\Users\\achar\\AppData\\Local\\Programs\\Python\\Python312\\Lib\\site-packages\\sklearn\\metrics\\_regression.py:492: FutureWarning: 'squared' is deprecated in version 1.4 and will be removed in 1.6. To calculate the root mean squared error, use the function'root_mean_squared_error'.\n",
                        "  warnings.warn(\n",
                        "c:\\Users\\achar\\AppData\\Local\\Programs\\Python\\Python312\\Lib\\site-packages\\sklearn\\metrics\\_regression.py:492: FutureWarning: 'squared' is deprecated in version 1.4 and will be removed in 1.6. To calculate the root mean squared error, use the function'root_mean_squared_error'.\n",
                        "  warnings.warn(\n",
                        "c:\\Users\\achar\\AppData\\Local\\Programs\\Python\\Python312\\Lib\\site-packages\\sklearn\\metrics\\_regression.py:492: FutureWarning: 'squared' is deprecated in version 1.4 and will be removed in 1.6. To calculate the root mean squared error, use the function'root_mean_squared_error'.\n",
                        "  warnings.warn(\n",
                        "c:\\Users\\achar\\AppData\\Local\\Programs\\Python\\Python312\\Lib\\site-packages\\sklearn\\metrics\\_regression.py:492: FutureWarning: 'squared' is deprecated in version 1.4 and will be removed in 1.6. To calculate the root mean squared error, use the function'root_mean_squared_error'.\n",
                        "  warnings.warn(\n",
                        "c:\\Users\\achar\\AppData\\Local\\Programs\\Python\\Python312\\Lib\\site-packages\\sklearn\\metrics\\_regression.py:492: FutureWarning: 'squared' is deprecated in version 1.4 and will be removed in 1.6. To calculate the root mean squared error, use the function'root_mean_squared_error'.\n",
                        "  warnings.warn(\n",
                        "c:\\Users\\achar\\AppData\\Local\\Programs\\Python\\Python312\\Lib\\site-packages\\sklearn\\metrics\\_regression.py:492: FutureWarning: 'squared' is deprecated in version 1.4 and will be removed in 1.6. To calculate the root mean squared error, use the function'root_mean_squared_error'.\n",
                        "  warnings.warn(\n",
                        "c:\\Users\\achar\\AppData\\Local\\Programs\\Python\\Python312\\Lib\\site-packages\\sklearn\\metrics\\_regression.py:492: FutureWarning: 'squared' is deprecated in version 1.4 and will be removed in 1.6. To calculate the root mean squared error, use the function'root_mean_squared_error'.\n",
                        "  warnings.warn(\n",
                        "c:\\Users\\achar\\AppData\\Local\\Programs\\Python\\Python312\\Lib\\site-packages\\sklearn\\metrics\\_regression.py:492: FutureWarning: 'squared' is deprecated in version 1.4 and will be removed in 1.6. To calculate the root mean squared error, use the function'root_mean_squared_error'.\n",
                        "  warnings.warn(\n",
                        "c:\\Users\\achar\\AppData\\Local\\Programs\\Python\\Python312\\Lib\\site-packages\\sklearn\\metrics\\_regression.py:492: FutureWarning: 'squared' is deprecated in version 1.4 and will be removed in 1.6. To calculate the root mean squared error, use the function'root_mean_squared_error'.\n",
                        "  warnings.warn(\n",
                        "c:\\Users\\achar\\AppData\\Local\\Programs\\Python\\Python312\\Lib\\site-packages\\sklearn\\metrics\\_regression.py:492: FutureWarning: 'squared' is deprecated in version 1.4 and will be removed in 1.6. To calculate the root mean squared error, use the function'root_mean_squared_error'.\n",
                        "  warnings.warn(\n",
                        "c:\\Users\\achar\\AppData\\Local\\Programs\\Python\\Python312\\Lib\\site-packages\\sklearn\\metrics\\_regression.py:492: FutureWarning: 'squared' is deprecated in version 1.4 and will be removed in 1.6. To calculate the root mean squared error, use the function'root_mean_squared_error'.\n",
                        "  warnings.warn(\n",
                        "c:\\Users\\achar\\AppData\\Local\\Programs\\Python\\Python312\\Lib\\site-packages\\sklearn\\metrics\\_regression.py:492: FutureWarning: 'squared' is deprecated in version 1.4 and will be removed in 1.6. To calculate the root mean squared error, use the function'root_mean_squared_error'.\n",
                        "  warnings.warn(\n"
                    ]
                },
                {
                    "name": "stdout",
                    "output_type": "stream",
                    "text": [
                        "1e-07\t37.50096415041345\n",
                        "1e-05\t37.500955221160744\n",
                        "0.001\t37.50025748577373\n",
                        "0.1\t37.340701781518014\n",
                        "1\t35.73097643999485\n",
                        "10\t30.77789845089668\n",
                        "100\t32.01757829516642\n",
                        "1000\t32.01757829516642\n"
                    ]
                }
            ],
            "source": [
                "for reg_coef in [1e-07,1e-05, 0.001, 0.1, 1, 10, 100, 1000]:\n",
                "    lasso_model = Lasso(alpha=reg_coef)\n",
                "    lasso_CV_scores = cross_val_score(lasso_model, train_X_norm, train_y, cv=5, scoring=rmse)\n",
                "    print(reg_coef, lasso_CV_scores.mean(), sep='\\t')"
            ]
        },
        {
            "attachments": {},
            "cell_type": "markdown",
            "metadata": {},
            "source": [
                "Take a look at how the weights of LASSO models change as you change the regularization coefficient!\n",
                "\n",
                "Note: In python, -0 is the same as 0!"
            ]
        },
        {
            "cell_type": "code",
            "execution_count": null,
            "metadata": {},
            "outputs": [
                {
                    "name": "stdout",
                    "output_type": "stream",
                    "text": [
                        "Reg coeff. |  Intercept |  ['HousePrice', 'PopChg', 'MilesPhila', 'Bucks', 'Chester', 'Delaware', 'Montgome', 'Phila']\n",
                        "_________________________________________________\n",
                        "\n",
                        "1e-07  |  33.57435897435898  |  [ -3.63196768  17.1368763  -14.24757218  -5.6127896   -6.08376072\n",
                        " -11.57432963  -3.96983238  15.85069499]\n",
                        "\n",
                        "1e-05  |  33.57435897435898  |  [ -3.63196065  17.13684905 -14.24754555  -5.61242715  -6.08339121\n",
                        " -11.57390263  -3.96939208  15.85096386]\n",
                        "\n",
                        "0.001  |  33.57435897435898  |  [ -3.63125564  17.13412272 -14.24483737  -5.58298541  -6.053239\n",
                        " -11.53891058  -3.93342704  15.87281536]\n",
                        "\n",
                        "0.1  |  33.57435897435898  |  [ -3.54024151  16.79550301 -13.9516437    0.          -0.31594044\n",
                        "  -4.99649311   2.64377887  20.00171027]\n",
                        "\n",
                        "1  |  33.57435897435898  |  [ -2.70661526  13.90488014 -11.36208519  -0.          -0.\n",
                        "  -3.85457208   1.55060947  19.39796805]\n",
                        "\n",
                        "10  |  33.57435897435898  |  [-0.          0.         -0.         -0.          0.         -0.\n",
                        " -0.         11.08146116]\n",
                        "\n",
                        "100  |  33.57435897435898  |  [-0.  0. -0. -0. -0. -0. -0.  0.]\n",
                        "\n",
                        "1000  |  33.57435897435898  |  [-0.  0. -0. -0. -0. -0. -0.  0.]\n",
                        "\n"
                    ]
                }
            ],
            "source": [
                "print(\"Reg coeff. | \", \"Intercept | \", input_cols)\n",
                "print(\"_________________________________________________\")\n",
                "print()\n",
                "\n",
                "for reg_coef in [1e-07,1e-05, 0.001, 0.1, 1, 10, 100, 1000]:\n",
                "    lasso_model = Lasso(alpha=reg_coef)\n",
                "    lasso_model.fit(train_X_norm, train_y)\n",
                "    print(reg_coef, \" | \", lasso_model.intercept_, \" | \",  lasso_model.coef_)\n",
                "    print()"
            ]
        },
        {
            "attachments": {},
            "cell_type": "markdown",
            "metadata": {},
            "source": [
                "**Discussion:** Do you notice anything interesting about the weights overall? Do you notice anything surprising about the weights of the (first) best performing alpha?"
            ]
        },
        {
            "attachments": {},
            "cell_type": "markdown",
            "metadata": {},
            "source": [
                "# 5. Computing final test scores"
            ]
        },
        {
            "attachments": {},
            "cell_type": "markdown",
            "metadata": {},
            "source": [
                "Using the regularization coefficient that leads to the best validation error, compute test scores for a Ridge and LASSO model."
            ]
        },
        {
            "cell_type": "code",
            "execution_count": null,
            "metadata": {},
            "outputs": [
                {
                    "name": "stdout",
                    "output_type": "stream",
                    "text": [
                        "Ridge 31.37520198091263\n",
                        "LASSO 27.302912339711856\n",
                        "LinearRegression 32.326371126535946\n"
                    ]
                },
                {
                    "name": "stderr",
                    "output_type": "stream",
                    "text": [
                        "c:\\Users\\achar\\AppData\\Local\\Programs\\Python\\Python312\\Lib\\site-packages\\sklearn\\metrics\\_regression.py:492: FutureWarning: 'squared' is deprecated in version 1.4 and will be removed in 1.6. To calculate the root mean squared error, use the function'root_mean_squared_error'.\n",
                        "  warnings.warn(\n",
                        "c:\\Users\\achar\\AppData\\Local\\Programs\\Python\\Python312\\Lib\\site-packages\\sklearn\\metrics\\_regression.py:492: FutureWarning: 'squared' is deprecated in version 1.4 and will be removed in 1.6. To calculate the root mean squared error, use the function'root_mean_squared_error'.\n",
                        "  warnings.warn(\n",
                        "c:\\Users\\achar\\AppData\\Local\\Programs\\Python\\Python312\\Lib\\site-packages\\sklearn\\metrics\\_regression.py:492: FutureWarning: 'squared' is deprecated in version 1.4 and will be removed in 1.6. To calculate the root mean squared error, use the function'root_mean_squared_error'.\n",
                        "  warnings.warn(\n"
                    ]
                }
            ],
            "source": [
                "# TODO: choose best alphas from above and calculate test errors\n",
                "print(\"Ridge\", rmse(Ridge(alpha=1.0).fit(train_X_norm, train_y), test_X_norm, test_y))\n",
                "print(\"LASSO\", rmse(Lasso(alpha=1.0).fit(train_X_norm, train_y), test_X_norm, test_y))\n",
                "print(\"LinearRegression\", rmse(LinearRegression().fit(train_X_norm, train_y), test_X_norm, test_y))"
            ]
        },
        {
            "attachments": {},
            "cell_type": "markdown",
            "metadata": {},
            "source": [
                "Now, let's use the same models on the unnormalized training set."
            ]
        },
        {
            "cell_type": "code",
            "execution_count": 15,
            "metadata": {},
            "outputs": [
                {
                    "name": "stdout",
                    "output_type": "stream",
                    "text": [
                        "Ridge 21.395689707502893\n",
                        "LASSO 16.7213837215884\n",
                        "LinearRegression 32.32637112653585\n"
                    ]
                },
                {
                    "name": "stderr",
                    "output_type": "stream",
                    "text": [
                        "c:\\Users\\achar\\AppData\\Local\\Programs\\Python\\Python312\\Lib\\site-packages\\sklearn\\metrics\\_regression.py:492: FutureWarning: 'squared' is deprecated in version 1.4 and will be removed in 1.6. To calculate the root mean squared error, use the function'root_mean_squared_error'.\n",
                        "  warnings.warn(\n",
                        "c:\\Users\\achar\\AppData\\Local\\Programs\\Python\\Python312\\Lib\\site-packages\\sklearn\\metrics\\_regression.py:492: FutureWarning: 'squared' is deprecated in version 1.4 and will be removed in 1.6. To calculate the root mean squared error, use the function'root_mean_squared_error'.\n",
                        "  warnings.warn(\n",
                        "c:\\Users\\achar\\AppData\\Local\\Programs\\Python\\Python312\\Lib\\site-packages\\sklearn\\metrics\\_regression.py:492: FutureWarning: 'squared' is deprecated in version 1.4 and will be removed in 1.6. To calculate the root mean squared error, use the function'root_mean_squared_error'.\n",
                        "  warnings.warn(\n"
                    ]
                }
            ],
            "source": [
                "print(\"Ridge\", rmse(Ridge(alpha=100).fit(train_X, train_y), test_X, test_y))\n",
                "print(\"LASSO\", rmse(Lasso(alpha=10).fit(train_X, train_y), test_X, test_y))\n",
                "print(\"LinearRegression\", rmse(LinearRegression().fit(train_X, train_y), test_X, test_y))"
            ]
        },
        {
            "attachments": {},
            "cell_type": "markdown",
            "metadata": {},
            "source": [
                "**Discussion:** So as you can see, the regularized models perform significantly well as opposed to the simple linear models. However, they put too much weight on the 'Phila' county. If we put this model to use in real world, what can be the consequences? Are there any steps we can take to avoid these misinterpretations?\n",
                "\n",
                "**Big Takeaway:** Correlation does not imply causality"
            ]
        }
    ],
    "metadata": {
        "kernelspec": {
            "display_name": "Python 3 (ipykernel)",
            "language": "python",
            "name": "python3"
        },
        "language_info": {
            "codemirror_mode": {
                "name": "ipython",
                "version": 3
            },
            "file_extension": ".py",
            "mimetype": "text/x-python",
            "name": "python",
            "nbconvert_exporter": "python",
            "pygments_lexer": "ipython3",
            "version": "3.12.4"
        }
    },
    "nbformat": 4,
    "nbformat_minor": 0
}
