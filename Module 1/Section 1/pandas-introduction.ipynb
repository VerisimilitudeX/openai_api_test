{
    "cells": [
        {
            "attachments": {},
            "cell_type": "markdown",
            "metadata": {},
            "source": [
                "# 1. Setting up"
            ]
        },
        {
            "attachments": {},
            "cell_type": "markdown",
            "metadata": {},
            "source": [
                "Import all required modules"
            ]
        },
        {
            "cell_type": "code",
            "execution_count": 1,
            "metadata": {},
            "outputs": [],
            "source": [
                "import numpy as np\n",
                "import pandas as pd\n",
                "\n",
                "from sklearn.model_selection import train_test_split\n",
                "from sklearn.preprocessing import StandardScaler\n",
                "from sklearn.metrics import mean_squared_error\n",
                "from sklearn.linear_model import LinearRegression\n",
                "from sklearn.preprocessing import PolynomialFeatures\n",
                "\n",
                "import matplotlib.pyplot as plt\n",
                "\n",
                "# Set a fixed random seed to standardize results\n",
                "#np.random.seed(2) # 579"
            ]
        },
        {
            "attachments": {},
            "cell_type": "markdown",
            "metadata": {},
            "source": [
                "Read in the weather data and view it. For additional info on the weather dataset we're using, see [this](https://corgis-edu.github.io/corgis/csv/weather/)."
            ]
        },
        {
            "cell_type": "code",
            "execution_count": 4,
            "metadata": {},
            "outputs": [
                {
                    "data": {
                        "text/html": [
                            "<div>\n",
                            "<style scoped>\n",
                            "    .dataframe tbody tr th:only-of-type {\n",
                            "        vertical-align: middle;\n",
                            "    }\n",
                            "\n",
                            "    .dataframe tbody tr th {\n",
                            "        vertical-align: top;\n",
                            "    }\n",
                            "\n",
                            "    .dataframe thead th {\n",
                            "        text-align: right;\n",
                            "    }\n",
                            "</style>\n",
                            "<table border=\"1\" class=\"dataframe\">\n",
                            "  <thead>\n",
                            "    <tr style=\"text-align: right;\">\n",
                            "      <th></th>\n",
                            "      <th>Data.Precipitation</th>\n",
                            "      <th>Date.Full</th>\n",
                            "      <th>Date.Month</th>\n",
                            "      <th>Date.Week of</th>\n",
                            "      <th>Date.Year</th>\n",
                            "      <th>Station.City</th>\n",
                            "      <th>Station.Code</th>\n",
                            "      <th>Station.Location</th>\n",
                            "      <th>Station.State</th>\n",
                            "      <th>Data.Temperature.Avg Temp</th>\n",
                            "      <th>Data.Temperature.Max Temp</th>\n",
                            "      <th>Data.Temperature.Min Temp</th>\n",
                            "      <th>Data.Wind.Direction</th>\n",
                            "      <th>Data.Wind.Speed</th>\n",
                            "    </tr>\n",
                            "  </thead>\n",
                            "  <tbody>\n",
                            "    <tr>\n",
                            "      <th>0</th>\n",
                            "      <td>0.00</td>\n",
                            "      <td>2016-01-03</td>\n",
                            "      <td>1</td>\n",
                            "      <td>3</td>\n",
                            "      <td>2016</td>\n",
                            "      <td>Birmingham</td>\n",
                            "      <td>BHM</td>\n",
                            "      <td>Birmingham, AL</td>\n",
                            "      <td>Alabama</td>\n",
                            "      <td>39</td>\n",
                            "      <td>46</td>\n",
                            "      <td>32</td>\n",
                            "      <td>33</td>\n",
                            "      <td>4.33</td>\n",
                            "    </tr>\n",
                            "    <tr>\n",
                            "      <th>1</th>\n",
                            "      <td>0.00</td>\n",
                            "      <td>2016-01-03</td>\n",
                            "      <td>1</td>\n",
                            "      <td>3</td>\n",
                            "      <td>2016</td>\n",
                            "      <td>Huntsville</td>\n",
                            "      <td>HSV</td>\n",
                            "      <td>Huntsville, AL</td>\n",
                            "      <td>Alabama</td>\n",
                            "      <td>39</td>\n",
                            "      <td>47</td>\n",
                            "      <td>31</td>\n",
                            "      <td>32</td>\n",
                            "      <td>3.86</td>\n",
                            "    </tr>\n",
                            "    <tr>\n",
                            "      <th>2</th>\n",
                            "      <td>0.16</td>\n",
                            "      <td>2016-01-03</td>\n",
                            "      <td>1</td>\n",
                            "      <td>3</td>\n",
                            "      <td>2016</td>\n",
                            "      <td>Mobile</td>\n",
                            "      <td>MOB</td>\n",
                            "      <td>Mobile, AL</td>\n",
                            "      <td>Alabama</td>\n",
                            "      <td>46</td>\n",
                            "      <td>51</td>\n",
                            "      <td>41</td>\n",
                            "      <td>35</td>\n",
                            "      <td>9.73</td>\n",
                            "    </tr>\n",
                            "    <tr>\n",
                            "      <th>3</th>\n",
                            "      <td>0.00</td>\n",
                            "      <td>2016-01-03</td>\n",
                            "      <td>1</td>\n",
                            "      <td>3</td>\n",
                            "      <td>2016</td>\n",
                            "      <td>Montgomery</td>\n",
                            "      <td>MGM</td>\n",
                            "      <td>Montgomery, AL</td>\n",
                            "      <td>Alabama</td>\n",
                            "      <td>45</td>\n",
                            "      <td>52</td>\n",
                            "      <td>38</td>\n",
                            "      <td>32</td>\n",
                            "      <td>6.86</td>\n",
                            "    </tr>\n",
                            "    <tr>\n",
                            "      <th>4</th>\n",
                            "      <td>0.01</td>\n",
                            "      <td>2016-01-03</td>\n",
                            "      <td>1</td>\n",
                            "      <td>3</td>\n",
                            "      <td>2016</td>\n",
                            "      <td>Anchorage</td>\n",
                            "      <td>ANC</td>\n",
                            "      <td>Anchorage, AK</td>\n",
                            "      <td>Alaska</td>\n",
                            "      <td>34</td>\n",
                            "      <td>38</td>\n",
                            "      <td>29</td>\n",
                            "      <td>19</td>\n",
                            "      <td>7.80</td>\n",
                            "    </tr>\n",
                            "  </tbody>\n",
                            "</table>\n",
                            "</div>"
                        ],
                        "text/plain": [
                            "   Data.Precipitation   Date.Full  Date.Month  Date.Week of  Date.Year  \\\n",
                            "0                0.00  2016-01-03           1             3       2016   \n",
                            "1                0.00  2016-01-03           1             3       2016   \n",
                            "2                0.16  2016-01-03           1             3       2016   \n",
                            "3                0.00  2016-01-03           1             3       2016   \n",
                            "4                0.01  2016-01-03           1             3       2016   \n",
                            "\n",
                            "  Station.City Station.Code Station.Location Station.State  \\\n",
                            "0   Birmingham          BHM   Birmingham, AL       Alabama   \n",
                            "1   Huntsville          HSV   Huntsville, AL       Alabama   \n",
                            "2       Mobile          MOB       Mobile, AL       Alabama   \n",
                            "3   Montgomery          MGM   Montgomery, AL       Alabama   \n",
                            "4    Anchorage          ANC    Anchorage, AK        Alaska   \n",
                            "\n",
                            "   Data.Temperature.Avg Temp  Data.Temperature.Max Temp  \\\n",
                            "0                         39                         46   \n",
                            "1                         39                         47   \n",
                            "2                         46                         51   \n",
                            "3                         45                         52   \n",
                            "4                         34                         38   \n",
                            "\n",
                            "   Data.Temperature.Min Temp  Data.Wind.Direction  Data.Wind.Speed  \n",
                            "0                         32                   33             4.33  \n",
                            "1                         31                   32             3.86  \n",
                            "2                         41                   35             9.73  \n",
                            "3                         38                   32             6.86  \n",
                            "4                         29                   19             7.80  "
                        ]
                    },
                    "execution_count": 4,
                    "metadata": {},
                    "output_type": "execute_result"
                }
            ],
            "source": [
                "# TODO: read in weather data and view (hint: only need to view first 5 datapoints)\n",
                "weather = pd.read_csv(\"weather.csv\")\n",
                "weather.head()"
            ]
        },
        {
            "attachments": {},
            "cell_type": "markdown",
            "metadata": {},
            "source": [
                "# 2. Pre-processing"
            ]
        },
        {
            "attachments": {},
            "cell_type": "markdown",
            "metadata": {},
            "source": [
                "We want to predict the max temperature for a particular week. **What input columns should we use?** (There are multiple reasonable answers.)"
            ]
        },
        {
            "cell_type": "code",
            "execution_count": 3,
            "metadata": {},
            "outputs": [
                {
                    "ename": "SyntaxError",
                    "evalue": "invalid syntax (1064835854.py, line 1)",
                    "output_type": "error",
                    "traceback": [
                        "\u001b[0;36m  Cell \u001b[0;32mIn[3], line 1\u001b[0;36m\u001b[0m\n\u001b[0;31m    input_cols = [???] #TODO: choose the input columns\u001b[0m\n\u001b[0m                  ^\u001b[0m\n\u001b[0;31mSyntaxError\u001b[0m\u001b[0;31m:\u001b[0m invalid syntax\n"
                    ]
                }
            ],
            "source": [
                "input_cols = [\n",
                "    \"\"\n",
                "    ] #TODO: choose the input columns\n",
                "output_col = 'Data.Temperature.Max Temp'"
            ]
        },
        {
            "attachments": {},
            "cell_type": "markdown",
            "metadata": {},
            "source": [
                "Split the weather data into a training and test set and then store the input and target data seperately for each set. Use [train/test split](https://scikit-learn.org/stable/modules/generated/sklearn.model_selection.train_test_split.html) from sklearn."
            ]
        },
        {
            "cell_type": "code",
            "execution_count": null,
            "metadata": {},
            "outputs": [],
            "source": [
                "# TODO: split into training and testing sets\n",
                "train, test = ???\n",
                "\n",
                "# TODO: split data sets into input and target variables\n",
                "train_X = ???\n",
                "train_y = ???\n",
                "\n",
                "test_X = ???\n",
                "test_y = ???"
            ]
        },
        {
            "attachments": {},
            "cell_type": "markdown",
            "metadata": {},
            "source": [
                "Check the shape of each set to make sure they make sense!"
            ]
        },
        {
            "cell_type": "code",
            "execution_count": null,
            "metadata": {},
            "outputs": [],
            "source": [
                "print(\"train input data shape:\", train_X.shape)\n",
                "print(\"train target data shape:\", train_y.shape)\n",
                "print()\n",
                "print(\"test input data shape:\", test_X.shape)\n",
                "print(\"test target data shape:\", test_y.shape)"
            ]
        },
        {
            "attachments": {},
            "cell_type": "markdown",
            "metadata": {},
            "source": [
                "# 3. Linear regression"
            ]
        },
        {
            "attachments": {},
            "cell_type": "markdown",
            "metadata": {},
            "source": [
                "Create a simple [least squares linear Model](https://scikit-learn.org/stable/modules/generated/sklearn.linear_model.LinearRegression.html). "
            ]
        },
        {
            "cell_type": "code",
            "execution_count": null,
            "metadata": {},
            "outputs": [],
            "source": [
                "####TODO: Define a new linear regression model\n",
                "simple_linear_model = #??? \n",
                "####"
            ]
        },
        {
            "attachments": {},
            "cell_type": "markdown",
            "metadata": {},
            "source": [
                "Train the model using the training data and output the training error. To do so, define a function rmse(mode, X, y) that calculates the RMSE error for a given model, input, and target data."
            ]
        },
        {
            "cell_type": "code",
            "execution_count": null,
            "metadata": {},
            "outputs": [],
            "source": [
                "def rmse(model, X, y):\n",
                "    predictions = model.predict(X)\n",
                "    return mean_squared_error(predictions, y, squared=False)"
            ]
        },
        {
            "attachments": {},
            "cell_type": "markdown",
            "metadata": {},
            "source": [
                "Now, let's fit the data to the linear model and then find the error on the training values"
            ]
        },
        {
            "cell_type": "code",
            "execution_count": null,
            "metadata": {},
            "outputs": [],
            "source": [
                "####TODO: Fit simple linear model we just created to training data\n",
                "\n",
                "####\n",
                "\n",
                "#Now taking the Root mean squared error\n",
                "rmse(simple_linear_model, train_X, train_y)"
            ]
        },
        {
            "attachments": {},
            "cell_type": "markdown",
            "metadata": {},
            "source": [
                "Now, let's take a look at what our y-intercept and weights are like in the model we have just created. "
            ]
        },
        {
            "cell_type": "code",
            "execution_count": null,
            "metadata": {},
            "outputs": [],
            "source": [
                "print(simple_linear_model.intercept_) \n",
                "print(simple_linear_model.coef_)"
            ]
        },
        {
            "attachments": {},
            "cell_type": "markdown",
            "metadata": {},
            "source": [
                "**Concept check:**  What does this model suggest about useful features? Can you think of a function of important features which is an approximation of what the model is doing?"
            ]
        },
        {
            "attachments": {},
            "cell_type": "markdown",
            "metadata": {},
            "source": [
                "# 4. Bias - Variance and overfitting"
            ]
        },
        {
            "attachments": {},
            "cell_type": "markdown",
            "metadata": {},
            "source": [
                "Let's take a look at the train and test errors we get on the simple model we created. "
            ]
        },
        {
            "cell_type": "code",
            "execution_count": null,
            "metadata": {},
            "outputs": [],
            "source": [
                "print(\"Train Error: \", rmse( simple_linear_model, train_X, train_y))\n",
                "print(\"Test Error: \", rmse(simple_linear_model, test_X, test_y))"
            ]
        },
        {
            "attachments": {},
            "cell_type": "markdown",
            "metadata": {},
            "source": [
                "As you can see, the linear model is doing quite well on our data."
            ]
        },
        {
            "attachments": {},
            "cell_type": "markdown",
            "metadata": {},
            "source": [
                "Now, let's try to train a more complex model using sklearn's PolynomialFeatures which would account for all polynomial combinations of given features to a provided degree. \n",
                "\n",
                "This time, we split the training data into further training set and a **validation set**. Validation is a useful method in checking your model's robustness before actually applying it on test data. If your model is overfitting on the training data, validation set will make us aware of that. We will not be checking the new model on test data in this, but you can do it as an exercise."
            ]
        },
        {
            "cell_type": "code",
            "execution_count": null,
            "metadata": {},
            "outputs": [],
            "source": [
                "train_X, val_X, train_y, val_y = train_test_split(train_X, train_y, test_size=0.1, random_state=1)\n",
                "\n",
                "degrees = [1,2,3,4,5,6]\n",
                "train_errors = []\n",
                "val_errors = []\n",
                "for degree in degrees:\n",
                "    poly_features = PolynomialFeatures(degree) # accont for features of higher degree\n",
                "    poly_train_X = poly_features.fit_transform(train_X)\n",
                "\n",
                "    poly_linear_model = LinearRegression()\n",
                "    poly_linear_model.fit(poly_train_X, train_y)\n",
                "\n",
                "    train_errors.append(rmse(poly_linear_model, poly_train_X, train_y))\n",
                "    val_errors.append(rmse(poly_linear_model, poly_features.transform(val_X) , val_y))\n",
                "\n",
                "# validation vs train error \n",
                "plt.plot(degrees, train_errors, label = \"Train Error\")\n",
                "plt.plot(degrees, val_errors, label = \"Validation Error\")\n",
                "plt.xlabel(\"Degree\")\n",
                "plt.ylabel(\"Errors\")\n",
                "plt.legend()\n",
                "plt.show()\n"
            ]
        },
        {
            "attachments": {},
            "cell_type": "markdown",
            "metadata": {},
            "source": [
                "**Concept check:** How do the Validation error and Train error compare? Do you see any alarming difference? What might be causing this?"
            ]
        },
        {
            "attachments": {},
            "cell_type": "markdown",
            "metadata": {},
            "source": [
                "Now, uncomment the `np.random.seed()` line at the top of the notebook, just below the import statements. Re-run the entire notebook again (use 'Run All' button on top left corner). What do you see? Compare with your neighbors. "
            ]
        },
        {
            "attachments": {},
            "cell_type": "markdown",
            "metadata": {},
            "source": [
                "Introducing np.random.seed() will standardize all the train test splits so you get the same result across different runs. As you can see above after this procedure, the validation error is significantly higher than the train error beginning degree 4, because our model becomes **overfitting** to the dataset provided. "
            ]
        },
        {
            "attachments": {},
            "cell_type": "markdown",
            "metadata": {},
            "source": [
                "**conceptual Question:** Does the linear model have high bias? Does it have high variance?"
            ]
        },
        {
            "attachments": {},
            "cell_type": "markdown",
            "metadata": {},
            "source": [
                "Higher variance is generally co-related with overfitting; high-bias is with underfiting and higher training loss. A complex model which has high complexity to minimize the training error has a tendency to overfit to the training dataset and will might do poorly with the testing dataset."
            ]
        },
        {
            "attachments": {},
            "cell_type": "markdown",
            "metadata": {},
            "source": [
                "\n",
                "\n",
                "---\n",
                "\n"
            ]
        }
    ],
    "metadata": {
        "kernelspec": {
            "display_name": "Python 3 (ipykernel)",
            "language": "python",
            "name": "python3"
        },
        "language_info": {
            "codemirror_mode": {
                "name": "ipython",
                "version": 3
            },
            "file_extension": ".py",
            "mimetype": "text/x-python",
            "name": "python",
            "nbconvert_exporter": "python",
            "pygments_lexer": "ipython3",
            "version": "3.12.3"
        }
    },
    "nbformat": 4,
    "nbformat_minor": 0
}
