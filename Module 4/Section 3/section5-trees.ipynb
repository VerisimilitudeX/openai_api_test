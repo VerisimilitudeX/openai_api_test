{
    "cells": [
        {
            "attachments": {},
            "cell_type": "markdown",
            "metadata": {},
            "source": [
                "# 1. Setting Up\n"
            ]
        },
        {
            "attachments": {},
            "cell_type": "markdown",
            "metadata": {},
            "source": [
                "Banks are always concerned with fraud to prevent from those intending to misuse the system to take advantage of it. In this section, we will build a classification model to predict whether or not an applicant is committing bank fraud. We will practice to use Decision Trees for the purpose.Along with that, we will also develop our own custom classifier class, a majority class classifier."
            ]
        },
        {
            "cell_type": "code",
            "execution_count": 1,
            "metadata": {},
            "outputs": [],
            "source": [
                "import numpy as np\n",
                "import pandas as pd\n",
                "import matplotlib.pyplot as plt\n",
                "import seaborn as sns\n",
                "\n",
                "from sklearn.model_selection import train_test_split\n",
                "from sklearn import metrics\n",
                "from sklearn.tree import DecisionTreeClassifier\n",
                "\n",
                "np.random.seed(416)"
            ]
        },
        {
            "attachments": {},
            "cell_type": "markdown",
            "metadata": {},
            "source": [
                "Let's create a helper function to create confusion matrices"
            ]
        },
        {
            "cell_type": "code",
            "execution_count": 2,
            "metadata": {},
            "outputs": [],
            "source": [
                "from sklearn.metrics import confusion_matrix\n",
                "\n",
                "def visualize_confusion_matrix(test, pred, score):\n",
                "    cm = confusion_matrix(test, pred)\n",
                "    plt.figure(figsize=(9,9))\n",
                "    sns.heatmap(cm, annot=True, fmt=\".3f\", linewidths=.5, square = True, cmap = 'Blues_r')\n",
                "    plt.ylabel('Actual label')\n",
                "    plt.xlabel('Predicted label')\n",
                "    all_sample_title = 'Accuracy Score: {0}'.format(score)\n",
                "    plt.title(all_sample_title, size = 15)"
            ]
        },
        {
            "attachments": {},
            "cell_type": "markdown",
            "metadata": {},
            "source": [
                "# 2. Inspecting Data"
            ]
        },
        {
            "cell_type": "code",
            "execution_count": 3,
            "metadata": {},
            "outputs": [
                {
                    "name": "stdout",
                    "output_type": "stream",
                    "text": [
                        "20000\n"
                    ]
                },
                {
                    "data": {
                        "text/html": [
                            "<div>\n",
                            "<style scoped>\n",
                            "    .dataframe tbody tr th:only-of-type {\n",
                            "        vertical-align: middle;\n",
                            "    }\n",
                            "\n",
                            "    .dataframe tbody tr th {\n",
                            "        vertical-align: top;\n",
                            "    }\n",
                            "\n",
                            "    .dataframe thead th {\n",
                            "        text-align: right;\n",
                            "    }\n",
                            "</style>\n",
                            "<table border=\"1\" class=\"dataframe\">\n",
                            "  <thead>\n",
                            "    <tr style=\"text-align: right;\">\n",
                            "      <th></th>\n",
                            "      <th>fraud_bool</th>\n",
                            "      <th>income</th>\n",
                            "      <th>name_email_similarity</th>\n",
                            "      <th>prev_address_months_count</th>\n",
                            "      <th>current_address_months_count</th>\n",
                            "      <th>customer_age</th>\n",
                            "      <th>days_since_request</th>\n",
                            "      <th>intended_balcon_amount</th>\n",
                            "      <th>payment_type</th>\n",
                            "      <th>zip_count_4w</th>\n",
                            "      <th>...</th>\n",
                            "      <th>has_other_cards</th>\n",
                            "      <th>proposed_credit_limit</th>\n",
                            "      <th>foreign_request</th>\n",
                            "      <th>source</th>\n",
                            "      <th>session_length_in_minutes</th>\n",
                            "      <th>device_os</th>\n",
                            "      <th>keep_alive_session</th>\n",
                            "      <th>device_distinct_emails_8w</th>\n",
                            "      <th>device_fraud_count</th>\n",
                            "      <th>month</th>\n",
                            "    </tr>\n",
                            "  </thead>\n",
                            "  <tbody>\n",
                            "    <tr>\n",
                            "      <th>0</th>\n",
                            "      <td>1</td>\n",
                            "      <td>0.9</td>\n",
                            "      <td>0.166828</td>\n",
                            "      <td>-1</td>\n",
                            "      <td>88</td>\n",
                            "      <td>50</td>\n",
                            "      <td>0.020925</td>\n",
                            "      <td>-1.331345</td>\n",
                            "      <td>AA</td>\n",
                            "      <td>769</td>\n",
                            "      <td>...</td>\n",
                            "      <td>0</td>\n",
                            "      <td>500.0</td>\n",
                            "      <td>0</td>\n",
                            "      <td>INTERNET</td>\n",
                            "      <td>3.888115</td>\n",
                            "      <td>windows</td>\n",
                            "      <td>0</td>\n",
                            "      <td>1</td>\n",
                            "      <td>0</td>\n",
                            "      <td>7</td>\n",
                            "    </tr>\n",
                            "    <tr>\n",
                            "      <th>1</th>\n",
                            "      <td>1</td>\n",
                            "      <td>0.9</td>\n",
                            "      <td>0.296286</td>\n",
                            "      <td>-1</td>\n",
                            "      <td>144</td>\n",
                            "      <td>50</td>\n",
                            "      <td>0.005418</td>\n",
                            "      <td>-0.816224</td>\n",
                            "      <td>AB</td>\n",
                            "      <td>366</td>\n",
                            "      <td>...</td>\n",
                            "      <td>0</td>\n",
                            "      <td>1500.0</td>\n",
                            "      <td>0</td>\n",
                            "      <td>INTERNET</td>\n",
                            "      <td>31.798819</td>\n",
                            "      <td>windows</td>\n",
                            "      <td>0</td>\n",
                            "      <td>1</td>\n",
                            "      <td>0</td>\n",
                            "      <td>7</td>\n",
                            "    </tr>\n",
                            "    <tr>\n",
                            "      <th>2</th>\n",
                            "      <td>1</td>\n",
                            "      <td>0.9</td>\n",
                            "      <td>0.044985</td>\n",
                            "      <td>-1</td>\n",
                            "      <td>132</td>\n",
                            "      <td>40</td>\n",
                            "      <td>3.108549</td>\n",
                            "      <td>-0.755728</td>\n",
                            "      <td>AC</td>\n",
                            "      <td>870</td>\n",
                            "      <td>...</td>\n",
                            "      <td>0</td>\n",
                            "      <td>200.0</td>\n",
                            "      <td>0</td>\n",
                            "      <td>INTERNET</td>\n",
                            "      <td>4.728705</td>\n",
                            "      <td>other</td>\n",
                            "      <td>0</td>\n",
                            "      <td>1</td>\n",
                            "      <td>0</td>\n",
                            "      <td>7</td>\n",
                            "    </tr>\n",
                            "    <tr>\n",
                            "      <th>3</th>\n",
                            "      <td>1</td>\n",
                            "      <td>0.9</td>\n",
                            "      <td>0.159511</td>\n",
                            "      <td>-1</td>\n",
                            "      <td>22</td>\n",
                            "      <td>50</td>\n",
                            "      <td>0.019079</td>\n",
                            "      <td>-1.205124</td>\n",
                            "      <td>AB</td>\n",
                            "      <td>810</td>\n",
                            "      <td>...</td>\n",
                            "      <td>1</td>\n",
                            "      <td>200.0</td>\n",
                            "      <td>0</td>\n",
                            "      <td>INTERNET</td>\n",
                            "      <td>2.047904</td>\n",
                            "      <td>linux</td>\n",
                            "      <td>0</td>\n",
                            "      <td>1</td>\n",
                            "      <td>0</td>\n",
                            "      <td>7</td>\n",
                            "    </tr>\n",
                            "    <tr>\n",
                            "      <th>4</th>\n",
                            "      <td>1</td>\n",
                            "      <td>0.9</td>\n",
                            "      <td>0.596414</td>\n",
                            "      <td>-1</td>\n",
                            "      <td>218</td>\n",
                            "      <td>50</td>\n",
                            "      <td>0.004441</td>\n",
                            "      <td>-0.773276</td>\n",
                            "      <td>AB</td>\n",
                            "      <td>890</td>\n",
                            "      <td>...</td>\n",
                            "      <td>0</td>\n",
                            "      <td>1500.0</td>\n",
                            "      <td>0</td>\n",
                            "      <td>INTERNET</td>\n",
                            "      <td>3.775225</td>\n",
                            "      <td>macintosh</td>\n",
                            "      <td>1</td>\n",
                            "      <td>1</td>\n",
                            "      <td>0</td>\n",
                            "      <td>7</td>\n",
                            "    </tr>\n",
                            "  </tbody>\n",
                            "</table>\n",
                            "<p>5 rows × 32 columns</p>\n",
                            "</div>"
                        ],
                        "text/plain": [
                            "   fraud_bool  income  name_email_similarity  prev_address_months_count  \\\n",
                            "0           1     0.9               0.166828                         -1   \n",
                            "1           1     0.9               0.296286                         -1   \n",
                            "2           1     0.9               0.044985                         -1   \n",
                            "3           1     0.9               0.159511                         -1   \n",
                            "4           1     0.9               0.596414                         -1   \n",
                            "\n",
                            "   current_address_months_count  customer_age  days_since_request  \\\n",
                            "0                            88            50            0.020925   \n",
                            "1                           144            50            0.005418   \n",
                            "2                           132            40            3.108549   \n",
                            "3                            22            50            0.019079   \n",
                            "4                           218            50            0.004441   \n",
                            "\n",
                            "   intended_balcon_amount payment_type  zip_count_4w  ...  has_other_cards  \\\n",
                            "0               -1.331345           AA           769  ...                0   \n",
                            "1               -0.816224           AB           366  ...                0   \n",
                            "2               -0.755728           AC           870  ...                0   \n",
                            "3               -1.205124           AB           810  ...                1   \n",
                            "4               -0.773276           AB           890  ...                0   \n",
                            "\n",
                            "   proposed_credit_limit  foreign_request    source  \\\n",
                            "0                  500.0                0  INTERNET   \n",
                            "1                 1500.0                0  INTERNET   \n",
                            "2                  200.0                0  INTERNET   \n",
                            "3                  200.0                0  INTERNET   \n",
                            "4                 1500.0                0  INTERNET   \n",
                            "\n",
                            "   session_length_in_minutes  device_os  keep_alive_session  \\\n",
                            "0                   3.888115    windows                   0   \n",
                            "1                  31.798819    windows                   0   \n",
                            "2                   4.728705      other                   0   \n",
                            "3                   2.047904      linux                   0   \n",
                            "4                   3.775225  macintosh                   1   \n",
                            "\n",
                            "   device_distinct_emails_8w device_fraud_count  month  \n",
                            "0                          1                  0      7  \n",
                            "1                          1                  0      7  \n",
                            "2                          1                  0      7  \n",
                            "3                          1                  0      7  \n",
                            "4                          1                  0      7  \n",
                            "\n",
                            "[5 rows x 32 columns]"
                        ]
                    },
                    "execution_count": 3,
                    "metadata": {},
                    "output_type": "execute_result"
                }
            ],
            "source": [
                "bank_fraud = pd.read_csv('bank_fraud.csv')\n",
                "bank_fraud = bank_fraud.drop(columns = ['Unnamed: 0'])\n",
                "print(len(bank_fraud))\n",
                "bank_fraud.head()"
            ]
        },
        {
            "attachments": {},
            "cell_type": "markdown",
            "metadata": {},
            "source": [
                "# 3. Pre-processing"
            ]
        },
        {
            "attachments": {},
            "cell_type": "markdown",
            "metadata": {},
            "source": [
                "## Data revamp \n",
                "The target column (label column) of the dataset that we are interested in is called `fraud_bool`. In this column 1 means fraudulent and 0 means  legitimate application.\n",
                "\n",
                "In order to make this more intuitive and consistent with the lectures, we reassign the target to be:\n",
                "\n",
                "* +1 as legitimate,\n",
                "* -1 as fraud.\n",
                "\n",
                "We put this in a new column called `not_fraud`. This column will be the target values you will use while training."
            ]
        },
        {
            "cell_type": "code",
            "execution_count": 4,
            "metadata": {},
            "outputs": [],
            "source": [
                "bank_fraud['not_fraud'] = bank_fraud['fraud_bool'].apply(lambda x : +1 if x==0 else -1)\n",
                "\n",
                "# Drop the old fraud_bool column\n",
                "bank_fraud = bank_fraud.drop(columns='fraud_bool')"
            ]
        },
        {
            "attachments": {},
            "cell_type": "markdown",
            "metadata": {},
            "source": [
                "Now, let's see the proportion of fraudulent and not fraudulent applications in our data"
            ]
        },
        {
            "cell_type": "code",
            "execution_count": 5,
            "metadata": {},
            "outputs": [
                {
                    "name": "stdout",
                    "output_type": "stream",
                    "text": [
                        "Number of legit applications: 18572 (92.86%)\n",
                        "Number of fraud applications: 1428 (7.14%)\n"
                    ]
                }
            ],
            "source": [
                "only_legit = bank_fraud[bank_fraud['not_fraud'] == 1]\n",
                "only_fraud = bank_fraud[bank_fraud['not_fraud'] == -1]\n",
                "\n",
                "print(f'Number of legit applications: {len(only_legit)} ({len(only_legit) * 100.0 / len(bank_fraud):.2f}%)')\n",
                "print(f'Number of fraud applications: {len(only_fraud)} ({len(only_fraud) * 100.0 / len(bank_fraud):.2f}%)')"
            ]
        },
        {
            "attachments": {},
            "cell_type": "markdown",
            "metadata": {},
            "source": [
                "## Feature Selection\n",
                "We will be using the following features in the fraud dataset. These values are both numeric and categorical"
            ]
        },
        {
            "cell_type": "code",
            "execution_count": 6,
            "metadata": {},
            "outputs": [
                {
                    "data": {
                        "text/html": [
                            "<div>\n",
                            "<style scoped>\n",
                            "    .dataframe tbody tr th:only-of-type {\n",
                            "        vertical-align: middle;\n",
                            "    }\n",
                            "\n",
                            "    .dataframe tbody tr th {\n",
                            "        vertical-align: top;\n",
                            "    }\n",
                            "\n",
                            "    .dataframe thead th {\n",
                            "        text-align: right;\n",
                            "    }\n",
                            "</style>\n",
                            "<table border=\"1\" class=\"dataframe\">\n",
                            "  <thead>\n",
                            "    <tr style=\"text-align: right;\">\n",
                            "      <th></th>\n",
                            "      <th>income</th>\n",
                            "      <th>name_email_similarity</th>\n",
                            "      <th>prev_address_months_count</th>\n",
                            "      <th>current_address_months_count</th>\n",
                            "      <th>customer_age</th>\n",
                            "      <th>days_since_request</th>\n",
                            "      <th>intended_balcon_amount</th>\n",
                            "      <th>payment_type</th>\n",
                            "      <th>zip_count_4w</th>\n",
                            "      <th>velocity_6h</th>\n",
                            "      <th>...</th>\n",
                            "      <th>proposed_credit_limit</th>\n",
                            "      <th>foreign_request</th>\n",
                            "      <th>source</th>\n",
                            "      <th>session_length_in_minutes</th>\n",
                            "      <th>device_os</th>\n",
                            "      <th>keep_alive_session</th>\n",
                            "      <th>device_distinct_emails_8w</th>\n",
                            "      <th>device_fraud_count</th>\n",
                            "      <th>month</th>\n",
                            "      <th>not_fraud</th>\n",
                            "    </tr>\n",
                            "  </thead>\n",
                            "  <tbody>\n",
                            "    <tr>\n",
                            "      <th>0</th>\n",
                            "      <td>0.9</td>\n",
                            "      <td>0.166828</td>\n",
                            "      <td>-1</td>\n",
                            "      <td>88</td>\n",
                            "      <td>50</td>\n",
                            "      <td>0.020925</td>\n",
                            "      <td>-1.331345</td>\n",
                            "      <td>AA</td>\n",
                            "      <td>769</td>\n",
                            "      <td>10650.765523</td>\n",
                            "      <td>...</td>\n",
                            "      <td>500.0</td>\n",
                            "      <td>0</td>\n",
                            "      <td>INTERNET</td>\n",
                            "      <td>3.888115</td>\n",
                            "      <td>windows</td>\n",
                            "      <td>0</td>\n",
                            "      <td>1</td>\n",
                            "      <td>0</td>\n",
                            "      <td>7</td>\n",
                            "      <td>-1</td>\n",
                            "    </tr>\n",
                            "    <tr>\n",
                            "      <th>1</th>\n",
                            "      <td>0.9</td>\n",
                            "      <td>0.296286</td>\n",
                            "      <td>-1</td>\n",
                            "      <td>144</td>\n",
                            "      <td>50</td>\n",
                            "      <td>0.005418</td>\n",
                            "      <td>-0.816224</td>\n",
                            "      <td>AB</td>\n",
                            "      <td>366</td>\n",
                            "      <td>534.047319</td>\n",
                            "      <td>...</td>\n",
                            "      <td>1500.0</td>\n",
                            "      <td>0</td>\n",
                            "      <td>INTERNET</td>\n",
                            "      <td>31.798819</td>\n",
                            "      <td>windows</td>\n",
                            "      <td>0</td>\n",
                            "      <td>1</td>\n",
                            "      <td>0</td>\n",
                            "      <td>7</td>\n",
                            "      <td>-1</td>\n",
                            "    </tr>\n",
                            "    <tr>\n",
                            "      <th>2</th>\n",
                            "      <td>0.9</td>\n",
                            "      <td>0.044985</td>\n",
                            "      <td>-1</td>\n",
                            "      <td>132</td>\n",
                            "      <td>40</td>\n",
                            "      <td>3.108549</td>\n",
                            "      <td>-0.755728</td>\n",
                            "      <td>AC</td>\n",
                            "      <td>870</td>\n",
                            "      <td>4048.534263</td>\n",
                            "      <td>...</td>\n",
                            "      <td>200.0</td>\n",
                            "      <td>0</td>\n",
                            "      <td>INTERNET</td>\n",
                            "      <td>4.728705</td>\n",
                            "      <td>other</td>\n",
                            "      <td>0</td>\n",
                            "      <td>1</td>\n",
                            "      <td>0</td>\n",
                            "      <td>7</td>\n",
                            "      <td>-1</td>\n",
                            "    </tr>\n",
                            "    <tr>\n",
                            "      <th>3</th>\n",
                            "      <td>0.9</td>\n",
                            "      <td>0.159511</td>\n",
                            "      <td>-1</td>\n",
                            "      <td>22</td>\n",
                            "      <td>50</td>\n",
                            "      <td>0.019079</td>\n",
                            "      <td>-1.205124</td>\n",
                            "      <td>AB</td>\n",
                            "      <td>810</td>\n",
                            "      <td>3457.064063</td>\n",
                            "      <td>...</td>\n",
                            "      <td>200.0</td>\n",
                            "      <td>0</td>\n",
                            "      <td>INTERNET</td>\n",
                            "      <td>2.047904</td>\n",
                            "      <td>linux</td>\n",
                            "      <td>0</td>\n",
                            "      <td>1</td>\n",
                            "      <td>0</td>\n",
                            "      <td>7</td>\n",
                            "      <td>-1</td>\n",
                            "    </tr>\n",
                            "    <tr>\n",
                            "      <th>4</th>\n",
                            "      <td>0.9</td>\n",
                            "      <td>0.596414</td>\n",
                            "      <td>-1</td>\n",
                            "      <td>218</td>\n",
                            "      <td>50</td>\n",
                            "      <td>0.004441</td>\n",
                            "      <td>-0.773276</td>\n",
                            "      <td>AB</td>\n",
                            "      <td>890</td>\n",
                            "      <td>5020.341679</td>\n",
                            "      <td>...</td>\n",
                            "      <td>1500.0</td>\n",
                            "      <td>0</td>\n",
                            "      <td>INTERNET</td>\n",
                            "      <td>3.775225</td>\n",
                            "      <td>macintosh</td>\n",
                            "      <td>1</td>\n",
                            "      <td>1</td>\n",
                            "      <td>0</td>\n",
                            "      <td>7</td>\n",
                            "      <td>-1</td>\n",
                            "    </tr>\n",
                            "  </tbody>\n",
                            "</table>\n",
                            "<p>5 rows × 32 columns</p>\n",
                            "</div>"
                        ],
                        "text/plain": [
                            "   income  name_email_similarity  prev_address_months_count  \\\n",
                            "0     0.9               0.166828                         -1   \n",
                            "1     0.9               0.296286                         -1   \n",
                            "2     0.9               0.044985                         -1   \n",
                            "3     0.9               0.159511                         -1   \n",
                            "4     0.9               0.596414                         -1   \n",
                            "\n",
                            "   current_address_months_count  customer_age  days_since_request  \\\n",
                            "0                            88            50            0.020925   \n",
                            "1                           144            50            0.005418   \n",
                            "2                           132            40            3.108549   \n",
                            "3                            22            50            0.019079   \n",
                            "4                           218            50            0.004441   \n",
                            "\n",
                            "   intended_balcon_amount payment_type  zip_count_4w   velocity_6h  ...  \\\n",
                            "0               -1.331345           AA           769  10650.765523  ...   \n",
                            "1               -0.816224           AB           366    534.047319  ...   \n",
                            "2               -0.755728           AC           870   4048.534263  ...   \n",
                            "3               -1.205124           AB           810   3457.064063  ...   \n",
                            "4               -0.773276           AB           890   5020.341679  ...   \n",
                            "\n",
                            "   proposed_credit_limit  foreign_request    source  \\\n",
                            "0                  500.0                0  INTERNET   \n",
                            "1                 1500.0                0  INTERNET   \n",
                            "2                  200.0                0  INTERNET   \n",
                            "3                  200.0                0  INTERNET   \n",
                            "4                 1500.0                0  INTERNET   \n",
                            "\n",
                            "   session_length_in_minutes  device_os  keep_alive_session  \\\n",
                            "0                   3.888115    windows                   0   \n",
                            "1                  31.798819    windows                   0   \n",
                            "2                   4.728705      other                   0   \n",
                            "3                   2.047904      linux                   0   \n",
                            "4                   3.775225  macintosh                   1   \n",
                            "\n",
                            "   device_distinct_emails_8w device_fraud_count  month  not_fraud  \n",
                            "0                          1                  0      7         -1  \n",
                            "1                          1                  0      7         -1  \n",
                            "2                          1                  0      7         -1  \n",
                            "3                          1                  0      7         -1  \n",
                            "4                          1                  0      7         -1  \n",
                            "\n",
                            "[5 rows x 32 columns]"
                        ]
                    },
                    "execution_count": 6,
                    "metadata": {},
                    "output_type": "execute_result"
                }
            ],
            "source": [
                "features = [\n",
                "    'income', 'name_email_similarity', 'prev_address_months_count',\n",
                "       'current_address_months_count', 'customer_age', 'days_since_request',\n",
                "       'intended_balcon_amount', 'payment_type', 'zip_count_4w', 'velocity_6h',\n",
                "       'velocity_24h', 'velocity_4w', 'bank_branch_count_8w',\n",
                "       'date_of_birth_distinct_emails_4w', 'employment_status',\n",
                "       'credit_risk_score', 'email_is_free', 'housing_status',\n",
                "       'phone_home_valid', 'phone_mobile_valid', 'bank_months_count',\n",
                "       'has_other_cards', 'proposed_credit_limit', 'foreign_request', 'source',\n",
                "       'session_length_in_minutes', 'device_os', 'keep_alive_session',\n",
                "       'device_distinct_emails_8w', 'device_fraud_count', 'month' \n",
                "]\n",
                "\n",
                "target = 'not_fraud'   \n",
                "\n",
                "# Extract the feature columns and target column\n",
                "bank_fraud = bank_fraud[features + [target]]\n",
                "bank_fraud.head()"
            ]
        },
        {
            "attachments": {},
            "cell_type": "markdown",
            "metadata": {},
            "source": [
                "Let's take a look at all the features we have in colums again"
            ]
        },
        {
            "cell_type": "code",
            "execution_count": 7,
            "metadata": {},
            "outputs": [
                {
                    "name": "stdout",
                    "output_type": "stream",
                    "text": [
                        "features:  Index(['income', 'name_email_similarity', 'prev_address_months_count',\n",
                        "       'current_address_months_count', 'customer_age', 'days_since_request',\n",
                        "       'intended_balcon_amount', 'payment_type', 'zip_count_4w', 'velocity_6h',\n",
                        "       'velocity_24h', 'velocity_4w', 'bank_branch_count_8w',\n",
                        "       'date_of_birth_distinct_emails_4w', 'employment_status',\n",
                        "       'credit_risk_score', 'email_is_free', 'housing_status',\n",
                        "       'phone_home_valid', 'phone_mobile_valid', 'bank_months_count',\n",
                        "       'has_other_cards', 'proposed_credit_limit', 'foreign_request', 'source',\n",
                        "       'session_length_in_minutes', 'device_os', 'keep_alive_session',\n",
                        "       'device_distinct_emails_8w', 'device_fraud_count', 'month',\n",
                        "       'not_fraud'],\n",
                        "      dtype='object')\n"
                    ]
                }
            ],
            "source": [
                "print(\"features: \", bank_fraud.columns)"
            ]
        },
        {
            "attachments": {},
            "cell_type": "markdown",
            "metadata": {},
            "source": [
                "With how `sklearn` implemented its `DecisionTreeClassifier`, it is only able to handle numerical features; the technical reason being it only allows binary splits and assumes (like other `sklearn` models), that the data is only numerical. This means we need to translate the categorical features into numeric ones. \n",
                "\n",
                "The easiest way to do this is a **one-hot encoding** of each categorical feature. We used this method in Section 2 for the same reasons. A one hot encoding of a feature creates new, derived, features that take on the value 0 or 1 (one new feature for each possible value of the original). This allows us to turn a categorical feature into a series of binary (0 or 1) numerical features.\n",
                "\n",
                "For example, if we had the dataset shown below where 'Gender' takes on values 'M' (Male), 'F' (Female), 'O' (Other) and 'HasHouse' takes on values 'Y' (Yes), and 'N' (No). This dataset would not work by default in scikit-learn since it has features with categorical values.\n",
                "\n",
                "| Gender | HasHouse | Age |\n",
                "|--------|----------|-----|\n",
                "| M      | N        | 19  |\n",
                "| F      | Y        | 23  |\n",
                "| O      | Y        | 24  |\n",
                "| F      | N        | 21  |\n",
                "\n",
                "To fix this, we could use a one-hot encoding to transform the categorical features into numeric ones. A one-hot encoding of the categorical features would be \n",
                "\n",
                "| Gender_M | Gender_F | Gender_O | HasHouse_N | HasHouse_Y | Age |\n",
                "|----------|----------|----------|------------|------------|-----|\n",
                "| 1        | 0        | 0        | 1          | 0          | 19  |\n",
                "| 0        | 1        | 0        | 0          | 1          | 23  |\n",
                "| 0        | 0        | 1        | 0          | 1          | 24  |\n",
                "| 0        | 1        | 0        | 1          | 0          | 21  |\n",
                "\n",
                "Note that the original 'Gender' column has been transformed into three related columns 'Gender_M', 'Gender_F', and 'Gender_O' which contains zeros or ones depending on the rows' original value. For each row, only one of these derived columns will contain a one (hence the name one-hot encoding).\n",
                "\n",
                "To do this in `pandas`, we use the `get_dummies()` method (another name for one-hot encoding, is dummy variable). We show the new features of the data after running the function in the next cell."
            ]
        },
        {
            "cell_type": "code",
            "execution_count": 8,
            "metadata": {},
            "outputs": [
                {
                    "data": {
                        "text/plain": [
                            "['income',\n",
                            " 'name_email_similarity',\n",
                            " 'prev_address_months_count',\n",
                            " 'current_address_months_count',\n",
                            " 'customer_age',\n",
                            " 'days_since_request',\n",
                            " 'intended_balcon_amount',\n",
                            " 'zip_count_4w',\n",
                            " 'velocity_6h',\n",
                            " 'velocity_24h',\n",
                            " 'velocity_4w',\n",
                            " 'bank_branch_count_8w',\n",
                            " 'date_of_birth_distinct_emails_4w',\n",
                            " 'credit_risk_score',\n",
                            " 'email_is_free',\n",
                            " 'phone_home_valid',\n",
                            " 'phone_mobile_valid',\n",
                            " 'bank_months_count',\n",
                            " 'has_other_cards',\n",
                            " 'proposed_credit_limit',\n",
                            " 'foreign_request',\n",
                            " 'session_length_in_minutes',\n",
                            " 'keep_alive_session',\n",
                            " 'device_distinct_emails_8w',\n",
                            " 'device_fraud_count',\n",
                            " 'month',\n",
                            " 'payment_type_AA',\n",
                            " 'payment_type_AB',\n",
                            " 'payment_type_AC',\n",
                            " 'payment_type_AD',\n",
                            " 'payment_type_AE',\n",
                            " 'employment_status_CA',\n",
                            " 'employment_status_CB',\n",
                            " 'employment_status_CC',\n",
                            " 'employment_status_CD',\n",
                            " 'employment_status_CE',\n",
                            " 'employment_status_CF',\n",
                            " 'employment_status_CG',\n",
                            " 'housing_status_BA',\n",
                            " 'housing_status_BB',\n",
                            " 'housing_status_BC',\n",
                            " 'housing_status_BD',\n",
                            " 'housing_status_BE',\n",
                            " 'housing_status_BF',\n",
                            " 'source_INTERNET',\n",
                            " 'source_TELEAPP',\n",
                            " 'device_os_linux',\n",
                            " 'device_os_macintosh',\n",
                            " 'device_os_other',\n",
                            " 'device_os_windows',\n",
                            " 'device_os_x11']"
                        ]
                    },
                    "execution_count": 8,
                    "metadata": {},
                    "output_type": "execute_result"
                }
            ],
            "source": [
                "bank_fraud = pd.get_dummies(bank_fraud)\n",
                "features = list(bank_fraud.columns)\n",
                "features.remove('not_fraud')\n",
                "features"
            ]
        },
        {
            "attachments": {},
            "cell_type": "markdown",
            "metadata": {},
            "source": [
                "## Train Test Split\n",
                "\n",
                "Let's split our data in standard train-test split manner"
            ]
        },
        {
            "cell_type": "code",
            "execution_count": 9,
            "metadata": {},
            "outputs": [],
            "source": [
                "train_val, test_data = train_test_split(bank_fraud, test_size = 0.1)\n",
                "train_data, validation_data = train_test_split(train_val, test_size=0.2)"
            ]
        },
        {
            "attachments": {},
            "cell_type": "markdown",
            "metadata": {},
            "source": [
                "# 5. Decision Tree Classifiers"
            ]
        },
        {
            "attachments": {},
            "cell_type": "markdown",
            "metadata": {},
            "source": [
                "Next, we will code a decision tree classifier for the same data. See the documentation for [DecisionTreeClassifier](https://scikit-learn.org/stable/modules/generated/sklearn.tree.DecisionTreeClassifier.html).\n",
                "\n",
                "**Conceptual Question**: Is \"fraudulent bank applications\" the type of classification problem that decision trees are well-suited for? Why or why not?\n",
                "\n",
                "**Answer:** \n"
            ]
        },
        {
            "attachments": {},
            "cell_type": "markdown",
            "metadata": {},
            "source": [
                "Complete the code block below"
            ]
        },
        {
            "cell_type": "code",
            "execution_count": 10,
            "metadata": {},
            "outputs": [
                {
                    "data": {
                        "image/png": "[encoded data removed]",
                        "text/plain": [
                            "<Figure size 900x900 with 2 Axes>"
                        ]
                    },
                    "metadata": {},
                    "output_type": "display_data"
                }
            ],
            "source": [
                "import sklearn\n",
                "\n",
                "# Create the decision tree with max_depth = 4 and random_state = 7\n",
                "# TODO Task 1\n",
                "dt = DecisionTreeClassifier(max_depth=4, random_state=7)\n",
                "\n",
                "#Fit the training data to decision tree\n",
                "# TODO Task 2\n",
                "dt.fit(train_data[features], train_data[target])\n",
                "\n",
                "# Let's see and visualize how our predictions look\n",
                "dt_y_pred = dt.predict(validation_data[features])\n",
                "dt_score = dt.score(validation_data[features], validation_data[target])\n",
                "visualize_confusion_matrix(validation_data[target], dt_y_pred, dt_score)"
            ]
        },
        {
            "attachments": {},
            "cell_type": "markdown",
            "metadata": {},
            "source": [
                "**Discussion:** Now, try to alter the max depth of the tree. What do you see?\n",
                "\n",
                "**Answer:**\n",
                "\n",
                "Now, let's visualize the tree we are making. Note that if you alter the `max_depth` in code below, you will need to save the image to view it in full."
            ]
        },
        {
            "cell_type": "code",
            "execution_count": 11,
            "metadata": {},
            "outputs": [
                {
                    "ename": "ExecutableNotFound",
                    "evalue": "failed to execute WindowsPath('dot'), make sure the Graphviz executables are on your systems' PATH",
                    "output_type": "error",
                    "traceback": [
                        "\u001b[1;31m---------------------------------------------------------------------------\u001b[0m",
                        "\u001b[1;31mFileNotFoundError\u001b[0m                         Traceback (most recent call last)",
                        "File \u001b[1;32mc:\\Users\\achar\\AppData\\Local\\Programs\\Python\\Python312\\Lib\\site-packages\\graphviz\\backend\\execute.py:76\u001b[0m, in \u001b[0;36mrun_check\u001b[1;34m(cmd, input_lines, encoding, quiet, **kwargs)\u001b[0m\n\u001b[0;32m     75\u001b[0m         kwargs[\u001b[38;5;124m'\u001b[39m\u001b[38;5;124mstdout\u001b[39m\u001b[38;5;124m'\u001b[39m] \u001b[38;5;241m=\u001b[39m kwargs[\u001b[38;5;124m'\u001b[39m\u001b[38;5;124mstderr\u001b[39m\u001b[38;5;124m'\u001b[39m] \u001b[38;5;241m=\u001b[39m subprocess\u001b[38;5;241m.\u001b[39mPIPE\n\u001b[1;32m---> 76\u001b[0m     proc \u001b[38;5;241m=\u001b[39m \u001b[43m_run_input_lines\u001b[49m\u001b[43m(\u001b[49m\u001b[43mcmd\u001b[49m\u001b[43m,\u001b[49m\u001b[43m \u001b[49m\u001b[43minput_lines\u001b[49m\u001b[43m,\u001b[49m\u001b[43m \u001b[49m\u001b[43mkwargs\u001b[49m\u001b[38;5;241;43m=\u001b[39;49m\u001b[43mkwargs\u001b[49m\u001b[43m)\u001b[49m\n\u001b[0;32m     77\u001b[0m \u001b[38;5;28;01melse\u001b[39;00m:\n",
                        "File \u001b[1;32mc:\\Users\\achar\\AppData\\Local\\Programs\\Python\\Python312\\Lib\\site-packages\\graphviz\\backend\\execute.py:96\u001b[0m, in \u001b[0;36m_run_input_lines\u001b[1;34m(cmd, input_lines, kwargs)\u001b[0m\n\u001b[0;32m     95\u001b[0m \u001b[38;5;28;01mdef\u001b[39;00m \u001b[38;5;21m_run_input_lines\u001b[39m(cmd, input_lines, \u001b[38;5;241m*\u001b[39m, kwargs):\n\u001b[1;32m---> 96\u001b[0m     popen \u001b[38;5;241m=\u001b[39m \u001b[43msubprocess\u001b[49m\u001b[38;5;241;43m.\u001b[39;49m\u001b[43mPopen\u001b[49m\u001b[43m(\u001b[49m\u001b[43mcmd\u001b[49m\u001b[43m,\u001b[49m\u001b[43m \u001b[49m\u001b[43mstdin\u001b[49m\u001b[38;5;241;43m=\u001b[39;49m\u001b[43msubprocess\u001b[49m\u001b[38;5;241;43m.\u001b[39;49m\u001b[43mPIPE\u001b[49m\u001b[43m,\u001b[49m\u001b[43m \u001b[49m\u001b[38;5;241;43m*\u001b[39;49m\u001b[38;5;241;43m*\u001b[39;49m\u001b[43mkwargs\u001b[49m\u001b[43m)\u001b[49m\n\u001b[0;32m     98\u001b[0m     stdin_write \u001b[38;5;241m=\u001b[39m popen\u001b[38;5;241m.\u001b[39mstdin\u001b[38;5;241m.\u001b[39mwrite\n",
                        "File \u001b[1;32mc:\\Users\\achar\\AppData\\Local\\Programs\\Python\\Python312\\Lib\\subprocess.py:1026\u001b[0m, in \u001b[0;36mPopen.__init__\u001b[1;34m(self, args, bufsize, executable, stdin, stdout, stderr, preexec_fn, close_fds, shell, cwd, env, universal_newlines, startupinfo, creationflags, restore_signals, start_new_session, pass_fds, user, group, extra_groups, encoding, errors, text, umask, pipesize, process_group)\u001b[0m\n\u001b[0;32m   1023\u001b[0m             \u001b[38;5;28mself\u001b[39m\u001b[38;5;241m.\u001b[39mstderr \u001b[38;5;241m=\u001b[39m io\u001b[38;5;241m.\u001b[39mTextIOWrapper(\u001b[38;5;28mself\u001b[39m\u001b[38;5;241m.\u001b[39mstderr,\n\u001b[0;32m   1024\u001b[0m                     encoding\u001b[38;5;241m=\u001b[39mencoding, errors\u001b[38;5;241m=\u001b[39merrors)\n\u001b[1;32m-> 1026\u001b[0m     \u001b[38;5;28;43mself\u001b[39;49m\u001b[38;5;241;43m.\u001b[39;49m\u001b[43m_execute_child\u001b[49m\u001b[43m(\u001b[49m\u001b[43margs\u001b[49m\u001b[43m,\u001b[49m\u001b[43m \u001b[49m\u001b[43mexecutable\u001b[49m\u001b[43m,\u001b[49m\u001b[43m \u001b[49m\u001b[43mpreexec_fn\u001b[49m\u001b[43m,\u001b[49m\u001b[43m \u001b[49m\u001b[43mclose_fds\u001b[49m\u001b[43m,\u001b[49m\n\u001b[0;32m   1027\u001b[0m \u001b[43m                        \u001b[49m\u001b[43mpass_fds\u001b[49m\u001b[43m,\u001b[49m\u001b[43m \u001b[49m\u001b[43mcwd\u001b[49m\u001b[43m,\u001b[49m\u001b[43m \u001b[49m\u001b[43menv\u001b[49m\u001b[43m,\u001b[49m\n\u001b[0;32m   1028\u001b[0m \u001b[43m                        \u001b[49m\u001b[43mstartupinfo\u001b[49m\u001b[43m,\u001b[49m\u001b[43m \u001b[49m\u001b[43mcreationflags\u001b[49m\u001b[43m,\u001b[49m\u001b[43m \u001b[49m\u001b[43mshell\u001b[49m\u001b[43m,\u001b[49m\n\u001b[0;32m   1029\u001b[0m \u001b[43m                        \u001b[49m\u001b[43mp2cread\u001b[49m\u001b[43m,\u001b[49m\u001b[43m \u001b[49m\u001b[43mp2cwrite\u001b[49m\u001b[43m,\u001b[49m\n\u001b[0;32m   1030\u001b[0m \u001b[43m                        \u001b[49m\u001b[43mc2pread\u001b[49m\u001b[43m,\u001b[49m\u001b[43m \u001b[49m\u001b[43mc2pwrite\u001b[49m\u001b[43m,\u001b[49m\n\u001b[0;32m   1031\u001b[0m \u001b[43m                        \u001b[49m\u001b[43merrread\u001b[49m\u001b[43m,\u001b[49m\u001b[43m \u001b[49m\u001b[43merrwrite\u001b[49m\u001b[43m,\u001b[49m\n\u001b[0;32m   1032\u001b[0m \u001b[43m                        \u001b[49m\u001b[43mrestore_signals\u001b[49m\u001b[43m,\u001b[49m\n\u001b[0;32m   1033\u001b[0m \u001b[43m                        \u001b[49m\u001b[43mgid\u001b[49m\u001b[43m,\u001b[49m\u001b[43m \u001b[49m\u001b[43mgids\u001b[49m\u001b[43m,\u001b[49m\u001b[43m \u001b[49m\u001b[43muid\u001b[49m\u001b[43m,\u001b[49m\u001b[43m \u001b[49m\u001b[43mumask\u001b[49m\u001b[43m,\u001b[49m\n\u001b[0;32m   1034\u001b[0m \u001b[43m                        \u001b[49m\u001b[43mstart_new_session\u001b[49m\u001b[43m,\u001b[49m\u001b[43m \u001b[49m\u001b[43mprocess_group\u001b[49m\u001b[43m)\u001b[49m\n\u001b[0;32m   1035\u001b[0m \u001b[38;5;28;01mexcept\u001b[39;00m:\n\u001b[0;32m   1036\u001b[0m     \u001b[38;5;66;03m# Cleanup if the child failed starting.\u001b[39;00m\n",
                        "File \u001b[1;32mc:\\Users\\achar\\AppData\\Local\\Programs\\Python\\Python312\\Lib\\subprocess.py:1538\u001b[0m, in \u001b[0;36mPopen._execute_child\u001b[1;34m(self, args, executable, preexec_fn, close_fds, pass_fds, cwd, env, startupinfo, creationflags, shell, p2cread, p2cwrite, c2pread, c2pwrite, errread, errwrite, unused_restore_signals, unused_gid, unused_gids, unused_uid, unused_umask, unused_start_new_session, unused_process_group)\u001b[0m\n\u001b[0;32m   1537\u001b[0m \u001b[38;5;28;01mtry\u001b[39;00m:\n\u001b[1;32m-> 1538\u001b[0m     hp, ht, pid, tid \u001b[38;5;241m=\u001b[39m \u001b[43m_winapi\u001b[49m\u001b[38;5;241;43m.\u001b[39;49m\u001b[43mCreateProcess\u001b[49m\u001b[43m(\u001b[49m\u001b[43mexecutable\u001b[49m\u001b[43m,\u001b[49m\u001b[43m \u001b[49m\u001b[43margs\u001b[49m\u001b[43m,\u001b[49m\n\u001b[0;32m   1539\u001b[0m \u001b[43m                             \u001b[49m\u001b[38;5;66;43;03m# no special security\u001b[39;49;00m\n\u001b[0;32m   1540\u001b[0m \u001b[43m                             \u001b[49m\u001b[38;5;28;43;01mNone\u001b[39;49;00m\u001b[43m,\u001b[49m\u001b[43m \u001b[49m\u001b[38;5;28;43;01mNone\u001b[39;49;00m\u001b[43m,\u001b[49m\n\u001b[0;32m   1541\u001b[0m \u001b[43m                             \u001b[49m\u001b[38;5;28;43mint\u001b[39;49m\u001b[43m(\u001b[49m\u001b[38;5;129;43;01mnot\u001b[39;49;00m\u001b[43m \u001b[49m\u001b[43mclose_fds\u001b[49m\u001b[43m)\u001b[49m\u001b[43m,\u001b[49m\n\u001b[0;32m   1542\u001b[0m \u001b[43m                             \u001b[49m\u001b[43mcreationflags\u001b[49m\u001b[43m,\u001b[49m\n\u001b[0;32m   1543\u001b[0m \u001b[43m                             \u001b[49m\u001b[43menv\u001b[49m\u001b[43m,\u001b[49m\n\u001b[0;32m   1544\u001b[0m \u001b[43m                             \u001b[49m\u001b[43mcwd\u001b[49m\u001b[43m,\u001b[49m\n\u001b[0;32m   1545\u001b[0m \u001b[43m                             \u001b[49m\u001b[43mstartupinfo\u001b[49m\u001b[43m)\u001b[49m\n\u001b[0;32m   1546\u001b[0m \u001b[38;5;28;01mfinally\u001b[39;00m:\n\u001b[0;32m   1547\u001b[0m     \u001b[38;5;66;03m# Child is launched. Close the parent's copy of those pipe\u001b[39;00m\n\u001b[0;32m   1548\u001b[0m     \u001b[38;5;66;03m# handles that only the child should have open.  You need\u001b[39;00m\n\u001b[1;32m   (...)\u001b[0m\n\u001b[0;32m   1551\u001b[0m     \u001b[38;5;66;03m# pipe will not close when the child process exits and the\u001b[39;00m\n\u001b[0;32m   1552\u001b[0m     \u001b[38;5;66;03m# ReadFile will hang.\u001b[39;00m\n",
                        "\u001b[1;31mFileNotFoundError\u001b[0m: [WinError 2] The system cannot find the file specified",
                        "\nThe above exception was the direct cause of the following exception:\n",
                        "\u001b[1;31mExecutableNotFound\u001b[0m                        Traceback (most recent call last)",
                        "File \u001b[1;32m~\\AppData\\Roaming\\Python\\Python312\\site-packages\\IPython\\core\\formatters.py:977\u001b[0m, in \u001b[0;36mMimeBundleFormatter.__call__\u001b[1;34m(self, obj, include, exclude)\u001b[0m\n\u001b[0;32m    974\u001b[0m     method \u001b[38;5;241m=\u001b[39m get_real_method(obj, \u001b[38;5;28mself\u001b[39m\u001b[38;5;241m.\u001b[39mprint_method)\n\u001b[0;32m    976\u001b[0m     \u001b[38;5;28;01mif\u001b[39;00m method \u001b[38;5;129;01mis\u001b[39;00m \u001b[38;5;129;01mnot\u001b[39;00m \u001b[38;5;28;01mNone\u001b[39;00m:\n\u001b[1;32m--> 977\u001b[0m         \u001b[38;5;28;01mreturn\u001b[39;00m \u001b[43mmethod\u001b[49m\u001b[43m(\u001b[49m\u001b[43minclude\u001b[49m\u001b[38;5;241;43m=\u001b[39;49m\u001b[43minclude\u001b[49m\u001b[43m,\u001b[49m\u001b[43m \u001b[49m\u001b[43mexclude\u001b[49m\u001b[38;5;241;43m=\u001b[39;49m\u001b[43mexclude\u001b[49m\u001b[43m)\u001b[49m\n\u001b[0;32m    978\u001b[0m     \u001b[38;5;28;01mreturn\u001b[39;00m \u001b[38;5;28;01mNone\u001b[39;00m\n\u001b[0;32m    979\u001b[0m \u001b[38;5;28;01melse\u001b[39;00m:\n",
                        "File \u001b[1;32mc:\\Users\\achar\\AppData\\Local\\Programs\\Python\\Python312\\Lib\\site-packages\\graphviz\\jupyter_integration.py:98\u001b[0m, in \u001b[0;36mJupyterIntegration._repr_mimebundle_\u001b[1;34m(self, include, exclude, **_)\u001b[0m\n\u001b[0;32m     96\u001b[0m include \u001b[38;5;241m=\u001b[39m \u001b[38;5;28mset\u001b[39m(include) \u001b[38;5;28;01mif\u001b[39;00m include \u001b[38;5;129;01mis\u001b[39;00m \u001b[38;5;129;01mnot\u001b[39;00m \u001b[38;5;28;01mNone\u001b[39;00m \u001b[38;5;28;01melse\u001b[39;00m {\u001b[38;5;28mself\u001b[39m\u001b[38;5;241m.\u001b[39m_jupyter_mimetype}\n\u001b[0;32m     97\u001b[0m include \u001b[38;5;241m-\u001b[39m\u001b[38;5;241m=\u001b[39m \u001b[38;5;28mset\u001b[39m(exclude \u001b[38;5;129;01mor\u001b[39;00m [])\n\u001b[1;32m---> 98\u001b[0m \u001b[38;5;28;01mreturn\u001b[39;00m {mimetype: \u001b[38;5;28;43mgetattr\u001b[39;49m\u001b[43m(\u001b[49m\u001b[38;5;28;43mself\u001b[39;49m\u001b[43m,\u001b[49m\u001b[43m \u001b[49m\u001b[43mmethod_name\u001b[49m\u001b[43m)\u001b[49m\u001b[43m(\u001b[49m\u001b[43m)\u001b[49m\n\u001b[0;32m     99\u001b[0m         \u001b[38;5;28;01mfor\u001b[39;00m mimetype, method_name \u001b[38;5;129;01min\u001b[39;00m MIME_TYPES\u001b[38;5;241m.\u001b[39mitems()\n\u001b[0;32m    100\u001b[0m         \u001b[38;5;28;01mif\u001b[39;00m mimetype \u001b[38;5;129;01min\u001b[39;00m include}\n",
                        "File \u001b[1;32mc:\\Users\\achar\\AppData\\Local\\Programs\\Python\\Python312\\Lib\\site-packages\\graphviz\\jupyter_integration.py:112\u001b[0m, in \u001b[0;36mJupyterIntegration._repr_image_svg_xml\u001b[1;34m(self)\u001b[0m\n\u001b[0;32m    110\u001b[0m \u001b[38;5;28;01mdef\u001b[39;00m \u001b[38;5;21m_repr_image_svg_xml\u001b[39m(\u001b[38;5;28mself\u001b[39m) \u001b[38;5;241m-\u001b[39m\u001b[38;5;241m>\u001b[39m \u001b[38;5;28mstr\u001b[39m:\n\u001b[0;32m    111\u001b[0m \u001b[38;5;250m    \u001b[39m\u001b[38;5;124;03m\"\"\"Return the rendered graph as SVG string.\"\"\"\u001b[39;00m\n\u001b[1;32m--> 112\u001b[0m     \u001b[38;5;28;01mreturn\u001b[39;00m \u001b[38;5;28;43mself\u001b[39;49m\u001b[38;5;241;43m.\u001b[39;49m\u001b[43mpipe\u001b[49m\u001b[43m(\u001b[49m\u001b[38;5;28;43mformat\u001b[39;49m\u001b[38;5;241;43m=\u001b[39;49m\u001b[38;5;124;43m'\u001b[39;49m\u001b[38;5;124;43msvg\u001b[39;49m\u001b[38;5;124;43m'\u001b[39;49m\u001b[43m,\u001b[49m\u001b[43m \u001b[49m\u001b[43mencoding\u001b[49m\u001b[38;5;241;43m=\u001b[39;49m\u001b[43mSVG_ENCODING\u001b[49m\u001b[43m)\u001b[49m\n",
                        "File \u001b[1;32mc:\\Users\\achar\\AppData\\Local\\Programs\\Python\\Python312\\Lib\\site-packages\\graphviz\\piping.py:104\u001b[0m, in \u001b[0;36mPipe.pipe\u001b[1;34m(self, format, renderer, formatter, neato_no_op, quiet, engine, encoding)\u001b[0m\n\u001b[0;32m     55\u001b[0m \u001b[38;5;28;01mdef\u001b[39;00m \u001b[38;5;21mpipe\u001b[39m(\u001b[38;5;28mself\u001b[39m,\n\u001b[0;32m     56\u001b[0m          \u001b[38;5;28mformat\u001b[39m: typing\u001b[38;5;241m.\u001b[39mOptional[\u001b[38;5;28mstr\u001b[39m] \u001b[38;5;241m=\u001b[39m \u001b[38;5;28;01mNone\u001b[39;00m,\n\u001b[0;32m     57\u001b[0m          renderer: typing\u001b[38;5;241m.\u001b[39mOptional[\u001b[38;5;28mstr\u001b[39m] \u001b[38;5;241m=\u001b[39m \u001b[38;5;28;01mNone\u001b[39;00m,\n\u001b[1;32m   (...)\u001b[0m\n\u001b[0;32m     61\u001b[0m          engine: typing\u001b[38;5;241m.\u001b[39mOptional[\u001b[38;5;28mstr\u001b[39m] \u001b[38;5;241m=\u001b[39m \u001b[38;5;28;01mNone\u001b[39;00m,\n\u001b[0;32m     62\u001b[0m          encoding: typing\u001b[38;5;241m.\u001b[39mOptional[\u001b[38;5;28mstr\u001b[39m] \u001b[38;5;241m=\u001b[39m \u001b[38;5;28;01mNone\u001b[39;00m) \u001b[38;5;241m-\u001b[39m\u001b[38;5;241m>\u001b[39m typing\u001b[38;5;241m.\u001b[39mUnion[\u001b[38;5;28mbytes\u001b[39m, \u001b[38;5;28mstr\u001b[39m]:\n\u001b[0;32m     63\u001b[0m \u001b[38;5;250m    \u001b[39m\u001b[38;5;124;03m\"\"\"Return the source piped through the Graphviz layout command.\u001b[39;00m\n\u001b[0;32m     64\u001b[0m \n\u001b[0;32m     65\u001b[0m \u001b[38;5;124;03m    Args:\u001b[39;00m\n\u001b[1;32m   (...)\u001b[0m\n\u001b[0;32m    102\u001b[0m \u001b[38;5;124;03m        '<?xml version='\u001b[39;00m\n\u001b[0;32m    103\u001b[0m \u001b[38;5;124;03m    \"\"\"\u001b[39;00m\n\u001b[1;32m--> 104\u001b[0m     \u001b[38;5;28;01mreturn\u001b[39;00m \u001b[38;5;28;43mself\u001b[39;49m\u001b[38;5;241;43m.\u001b[39;49m\u001b[43m_pipe_legacy\u001b[49m\u001b[43m(\u001b[49m\u001b[38;5;28;43mformat\u001b[39;49m\u001b[43m,\u001b[49m\n\u001b[0;32m    105\u001b[0m \u001b[43m                             \u001b[49m\u001b[43mrenderer\u001b[49m\u001b[38;5;241;43m=\u001b[39;49m\u001b[43mrenderer\u001b[49m\u001b[43m,\u001b[49m\n\u001b[0;32m    106\u001b[0m \u001b[43m                             \u001b[49m\u001b[43mformatter\u001b[49m\u001b[38;5;241;43m=\u001b[39;49m\u001b[43mformatter\u001b[49m\u001b[43m,\u001b[49m\n\u001b[0;32m    107\u001b[0m \u001b[43m                             \u001b[49m\u001b[43mneato_no_op\u001b[49m\u001b[38;5;241;43m=\u001b[39;49m\u001b[43mneato_no_op\u001b[49m\u001b[43m,\u001b[49m\n\u001b[0;32m    108\u001b[0m \u001b[43m                             \u001b[49m\u001b[43mquiet\u001b[49m\u001b[38;5;241;43m=\u001b[39;49m\u001b[43mquiet\u001b[49m\u001b[43m,\u001b[49m\n\u001b[0;32m    109\u001b[0m \u001b[43m                             \u001b[49m\u001b[43mengine\u001b[49m\u001b[38;5;241;43m=\u001b[39;49m\u001b[43mengine\u001b[49m\u001b[43m,\u001b[49m\n\u001b[0;32m    110\u001b[0m \u001b[43m                             \u001b[49m\u001b[43mencoding\u001b[49m\u001b[38;5;241;43m=\u001b[39;49m\u001b[43mencoding\u001b[49m\u001b[43m)\u001b[49m\n",
                        "File \u001b[1;32mc:\\Users\\achar\\AppData\\Local\\Programs\\Python\\Python312\\Lib\\site-packages\\graphviz\\_tools.py:171\u001b[0m, in \u001b[0;36mdeprecate_positional_args.<locals>.decorator.<locals>.wrapper\u001b[1;34m(*args, **kwargs)\u001b[0m\n\u001b[0;32m    162\u001b[0m     wanted \u001b[38;5;241m=\u001b[39m \u001b[38;5;124m'\u001b[39m\u001b[38;5;124m, \u001b[39m\u001b[38;5;124m'\u001b[39m\u001b[38;5;241m.\u001b[39mjoin(\u001b[38;5;124mf\u001b[39m\u001b[38;5;124m'\u001b[39m\u001b[38;5;132;01m{\u001b[39;00mname\u001b[38;5;132;01m}\u001b[39;00m\u001b[38;5;124m=\u001b[39m\u001b[38;5;132;01m{\u001b[39;00mvalue\u001b[38;5;132;01m!r}\u001b[39;00m\u001b[38;5;124m'\u001b[39m\n\u001b[0;32m    163\u001b[0m                        \u001b[38;5;28;01mfor\u001b[39;00m name, value \u001b[38;5;129;01min\u001b[39;00m deprecated\u001b[38;5;241m.\u001b[39mitems())\n\u001b[0;32m    164\u001b[0m     warnings\u001b[38;5;241m.\u001b[39mwarn(\u001b[38;5;124mf\u001b[39m\u001b[38;5;124m'\u001b[39m\u001b[38;5;124mThe signature of \u001b[39m\u001b[38;5;132;01m{\u001b[39;00mfunc\u001b[38;5;241m.\u001b[39m\u001b[38;5;18m__name__\u001b[39m\u001b[38;5;132;01m}\u001b[39;00m\u001b[38;5;124m will be reduced\u001b[39m\u001b[38;5;124m'\u001b[39m\n\u001b[0;32m    165\u001b[0m                   \u001b[38;5;124mf\u001b[39m\u001b[38;5;124m'\u001b[39m\u001b[38;5;124m to \u001b[39m\u001b[38;5;132;01m{\u001b[39;00msupported_number\u001b[38;5;132;01m}\u001b[39;00m\u001b[38;5;124m positional args\u001b[39m\u001b[38;5;124m'\u001b[39m\n\u001b[0;32m    166\u001b[0m                   \u001b[38;5;124mf\u001b[39m\u001b[38;5;124m'\u001b[39m\u001b[38;5;124m \u001b[39m\u001b[38;5;132;01m{\u001b[39;00m\u001b[38;5;28mlist\u001b[39m(supported)\u001b[38;5;132;01m}\u001b[39;00m\u001b[38;5;124m: pass \u001b[39m\u001b[38;5;132;01m{\u001b[39;00mwanted\u001b[38;5;132;01m}\u001b[39;00m\u001b[38;5;124m'\u001b[39m\n\u001b[0;32m    167\u001b[0m                   \u001b[38;5;124m'\u001b[39m\u001b[38;5;124m as keyword arg(s)\u001b[39m\u001b[38;5;124m'\u001b[39m,\n\u001b[0;32m    168\u001b[0m                   stacklevel\u001b[38;5;241m=\u001b[39mstacklevel,\n\u001b[0;32m    169\u001b[0m                   category\u001b[38;5;241m=\u001b[39mcategory)\n\u001b[1;32m--> 171\u001b[0m \u001b[38;5;28;01mreturn\u001b[39;00m \u001b[43mfunc\u001b[49m\u001b[43m(\u001b[49m\u001b[38;5;241;43m*\u001b[39;49m\u001b[43margs\u001b[49m\u001b[43m,\u001b[49m\u001b[43m \u001b[49m\u001b[38;5;241;43m*\u001b[39;49m\u001b[38;5;241;43m*\u001b[39;49m\u001b[43mkwargs\u001b[49m\u001b[43m)\u001b[49m\n",
                        "File \u001b[1;32mc:\\Users\\achar\\AppData\\Local\\Programs\\Python\\Python312\\Lib\\site-packages\\graphviz\\piping.py:121\u001b[0m, in \u001b[0;36mPipe._pipe_legacy\u001b[1;34m(self, format, renderer, formatter, neato_no_op, quiet, engine, encoding)\u001b[0m\n\u001b[0;32m    112\u001b[0m \u001b[38;5;129m@_tools\u001b[39m\u001b[38;5;241m.\u001b[39mdeprecate_positional_args(supported_number\u001b[38;5;241m=\u001b[39m\u001b[38;5;241m2\u001b[39m)\n\u001b[0;32m    113\u001b[0m \u001b[38;5;28;01mdef\u001b[39;00m \u001b[38;5;21m_pipe_legacy\u001b[39m(\u001b[38;5;28mself\u001b[39m,\n\u001b[0;32m    114\u001b[0m                  \u001b[38;5;28mformat\u001b[39m: typing\u001b[38;5;241m.\u001b[39mOptional[\u001b[38;5;28mstr\u001b[39m] \u001b[38;5;241m=\u001b[39m \u001b[38;5;28;01mNone\u001b[39;00m,\n\u001b[1;32m   (...)\u001b[0m\n\u001b[0;32m    119\u001b[0m                  engine: typing\u001b[38;5;241m.\u001b[39mOptional[\u001b[38;5;28mstr\u001b[39m] \u001b[38;5;241m=\u001b[39m \u001b[38;5;28;01mNone\u001b[39;00m,\n\u001b[0;32m    120\u001b[0m                  encoding: typing\u001b[38;5;241m.\u001b[39mOptional[\u001b[38;5;28mstr\u001b[39m] \u001b[38;5;241m=\u001b[39m \u001b[38;5;28;01mNone\u001b[39;00m) \u001b[38;5;241m-\u001b[39m\u001b[38;5;241m>\u001b[39m typing\u001b[38;5;241m.\u001b[39mUnion[\u001b[38;5;28mbytes\u001b[39m, \u001b[38;5;28mstr\u001b[39m]:\n\u001b[1;32m--> 121\u001b[0m     \u001b[38;5;28;01mreturn\u001b[39;00m \u001b[38;5;28;43mself\u001b[39;49m\u001b[38;5;241;43m.\u001b[39;49m\u001b[43m_pipe_future\u001b[49m\u001b[43m(\u001b[49m\u001b[38;5;28;43mformat\u001b[39;49m\u001b[43m,\u001b[49m\n\u001b[0;32m    122\u001b[0m \u001b[43m                             \u001b[49m\u001b[43mrenderer\u001b[49m\u001b[38;5;241;43m=\u001b[39;49m\u001b[43mrenderer\u001b[49m\u001b[43m,\u001b[49m\n\u001b[0;32m    123\u001b[0m \u001b[43m                             \u001b[49m\u001b[43mformatter\u001b[49m\u001b[38;5;241;43m=\u001b[39;49m\u001b[43mformatter\u001b[49m\u001b[43m,\u001b[49m\n\u001b[0;32m    124\u001b[0m \u001b[43m                             \u001b[49m\u001b[43mneato_no_op\u001b[49m\u001b[38;5;241;43m=\u001b[39;49m\u001b[43mneato_no_op\u001b[49m\u001b[43m,\u001b[49m\n\u001b[0;32m    125\u001b[0m \u001b[43m                             \u001b[49m\u001b[43mquiet\u001b[49m\u001b[38;5;241;43m=\u001b[39;49m\u001b[43mquiet\u001b[49m\u001b[43m,\u001b[49m\n\u001b[0;32m    126\u001b[0m \u001b[43m                             \u001b[49m\u001b[43mengine\u001b[49m\u001b[38;5;241;43m=\u001b[39;49m\u001b[43mengine\u001b[49m\u001b[43m,\u001b[49m\n\u001b[0;32m    127\u001b[0m \u001b[43m                             \u001b[49m\u001b[43mencoding\u001b[49m\u001b[38;5;241;43m=\u001b[39;49m\u001b[43mencoding\u001b[49m\u001b[43m)\u001b[49m\n",
                        "File \u001b[1;32mc:\\Users\\achar\\AppData\\Local\\Programs\\Python\\Python312\\Lib\\site-packages\\graphviz\\piping.py:149\u001b[0m, in \u001b[0;36mPipe._pipe_future\u001b[1;34m(self, format, renderer, formatter, neato_no_op, quiet, engine, encoding)\u001b[0m\n\u001b[0;32m    146\u001b[0m \u001b[38;5;28;01mif\u001b[39;00m encoding \u001b[38;5;129;01mis\u001b[39;00m \u001b[38;5;129;01mnot\u001b[39;00m \u001b[38;5;28;01mNone\u001b[39;00m:\n\u001b[0;32m    147\u001b[0m     \u001b[38;5;28;01mif\u001b[39;00m codecs\u001b[38;5;241m.\u001b[39mlookup(encoding) \u001b[38;5;129;01mis\u001b[39;00m codecs\u001b[38;5;241m.\u001b[39mlookup(\u001b[38;5;28mself\u001b[39m\u001b[38;5;241m.\u001b[39mencoding):\n\u001b[0;32m    148\u001b[0m         \u001b[38;5;66;03m# common case: both stdin and stdout need the same encoding\u001b[39;00m\n\u001b[1;32m--> 149\u001b[0m         \u001b[38;5;28;01mreturn\u001b[39;00m \u001b[38;5;28;43mself\u001b[39;49m\u001b[38;5;241;43m.\u001b[39;49m\u001b[43m_pipe_lines_string\u001b[49m\u001b[43m(\u001b[49m\u001b[38;5;241;43m*\u001b[39;49m\u001b[43margs\u001b[49m\u001b[43m,\u001b[49m\u001b[43m \u001b[49m\u001b[43mencoding\u001b[49m\u001b[38;5;241;43m=\u001b[39;49m\u001b[43mencoding\u001b[49m\u001b[43m,\u001b[49m\u001b[43m \u001b[49m\u001b[38;5;241;43m*\u001b[39;49m\u001b[38;5;241;43m*\u001b[39;49m\u001b[43mkwargs\u001b[49m\u001b[43m)\u001b[49m\n\u001b[0;32m    150\u001b[0m     \u001b[38;5;28;01mtry\u001b[39;00m:\n\u001b[0;32m    151\u001b[0m         raw \u001b[38;5;241m=\u001b[39m \u001b[38;5;28mself\u001b[39m\u001b[38;5;241m.\u001b[39m_pipe_lines(\u001b[38;5;241m*\u001b[39margs, input_encoding\u001b[38;5;241m=\u001b[39m\u001b[38;5;28mself\u001b[39m\u001b[38;5;241m.\u001b[39mencoding, \u001b[38;5;241m*\u001b[39m\u001b[38;5;241m*\u001b[39mkwargs)\n",
                        "File \u001b[1;32mc:\\Users\\achar\\AppData\\Local\\Programs\\Python\\Python312\\Lib\\site-packages\\graphviz\\backend\\piping.py:212\u001b[0m, in \u001b[0;36mpipe_lines_string\u001b[1;34m(engine, format, input_lines, encoding, renderer, formatter, neato_no_op, quiet)\u001b[0m\n\u001b[0;32m    206\u001b[0m cmd \u001b[38;5;241m=\u001b[39m dot_command\u001b[38;5;241m.\u001b[39mcommand(engine, \u001b[38;5;28mformat\u001b[39m,\n\u001b[0;32m    207\u001b[0m                           renderer\u001b[38;5;241m=\u001b[39mrenderer,\n\u001b[0;32m    208\u001b[0m                           formatter\u001b[38;5;241m=\u001b[39mformatter,\n\u001b[0;32m    209\u001b[0m                           neato_no_op\u001b[38;5;241m=\u001b[39mneato_no_op)\n\u001b[0;32m    210\u001b[0m kwargs \u001b[38;5;241m=\u001b[39m {\u001b[38;5;124m'\u001b[39m\u001b[38;5;124minput_lines\u001b[39m\u001b[38;5;124m'\u001b[39m: input_lines, \u001b[38;5;124m'\u001b[39m\u001b[38;5;124mencoding\u001b[39m\u001b[38;5;124m'\u001b[39m: encoding}\n\u001b[1;32m--> 212\u001b[0m proc \u001b[38;5;241m=\u001b[39m \u001b[43mexecute\u001b[49m\u001b[38;5;241;43m.\u001b[39;49m\u001b[43mrun_check\u001b[49m\u001b[43m(\u001b[49m\u001b[43mcmd\u001b[49m\u001b[43m,\u001b[49m\u001b[43m \u001b[49m\u001b[43mcapture_output\u001b[49m\u001b[38;5;241;43m=\u001b[39;49m\u001b[38;5;28;43;01mTrue\u001b[39;49;00m\u001b[43m,\u001b[49m\u001b[43m \u001b[49m\u001b[43mquiet\u001b[49m\u001b[38;5;241;43m=\u001b[39;49m\u001b[43mquiet\u001b[49m\u001b[43m,\u001b[49m\u001b[43m \u001b[49m\u001b[38;5;241;43m*\u001b[39;49m\u001b[38;5;241;43m*\u001b[39;49m\u001b[43mkwargs\u001b[49m\u001b[43m)\u001b[49m\n\u001b[0;32m    213\u001b[0m \u001b[38;5;28;01mreturn\u001b[39;00m proc\u001b[38;5;241m.\u001b[39mstdout\n",
                        "File \u001b[1;32mc:\\Users\\achar\\AppData\\Local\\Programs\\Python\\Python312\\Lib\\site-packages\\graphviz\\backend\\execute.py:81\u001b[0m, in \u001b[0;36mrun_check\u001b[1;34m(cmd, input_lines, encoding, quiet, **kwargs)\u001b[0m\n\u001b[0;32m     79\u001b[0m \u001b[38;5;28;01mexcept\u001b[39;00m \u001b[38;5;167;01mOSError\u001b[39;00m \u001b[38;5;28;01mas\u001b[39;00m e:\n\u001b[0;32m     80\u001b[0m     \u001b[38;5;28;01mif\u001b[39;00m e\u001b[38;5;241m.\u001b[39merrno \u001b[38;5;241m==\u001b[39m errno\u001b[38;5;241m.\u001b[39mENOENT:\n\u001b[1;32m---> 81\u001b[0m         \u001b[38;5;28;01mraise\u001b[39;00m ExecutableNotFound(cmd) \u001b[38;5;28;01mfrom\u001b[39;00m \u001b[38;5;21;01me\u001b[39;00m\n\u001b[0;32m     82\u001b[0m     \u001b[38;5;28;01mraise\u001b[39;00m\n\u001b[0;32m     84\u001b[0m \u001b[38;5;28;01mif\u001b[39;00m \u001b[38;5;129;01mnot\u001b[39;00m quiet \u001b[38;5;129;01mand\u001b[39;00m proc\u001b[38;5;241m.\u001b[39mstderr:\n",
                        "\u001b[1;31mExecutableNotFound\u001b[0m: failed to execute WindowsPath('dot'), make sure the Graphviz executables are on your systems' PATH"
                    ]
                },
                {
                    "data": {
                        "text/plain": [
                            "<graphviz.sources.Source at 0x1bc3bb571a0>"
                        ]
                    },
                    "metadata": {},
                    "output_type": "display_data"
                }
            ],
            "source": [
                "import graphviz\n",
                "from sklearn import tree\n",
                "\n",
                "\n",
                "def draw_tree(tree_model, features):\n",
                "    \"\"\"\n",
                "    visualizes a Decision Tree\n",
                "    \"\"\"\n",
                "    tree_data = tree.export_graphviz(tree_model, \n",
                "                                    impurity=False, \n",
                "                                    feature_names=features,\n",
                "                                    class_names=tree_model.classes_.astype(str),\n",
                "                                    filled=True,\n",
                "                                    out_file=None)\n",
                "    graph = graphviz.Source(tree_data) \n",
                "    display(graph)\n",
                "    \n",
                "small_tree_model = DecisionTreeClassifier(max_depth=2, random_state=0)\n",
                "small_tree_model.fit(train_data[features], train_data[target])\n",
                "draw_tree(small_tree_model, features)"
            ]
        },
        {
            "attachments": {},
            "cell_type": "markdown",
            "metadata": {},
            "source": [
                "# 6. Implementing a Majority Class Classifier"
            ]
        },
        {
            "attachments": {},
            "cell_type": "markdown",
            "metadata": {},
            "source": [
                "Now, we will have you create your own classifier. You will fill in the code below for a Majority Class Classifier. Remember a majority class classifier is simply where every point in the class is assigned to the majority of the training set."
            ]
        },
        {
            "cell_type": "code",
            "execution_count": 12,
            "metadata": {},
            "outputs": [],
            "source": [
                "# implement a class\n",
                "class MajorityClassClassifier:\n",
                "    # *NOTE: we can assume we are recieving numpy arrays\n",
                "    #        for our x and y parameters*\n",
                "\n",
                "    def __init__(self):\n",
                "        # input: none\n",
                "        # output: none\n",
                "\n",
                "        # task 3: create a private variable to keep track of\n",
                "        #         the majority label\n",
                "        self._majority_label = None \n",
                "\n",
                "    def fit(self, x, y):\n",
                "        # input: target and label data\n",
                "        # output: none\n",
                "        # Hint: see optional parameters for https://numpy.org/doc/stable/reference/generated/numpy.unique.html\n",
                "        # task 4: find the majority label\n",
                "        vals, counts = np.unique(x, return_counts=True)\n",
                "        index = np.argmax(counts)\n",
                "        self._majority_label = vals[index]\n",
                "        \n",
                "\n",
                "    def predict(self, x):\n",
                "        # input: target data\n",
                "        # output: predicted results\n",
                "\n",
                "        # task 5: predict using the majority label\n",
                "        if self._majority_label is None:\n",
                "            return None\n",
                "        else:\n",
                "            return np.array([self._majority_label for i in x])\n",
                "\n",
                "    def score(self, x, y):\n",
                "        # input: target and label data\n",
                "        # output: accuracy score of our classifier\n",
                "\n",
                "        # task 6: give the accuracy score on the data\n",
                "        majority = y[y == self._majority_label]\n",
                "        return len(majority) / len(y)\n",
                "        \n",
                "        "
            ]
        },
        {
            "attachments": {},
            "cell_type": "markdown",
            "metadata": {},
            "source": [
                "# 6. Using our implemented class"
            ]
        },
        {
            "cell_type": "code",
            "execution_count": 13,
            "metadata": {},
            "outputs": [
                {
                    "name": "stdout",
                    "output_type": "stream",
                    "text": [
                        "0.0\n"
                    ]
                },
                {
                    "data": {
                        "image/png": "[encoded data removed]",
                        "text/plain": [
                            "<Figure size 900x900 with 2 Axes>"
                        ]
                    },
                    "metadata": {},
                    "output_type": "display_data"
                }
            ],
            "source": [
                "# task 7: create your majority class classifier model\n",
                "mcc = MajorityClassClassifier()\n",
                "\n",
                "# task 8: fit the data to the model\n",
                "mcc.fit(train_data[features], train_data[target])\n",
                "# task 9: print the testing score from using our implemented class\n",
                "mcc_score = mcc.score(test_data[features], test_data[target])\n",
                "print(mcc_score)\n",
                "# task 10: predict on x_test and save it to mc_y_pred\n",
                "mc_y_pred = mcc.predict(test_data[target])\n",
                "# task 11: visualize the confusion matrix\n",
                "visualize_confusion_matrix(test_data[target], mc_y_pred, mcc_score)"
            ]
        },
        {
            "attachments": {},
            "cell_type": "markdown",
            "metadata": {},
            "source": [
                "**Conceptual Question**: Why is the Majority Class Classifier accuracy so high? \n",
                "\n",
                "**Answer:**\n"
            ]
        },
        {
            "attachments": {},
            "cell_type": "markdown",
            "metadata": {},
            "source": [
                "Below are additional resources for the content covered in this section.\n",
                "\n",
                "* [Dummy Classifier Documentation](https://scikit-learn.org/stable/modules/generated/sklearn.dummy.DummyClassifier.html)\n",
                "\n",
                "Further is more Documentation for GridSearch\n",
                "* [What is Grid Search?](https://medium.com/fintechexplained/what-is-grid-search-c01fe886ef0a#:~:text=Grid%20search%20is%20a%20tuning,us%20time%2C%20effort%20and%20resources.)\n",
                "* [Grid Search for model tuning](https://towardsdatascience.com/grid-search-for-model-tuning-3319b259367e)\n"
            ]
        }
    ],
    "metadata": {
        "kernelspec": {
            "display_name": "Python 3 (ipykernel)",
            "language": "python",
            "name": "python3"
        },
        "language_info": {
            "codemirror_mode": {
                "name": "ipython",
                "version": 3
            },
            "file_extension": ".py",
            "mimetype": "text/x-python",
            "name": "python",
            "nbconvert_exporter": "python",
            "pygments_lexer": "ipython3",
            "version": "3.12.4"
        }
    },
    "nbformat": 4,
    "nbformat_minor": 2
}
