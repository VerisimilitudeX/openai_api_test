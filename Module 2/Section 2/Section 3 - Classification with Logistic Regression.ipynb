{
    "cells": [
        {
            "attachments": {},
            "cell_type": "markdown",
            "metadata": {},
            "source": [
                "# 1. Setting up"
            ]
        },
        {
            "attachments": {},
            "cell_type": "markdown",
            "metadata": {},
            "source": [
                "Import all required modules"
            ]
        },
        {
            "cell_type": "code",
            "execution_count": 1,
            "metadata": {},
            "outputs": [
                {
                    "ename": "ModuleNotFoundError",
                    "evalue": "No module named 'seaborn'",
                    "output_type": "error",
                    "traceback": [
                        "\u001b[1;31m---------------------------------------------------------------------------\u001b[0m",
                        "\u001b[1;31mModuleNotFoundError\u001b[0m                       Traceback (most recent call last)",
                        "Cell \u001b[1;32mIn[1], line 4\u001b[0m\n\u001b[0;32m      2\u001b[0m \u001b[38;5;28;01mimport\u001b[39;00m \u001b[38;5;21;01mpandas\u001b[39;00m \u001b[38;5;28;01mas\u001b[39;00m \u001b[38;5;21;01mpd\u001b[39;00m\n\u001b[0;32m      3\u001b[0m \u001b[38;5;28;01mimport\u001b[39;00m \u001b[38;5;21;01mmatplotlib\u001b[39;00m\u001b[38;5;21;01m.\u001b[39;00m\u001b[38;5;21;01mpyplot\u001b[39;00m \u001b[38;5;28;01mas\u001b[39;00m \u001b[38;5;21;01mplt\u001b[39;00m\n\u001b[1;32m----> 4\u001b[0m \u001b[38;5;28;01mimport\u001b[39;00m \u001b[38;5;21;01mseaborn\u001b[39;00m \u001b[38;5;28;01mas\u001b[39;00m \u001b[38;5;21;01msns\u001b[39;00m\n\u001b[0;32m      5\u001b[0m get_ipython()\u001b[38;5;241m.\u001b[39mrun_line_magic(\u001b[38;5;124m'\u001b[39m\u001b[38;5;124mmatplotlib\u001b[39m\u001b[38;5;124m'\u001b[39m, \u001b[38;5;124m'\u001b[39m\u001b[38;5;124minline\u001b[39m\u001b[38;5;124m'\u001b[39m)\n\u001b[0;32m      7\u001b[0m \u001b[38;5;28;01mfrom\u001b[39;00m \u001b[38;5;21;01msklearn\u001b[39;00m\u001b[38;5;21;01m.\u001b[39;00m\u001b[38;5;21;01mmodel_selection\u001b[39;00m \u001b[38;5;28;01mimport\u001b[39;00m train_test_split\n",
                        "\u001b[1;31mModuleNotFoundError\u001b[0m: No module named 'seaborn'"
                    ]
                }
            ],
            "source": [
                "import numpy as np\n",
                "import pandas as pd\n",
                "import matplotlib.pyplot as plt\n",
                "import seaborn as sns\n",
                "%matplotlib inline\n",
                "\n",
                "from sklearn.model_selection import train_test_split\n",
                "from sklearn.linear_model import LogisticRegression\n",
                "from sklearn.datasets import load_digits as digits\n",
                "from sklearn import metrics"
            ]
        },
        {
            "attachments": {},
            "cell_type": "markdown",
            "metadata": {},
            "source": [
                "# 2. Inspecting the Data\n",
                "We will look into identification of [digits](https://scikit-learn.org/stable/auto_examples/datasets/plot_digits_last_image.html) from images of the digits - a classic classification problem."
            ]
        },
        {
            "cell_type": "code",
            "execution_count": null,
            "metadata": {},
            "outputs": [
                {
                    "name": "stdout",
                    "output_type": "stream",
                    "text": [
                        "Image Data Shape (1797, 64)\n",
                        "Label Data Shape (1797,)\n"
                    ]
                }
            ],
            "source": [
                "digits = digits()\n",
                "# Print to show there are 1797 images (8 by 8 images for a dimensionality of 64)\n",
                "print(\"Image Data Shape\" , digits.data.shape)\n",
                "# Print to show there are 1797 labels (integers from 0–9)\n",
                "print(\"Label Data Shape\", digits.target.shape)"
            ]
        },
        {
            "attachments": {},
            "cell_type": "markdown",
            "metadata": {},
            "source": [
                "**Discussion:** What do you think each of the 64 features could be? (Hint: the digits dataset is a bunch of images of digits in range of 0 to 9)"
            ]
        },
        {
            "attachments": {},
            "cell_type": "markdown",
            "metadata": {},
            "source": [
                "Let's see how the first 5 samples look like.\n"
            ]
        },
        {
            "cell_type": "code",
            "execution_count": null,
            "metadata": {},
            "outputs": [
                {
                    "data": {
                        "image/png": "[encoded data removed]",
                        "text/plain": [
                            "<Figure size 1440x288 with 5 Axes>"
                        ]
                    },
                    "metadata": {
                        "needs_background": "light"
                    },
                    "output_type": "display_data"
                }
            ],
            "source": [
                "plt.figure(figsize=(20,4))\n",
                "for index, (image, label) in enumerate(zip(digits.data[0:5], digits.target[0:5])):\n",
                "    plt.subplot(1, 5, index + 1)\n",
                "    plt.imshow(np.reshape(image, (8,8)), cmap=plt.cm.gray)\n",
                "    plt.title('Sample: %i\\n' % label, fontsize = 20)"
            ]
        },
        {
            "attachments": {},
            "cell_type": "markdown",
            "metadata": {},
            "source": [
                "# 3. Pre-processing"
            ]
        },
        {
            "attachments": {},
            "cell_type": "markdown",
            "metadata": {},
            "source": [
                "Split the image data into a training and test set and then store the input and target data seperately for each set. Use [train/test split](https://scikit-learn.org/stable/modules/generated/sklearn.model_selection.train_test_split.html) from sklearn."
            ]
        },
        {
            "cell_type": "code",
            "execution_count": null,
            "metadata": {},
            "outputs": [],
            "source": [
                "# Split the data into a training and test set\n",
                "from sklearn.model_selection import train_test_split\n",
                "x_train, x_test, y_train, y_test = train_test_split(digits.data, digits.target, test_size=0.25, random_state=0)"
            ]
        },
        {
            "attachments": {},
            "cell_type": "markdown",
            "metadata": {},
            "source": [
                "# 4. Creating and Training the Model"
            ]
        },
        {
            "attachments": {},
            "cell_type": "markdown",
            "metadata": {},
            "source": [
                "To create our logistic regression model, use [logistic regression](https://scikit-learn.org/stable/modules/generated/sklearn.linear_model.LogisticRegression.html) from sklearn."
            ]
        },
        {
            "cell_type": "code",
            "execution_count": null,
            "metadata": {},
            "outputs": [],
            "source": [
                "# all parameters not specified are set to their defaults\n",
                "# TODO\n",
                "\n",
                "# Returns a NumPy Array\n",
                "# Predict for One Observation (image). \n",
                "# Take the first image in the test set to predict and print the prediction\n",
                "# TODO\n",
                "\n",
                "#Print the array of probability estimates for each possible class\n"
            ]
        },
        {
            "attachments": {},
            "cell_type": "markdown",
            "metadata": {},
            "source": [
                "Predict for Multiple Observations (images) at once. Take the first 10 images in the test set to predict. "
            ]
        },
        {
            "cell_type": "code",
            "execution_count": null,
            "metadata": {},
            "outputs": [],
            "source": [
                "# TODO"
            ]
        },
        {
            "attachments": {},
            "cell_type": "markdown",
            "metadata": {},
            "source": [
                "Predict for the entire data set. "
            ]
        },
        {
            "cell_type": "code",
            "execution_count": null,
            "metadata": {},
            "outputs": [],
            "source": [
                "# TODO"
            ]
        },
        {
            "attachments": {},
            "cell_type": "markdown",
            "metadata": {},
            "source": [
                "# 5. Measuring Classification Performance"
            ]
        },
        {
            "attachments": {},
            "cell_type": "markdown",
            "metadata": {},
            "source": [
                "Definitely show confusion matrix (explained in lecture), skip ROC curves.\n",
                "\n",
                "Accuracy is defined as the fraction of correct predictions: correct predictions / total predictions"
            ]
        },
        {
            "attachments": {},
            "cell_type": "markdown",
            "metadata": {},
            "source": [
                "### Accuracy"
            ]
        },
        {
            "cell_type": "code",
            "execution_count": null,
            "metadata": {},
            "outputs": [
                {
                    "ename": "SyntaxError",
                    "evalue": "invalid syntax (3647788732.py, line 2)",
                    "output_type": "error",
                    "traceback": [
                        "\u001b[0;36m  Input \u001b[0;32mIn [1]\u001b[0;36m\u001b[0m\n\u001b[0;31m    score = # TODO\u001b[0m\n\u001b[0m            ^\u001b[0m\n\u001b[0;31mSyntaxError\u001b[0m\u001b[0;31m:\u001b[0m invalid syntax\n"
                    ]
                }
            ],
            "source": [
                "# Use score method to get accuracy of model\n",
                "score = # TODO\n",
                "print(score)"
            ]
        },
        {
            "attachments": {},
            "cell_type": "markdown",
            "metadata": {},
            "source": [
                "**Discussion:** This looks like our model is doing well. But what is the baseline for a good model?\n",
                "\n",
                "\n",
                "Now, let's try to use the Majority class classifier. Let's see what the majority class is in our training set."
            ]
        },
        {
            "cell_type": "code",
            "execution_count": null,
            "metadata": {},
            "outputs": [],
            "source": [
                "#Simple Code block imitating majority class classifier\n",
                "vals, counts = np.unique(y_train, return_counts=True)\n",
                "index = np.argmax(counts)\n",
                "print(\"Majority Class: \", vals[index])"
            ]
        },
        {
            "attachments": {},
            "cell_type": "markdown",
            "metadata": {},
            "source": [
                "Now let's see how that predicts on our test set"
            ]
        },
        {
            "cell_type": "code",
            "execution_count": null,
            "metadata": {},
            "outputs": [],
            "source": [
                "correct_count = 0\n",
                "for y_val in y_test:\n",
                "    if y_val == 4:\n",
                "        correct_count += 1\n",
                "print(\"Accuracy of Majority Class classifier: \", correct_count / len(y_test)) "
            ]
        },
        {
            "attachments": {},
            "cell_type": "markdown",
            "metadata": {},
            "source": [
                "### Confusion Matrix"
            ]
        },
        {
            "attachments": {},
            "cell_type": "markdown",
            "metadata": {},
            "source": [
                "An unappealing matrix"
            ]
        },
        {
            "cell_type": "code",
            "execution_count": null,
            "metadata": {},
            "outputs": [],
            "source": [
                "cm = metrics.confusion_matrix(y_test, predictions)\n",
                "print(cm)"
            ]
        },
        {
            "attachments": {},
            "cell_type": "markdown",
            "metadata": {},
            "source": [
                "A matrix using Seaborn"
            ]
        },
        {
            "cell_type": "code",
            "execution_count": null,
            "metadata": {},
            "outputs": [],
            "source": [
                "plt.figure(figsize=(9,9))\n",
                "sns.heatmap(cm, annot=True, fmt=\".3f\", linewidths=.5, square = True, cmap = 'Blues_r');\n",
                "plt.ylabel('Actual label');\n",
                "plt.xlabel('Predicted label');\n",
                "all_sample_title = 'Accuracy Score: {0}'.format(score)\n",
                "plt.title(all_sample_title, size = 15);"
            ]
        },
        {
            "attachments": {},
            "cell_type": "markdown",
            "metadata": {},
            "source": [
                "A matrix using Matplotlib"
            ]
        },
        {
            "cell_type": "code",
            "execution_count": null,
            "metadata": {},
            "outputs": [
                {
                    "ename": "NameError",
                    "evalue": "name 'plt' is not defined",
                    "output_type": "error",
                    "traceback": [
                        "\u001b[0;31m---------------------------------------------------------------------------\u001b[0m",
                        "\u001b[0;31mNameError\u001b[0m                                 Traceback (most recent call last)",
                        "Input \u001b[0;32mIn [1]\u001b[0m, in \u001b[0;36m<cell line: 1>\u001b[0;34m()\u001b[0m\n\u001b[0;32m----> 1\u001b[0m \u001b[43mplt\u001b[49m\u001b[38;5;241m.\u001b[39mfigure(figsize\u001b[38;5;241m=\u001b[39m(\u001b[38;5;241m9\u001b[39m,\u001b[38;5;241m9\u001b[39m))\n\u001b[1;32m      2\u001b[0m plt\u001b[38;5;241m.\u001b[39mimshow(cm, interpolation\u001b[38;5;241m=\u001b[39m\u001b[38;5;124m'\u001b[39m\u001b[38;5;124mnearest\u001b[39m\u001b[38;5;124m'\u001b[39m, cmap\u001b[38;5;241m=\u001b[39m\u001b[38;5;124m'\u001b[39m\u001b[38;5;124mPastel1\u001b[39m\u001b[38;5;124m'\u001b[39m)\n\u001b[1;32m      3\u001b[0m plt\u001b[38;5;241m.\u001b[39mtitle(\u001b[38;5;124m'\u001b[39m\u001b[38;5;124mConfusion matrix\u001b[39m\u001b[38;5;124m'\u001b[39m, size \u001b[38;5;241m=\u001b[39m \u001b[38;5;241m15\u001b[39m)\n",
                        "\u001b[0;31mNameError\u001b[0m: name 'plt' is not defined"
                    ]
                }
            ],
            "source": [
                "plt.figure(figsize=(9,9))\n",
                "plt.imshow(cm, interpolation='nearest', cmap='Pastel1')\n",
                "plt.title('Confusion matrix', size = 15)\n",
                "plt.colorbar()\n",
                "tick_marks = np.arange(10)\n",
                "plt.xticks(tick_marks, [\"0\", \"1\", \"2\", \"3\", \"4\", \"5\", \"6\", \"7\", \"8\", \"9\"], rotation=45, size = 10)\n",
                "plt.yticks(tick_marks, [\"0\", \"1\", \"2\", \"3\", \"4\", \"5\", \"6\", \"7\", \"8\", \"9\"], size = 10)\n",
                "plt.tight_layout()\n",
                "plt.ylabel('Actual label', size = 15)\n",
                "plt.xlabel('Predicted label', size = 15)\n",
                "width, height = cm.shape\n",
                "for x in range(width):\n",
                " for y in range(height):\n",
                "  plt.annotate(str(cm[x][y]), xy=(y, x), \n",
                "  horizontalalignment='center',\n",
                "  verticalalignment='center')"
            ]
        },
        {
            "attachments": {},
            "cell_type": "markdown",
            "metadata": {},
            "source": [
                "**Discussion:** What does the confusion matrix tell us about the performance of our linear regression model? What is the diagonal telling us? what are the values outside of the diagonal telling us?"
            ]
        },
        {
            "attachments": {},
            "cell_type": "markdown",
            "metadata": {},
            "source": [
                "# 6. Using GridSearch\n",
                "\n",
                "Let's see how to use Grid Search find the best penalty and C parameters to train a Logistic Regression model. See the [grid search](https://scikit-learn.org/stable/modules/generated/sklearn.model_selection.GridSearchCV.html) documentation."
            ]
        },
        {
            "cell_type": "code",
            "execution_count": null,
            "metadata": {},
            "outputs": [],
            "source": [
                "from sklearn.model_selection import GridSearchCV\n",
                "\n",
                "grid_values = {'penalty': ['l1', 'l2'],'C':[0.001,.009,0.01,.09,1,5,10,25,100,1000]}\n",
                "# create a logistic regression model\n",
                "lr = LogisticRegression(solver='liblinear')\n",
                "# initialize grid search on the logistic regression model\n",
                "grid_lr = GridSearchCV(lr, param_grid=grid_values)\n",
                "# fit your training data using grid search\n",
                "grid_lr.fit(x_train, y_train)"
            ]
        },
        {
            "attachments": {},
            "cell_type": "markdown",
            "metadata": {},
            "source": [
                "now, we print the accuracy of our model. This accuracy is better than what we found in the previous model."
            ]
        },
        {
            "cell_type": "code",
            "execution_count": null,
            "metadata": {},
            "outputs": [],
            "source": [
                "lr_score = grid_lr.score(x_test, y_test)\n",
                "print(lr_score)"
            ]
        },
        {
            "attachments": {},
            "cell_type": "markdown",
            "metadata": {},
            "source": [
                "Now, we predict on test set and save results to the variable **lr_y_pred**."
            ]
        },
        {
            "cell_type": "code",
            "execution_count": null,
            "metadata": {},
            "outputs": [],
            "source": [
                "lr_y_pred = grid_lr.predict(x_test)"
            ]
        },
        {
            "attachments": {},
            "cell_type": "markdown",
            "metadata": {},
            "source": [
                "And now, let's print its confusion matrix using sklearn."
            ]
        },
        {
            "cell_type": "code",
            "execution_count": null,
            "metadata": {},
            "outputs": [],
            "source": [
                "from sklearn.metrics import confusion_matrix\n",
                "    \n",
                "cm = confusion_matrix(y_test, lr_y_pred)\n",
                "plt.figure(figsize=(9,9))\n",
                "sns.heatmap(cm, annot=True, fmt=\".3f\", linewidths=.5, square = True, cmap = 'Blues_r')\n",
                "plt.ylabel('Actual label')\n",
                "plt.xlabel('Predicted label')\n",
                "all_sample_title = 'Accuracy Score: {0}'.format(lr_score)\n",
                "plt.title(all_sample_title, size = 15)"
            ]
        },
        {
            "attachments": {},
            "cell_type": "markdown",
            "metadata": {},
            "source": [
                "As you can see, GridSearch allowed us to tune the hyperparameters to achieve a higher accuracy. "
            ]
        },
        {
            "attachments": {},
            "cell_type": "markdown",
            "metadata": {},
            "source": [
                "# 7. Tips\n",
                "Let's do some brushing up on quick NumPy and Pandas commands. See the documentations: [argmax](https://)/[argmin ](https://numpy.org/doc/stable/reference/generated/numpy.argmin.html), [nlargest](https://pandas.pydata.org/docs/reference/api/pandas.DataFrame.nlargest.html)/[nsmallest](https://pandas.pydata.org/docs/reference/api/pandas.DataFrame.nsmallest.html). \n",
                "\n",
                "Everything has already been set up for you."
            ]
        },
        {
            "cell_type": "code",
            "execution_count": null,
            "metadata": {},
            "outputs": [],
            "source": [
                "# define numpy array\n",
                "arr = np.array((23, 23, 55, 56, 10))\n",
                "\n",
                "# TODO : find the minimum of the array and return the number"
            ]
        },
        {
            "attachments": {},
            "cell_type": "markdown",
            "metadata": {},
            "source": [
                "Great! Now let's see how we can use Pandas to find the greatest/least of a dataset."
            ]
        },
        {
            "cell_type": "code",
            "execution_count": null,
            "metadata": {},
            "outputs": [
                {
                    "name": "stdout",
                    "output_type": "stream",
                    "text": [
                        "        Name Nickname  Age  Number of Pets\n",
                        "0      Penny     Penn   20               2\n",
                        "1  Sebastian      Seb   21               1\n",
                        "2        Pam        P   19               3\n",
                        "3      Willy     Will   18               3\n"
                    ]
                }
            ],
            "source": [
                "# initialize dataset.\n",
                "data = {'Name':['Penny', 'Sebastian', 'Pam', 'Willy'], 'Nickname':['Penn', 'Seb', 'P', 'Will'], 'Age':[20, 21, 19, 18], 'Number of Pets':[2, 1, 3, 3]}\n",
                "df = pd.DataFrame(data)\n",
                "\n",
                "# view \n",
                "print(df)"
            ]
        },
        {
            "cell_type": "code",
            "execution_count": null,
            "metadata": {},
            "outputs": [],
            "source": [
                "# TODO : find the top 2 people who have the most number of pets and return their names.\n",
                "\n",
                "# TODO : find the 3 people with the youngest ages and return their nicknames. "
            ]
        }
    ],
    "metadata": {
        "kernelspec": {
            "display_name": "Python 3 (ipykernel)",
            "language": "python",
            "name": "python3"
        },
        "language_info": {
            "codemirror_mode": {
                "name": "ipython",
                "version": 3
            },
            "file_extension": ".py",
            "mimetype": "text/x-python",
            "name": "python",
            "nbconvert_exporter": "python",
            "pygments_lexer": "ipython3",
            "version": "3.12.4"
        }
    },
    "nbformat": 4,
    "nbformat_minor": 4
}
