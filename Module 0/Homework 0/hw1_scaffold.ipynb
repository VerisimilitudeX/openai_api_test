{
    "cells": [
        {
            "attachments": {},
            "cell_type": "markdown",
            "metadata": {},
            "source": [
                "# Assignment 0 - House Prices\n",
                "\n",
                "In this assignment we'll practice working with `pandas` `DataFrames` and train a linear regression model to predict house prices.\n",
                "\n",
                "Fill in the cells provided marked `TODO` with code to answer the questions. Answers should do the computation stated rather than writing in hard-coded values. So for example, if a problem asks you to compute the average age of people in a dataset, you should be writing Python code in this notebook to do the computation instead of plugging it into some calculator and saving the hard-coded answer in the variable. **We will be grading your code on a slightly different dataset, so any hard-coded answers will be marked as incorrect!**\n",
                "\n",
                "It is generally a good idea to restart the kernel and run all cells (especially before turning it in) to make sure your code runs correctly from start to finish.\n",
                "\n",
                "NOTE: DO NOT delete any code that looks like the following: `### edTest(...) ###`. If you do, the corresponding test will not run, resulting in 0 points on that part of the assignment.\n",
                "\n",
                "## Submitting\n",
                "\n",
                "To submit your code and get your grade, press the \"Mark\" button on the bottom right of the screen. You can submit as many times as you want.\n",
                "\n",
                "Unlike HW0, our test cases do not tell you what the expected answer is. You have to do your own debugging to determine what is wrong, but the test cases will tell you which part of the assignment is incorrect. **The score the autograder gives you will be your final score for the programming part of the homework.**"
            ]
        },
        {
            "cell_type": "code",
            "execution_count": 1,
            "metadata": {},
            "outputs": [],
            "source": [
                "# Conventionally people rename the pandas import to pd for brevity\n",
                "import pandas as pd\n",
                "import numpy as np"
            ]
        },
        {
            "attachments": {},
            "cell_type": "markdown",
            "metadata": {},
            "source": [
                "**NOTE**: Be sure to run every cell in the notebook! The `###SKIP` is for the autograder. "
            ]
        },
        {
            "cell_type": "code",
            "execution_count": 2,
            "metadata": {},
            "outputs": [
                {
                    "data": {
                        "text/html": [
                            "<div>\n",
                            "<style scoped>\n",
                            "    .dataframe tbody tr th:only-of-type {\n",
                            "        vertical-align: middle;\n",
                            "    }\n",
                            "\n",
                            "    .dataframe tbody tr th {\n",
                            "        vertical-align: top;\n",
                            "    }\n",
                            "\n",
                            "    .dataframe thead th {\n",
                            "        text-align: right;\n",
                            "    }\n",
                            "</style>\n",
                            "<table border=\"1\" class=\"dataframe\">\n",
                            "  <thead>\n",
                            "    <tr style=\"text-align: right;\">\n",
                            "      <th></th>\n",
                            "      <th>id</th>\n",
                            "      <th>date</th>\n",
                            "      <th>price</th>\n",
                            "      <th>bedrooms</th>\n",
                            "      <th>bathrooms</th>\n",
                            "      <th>sqft_living</th>\n",
                            "      <th>sqft_lot</th>\n",
                            "      <th>floors</th>\n",
                            "      <th>waterfront</th>\n",
                            "      <th>view</th>\n",
                            "      <th>...</th>\n",
                            "      <th>grade</th>\n",
                            "      <th>sqft_above</th>\n",
                            "      <th>sqft_basement</th>\n",
                            "      <th>yr_built</th>\n",
                            "      <th>yr_renovated</th>\n",
                            "      <th>zipcode</th>\n",
                            "      <th>lat</th>\n",
                            "      <th>long</th>\n",
                            "      <th>sqft_living15</th>\n",
                            "      <th>sqft_lot15</th>\n",
                            "    </tr>\n",
                            "  </thead>\n",
                            "  <tbody>\n",
                            "    <tr>\n",
                            "      <th>0</th>\n",
                            "      <td>7129300520</td>\n",
                            "      <td>20141013T000000</td>\n",
                            "      <td>221900</td>\n",
                            "      <td>3</td>\n",
                            "      <td>1.00</td>\n",
                            "      <td>1180</td>\n",
                            "      <td>5650</td>\n",
                            "      <td>1.0</td>\n",
                            "      <td>0</td>\n",
                            "      <td>0</td>\n",
                            "      <td>...</td>\n",
                            "      <td>7</td>\n",
                            "      <td>1180</td>\n",
                            "      <td>0</td>\n",
                            "      <td>1955</td>\n",
                            "      <td>0</td>\n",
                            "      <td>98178</td>\n",
                            "      <td>47.5112</td>\n",
                            "      <td>-122.257</td>\n",
                            "      <td>1340</td>\n",
                            "      <td>5650</td>\n",
                            "    </tr>\n",
                            "    <tr>\n",
                            "      <th>1</th>\n",
                            "      <td>6414100192</td>\n",
                            "      <td>20141209T000000</td>\n",
                            "      <td>538000</td>\n",
                            "      <td>3</td>\n",
                            "      <td>2.25</td>\n",
                            "      <td>2570</td>\n",
                            "      <td>7242</td>\n",
                            "      <td>2.0</td>\n",
                            "      <td>0</td>\n",
                            "      <td>0</td>\n",
                            "      <td>...</td>\n",
                            "      <td>7</td>\n",
                            "      <td>2170</td>\n",
                            "      <td>400</td>\n",
                            "      <td>1951</td>\n",
                            "      <td>1991</td>\n",
                            "      <td>98125</td>\n",
                            "      <td>47.7210</td>\n",
                            "      <td>-122.319</td>\n",
                            "      <td>1690</td>\n",
                            "      <td>7639</td>\n",
                            "    </tr>\n",
                            "    <tr>\n",
                            "      <th>2</th>\n",
                            "      <td>5631500400</td>\n",
                            "      <td>20150225T000000</td>\n",
                            "      <td>180000</td>\n",
                            "      <td>2</td>\n",
                            "      <td>1.00</td>\n",
                            "      <td>770</td>\n",
                            "      <td>10000</td>\n",
                            "      <td>1.0</td>\n",
                            "      <td>0</td>\n",
                            "      <td>0</td>\n",
                            "      <td>...</td>\n",
                            "      <td>6</td>\n",
                            "      <td>770</td>\n",
                            "      <td>0</td>\n",
                            "      <td>1933</td>\n",
                            "      <td>0</td>\n",
                            "      <td>98028</td>\n",
                            "      <td>47.7379</td>\n",
                            "      <td>-122.233</td>\n",
                            "      <td>2720</td>\n",
                            "      <td>8062</td>\n",
                            "    </tr>\n",
                            "    <tr>\n",
                            "      <th>3</th>\n",
                            "      <td>2487200875</td>\n",
                            "      <td>20141209T000000</td>\n",
                            "      <td>604000</td>\n",
                            "      <td>4</td>\n",
                            "      <td>3.00</td>\n",
                            "      <td>1960</td>\n",
                            "      <td>5000</td>\n",
                            "      <td>1.0</td>\n",
                            "      <td>0</td>\n",
                            "      <td>0</td>\n",
                            "      <td>...</td>\n",
                            "      <td>7</td>\n",
                            "      <td>1050</td>\n",
                            "      <td>910</td>\n",
                            "      <td>1965</td>\n",
                            "      <td>0</td>\n",
                            "      <td>98136</td>\n",
                            "      <td>47.5208</td>\n",
                            "      <td>-122.393</td>\n",
                            "      <td>1360</td>\n",
                            "      <td>5000</td>\n",
                            "    </tr>\n",
                            "    <tr>\n",
                            "      <th>4</th>\n",
                            "      <td>1954400510</td>\n",
                            "      <td>20150218T000000</td>\n",
                            "      <td>510000</td>\n",
                            "      <td>3</td>\n",
                            "      <td>2.00</td>\n",
                            "      <td>1680</td>\n",
                            "      <td>8080</td>\n",
                            "      <td>1.0</td>\n",
                            "      <td>0</td>\n",
                            "      <td>0</td>\n",
                            "      <td>...</td>\n",
                            "      <td>8</td>\n",
                            "      <td>1680</td>\n",
                            "      <td>0</td>\n",
                            "      <td>1987</td>\n",
                            "      <td>0</td>\n",
                            "      <td>98074</td>\n",
                            "      <td>47.6168</td>\n",
                            "      <td>-122.045</td>\n",
                            "      <td>1800</td>\n",
                            "      <td>7503</td>\n",
                            "    </tr>\n",
                            "  </tbody>\n",
                            "</table>\n",
                            "<p>5 rows × 21 columns</p>\n",
                            "</div>"
                        ],
                        "text/plain": [
                            "           id             date   price  bedrooms  bathrooms  sqft_living  \\\n",
                            "0  7129300520  20141013T000000  221900         3       1.00         1180   \n",
                            "1  6414100192  20141209T000000  538000         3       2.25         2570   \n",
                            "2  5631500400  20150225T000000  180000         2       1.00          770   \n",
                            "3  2487200875  20141209T000000  604000         4       3.00         1960   \n",
                            "4  1954400510  20150218T000000  510000         3       2.00         1680   \n",
                            "\n",
                            "   sqft_lot  floors  waterfront  view  ...  grade  sqft_above  sqft_basement  \\\n",
                            "0      5650     1.0           0     0  ...      7        1180              0   \n",
                            "1      7242     2.0           0     0  ...      7        2170            400   \n",
                            "2     10000     1.0           0     0  ...      6         770              0   \n",
                            "3      5000     1.0           0     0  ...      7        1050            910   \n",
                            "4      8080     1.0           0     0  ...      8        1680              0   \n",
                            "\n",
                            "   yr_built  yr_renovated  zipcode      lat     long  sqft_living15  \\\n",
                            "0      1955             0    98178  47.5112 -122.257           1340   \n",
                            "1      1951          1991    98125  47.7210 -122.319           1690   \n",
                            "2      1933             0    98028  47.7379 -122.233           2720   \n",
                            "3      1965             0    98136  47.5208 -122.393           1360   \n",
                            "4      1987             0    98074  47.6168 -122.045           1800   \n",
                            "\n",
                            "   sqft_lot15  \n",
                            "0        5650  \n",
                            "1        7639  \n",
                            "2        8062  \n",
                            "3        5000  \n",
                            "4        7503  \n",
                            "\n",
                            "[5 rows x 21 columns]"
                        ]
                    },
                    "execution_count": 2,
                    "metadata": {},
                    "output_type": "execute_result"
                }
            ],
            "source": [
                "### SKIP\n",
                "\n",
                "# Set seed to create pseudo-randomness\n",
                "np.random.seed(416)\n",
                "\n",
                "# Load in the data and preview it\n",
                "sales = pd.read_csv('home_data.csv')\n",
                "sales.head()"
            ]
        },
        {
            "attachments": {},
            "cell_type": "markdown",
            "metadata": {},
            "source": [
                "Do not modify the below cell. It configures the autograder, which will award 0 points if it doesn't run."
            ]
        },
        {
            "cell_type": "code",
            "execution_count": 3,
            "metadata": {},
            "outputs": [],
            "source": [
                "### edTest(test_load_data) ###"
            ]
        },
        {
            "attachments": {},
            "cell_type": "markdown",
            "metadata": {},
            "source": [
                "---\n",
                "# Exploring the data.\n",
                "This question asks you to explore the dataset we will be using. Answer the following three questions by writing code to compute the dsecribed values in the given variables names. Note that Q1 has 3 sub-questions.\n",
                "\n",
                "## Q1) Exploring the data\n",
                "\n",
                "a) How many houses do we have in our data set? This should correspond to the number of rows in the dataset. Save the number of rows in a variable called `num_rows`.\n",
                "\n",
                "*Hint:* You can use `len()` to get the length of anything in Python. Note that when you use it on a DataFrame, it will give you the number of rows, not columns."
            ]
        },
        {
            "cell_type": "code",
            "execution_count": 4,
            "metadata": {},
            "outputs": [],
            "source": [
                "### edTest(test_num_rows) ###\n",
                "\n",
                "# TODO\n",
                "num_rows = len(sales)"
            ]
        },
        {
            "attachments": {},
            "cell_type": "markdown",
            "metadata": {},
            "source": [
                "b) Which column are we trying to predict given the other features (i.e. what's our output `y`)? Save the values from that column in a variable called `y`."
            ]
        },
        {
            "cell_type": "code",
            "execution_count": 5,
            "metadata": {},
            "outputs": [],
            "source": [
                "### edTest(test_get_labels) ###\n",
                "\n",
                "# TODO \n",
                "y = sales.loc[:, \"price\"]"
            ]
        },
        {
            "attachments": {},
            "cell_type": "markdown",
            "metadata": {},
            "source": [
                "c) How many dimensions are in our input space (i.e., how many columns are there other than the output column)? Save the number of dimensions in the input space in a variable called `input_dimensions`."
            ]
        },
        {
            "cell_type": "code",
            "execution_count": 6,
            "metadata": {},
            "outputs": [],
            "source": [
                "### edTest(test_input_dimensions) ###\n",
                "\n",
                "# TODO\n",
                "input_dimensions = len(sales.columns) - 1"
            ]
        },
        {
            "attachments": {},
            "cell_type": "markdown",
            "metadata": {},
            "source": [
                "---\n",
                "## Q2) What is the average (mean) price of houses with 3 bedrooms?\n",
                "\n",
                "Compute the average (mean) price of houses in the dataset with 3 bedrooms. Save the result in `avg_price_3_bed`."
            ]
        },
        {
            "cell_type": "code",
            "execution_count": 7,
            "metadata": {},
            "outputs": [],
            "source": [
                "### edTest(test_avg_price_3_bed) ###\n",
                "\n",
                "# TODO\n",
                "avg_price_3_bed = sales[(sales[\"bedrooms\"] == 3)][\"price\"].mean()"
            ]
        },
        {
            "attachments": {},
            "cell_type": "markdown",
            "metadata": {},
            "source": [
                "---\n",
                "## Q3) What fraction of the properties are have `sqft_living` between 2000-4000?\n",
                "\n",
                "Compute the fraction of properties with `sqft_living` between 2000 (inclusive) and 4000 (exclusive). Your answer should be stored in `percent_q3` and it should be a number between 0 and 1.\n",
                " "
            ]
        },
        {
            "cell_type": "code",
            "execution_count": 8,
            "metadata": {},
            "outputs": [],
            "source": [
                "### edTest(test_percent_q3) ###\n",
                "\n",
                "# TODO\n",
                "percent_q3 = len(sales[(sales[\"sqft_living\"] >= 2000) & (sales[\"sqft_living\"] < 4000)]) / (len(sales[\"price\"]))"
            ]
        },
        {
            "attachments": {},
            "cell_type": "markdown",
            "metadata": {},
            "source": [
                "---\n",
                "# Training Linear Regression Models\n",
                "\n",
                "## Q4) Training a Linear Regression Model.\n",
                "\n",
                "We will now train a linear regression model to make useful predictions. Work through the steps below and then answer the following questions. Even though a lot of the code is pre-written, you should understand what it is doing! You may be asked to write some of this code on future assignments.\n",
                "\n",
                "First we split the data into a training set and a validation set."
            ]
        },
        {
            "cell_type": "code",
            "execution_count": 9,
            "metadata": {},
            "outputs": [],
            "source": [
                "from sklearn.model_selection import train_test_split\n",
                "\n",
                "# Split data into 70% train, 15% validation, and 15% test\n",
                "train_data, val_and_test_data = train_test_split(sales, test_size=0.3)\n",
                "val_data, test_data = train_test_split(val_and_test_data, test_size=0.5) # 50% of 30% is 15%"
            ]
        },
        {
            "attachments": {},
            "cell_type": "markdown",
            "metadata": {},
            "source": [
                "Lets plot some of the data to get a sense of what we are dealing with. You do not need to understand every part of the plotting code here, but plotting is a good skill in Python so it will help to read over this."
            ]
        },
        {
            "cell_type": "code",
            "execution_count": 10,
            "metadata": {},
            "outputs": [
                {
                    "data": {
                        "text/plain": [
                            "Text(0, 0.5, 'Price')"
                        ]
                    },
                    "execution_count": 10,
                    "metadata": {},
                    "output_type": "execute_result"
                },
                {
                    "data": {
                        "image/png": "[encoded data removed]",
                        "text/plain": [
                            "<Figure size 640x480 with 1 Axes>"
                        ]
                    },
                    "metadata": {},
                    "output_type": "display_data"
                }
            ],
            "source": [
                "import matplotlib.pyplot as plt\n",
                "%matplotlib inline\n",
                "\n",
                "# Plot sqft_living vs housing price for the train and val dataset\n",
                "plt.scatter(train_data['sqft_living'], train_data['price'], marker='+', label='Train')\n",
                "plt.scatter(val_data['sqft_living'], val_data['price'], marker='.', label='Validation')\n",
                "\n",
                "# Code to customize the axis labels\n",
                "plt.legend()\n",
                "plt.xlabel('Sqft Living')\n",
                "plt.ylabel('Price')"
            ]
        },
        {
            "attachments": {},
            "cell_type": "markdown",
            "metadata": {},
            "source": [
                "For this problem, we will look at using two sets of features derived from the data inputs. The basic set of features only contains a few data inputs, while the advanced features contain the basic features and more."
            ]
        },
        {
            "cell_type": "code",
            "execution_count": 11,
            "metadata": {},
            "outputs": [],
            "source": [
                "basic_features = ['bedrooms', 'bathrooms', 'sqft_living', 'sqft_lot', 'floors', 'zipcode']"
            ]
        },
        {
            "cell_type": "code",
            "execution_count": 12,
            "metadata": {},
            "outputs": [],
            "source": [
                "# Note that advanced_features contains basic_features and more.\n",
                "advanced_features = basic_features + [\n",
                "    'condition',      # condition of the house\n",
                "    'grade',          # measure of qality of construction\n",
                "    'waterfront',     # waterfront property \n",
                "    'view',           # type of view\n",
                "    'sqft_above',     # square feet above ground\n",
                "    'sqft_basement',  # square feet in basementab\n",
                "    'yr_built',       # the year built\n",
                "    'yr_renovated',   # the year renovated\n",
                "    'lat',            # the longitude of the parcel\n",
                "    'long',           # the latitide of the parcel\n",
                "    'sqft_living15',  # average sq.ft. of 15 nearest neighbors \n",
                "    'sqft_lot15',     # average lot size of 15 nearest neighbors \n",
                "]"
            ]
        },
        {
            "attachments": {},
            "cell_type": "markdown",
            "metadata": {},
            "source": [
                "---\n",
                "In the following cell, you should train two linear regression models\n",
                "* The first should be saved in a variable called `basic_model` that only uses the basic features\n",
                "* The second should be saved in a variable called `advanced_model` that uses the advanced features\n",
                "\n",
                "You'll need to look through the [LinearRegression](https://scikit-learn.org/stable/modules/generated/sklearn.linear_model.LinearRegression.html) class from scikit-learn to look into how to train a regression model for this task. In particular, make sure you check out the `fit` function.\n",
                "\n",
                "Notice that our goal is to eventually make a prediction of how the model will do in the future. You should keep this in mind when deciding which datasets (e.g., train, val) to use where."
            ]
        },
        {
            "cell_type": "code",
            "execution_count": 13,
            "metadata": {},
            "outputs": [],
            "source": [
                "### edTest(test_train_models) ###\n",
                "from sklearn.linear_model import LinearRegression\n",
                "\n",
                "# TODO\n",
                "basic_model = LinearRegression().fit(train_data[basic_features], train_data[\"price\"])\n",
                "\n",
                "advanced_model = LinearRegression().fit(train_data[advanced_features], train_data[\"price\"])\n"
            ]
        },
        {
            "attachments": {},
            "cell_type": "markdown",
            "metadata": {},
            "source": [
                "Now, we will evaluate the models' predictions to see how they perform.\n",
                "\n",
                "---\n",
                "# Root Mean Square Error (RMSE) of trained predictors\n",
                "\n",
                "## Q5) What is the Root Mean Squared Errors (RMSE) on the training data using the basic model and the advanced model?\n",
                "\n",
                "\n",
                "Use the models you trained in last question to predict what it thinks the values for the data points should be. You can look at the documentation from the [LinearRegression](https://scikit-learn.org/stable/modules/generated/sklearn.linear_model.LinearRegression.html) class to see how to make predictions. \n",
                "\n",
                "The RMSE is another commonly reported metric used for regression models. The RMSE is similar to MSE but is modified slightly to scale the number down. The RMSE is defined as $$RMSE = \\sqrt{MSE}$$\n",
                "\n",
                "where the thing inside the square root is the Mean Square Error (MSE) we discussed in class. \n",
                "\n",
                "There are two ways you can calculate RMSE:\n",
                "1. Use the `mean_squared_error` function from sklearn (documentation [here](https://scikit-learn.org/stable/modules/generated/sklearn.metrics.mean_squared_error.html#sklearn.metrics.mean_squared_error))\n",
                "\n",
                "2. Use `numpy`'s element-wise operations (such as `-`, `**` - for exponent) and `np.mean` for calcuating the average\n",
                "\n",
                "Note: It's more straightforward to use `sklearn`'s predefined functions, but using `numpy` will help you understand what is going on below-the-surface, which will help in future assignments.\n",
                "\n",
                "**Save your result in variables named `train_rmse_basic` and `train_rmse_advanced` respectively.**\n",
                "\n",
                "**Remember, we want you to report the square root of the MSE numbers**."
            ]
        },
        {
            "cell_type": "code",
            "execution_count": 14,
            "metadata": {},
            "outputs": [],
            "source": [
                "### edTest(test_train_rmse) ###\n",
                "from sklearn.metrics import mean_squared_error\n",
                "\n",
                "# TODO\n",
                "basic_prediction = basic_model.predict(train_data[basic_features])\n",
                "advanced_prediction = advanced_model.predict(train_data[advanced_features])\n",
                "\n",
                "train_rmse_basic = (mean_squared_error(train_data[\"price\"], basic_prediction)) ** (1/2)\n",
                "train_rmse_advanced = (mean_squared_error(train_data[\"price\"], advanced_prediction)) ** (1/2)"
            ]
        },
        {
            "attachments": {},
            "cell_type": "markdown",
            "metadata": {},
            "source": [
                "---\n",
                "## Q6) What is the RMSE on the validation data using the basic model and the advanced model?\n",
                "\n",
                "Similar to the last problem, but compute the val RMSE. Store your results in `val_rmse_basic` and `val_rmse_advanced`."
            ]
        },
        {
            "cell_type": "code",
            "execution_count": 15,
            "metadata": {},
            "outputs": [],
            "source": [
                "### edTest(test_val_rmse) ###\n",
                "\n",
                "# TODO\n",
                "basic_val_predictions = basic_model.predict(val_data[basic_features])\n",
                "advanced_val_predictions = advanced_model.predict(val_data[advanced_features])\n",
                "\n",
                "val_rmse_basic = mean_squared_error(val_data[\"price\"], basic_val_predictions) ** (1/2)\n",
                "val_rmse_advanced = mean_squared_error(val_data[\"price\"], advanced_val_predictions) ** (1/2)"
            ]
        },
        {
            "attachments": {},
            "cell_type": "markdown",
            "metadata": {},
            "source": [
                "---\n",
                "## Q7) What is the test error for the better model?\n",
                "\n",
                "Using your validation errors, determine which model is better. For the better model, compute its test error, and store it in a variable `test_rmse`."
            ]
        },
        {
            "cell_type": "code",
            "execution_count": 16,
            "metadata": {},
            "outputs": [],
            "source": [
                "### edTest(test_test_rmse) ###\n",
                "if val_rmse_basic > val_rmse_advanced:\n",
                "    advancedtestpredictions = advanced_model.predict(test_data[advanced_features])\n",
                "    test_rmse = mean_squared_error(test_data[\"price\"], advancedtestpredictions) ** (1/2)\n",
                "else:\n",
                "    basictestpredictions = basic_model.predict(test_data[basic_features])\n",
                "    test_rmse = mean_squared_error(test_data[\"price\"], basictestpredictions) ** (1/2)"
            ]
        },
        {
            "attachments": {},
            "cell_type": "markdown",
            "metadata": {},
            "source": [
                "> Copyright ©2023 Emily Fox and Hunter Schafer.  All rights reserved.  Permission is hereby granted to students registered for University of Washington CSE/STAT 416 for use solely during Spring Quarter 2024 for purposes of the course.  No other use, copying, distribution, or modification is permitted without prior written consent. Copyrights for third-party components of this work must be honored.  Instructors interested in reusing these course materials should contact the author."
            ]
        },
        {
            "cell_type": "code",
            "execution_count": null,
            "metadata": {},
            "outputs": [],
            "source": []
        }
    ],
    "metadata": {
        "kernelspec": {
            "display_name": "Python 3 (ipykernel)",
            "language": "python",
            "name": "python3"
        },
        "language_info": {
            "codemirror_mode": {
                "name": "ipython",
                "version": 3
            },
            "file_extension": ".py",
            "mimetype": "text/x-python",
            "name": "python",
            "nbconvert_exporter": "python",
            "pygments_lexer": "ipython3",
            "version": "3.12.4"
        }
    },
    "nbformat": 4,
    "nbformat_minor": 1
}
