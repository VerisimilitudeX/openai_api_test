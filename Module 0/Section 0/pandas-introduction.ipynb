{
    "cells": [
        {
            "attachments": {},
            "cell_type": "markdown",
            "metadata": {},
            "source": [
                "# 1. Setting Up"
            ]
        },
        {
            "attachments": {},
            "cell_type": "markdown",
            "metadata": {},
            "source": [
                "We begin by importing the libraries we need: (1) Numpy (commonly refered to as `np`), and (2) Pandas (commonly refered to as `pd`)."
            ]
        },
        {
            "cell_type": "code",
            "execution_count": 2,
            "metadata": {},
            "outputs": [],
            "source": [
                "import numpy as np\n",
                "import pandas as pd"
            ]
        },
        {
            "attachments": {},
            "cell_type": "markdown",
            "metadata": {},
            "source": [
                "# 2. Introduction to Numpy"
            ]
        },
        {
            "attachments": {},
            "cell_type": "markdown",
            "metadata": {},
            "source": [
                "`numpy` is a popular python numerical processing library.\n",
                "\n",
                "`numpy`'s primary data structure is the `numpy.array`. An array will store a sequence of values *of the same type*.  "
            ]
        },
        {
            "attachments": {},
            "cell_type": "markdown",
            "metadata": {},
            "source": [
                "## 2a: More Than One Dimensions"
            ]
        },
        {
            "attachments": {},
            "cell_type": "markdown",
            "metadata": {},
            "source": [
                "In machine learning, we rarely store data in one-dimensional arrays. Typically, we store data in 2D arrays, where each row is a datapoint, and each column represents an attribute of the datapoint (more on this in the `pandas` section later). Numpy arrays are great for representing multi-dimensional data efficiently."
            ]
        },
        {
            "cell_type": "code",
            "execution_count": 3,
            "metadata": {},
            "outputs": [
                {
                    "name": "stdout",
                    "output_type": "stream",
                    "text": [
                        "[[1. 1. 1. 1.]\n",
                        " [1. 1. 1. 1.]\n",
                        " [1. 1. 1. 1.]]\n"
                    ]
                }
            ],
            "source": [
                "# np.ones actually takes a tuple, specifying the rows and columns of the all ones matrix (2D array)\n",
                "x = np.ones((3,4))\n",
                "print(x)"
            ]
        },
        {
            "attachments": {},
            "cell_type": "markdown",
            "metadata": {},
            "source": [
                "The `reshape` function allows us to take an array and change its shape while maintaining its data."
            ]
        },
        {
            "cell_type": "code",
            "execution_count": 4,
            "metadata": {},
            "outputs": [
                {
                    "name": "stdout",
                    "output_type": "stream",
                    "text": [
                        "Before reshape\n",
                        "[ 0  1  2  3  4  5  6  7  8  9 10 11 12 13 14 15 16 17 18 19]\n",
                        "\n"
                    ]
                }
            ],
            "source": [
                "# Create an array of the values 0 to 20 (exclusive)\n",
                "x = np.arange(20)\n",
                "print('Before reshape')\n",
                "print(x)\n",
                "print()"
            ]
        },
        {
            "cell_type": "code",
            "execution_count": 5,
            "metadata": {},
            "outputs": [
                {
                    "name": "stdout",
                    "output_type": "stream",
                    "text": [
                        "After reshape\n",
                        "[[ 0  1  2  3]\n",
                        " [ 4  5  6  7]\n",
                        " [ 8  9 10 11]\n",
                        " [12 13 14 15]\n",
                        " [16 17 18 19]]\n"
                    ]
                }
            ],
            "source": [
                "# Reshape the array such that it has dimensions 5x4 (5 rows, 4 columns)\n",
                "y = x.reshape((5,4))\n",
                "print('After reshape')\n",
                "print(y)"
            ]
        },
        {
            "cell_type": "code",
            "execution_count": 6,
            "metadata": {},
            "outputs": [
                {
                    "ename": "ValueError",
                    "evalue": "cannot reshape array of size 20 into shape (6,3)",
                    "output_type": "error",
                    "traceback": [
                        "\u001b[1;31m---------------------------------------------------------------------------\u001b[0m",
                        "\u001b[1;31mValueError\u001b[0m                                Traceback (most recent call last)",
                        "Cell \u001b[1;32mIn[6], line 4\u001b[0m\n\u001b[0;32m      1\u001b[0m \u001b[38;5;66;03m# What happens if we reshape to a different number of entries?\u001b[39;00m\n\u001b[0;32m      2\u001b[0m \n\u001b[0;32m      3\u001b[0m \u001b[38;5;66;03m# Fewer entries\u001b[39;00m\n\u001b[1;32m----> 4\u001b[0m z \u001b[38;5;241m=\u001b[39m \u001b[43mx\u001b[49m\u001b[38;5;241;43m.\u001b[39;49m\u001b[43mreshape\u001b[49m\u001b[43m(\u001b[49m\u001b[43m(\u001b[49m\u001b[38;5;241;43m6\u001b[39;49m\u001b[43m,\u001b[49m\u001b[38;5;241;43m3\u001b[39;49m\u001b[43m)\u001b[49m\u001b[43m)\u001b[49m\n\u001b[0;32m      5\u001b[0m \u001b[38;5;28mprint\u001b[39m(z)\n",
                        "\u001b[1;31mValueError\u001b[0m: cannot reshape array of size 20 into shape (6,3)"
                    ]
                }
            ],
            "source": [
                "# What happens if we reshape to a different number of entries?\n",
                "\n",
                "# Fewer entries\n",
                "z = x.reshape((6,3))\n",
                "print(z)"
            ]
        },
        {
            "attachments": {},
            "cell_type": "markdown",
            "metadata": {},
            "source": [
                "Create an array that contains the numbers 0-24."
            ]
        },
        {
            "cell_type": "code",
            "execution_count": 8,
            "metadata": {},
            "outputs": [],
            "source": [
                "arr = np.array([x for x in range(0, 25)])"
            ]
        },
        {
            "attachments": {},
            "cell_type": "markdown",
            "metadata": {},
            "source": [
                "Reshape the array to be 5x5."
            ]
        },
        {
            "cell_type": "code",
            "execution_count": 9,
            "metadata": {},
            "outputs": [
                {
                    "data": {
                        "text/plain": [
                            "array([[ 0,  1,  2,  3,  4],\n",
                            "       [ 5,  6,  7,  8,  9],\n",
                            "       [10, 11, 12, 13, 14],\n",
                            "       [15, 16, 17, 18, 19],\n",
                            "       [20, 21, 22, 23, 24]])"
                        ]
                    },
                    "execution_count": 9,
                    "metadata": {},
                    "output_type": "execute_result"
                }
            ],
            "source": [
                "arr.reshape(5, 5)"
            ]
        },
        {
            "attachments": {},
            "cell_type": "markdown",
            "metadata": {},
            "source": [
                "## 2b: Accessing Data"
            ]
        },
        {
            "attachments": {},
            "cell_type": "markdown",
            "metadata": {},
            "source": [
                "How do we access data at a particular location (e.g., a particular row and column) in an array? This process is referred to as **\"indexing\"**. If you are selecting multiple rows or columns, it is referred to as **\"slicing\"**."
            ]
        },
        {
            "cell_type": "code",
            "execution_count": 10,
            "metadata": {},
            "outputs": [
                {
                    "name": "stdout",
                    "output_type": "stream",
                    "text": [
                        "First: y[1,2]\n",
                        "6\n",
                        "\n"
                    ]
                }
            ],
            "source": [
                "# What will this cell output? \n",
                "\n",
                "# Access one value\n",
                "print('First: y[1,2]')\n",
                "y1 = y[1,2]\n",
                "print(y1)\n",
                "print()"
            ]
        },
        {
            "cell_type": "code",
            "execution_count": 11,
            "metadata": {},
            "outputs": [
                {
                    "name": "stdout",
                    "output_type": "stream",
                    "text": [
                        "Second: y[3:5, 1]\n",
                        "[13 17]\n",
                        "\n"
                    ]
                }
            ],
            "source": [
                "# Use slice notation [a:b, c:d], where pre:post has pre inclusive, post exclusive\n",
                "\n",
                "# Slice first element of tuple\n",
                "print('Second: y[3:5, 1]')\n",
                "y2 = y[3:5, 1]\n",
                "print(y2)\n",
                "print()"
            ]
        },
        {
            "cell_type": "code",
            "execution_count": 12,
            "metadata": {},
            "outputs": [
                {
                    "name": "stdout",
                    "output_type": "stream",
                    "text": [
                        "Third: y[3, 1:3]\n",
                        "[13 14]\n",
                        "\n"
                    ]
                }
            ],
            "source": [
                "# Slice second element of tuple\n",
                "print('Third: y[3, 1:3]')\n",
                "y3 = y[3, 1:3]\n",
                "print(y3)\n",
                "print()"
            ]
        },
        {
            "cell_type": "code",
            "execution_count": 13,
            "metadata": {},
            "outputs": [
                {
                    "name": "stdout",
                    "output_type": "stream",
                    "text": [
                        "Fourth: y[0:5, 2:5]\n",
                        "[[ 2  3]\n",
                        " [ 6  7]\n",
                        " [10 11]\n",
                        " [14 15]\n",
                        " [18 19]]\n"
                    ]
                }
            ],
            "source": [
                "# Slice both elements of tuple\n",
                "print('Fourth: y[0:5, 2:5]')\n",
                "y4 = y[0:5, 2:5]\n",
                "print(y4)"
            ]
        },
        {
            "cell_type": "code",
            "execution_count": 14,
            "metadata": {},
            "outputs": [
                {
                    "name": "stdout",
                    "output_type": "stream",
                    "text": [
                        "Fifth: y[1, :]\n",
                        "[4 5 6 7]\n",
                        "\n"
                    ]
                }
            ],
            "source": [
                "# Slice notation has a \"and everything else\" syntax\n",
                "print('Fifth: y[1, :]')\n",
                "y5 = y[1, :]\n",
                "print(y5) # Everything in the first row\n",
                "print()"
            ]
        },
        {
            "cell_type": "code",
            "execution_count": 15,
            "metadata": {},
            "outputs": [
                {
                    "name": "stdout",
                    "output_type": "stream",
                    "text": [
                        "Sixth: y[:, 3]\n",
                        "[ 3  7 11 15 19]\n",
                        "\n"
                    ]
                }
            ],
            "source": [
                "print('Sixth: y[:, 3]')\n",
                "y6 = y[:, 3]\n",
                "print(y6) # Everything in the third column\n",
                "print()\n"
            ]
        },
        {
            "attachments": {},
            "cell_type": "markdown",
            "metadata": {},
            "source": [
                "Access the elements in the 4th row of y, from the first two columns."
            ]
        },
        {
            "cell_type": "code",
            "execution_count": 21,
            "metadata": {},
            "outputs": [
                {
                    "name": "stdout",
                    "output_type": "stream",
                    "text": [
                        "[16 17]\n"
                    ]
                }
            ],
            "source": [
                "print(y[4,:2])"
            ]
        },
        {
            "attachments": {},
            "cell_type": "markdown",
            "metadata": {},
            "source": [
                "## 2c: Shape of Numpy Arrays"
            ]
        },
        {
            "attachments": {},
            "cell_type": "markdown",
            "metadata": {},
            "source": [
                "We often need to know how many datapoints are in our dataset (num rows), or how many attributes there are per point (num columns). This is referred to as the numpy.array's \"shape.\""
            ]
        },
        {
            "cell_type": "code",
            "execution_count": 22,
            "metadata": {},
            "outputs": [
                {
                    "name": "stdout",
                    "output_type": "stream",
                    "text": [
                        "y.shape\n",
                        "(5, 4)\n",
                        "\n"
                    ]
                }
            ],
            "source": [
                "# What do each of these return? How do you interpret the result?\n",
                "\n",
                "print('y.shape')\n",
                "print(y.shape)\n",
                "print()"
            ]
        },
        {
            "cell_type": "code",
            "execution_count": 23,
            "metadata": {},
            "outputs": [
                {
                    "name": "stdout",
                    "output_type": "stream",
                    "text": [
                        "y4\n",
                        "[[ 2  3]\n",
                        " [ 6  7]\n",
                        " [10 11]\n",
                        " [14 15]\n",
                        " [18 19]]\n",
                        "\n",
                        "y4.shape\n",
                        "(5, 2)\n",
                        "\n",
                        "y4_r\n",
                        "[[ 2  3  6  7 10]\n",
                        " [11 14 15 18 19]]\n",
                        "\n",
                        "y4_r.shape\n",
                        "(2, 5)\n",
                        "\n"
                    ]
                }
            ],
            "source": [
                "# What happens when we reshape the y4 array?\n",
                "\n",
                "print('y4')\n",
                "print(y4)\n",
                "print()\n",
                "\n",
                "print('y4.shape')\n",
                "print(y4.shape)\n",
                "print()\n",
                "\n",
                "\n",
                "# Reshape it\n",
                "y4_r = y4.reshape(2,5)\n",
                "\n",
                "print('y4_r')\n",
                "print(y4_r)\n",
                "print()\n",
                "\n",
                "print('y4_r.shape')\n",
                "print(y4_r.shape)\n",
                "print()"
            ]
        },
        {
            "attachments": {},
            "cell_type": "markdown",
            "metadata": {},
            "source": [
                "Note, this is *not* the same as the transpose operation! When we reshape we maintain the order of the elements, left to right and top to bottom."
            ]
        },
        {
            "attachments": {},
            "cell_type": "markdown",
            "metadata": {},
            "source": [
                "## 2d: Numpy Functions"
            ]
        },
        {
            "attachments": {},
            "cell_type": "markdown",
            "metadata": {},
            "source": [
                "Numpy has functions that can be applied to arrays and their subsets! Many of the standard functions we might want to use are supported.\n",
                "- mean()\n",
                "- max()\n",
                "- min()"
            ]
        },
        {
            "cell_type": "code",
            "execution_count": 24,
            "metadata": {},
            "outputs": [
                {
                    "name": "stdout",
                    "output_type": "stream",
                    "text": [
                        "y\n",
                        "[[ 0  1  2  3]\n",
                        " [ 4  5  6  7]\n",
                        " [ 8  9 10 11]\n",
                        " [12 13 14 15]\n",
                        " [16 17 18 19]]\n",
                        "\n",
                        "Mean y\n",
                        "9.5\n",
                        "\n",
                        "min of the second column of y\n",
                        "1\n",
                        "\n"
                    ]
                }
            ],
            "source": [
                "# Reusing y from above (digits 1 - 20 exclusive, in a 5x4 array)\n",
                "print('y')\n",
                "print(y)\n",
                "print()\n",
                "\n",
                "print('Mean y')\n",
                "print(np.mean(y))\n",
                "print()\n",
                "\n",
                "print('min of the second column of y')\n",
                "print(np.min(y[:,1]))\n",
                "print()\n",
                "\n",
                "# Technically, we could have also used our knowledge of the data to answer this question without computation.\n",
                "# We know how the data is distributed across the array; in particular, elements increase left to right and top to bottom.\n",
                "# Leveraging this knowledge would save us computation in situations with vast, many dimensional arrays."
            ]
        },
        {
            "attachments": {},
            "cell_type": "markdown",
            "metadata": {},
            "source": [
                "You can also get apply the function across particular axes. "
            ]
        },
        {
            "cell_type": "code",
            "execution_count": 25,
            "metadata": {},
            "outputs": [
                {
                    "name": "stdout",
                    "output_type": "stream",
                    "text": [
                        "[16 17 18 19]\n"
                    ]
                }
            ],
            "source": [
                "# Another syntax for numpy functions across arrays\n",
                "print(np.max(y, axis=0))"
            ]
        },
        {
            "cell_type": "code",
            "execution_count": 26,
            "metadata": {},
            "outputs": [
                {
                    "name": "stdout",
                    "output_type": "stream",
                    "text": [
                        "[ 3  7 11 15 19]\n"
                    ]
                }
            ],
            "source": [
                "print(np.max(y, axis=1))\n",
                "\n",
                "# What are we returning here?"
            ]
        },
        {
            "attachments": {},
            "cell_type": "markdown",
            "metadata": {},
            "source": [
                "Axis 0 is the rows (down the columns), axis 1 is the columns (down the rows)."
            ]
        },
        {
            "attachments": {},
            "cell_type": "markdown",
            "metadata": {},
            "source": [
                "How do you find the numpy functions you need? Search Google for \"numpy [function description].\" Numpy has very useful documentation and examples that can help you understand its functions!"
            ]
        },
        {
            "attachments": {},
            "cell_type": "markdown",
            "metadata": {},
            "source": [
                "# 3. Introduction to Pandas"
            ]
        },
        {
            "attachments": {},
            "cell_type": "markdown",
            "metadata": {},
            "source": [
                "Pandas is used to represent dataframes. \n",
                "\n",
                "Imagine you're storing a dataset that consists of average home price and the crime rate for neighborhoods near Philadelphia. You could use a Numpy array where you always store the home price in column 1, the crime rate in column 2, etc. But it becomes ***very difficult*** to remember which column has what data, and it makes it hard for anyone else to understand your code. \n",
                "\n",
                "To overcome these challenges, we use Pandas dataframes, which lets us label each column with a description of the data it contains. \n",
                "\n",
                "First, let us load the dataset."
            ]
        },
        {
            "cell_type": "code",
            "execution_count": 27,
            "metadata": {},
            "outputs": [],
            "source": [
                "crime = pd.read_csv('Philadelphia_Crime_Rate_noNA.csv')"
            ]
        },
        {
            "attachments": {},
            "cell_type": "markdown",
            "metadata": {},
            "source": [
                "Let's begin by seeing what our dataset looks like:"
            ]
        },
        {
            "cell_type": "code",
            "execution_count": 28,
            "metadata": {},
            "outputs": [
                {
                    "data": {
                        "text/html": [
                            "<div>\n",
                            "<style scoped>\n",
                            "    .dataframe tbody tr th:only-of-type {\n",
                            "        vertical-align: middle;\n",
                            "    }\n",
                            "\n",
                            "    .dataframe tbody tr th {\n",
                            "        vertical-align: top;\n",
                            "    }\n",
                            "\n",
                            "    .dataframe thead th {\n",
                            "        text-align: right;\n",
                            "    }\n",
                            "</style>\n",
                            "<table border=\"1\" class=\"dataframe\">\n",
                            "  <thead>\n",
                            "    <tr style=\"text-align: right;\">\n",
                            "      <th></th>\n",
                            "      <th>HousePrice</th>\n",
                            "      <th>HsPrc ($10,000)</th>\n",
                            "      <th>CrimeRate</th>\n",
                            "      <th>MilesPhila</th>\n",
                            "      <th>PopChg</th>\n",
                            "      <th>Name</th>\n",
                            "      <th>County</th>\n",
                            "    </tr>\n",
                            "  </thead>\n",
                            "  <tbody>\n",
                            "    <tr>\n",
                            "      <th>0</th>\n",
                            "      <td>140463</td>\n",
                            "      <td>14.0463</td>\n",
                            "      <td>29.7</td>\n",
                            "      <td>10.0</td>\n",
                            "      <td>-1.0</td>\n",
                            "      <td>Abington</td>\n",
                            "      <td>Montgome</td>\n",
                            "    </tr>\n",
                            "    <tr>\n",
                            "      <th>1</th>\n",
                            "      <td>113033</td>\n",
                            "      <td>11.3033</td>\n",
                            "      <td>24.1</td>\n",
                            "      <td>18.0</td>\n",
                            "      <td>4.0</td>\n",
                            "      <td>Ambler</td>\n",
                            "      <td>Montgome</td>\n",
                            "    </tr>\n",
                            "    <tr>\n",
                            "      <th>2</th>\n",
                            "      <td>124186</td>\n",
                            "      <td>12.4186</td>\n",
                            "      <td>19.5</td>\n",
                            "      <td>25.0</td>\n",
                            "      <td>8.0</td>\n",
                            "      <td>Aston</td>\n",
                            "      <td>Delaware</td>\n",
                            "    </tr>\n",
                            "    <tr>\n",
                            "      <th>3</th>\n",
                            "      <td>110490</td>\n",
                            "      <td>11.0490</td>\n",
                            "      <td>49.4</td>\n",
                            "      <td>25.0</td>\n",
                            "      <td>2.7</td>\n",
                            "      <td>Bensalem</td>\n",
                            "      <td>Bucks</td>\n",
                            "    </tr>\n",
                            "    <tr>\n",
                            "      <th>4</th>\n",
                            "      <td>79124</td>\n",
                            "      <td>7.9124</td>\n",
                            "      <td>54.1</td>\n",
                            "      <td>19.0</td>\n",
                            "      <td>3.9</td>\n",
                            "      <td>Bristol B.</td>\n",
                            "      <td>Bucks</td>\n",
                            "    </tr>\n",
                            "    <tr>\n",
                            "      <th>...</th>\n",
                            "      <td>...</td>\n",
                            "      <td>...</td>\n",
                            "      <td>...</td>\n",
                            "      <td>...</td>\n",
                            "      <td>...</td>\n",
                            "      <td>...</td>\n",
                            "      <td>...</td>\n",
                            "    </tr>\n",
                            "    <tr>\n",
                            "      <th>94</th>\n",
                            "      <td>174232</td>\n",
                            "      <td>17.4232</td>\n",
                            "      <td>13.8</td>\n",
                            "      <td>25.0</td>\n",
                            "      <td>4.7</td>\n",
                            "      <td>Westtown</td>\n",
                            "      <td>Chester</td>\n",
                            "    </tr>\n",
                            "    <tr>\n",
                            "      <th>95</th>\n",
                            "      <td>196515</td>\n",
                            "      <td>19.6515</td>\n",
                            "      <td>29.9</td>\n",
                            "      <td>16.0</td>\n",
                            "      <td>1.8</td>\n",
                            "      <td>Whitemarsh</td>\n",
                            "      <td>Montgome</td>\n",
                            "    </tr>\n",
                            "    <tr>\n",
                            "      <th>96</th>\n",
                            "      <td>232714</td>\n",
                            "      <td>23.2714</td>\n",
                            "      <td>9.9</td>\n",
                            "      <td>21.0</td>\n",
                            "      <td>0.2</td>\n",
                            "      <td>Willistown</td>\n",
                            "      <td>Chester</td>\n",
                            "    </tr>\n",
                            "    <tr>\n",
                            "      <th>97</th>\n",
                            "      <td>245920</td>\n",
                            "      <td>24.5920</td>\n",
                            "      <td>22.6</td>\n",
                            "      <td>10.0</td>\n",
                            "      <td>0.3</td>\n",
                            "      <td>Wynnewood</td>\n",
                            "      <td>Montgome</td>\n",
                            "    </tr>\n",
                            "    <tr>\n",
                            "      <th>98</th>\n",
                            "      <td>130953</td>\n",
                            "      <td>13.0953</td>\n",
                            "      <td>13.0</td>\n",
                            "      <td>24.0</td>\n",
                            "      <td>5.2</td>\n",
                            "      <td>Yardley</td>\n",
                            "      <td>Bucks</td>\n",
                            "    </tr>\n",
                            "  </tbody>\n",
                            "</table>\n",
                            "<p>99 rows × 7 columns</p>\n",
                            "</div>"
                        ],
                        "text/plain": [
                            "    HousePrice  HsPrc ($10,000)  CrimeRate  MilesPhila  PopChg        Name  \\\n",
                            "0       140463          14.0463       29.7        10.0    -1.0    Abington   \n",
                            "1       113033          11.3033       24.1        18.0     4.0      Ambler   \n",
                            "2       124186          12.4186       19.5        25.0     8.0       Aston   \n",
                            "3       110490          11.0490       49.4        25.0     2.7    Bensalem   \n",
                            "4        79124           7.9124       54.1        19.0     3.9  Bristol B.   \n",
                            "..         ...              ...        ...         ...     ...         ...   \n",
                            "94      174232          17.4232       13.8        25.0     4.7    Westtown   \n",
                            "95      196515          19.6515       29.9        16.0     1.8  Whitemarsh   \n",
                            "96      232714          23.2714        9.9        21.0     0.2  Willistown   \n",
                            "97      245920          24.5920       22.6        10.0     0.3   Wynnewood   \n",
                            "98      130953          13.0953       13.0        24.0     5.2     Yardley   \n",
                            "\n",
                            "      County  \n",
                            "0   Montgome  \n",
                            "1   Montgome  \n",
                            "2   Delaware  \n",
                            "3      Bucks  \n",
                            "4      Bucks  \n",
                            "..       ...  \n",
                            "94   Chester  \n",
                            "95  Montgome  \n",
                            "96   Chester  \n",
                            "97  Montgome  \n",
                            "98     Bucks  \n",
                            "\n",
                            "[99 rows x 7 columns]"
                        ]
                    },
                    "execution_count": 28,
                    "metadata": {},
                    "output_type": "execute_result"
                }
            ],
            "source": [
                "crime"
            ]
        },
        {
            "attachments": {},
            "cell_type": "markdown",
            "metadata": {},
            "source": [
                "If the dataset is particularly large we can look at only the first few rows using the `head` method"
            ]
        },
        {
            "cell_type": "code",
            "execution_count": 29,
            "metadata": {},
            "outputs": [
                {
                    "data": {
                        "text/html": [
                            "<div>\n",
                            "<style scoped>\n",
                            "    .dataframe tbody tr th:only-of-type {\n",
                            "        vertical-align: middle;\n",
                            "    }\n",
                            "\n",
                            "    .dataframe tbody tr th {\n",
                            "        vertical-align: top;\n",
                            "    }\n",
                            "\n",
                            "    .dataframe thead th {\n",
                            "        text-align: right;\n",
                            "    }\n",
                            "</style>\n",
                            "<table border=\"1\" class=\"dataframe\">\n",
                            "  <thead>\n",
                            "    <tr style=\"text-align: right;\">\n",
                            "      <th></th>\n",
                            "      <th>HousePrice</th>\n",
                            "      <th>HsPrc ($10,000)</th>\n",
                            "      <th>CrimeRate</th>\n",
                            "      <th>MilesPhila</th>\n",
                            "      <th>PopChg</th>\n",
                            "      <th>Name</th>\n",
                            "      <th>County</th>\n",
                            "    </tr>\n",
                            "  </thead>\n",
                            "  <tbody>\n",
                            "    <tr>\n",
                            "      <th>0</th>\n",
                            "      <td>140463</td>\n",
                            "      <td>14.0463</td>\n",
                            "      <td>29.7</td>\n",
                            "      <td>10.0</td>\n",
                            "      <td>-1.0</td>\n",
                            "      <td>Abington</td>\n",
                            "      <td>Montgome</td>\n",
                            "    </tr>\n",
                            "    <tr>\n",
                            "      <th>1</th>\n",
                            "      <td>113033</td>\n",
                            "      <td>11.3033</td>\n",
                            "      <td>24.1</td>\n",
                            "      <td>18.0</td>\n",
                            "      <td>4.0</td>\n",
                            "      <td>Ambler</td>\n",
                            "      <td>Montgome</td>\n",
                            "    </tr>\n",
                            "    <tr>\n",
                            "      <th>2</th>\n",
                            "      <td>124186</td>\n",
                            "      <td>12.4186</td>\n",
                            "      <td>19.5</td>\n",
                            "      <td>25.0</td>\n",
                            "      <td>8.0</td>\n",
                            "      <td>Aston</td>\n",
                            "      <td>Delaware</td>\n",
                            "    </tr>\n",
                            "    <tr>\n",
                            "      <th>3</th>\n",
                            "      <td>110490</td>\n",
                            "      <td>11.0490</td>\n",
                            "      <td>49.4</td>\n",
                            "      <td>25.0</td>\n",
                            "      <td>2.7</td>\n",
                            "      <td>Bensalem</td>\n",
                            "      <td>Bucks</td>\n",
                            "    </tr>\n",
                            "    <tr>\n",
                            "      <th>4</th>\n",
                            "      <td>79124</td>\n",
                            "      <td>7.9124</td>\n",
                            "      <td>54.1</td>\n",
                            "      <td>19.0</td>\n",
                            "      <td>3.9</td>\n",
                            "      <td>Bristol B.</td>\n",
                            "      <td>Bucks</td>\n",
                            "    </tr>\n",
                            "  </tbody>\n",
                            "</table>\n",
                            "</div>"
                        ],
                        "text/plain": [
                            "   HousePrice  HsPrc ($10,000)  CrimeRate  MilesPhila  PopChg        Name  \\\n",
                            "0      140463          14.0463       29.7        10.0    -1.0    Abington   \n",
                            "1      113033          11.3033       24.1        18.0     4.0      Ambler   \n",
                            "2      124186          12.4186       19.5        25.0     8.0       Aston   \n",
                            "3      110490          11.0490       49.4        25.0     2.7    Bensalem   \n",
                            "4       79124           7.9124       54.1        19.0     3.9  Bristol B.   \n",
                            "\n",
                            "     County  \n",
                            "0  Montgome  \n",
                            "1  Montgome  \n",
                            "2  Delaware  \n",
                            "3     Bucks  \n",
                            "4     Bucks  "
                        ]
                    },
                    "execution_count": 29,
                    "metadata": {},
                    "output_type": "execute_result"
                }
            ],
            "source": [
                "crime.head()"
            ]
        },
        {
            "attachments": {},
            "cell_type": "markdown",
            "metadata": {},
            "source": [
                "Select all values in the `HousePrice` column"
            ]
        },
        {
            "cell_type": "code",
            "execution_count": 30,
            "metadata": {},
            "outputs": [
                {
                    "data": {
                        "text/plain": [
                            "0     140463\n",
                            "1     113033\n",
                            "2     124186\n",
                            "3     110490\n",
                            "4      79124\n",
                            "       ...  \n",
                            "94    174232\n",
                            "95    196515\n",
                            "96    232714\n",
                            "97    245920\n",
                            "98    130953\n",
                            "Name: HousePrice, Length: 99, dtype: int64"
                        ]
                    },
                    "execution_count": 30,
                    "metadata": {},
                    "output_type": "execute_result"
                }
            ],
            "source": [
                "crime['HousePrice']"
            ]
        },
        {
            "attachments": {},
            "cell_type": "markdown",
            "metadata": {},
            "source": [
                "Using a single column we can apply a variety of aggregate functions to summarize the data:\n",
                "* min()\n",
                "* max()\n",
                "* mean()"
            ]
        },
        {
            "cell_type": "code",
            "execution_count": 33,
            "metadata": {},
            "outputs": [
                {
                    "data": {
                        "text/plain": [
                            "np.int64(28000)"
                        ]
                    },
                    "execution_count": 33,
                    "metadata": {},
                    "output_type": "execute_result"
                }
            ],
            "source": [
                "crime['HousePrice'].min()"
            ]
        },
        {
            "cell_type": "code",
            "execution_count": 34,
            "metadata": {},
            "outputs": [
                {
                    "data": {
                        "text/plain": [
                            "np.int64(475112)"
                        ]
                    },
                    "execution_count": 34,
                    "metadata": {},
                    "output_type": "execute_result"
                }
            ],
            "source": [
                "crime['HousePrice'].max()"
            ]
        },
        {
            "cell_type": "code",
            "execution_count": 35,
            "metadata": {},
            "outputs": [
                {
                    "data": {
                        "text/plain": [
                            "np.float64(157835.60606060605)"
                        ]
                    },
                    "execution_count": 35,
                    "metadata": {},
                    "output_type": "execute_result"
                }
            ],
            "source": [
                "crime['HousePrice'].mean()"
            ]
        },
        {
            "attachments": {},
            "cell_type": "markdown",
            "metadata": {},
            "source": [
                "## 3a: Accessing the Data\n",
                "\n",
                "Different columns may have different types. Let's find out the type of each column!"
            ]
        },
        {
            "cell_type": "code",
            "execution_count": 36,
            "metadata": {},
            "outputs": [
                {
                    "data": {
                        "text/plain": [
                            "HousePrice           int64\n",
                            "HsPrc ($10,000)    float64\n",
                            "CrimeRate          float64\n",
                            "MilesPhila         float64\n",
                            "PopChg             float64\n",
                            "Name                object\n",
                            "County              object\n",
                            "dtype: object"
                        ]
                    },
                    "execution_count": 36,
                    "metadata": {},
                    "output_type": "execute_result"
                }
            ],
            "source": [
                "crime.dtypes"
            ]
        },
        {
            "attachments": {},
            "cell_type": "markdown",
            "metadata": {},
            "source": [
                "We can index into pandas dataframes and series using indicies using the `iloc` function"
            ]
        },
        {
            "cell_type": "code",
            "execution_count": 37,
            "metadata": {},
            "outputs": [
                {
                    "data": {
                        "text/plain": [
                            "HousePrice           134342\n",
                            "HsPrc ($10,000)     13.4342\n",
                            "CrimeRate              17.3\n",
                            "MilesPhila             31.0\n",
                            "PopChg                  4.2\n",
                            "Name               Chalfont\n",
                            "County                Bucks\n",
                            "Name: 10, dtype: object"
                        ]
                    },
                    "execution_count": 37,
                    "metadata": {},
                    "output_type": "execute_result"
                }
            ],
            "source": [
                "crime.iloc[10]"
            ]
        },
        {
            "cell_type": "code",
            "execution_count": 38,
            "metadata": {},
            "outputs": [
                {
                    "data": {
                        "text/plain": [
                            "np.int64(134342)"
                        ]
                    },
                    "execution_count": 38,
                    "metadata": {},
                    "output_type": "execute_result"
                }
            ],
            "source": [
                "crime['HousePrice'].iloc[10]"
            ]
        },
        {
            "cell_type": "code",
            "execution_count": 39,
            "metadata": {},
            "outputs": [
                {
                    "data": {
                        "text/plain": [
                            "np.int64(134342)"
                        ]
                    },
                    "execution_count": 39,
                    "metadata": {},
                    "output_type": "execute_result"
                }
            ],
            "source": [
                "crime.iloc[10]['HousePrice']"
            ]
        },
        {
            "attachments": {},
            "cell_type": "markdown",
            "metadata": {},
            "source": [
                "Get the house price of the city at row 73 of the dataset."
            ]
        },
        {
            "cell_type": "code",
            "execution_count": 41,
            "metadata": {},
            "outputs": [
                {
                    "data": {
                        "text/plain": [
                            "np.int64(259506)"
                        ]
                    },
                    "execution_count": 41,
                    "metadata": {},
                    "output_type": "execute_result"
                }
            ],
            "source": [
                "crime['HousePrice'].iloc[73]"
            ]
        },
        {
            "attachments": {},
            "cell_type": "markdown",
            "metadata": {},
            "source": [
                "## 3b: Filters\n",
                "\n",
                "One of the most powerful features of pandas is being able to filter data based on certain criteria."
            ]
        },
        {
            "attachments": {},
            "cell_type": "markdown",
            "metadata": {},
            "source": [
                "Let's start by getting all rows in our dataset that are located in Bucks county"
            ]
        },
        {
            "cell_type": "code",
            "execution_count": 42,
            "metadata": {},
            "outputs": [
                {
                    "data": {
                        "text/html": [
                            "<div>\n",
                            "<style scoped>\n",
                            "    .dataframe tbody tr th:only-of-type {\n",
                            "        vertical-align: middle;\n",
                            "    }\n",
                            "\n",
                            "    .dataframe tbody tr th {\n",
                            "        vertical-align: top;\n",
                            "    }\n",
                            "\n",
                            "    .dataframe thead th {\n",
                            "        text-align: right;\n",
                            "    }\n",
                            "</style>\n",
                            "<table border=\"1\" class=\"dataframe\">\n",
                            "  <thead>\n",
                            "    <tr style=\"text-align: right;\">\n",
                            "      <th></th>\n",
                            "      <th>HousePrice</th>\n",
                            "      <th>HsPrc ($10,000)</th>\n",
                            "      <th>CrimeRate</th>\n",
                            "      <th>MilesPhila</th>\n",
                            "      <th>PopChg</th>\n",
                            "      <th>Name</th>\n",
                            "      <th>County</th>\n",
                            "    </tr>\n",
                            "  </thead>\n",
                            "  <tbody>\n",
                            "    <tr>\n",
                            "      <th>3</th>\n",
                            "      <td>110490</td>\n",
                            "      <td>11.0490</td>\n",
                            "      <td>49.4</td>\n",
                            "      <td>25.0</td>\n",
                            "      <td>2.7</td>\n",
                            "      <td>Bensalem</td>\n",
                            "      <td>Bucks</td>\n",
                            "    </tr>\n",
                            "    <tr>\n",
                            "      <th>4</th>\n",
                            "      <td>79124</td>\n",
                            "      <td>7.9124</td>\n",
                            "      <td>54.1</td>\n",
                            "      <td>19.0</td>\n",
                            "      <td>3.9</td>\n",
                            "      <td>Bristol B.</td>\n",
                            "      <td>Bucks</td>\n",
                            "    </tr>\n",
                            "    <tr>\n",
                            "      <th>5</th>\n",
                            "      <td>92634</td>\n",
                            "      <td>9.2634</td>\n",
                            "      <td>48.6</td>\n",
                            "      <td>20.0</td>\n",
                            "      <td>0.6</td>\n",
                            "      <td>Bristol T.</td>\n",
                            "      <td>Bucks</td>\n",
                            "    </tr>\n",
                            "    <tr>\n",
                            "      <th>9</th>\n",
                            "      <td>264298</td>\n",
                            "      <td>26.4298</td>\n",
                            "      <td>20.4</td>\n",
                            "      <td>26.0</td>\n",
                            "      <td>6.0</td>\n",
                            "      <td>Buckingham</td>\n",
                            "      <td>Bucks</td>\n",
                            "    </tr>\n",
                            "    <tr>\n",
                            "      <th>10</th>\n",
                            "      <td>134342</td>\n",
                            "      <td>13.4342</td>\n",
                            "      <td>17.3</td>\n",
                            "      <td>31.0</td>\n",
                            "      <td>4.2</td>\n",
                            "      <td>Chalfont</td>\n",
                            "      <td>Bucks</td>\n",
                            "    </tr>\n",
                            "    <tr>\n",
                            "      <th>17</th>\n",
                            "      <td>190317</td>\n",
                            "      <td>19.0317</td>\n",
                            "      <td>19.4</td>\n",
                            "      <td>26.0</td>\n",
                            "      <td>1.9</td>\n",
                            "      <td>Doylestown</td>\n",
                            "      <td>Bucks</td>\n",
                            "    </tr>\n",
                            "    <tr>\n",
                            "      <th>24</th>\n",
                            "      <td>114233</td>\n",
                            "      <td>11.4233</td>\n",
                            "      <td>29.0</td>\n",
                            "      <td>30.0</td>\n",
                            "      <td>1.3</td>\n",
                            "      <td>Falls Town</td>\n",
                            "      <td>Bucks</td>\n",
                            "    </tr>\n",
                            "    <tr>\n",
                            "      <th>34</th>\n",
                            "      <td>194435</td>\n",
                            "      <td>19.4435</td>\n",
                            "      <td>15.7</td>\n",
                            "      <td>32.0</td>\n",
                            "      <td>15.0</td>\n",
                            "      <td>L. Makefield</td>\n",
                            "      <td>Bucks</td>\n",
                            "    </tr>\n",
                            "    <tr>\n",
                            "      <th>43</th>\n",
                            "      <td>143072</td>\n",
                            "      <td>14.3072</td>\n",
                            "      <td>40.1</td>\n",
                            "      <td>23.0</td>\n",
                            "      <td>1.6</td>\n",
                            "      <td>Middletown</td>\n",
                            "      <td>Bucks</td>\n",
                            "    </tr>\n",
                            "    <tr>\n",
                            "      <th>44</th>\n",
                            "      <td>96769</td>\n",
                            "      <td>9.6769</td>\n",
                            "      <td>36.1</td>\n",
                            "      <td>15.0</td>\n",
                            "      <td>5.1</td>\n",
                            "      <td>Morrisville</td>\n",
                            "      <td>Bucks</td>\n",
                            "    </tr>\n",
                            "    <tr>\n",
                            "      <th>49</th>\n",
                            "      <td>153842</td>\n",
                            "      <td>15.3842</td>\n",
                            "      <td>15.3</td>\n",
                            "      <td>23.0</td>\n",
                            "      <td>8.5</td>\n",
                            "      <td>Newtown</td>\n",
                            "      <td>Bucks</td>\n",
                            "    </tr>\n",
                            "    <tr>\n",
                            "      <th>50</th>\n",
                            "      <td>197214</td>\n",
                            "      <td>19.7214</td>\n",
                            "      <td>15.2</td>\n",
                            "      <td>25.0</td>\n",
                            "      <td>2.1</td>\n",
                            "      <td>Newtown B.</td>\n",
                            "      <td>Bucks</td>\n",
                            "    </tr>\n",
                            "    <tr>\n",
                            "      <th>53</th>\n",
                            "      <td>169401</td>\n",
                            "      <td>16.9401</td>\n",
                            "      <td>7.1</td>\n",
                            "      <td>22.0</td>\n",
                            "      <td>1.5</td>\n",
                            "      <td>Northampton</td>\n",
                            "      <td>Bucks</td>\n",
                            "    </tr>\n",
                            "    <tr>\n",
                            "      <th>73</th>\n",
                            "      <td>259506</td>\n",
                            "      <td>25.9506</td>\n",
                            "      <td>7.2</td>\n",
                            "      <td>40.0</td>\n",
                            "      <td>17.4</td>\n",
                            "      <td>Solebury</td>\n",
                            "      <td>Bucks</td>\n",
                            "    </tr>\n",
                            "    <tr>\n",
                            "      <th>79</th>\n",
                            "      <td>359112</td>\n",
                            "      <td>35.9112</td>\n",
                            "      <td>9.4</td>\n",
                            "      <td>36.0</td>\n",
                            "      <td>4.0</td>\n",
                            "      <td>U. Makefield</td>\n",
                            "      <td>Bucks</td>\n",
                            "    </tr>\n",
                            "    <tr>\n",
                            "      <th>83</th>\n",
                            "      <td>142811</td>\n",
                            "      <td>14.2811</td>\n",
                            "      <td>15.9</td>\n",
                            "      <td>20.0</td>\n",
                            "      <td>-1.6</td>\n",
                            "      <td>U. Southampton</td>\n",
                            "      <td>Bucks</td>\n",
                            "    </tr>\n",
                            "    <tr>\n",
                            "      <th>92</th>\n",
                            "      <td>130088</td>\n",
                            "      <td>13.0088</td>\n",
                            "      <td>28.6</td>\n",
                            "      <td>19.0</td>\n",
                            "      <td>-0.2</td>\n",
                            "      <td>Warminster</td>\n",
                            "      <td>Bucks</td>\n",
                            "    </tr>\n",
                            "    <tr>\n",
                            "      <th>93</th>\n",
                            "      <td>152624</td>\n",
                            "      <td>15.2624</td>\n",
                            "      <td>24.0</td>\n",
                            "      <td>19.0</td>\n",
                            "      <td>23.1</td>\n",
                            "      <td>Warrington</td>\n",
                            "      <td>Bucks</td>\n",
                            "    </tr>\n",
                            "    <tr>\n",
                            "      <th>98</th>\n",
                            "      <td>130953</td>\n",
                            "      <td>13.0953</td>\n",
                            "      <td>13.0</td>\n",
                            "      <td>24.0</td>\n",
                            "      <td>5.2</td>\n",
                            "      <td>Yardley</td>\n",
                            "      <td>Bucks</td>\n",
                            "    </tr>\n",
                            "  </tbody>\n",
                            "</table>\n",
                            "</div>"
                        ],
                        "text/plain": [
                            "    HousePrice  HsPrc ($10,000)  CrimeRate  MilesPhila  PopChg  \\\n",
                            "3       110490          11.0490       49.4        25.0     2.7   \n",
                            "4        79124           7.9124       54.1        19.0     3.9   \n",
                            "5        92634           9.2634       48.6        20.0     0.6   \n",
                            "9       264298          26.4298       20.4        26.0     6.0   \n",
                            "10      134342          13.4342       17.3        31.0     4.2   \n",
                            "17      190317          19.0317       19.4        26.0     1.9   \n",
                            "24      114233          11.4233       29.0        30.0     1.3   \n",
                            "34      194435          19.4435       15.7        32.0    15.0   \n",
                            "43      143072          14.3072       40.1        23.0     1.6   \n",
                            "44       96769           9.6769       36.1        15.0     5.1   \n",
                            "49      153842          15.3842       15.3        23.0     8.5   \n",
                            "50      197214          19.7214       15.2        25.0     2.1   \n",
                            "53      169401          16.9401        7.1        22.0     1.5   \n",
                            "73      259506          25.9506        7.2        40.0    17.4   \n",
                            "79      359112          35.9112        9.4        36.0     4.0   \n",
                            "83      142811          14.2811       15.9        20.0    -1.6   \n",
                            "92      130088          13.0088       28.6        19.0    -0.2   \n",
                            "93      152624          15.2624       24.0        19.0    23.1   \n",
                            "98      130953          13.0953       13.0        24.0     5.2   \n",
                            "\n",
                            "              Name County  \n",
                            "3         Bensalem  Bucks  \n",
                            "4       Bristol B.  Bucks  \n",
                            "5       Bristol T.  Bucks  \n",
                            "9       Buckingham  Bucks  \n",
                            "10        Chalfont  Bucks  \n",
                            "17      Doylestown  Bucks  \n",
                            "24      Falls Town  Bucks  \n",
                            "34    L. Makefield  Bucks  \n",
                            "43      Middletown  Bucks  \n",
                            "44     Morrisville  Bucks  \n",
                            "49         Newtown  Bucks  \n",
                            "50      Newtown B.  Bucks  \n",
                            "53     Northampton  Bucks  \n",
                            "73        Solebury  Bucks  \n",
                            "79    U. Makefield  Bucks  \n",
                            "83  U. Southampton  Bucks  \n",
                            "92      Warminster  Bucks  \n",
                            "93      Warrington  Bucks  \n",
                            "98         Yardley  Bucks  "
                        ]
                    },
                    "execution_count": 42,
                    "metadata": {},
                    "output_type": "execute_result"
                }
            ],
            "source": [
                "crime[crime[\"County\"] == \"Bucks\"]"
            ]
        },
        {
            "attachments": {},
            "cell_type": "markdown",
            "metadata": {},
            "source": [
                "What exactly is this doing? "
            ]
        },
        {
            "attachments": {},
            "cell_type": "markdown",
            "metadata": {},
            "source": [
                "Filters can also be combined to have multiple criteria. Let's start by looking at all rows in the dataset that are located in Bucks county with a crimerate greater than 15"
            ]
        },
        {
            "cell_type": "code",
            "execution_count": 43,
            "metadata": {},
            "outputs": [
                {
                    "data": {
                        "text/html": [
                            "<div>\n",
                            "<style scoped>\n",
                            "    .dataframe tbody tr th:only-of-type {\n",
                            "        vertical-align: middle;\n",
                            "    }\n",
                            "\n",
                            "    .dataframe tbody tr th {\n",
                            "        vertical-align: top;\n",
                            "    }\n",
                            "\n",
                            "    .dataframe thead th {\n",
                            "        text-align: right;\n",
                            "    }\n",
                            "</style>\n",
                            "<table border=\"1\" class=\"dataframe\">\n",
                            "  <thead>\n",
                            "    <tr style=\"text-align: right;\">\n",
                            "      <th></th>\n",
                            "      <th>HousePrice</th>\n",
                            "      <th>HsPrc ($10,000)</th>\n",
                            "      <th>CrimeRate</th>\n",
                            "      <th>MilesPhila</th>\n",
                            "      <th>PopChg</th>\n",
                            "      <th>Name</th>\n",
                            "      <th>County</th>\n",
                            "    </tr>\n",
                            "  </thead>\n",
                            "  <tbody>\n",
                            "    <tr>\n",
                            "      <th>3</th>\n",
                            "      <td>110490</td>\n",
                            "      <td>11.0490</td>\n",
                            "      <td>49.4</td>\n",
                            "      <td>25.0</td>\n",
                            "      <td>2.7</td>\n",
                            "      <td>Bensalem</td>\n",
                            "      <td>Bucks</td>\n",
                            "    </tr>\n",
                            "    <tr>\n",
                            "      <th>4</th>\n",
                            "      <td>79124</td>\n",
                            "      <td>7.9124</td>\n",
                            "      <td>54.1</td>\n",
                            "      <td>19.0</td>\n",
                            "      <td>3.9</td>\n",
                            "      <td>Bristol B.</td>\n",
                            "      <td>Bucks</td>\n",
                            "    </tr>\n",
                            "    <tr>\n",
                            "      <th>5</th>\n",
                            "      <td>92634</td>\n",
                            "      <td>9.2634</td>\n",
                            "      <td>48.6</td>\n",
                            "      <td>20.0</td>\n",
                            "      <td>0.6</td>\n",
                            "      <td>Bristol T.</td>\n",
                            "      <td>Bucks</td>\n",
                            "    </tr>\n",
                            "    <tr>\n",
                            "      <th>9</th>\n",
                            "      <td>264298</td>\n",
                            "      <td>26.4298</td>\n",
                            "      <td>20.4</td>\n",
                            "      <td>26.0</td>\n",
                            "      <td>6.0</td>\n",
                            "      <td>Buckingham</td>\n",
                            "      <td>Bucks</td>\n",
                            "    </tr>\n",
                            "    <tr>\n",
                            "      <th>10</th>\n",
                            "      <td>134342</td>\n",
                            "      <td>13.4342</td>\n",
                            "      <td>17.3</td>\n",
                            "      <td>31.0</td>\n",
                            "      <td>4.2</td>\n",
                            "      <td>Chalfont</td>\n",
                            "      <td>Bucks</td>\n",
                            "    </tr>\n",
                            "    <tr>\n",
                            "      <th>17</th>\n",
                            "      <td>190317</td>\n",
                            "      <td>19.0317</td>\n",
                            "      <td>19.4</td>\n",
                            "      <td>26.0</td>\n",
                            "      <td>1.9</td>\n",
                            "      <td>Doylestown</td>\n",
                            "      <td>Bucks</td>\n",
                            "    </tr>\n",
                            "    <tr>\n",
                            "      <th>24</th>\n",
                            "      <td>114233</td>\n",
                            "      <td>11.4233</td>\n",
                            "      <td>29.0</td>\n",
                            "      <td>30.0</td>\n",
                            "      <td>1.3</td>\n",
                            "      <td>Falls Town</td>\n",
                            "      <td>Bucks</td>\n",
                            "    </tr>\n",
                            "    <tr>\n",
                            "      <th>34</th>\n",
                            "      <td>194435</td>\n",
                            "      <td>19.4435</td>\n",
                            "      <td>15.7</td>\n",
                            "      <td>32.0</td>\n",
                            "      <td>15.0</td>\n",
                            "      <td>L. Makefield</td>\n",
                            "      <td>Bucks</td>\n",
                            "    </tr>\n",
                            "    <tr>\n",
                            "      <th>43</th>\n",
                            "      <td>143072</td>\n",
                            "      <td>14.3072</td>\n",
                            "      <td>40.1</td>\n",
                            "      <td>23.0</td>\n",
                            "      <td>1.6</td>\n",
                            "      <td>Middletown</td>\n",
                            "      <td>Bucks</td>\n",
                            "    </tr>\n",
                            "    <tr>\n",
                            "      <th>44</th>\n",
                            "      <td>96769</td>\n",
                            "      <td>9.6769</td>\n",
                            "      <td>36.1</td>\n",
                            "      <td>15.0</td>\n",
                            "      <td>5.1</td>\n",
                            "      <td>Morrisville</td>\n",
                            "      <td>Bucks</td>\n",
                            "    </tr>\n",
                            "    <tr>\n",
                            "      <th>49</th>\n",
                            "      <td>153842</td>\n",
                            "      <td>15.3842</td>\n",
                            "      <td>15.3</td>\n",
                            "      <td>23.0</td>\n",
                            "      <td>8.5</td>\n",
                            "      <td>Newtown</td>\n",
                            "      <td>Bucks</td>\n",
                            "    </tr>\n",
                            "    <tr>\n",
                            "      <th>50</th>\n",
                            "      <td>197214</td>\n",
                            "      <td>19.7214</td>\n",
                            "      <td>15.2</td>\n",
                            "      <td>25.0</td>\n",
                            "      <td>2.1</td>\n",
                            "      <td>Newtown B.</td>\n",
                            "      <td>Bucks</td>\n",
                            "    </tr>\n",
                            "    <tr>\n",
                            "      <th>83</th>\n",
                            "      <td>142811</td>\n",
                            "      <td>14.2811</td>\n",
                            "      <td>15.9</td>\n",
                            "      <td>20.0</td>\n",
                            "      <td>-1.6</td>\n",
                            "      <td>U. Southampton</td>\n",
                            "      <td>Bucks</td>\n",
                            "    </tr>\n",
                            "    <tr>\n",
                            "      <th>92</th>\n",
                            "      <td>130088</td>\n",
                            "      <td>13.0088</td>\n",
                            "      <td>28.6</td>\n",
                            "      <td>19.0</td>\n",
                            "      <td>-0.2</td>\n",
                            "      <td>Warminster</td>\n",
                            "      <td>Bucks</td>\n",
                            "    </tr>\n",
                            "    <tr>\n",
                            "      <th>93</th>\n",
                            "      <td>152624</td>\n",
                            "      <td>15.2624</td>\n",
                            "      <td>24.0</td>\n",
                            "      <td>19.0</td>\n",
                            "      <td>23.1</td>\n",
                            "      <td>Warrington</td>\n",
                            "      <td>Bucks</td>\n",
                            "    </tr>\n",
                            "  </tbody>\n",
                            "</table>\n",
                            "</div>"
                        ],
                        "text/plain": [
                            "    HousePrice  HsPrc ($10,000)  CrimeRate  MilesPhila  PopChg  \\\n",
                            "3       110490          11.0490       49.4        25.0     2.7   \n",
                            "4        79124           7.9124       54.1        19.0     3.9   \n",
                            "5        92634           9.2634       48.6        20.0     0.6   \n",
                            "9       264298          26.4298       20.4        26.0     6.0   \n",
                            "10      134342          13.4342       17.3        31.0     4.2   \n",
                            "17      190317          19.0317       19.4        26.0     1.9   \n",
                            "24      114233          11.4233       29.0        30.0     1.3   \n",
                            "34      194435          19.4435       15.7        32.0    15.0   \n",
                            "43      143072          14.3072       40.1        23.0     1.6   \n",
                            "44       96769           9.6769       36.1        15.0     5.1   \n",
                            "49      153842          15.3842       15.3        23.0     8.5   \n",
                            "50      197214          19.7214       15.2        25.0     2.1   \n",
                            "83      142811          14.2811       15.9        20.0    -1.6   \n",
                            "92      130088          13.0088       28.6        19.0    -0.2   \n",
                            "93      152624          15.2624       24.0        19.0    23.1   \n",
                            "\n",
                            "              Name County  \n",
                            "3         Bensalem  Bucks  \n",
                            "4       Bristol B.  Bucks  \n",
                            "5       Bristol T.  Bucks  \n",
                            "9       Buckingham  Bucks  \n",
                            "10        Chalfont  Bucks  \n",
                            "17      Doylestown  Bucks  \n",
                            "24      Falls Town  Bucks  \n",
                            "34    L. Makefield  Bucks  \n",
                            "43      Middletown  Bucks  \n",
                            "44     Morrisville  Bucks  \n",
                            "49         Newtown  Bucks  \n",
                            "50      Newtown B.  Bucks  \n",
                            "83  U. Southampton  Bucks  \n",
                            "92      Warminster  Bucks  \n",
                            "93      Warrington  Bucks  "
                        ]
                    },
                    "execution_count": 43,
                    "metadata": {},
                    "output_type": "execute_result"
                }
            ],
            "source": [
                "crime[(crime[\"County\"] == \"Bucks\") & (crime[\"CrimeRate\"] > 15)]"
            ]
        },
        {
            "attachments": {},
            "cell_type": "markdown",
            "metadata": {},
            "source": [
                "How many rows are there in this dataset?"
            ]
        },
        {
            "cell_type": "code",
            "execution_count": 44,
            "metadata": {},
            "outputs": [
                {
                    "data": {
                        "text/plain": [
                            "(15, 7)"
                        ]
                    },
                    "execution_count": 44,
                    "metadata": {},
                    "output_type": "execute_result"
                }
            ],
            "source": [
                "crime[(crime[\"County\"] == \"Bucks\") & (crime[\"CrimeRate\"] > 15)].shape"
            ]
        },
        {
            "attachments": {},
            "cell_type": "markdown",
            "metadata": {},
            "source": [
                "Get the rows in Delaware county with home prices less than $100,000."
            ]
        },
        {
            "cell_type": "code",
            "execution_count": 48,
            "metadata": {},
            "outputs": [
                {
                    "data": {
                        "text/html": [
                            "<div>\n",
                            "<style scoped>\n",
                            "    .dataframe tbody tr th:only-of-type {\n",
                            "        vertical-align: middle;\n",
                            "    }\n",
                            "\n",
                            "    .dataframe tbody tr th {\n",
                            "        vertical-align: top;\n",
                            "    }\n",
                            "\n",
                            "    .dataframe thead th {\n",
                            "        text-align: right;\n",
                            "    }\n",
                            "</style>\n",
                            "<table border=\"1\" class=\"dataframe\">\n",
                            "  <thead>\n",
                            "    <tr style=\"text-align: right;\">\n",
                            "      <th></th>\n",
                            "      <th>HousePrice</th>\n",
                            "      <th>HsPrc ($10,000)</th>\n",
                            "      <th>CrimeRate</th>\n",
                            "      <th>MilesPhila</th>\n",
                            "      <th>PopChg</th>\n",
                            "      <th>Name</th>\n",
                            "      <th>County</th>\n",
                            "    </tr>\n",
                            "  </thead>\n",
                            "  <tbody>\n",
                            "    <tr>\n",
                            "      <th>6</th>\n",
                            "      <td>89246</td>\n",
                            "      <td>8.9246</td>\n",
                            "      <td>30.8</td>\n",
                            "      <td>15.0</td>\n",
                            "      <td>-2.6</td>\n",
                            "      <td>Brookhaven</td>\n",
                            "      <td>Delaware</td>\n",
                            "    </tr>\n",
                            "    <tr>\n",
                            "      <th>12</th>\n",
                            "      <td>77370</td>\n",
                            "      <td>7.7370</td>\n",
                            "      <td>34.2</td>\n",
                            "      <td>10.0</td>\n",
                            "      <td>-1.2</td>\n",
                            "      <td>Clifton</td>\n",
                            "      <td>Delaware</td>\n",
                            "    </tr>\n",
                            "    <tr>\n",
                            "      <th>14</th>\n",
                            "      <td>40642</td>\n",
                            "      <td>4.0642</td>\n",
                            "      <td>45.7</td>\n",
                            "      <td>15.0</td>\n",
                            "      <td>0.0</td>\n",
                            "      <td>Darby Bor.</td>\n",
                            "      <td>Delaware</td>\n",
                            "    </tr>\n",
                            "    <tr>\n",
                            "      <th>15</th>\n",
                            "      <td>71359</td>\n",
                            "      <td>7.1359</td>\n",
                            "      <td>22.3</td>\n",
                            "      <td>8.0</td>\n",
                            "      <td>1.6</td>\n",
                            "      <td>Darby Town</td>\n",
                            "      <td>Delaware</td>\n",
                            "    </tr>\n",
                            "    <tr>\n",
                            "      <th>25</th>\n",
                            "      <td>74502</td>\n",
                            "      <td>7.4502</td>\n",
                            "      <td>21.4</td>\n",
                            "      <td>15.0</td>\n",
                            "      <td>-3.2</td>\n",
                            "      <td>Follcroft</td>\n",
                            "      <td>Delaware</td>\n",
                            "    </tr>\n",
                            "    <tr>\n",
                            "      <th>27</th>\n",
                            "      <td>97167</td>\n",
                            "      <td>9.7167</td>\n",
                            "      <td>29.3</td>\n",
                            "      <td>10.0</td>\n",
                            "      <td>0.2</td>\n",
                            "      <td>Glenolden</td>\n",
                            "      <td>Delaware</td>\n",
                            "    </tr>\n",
                            "    <tr>\n",
                            "      <th>38</th>\n",
                            "      <td>93738</td>\n",
                            "      <td>9.3738</td>\n",
                            "      <td>19.3</td>\n",
                            "      <td>7.0</td>\n",
                            "      <td>-0.4</td>\n",
                            "      <td>Lansdown</td>\n",
                            "      <td>Delaware</td>\n",
                            "    </tr>\n",
                            "    <tr>\n",
                            "      <th>45</th>\n",
                            "      <td>94014</td>\n",
                            "      <td>9.4014</td>\n",
                            "      <td>26.6</td>\n",
                            "      <td>14.0</td>\n",
                            "      <td>0.5</td>\n",
                            "      <td>Morton</td>\n",
                            "      <td>Delaware</td>\n",
                            "    </tr>\n",
                            "    <tr>\n",
                            "      <th>54</th>\n",
                            "      <td>99843</td>\n",
                            "      <td>9.9843</td>\n",
                            "      <td>12.5</td>\n",
                            "      <td>12.0</td>\n",
                            "      <td>-3.7</td>\n",
                            "      <td>Norwood</td>\n",
                            "      <td>Delaware</td>\n",
                            "    </tr>\n",
                            "    <tr>\n",
                            "      <th>66</th>\n",
                            "      <td>92215</td>\n",
                            "      <td>9.2215</td>\n",
                            "      <td>17.4</td>\n",
                            "      <td>14.0</td>\n",
                            "      <td>7.8</td>\n",
                            "      <td>Prospect Park</td>\n",
                            "      <td>Delaware</td>\n",
                            "    </tr>\n",
                            "    <tr>\n",
                            "      <th>72</th>\n",
                            "      <td>74308</td>\n",
                            "      <td>7.4308</td>\n",
                            "      <td>29.9</td>\n",
                            "      <td>7.0</td>\n",
                            "      <td>1.8</td>\n",
                            "      <td>Sharon Hill</td>\n",
                            "      <td>Delaware</td>\n",
                            "    </tr>\n",
                            "    <tr>\n",
                            "      <th>86</th>\n",
                            "      <td>93648</td>\n",
                            "      <td>9.3648</td>\n",
                            "      <td>34.5</td>\n",
                            "      <td>8.0</td>\n",
                            "      <td>-0.7</td>\n",
                            "      <td>Upper Darby</td>\n",
                            "      <td>Delaware</td>\n",
                            "    </tr>\n",
                            "  </tbody>\n",
                            "</table>\n",
                            "</div>"
                        ],
                        "text/plain": [
                            "    HousePrice  HsPrc ($10,000)  CrimeRate  MilesPhila  PopChg           Name  \\\n",
                            "6        89246           8.9246       30.8        15.0    -2.6     Brookhaven   \n",
                            "12       77370           7.7370       34.2        10.0    -1.2        Clifton   \n",
                            "14       40642           4.0642       45.7        15.0     0.0     Darby Bor.   \n",
                            "15       71359           7.1359       22.3         8.0     1.6     Darby Town   \n",
                            "25       74502           7.4502       21.4        15.0    -3.2      Follcroft   \n",
                            "27       97167           9.7167       29.3        10.0     0.2      Glenolden   \n",
                            "38       93738           9.3738       19.3         7.0    -0.4       Lansdown   \n",
                            "45       94014           9.4014       26.6        14.0     0.5         Morton   \n",
                            "54       99843           9.9843       12.5        12.0    -3.7        Norwood   \n",
                            "66       92215           9.2215       17.4        14.0     7.8  Prospect Park   \n",
                            "72       74308           7.4308       29.9         7.0     1.8    Sharon Hill   \n",
                            "86       93648           9.3648       34.5         8.0    -0.7    Upper Darby   \n",
                            "\n",
                            "      County  \n",
                            "6   Delaware  \n",
                            "12  Delaware  \n",
                            "14  Delaware  \n",
                            "15  Delaware  \n",
                            "25  Delaware  \n",
                            "27  Delaware  \n",
                            "38  Delaware  \n",
                            "45  Delaware  \n",
                            "54  Delaware  \n",
                            "66  Delaware  \n",
                            "72  Delaware  \n",
                            "86  Delaware  "
                        ]
                    },
                    "execution_count": 48,
                    "metadata": {},
                    "output_type": "execute_result"
                }
            ],
            "source": [
                "crime[(crime[\"County\"] == \"Delaware\") & (crime[\"HousePrice\"] < 100000)]"
            ]
        },
        {
            "attachments": {},
            "cell_type": "markdown",
            "metadata": {},
            "source": [
                "How many rows are there in this dataset?"
            ]
        },
        {
            "cell_type": "code",
            "execution_count": 50,
            "metadata": {},
            "outputs": [
                {
                    "data": {
                        "text/plain": [
                            "(12, 7)"
                        ]
                    },
                    "execution_count": 50,
                    "metadata": {},
                    "output_type": "execute_result"
                }
            ],
            "source": [
                "crime[(crime[\"County\"] == \"Delaware\") & (crime[\"HousePrice\"] < 100000)].shape"
            ]
        },
        {
            "attachments": {},
            "cell_type": "markdown",
            "metadata": {},
            "source": [
                "## 3c: Sorting"
            ]
        },
        {
            "attachments": {},
            "cell_type": "markdown",
            "metadata": {},
            "source": [
                "Sometimes, it is easier to view a dataset after sorting all the datapoints by a particular attribute."
            ]
        },
        {
            "cell_type": "code",
            "execution_count": 51,
            "metadata": {},
            "outputs": [
                {
                    "data": {
                        "text/html": [
                            "<div>\n",
                            "<style scoped>\n",
                            "    .dataframe tbody tr th:only-of-type {\n",
                            "        vertical-align: middle;\n",
                            "    }\n",
                            "\n",
                            "    .dataframe tbody tr th {\n",
                            "        vertical-align: top;\n",
                            "    }\n",
                            "\n",
                            "    .dataframe thead th {\n",
                            "        text-align: right;\n",
                            "    }\n",
                            "</style>\n",
                            "<table border=\"1\" class=\"dataframe\">\n",
                            "  <thead>\n",
                            "    <tr style=\"text-align: right;\">\n",
                            "      <th></th>\n",
                            "      <th>HousePrice</th>\n",
                            "      <th>HsPrc ($10,000)</th>\n",
                            "      <th>CrimeRate</th>\n",
                            "      <th>MilesPhila</th>\n",
                            "      <th>PopChg</th>\n",
                            "      <th>Name</th>\n",
                            "      <th>County</th>\n",
                            "    </tr>\n",
                            "  </thead>\n",
                            "  <tbody>\n",
                            "    <tr>\n",
                            "      <th>56</th>\n",
                            "      <td>28000</td>\n",
                            "      <td>2.8000</td>\n",
                            "      <td>44.9</td>\n",
                            "      <td>5.5</td>\n",
                            "      <td>-8.4</td>\n",
                            "      <td>Phila, N</td>\n",
                            "      <td>Phila</td>\n",
                            "    </tr>\n",
                            "    <tr>\n",
                            "      <th>59</th>\n",
                            "      <td>38000</td>\n",
                            "      <td>3.8000</td>\n",
                            "      <td>54.8</td>\n",
                            "      <td>4.5</td>\n",
                            "      <td>-5.1</td>\n",
                            "      <td>Phila, SW</td>\n",
                            "      <td>Phila</td>\n",
                            "    </tr>\n",
                            "    <tr>\n",
                            "      <th>60</th>\n",
                            "      <td>38000</td>\n",
                            "      <td>3.8000</td>\n",
                            "      <td>53.5</td>\n",
                            "      <td>2.0</td>\n",
                            "      <td>-9.2</td>\n",
                            "      <td>Phila, South</td>\n",
                            "      <td>Phila</td>\n",
                            "    </tr>\n",
                            "    <tr>\n",
                            "      <th>14</th>\n",
                            "      <td>40642</td>\n",
                            "      <td>4.0642</td>\n",
                            "      <td>45.7</td>\n",
                            "      <td>15.0</td>\n",
                            "      <td>0.0</td>\n",
                            "      <td>Darby Bor.</td>\n",
                            "      <td>Delaware</td>\n",
                            "    </tr>\n",
                            "    <tr>\n",
                            "      <th>61</th>\n",
                            "      <td>42000</td>\n",
                            "      <td>4.2000</td>\n",
                            "      <td>69.9</td>\n",
                            "      <td>4.0</td>\n",
                            "      <td>-5.7</td>\n",
                            "      <td>Phila, West</td>\n",
                            "      <td>Phila</td>\n",
                            "    </tr>\n",
                            "    <tr>\n",
                            "      <th>...</th>\n",
                            "      <td>...</td>\n",
                            "      <td>...</td>\n",
                            "      <td>...</td>\n",
                            "      <td>...</td>\n",
                            "      <td>...</td>\n",
                            "      <td>...</td>\n",
                            "      <td>...</td>\n",
                            "    </tr>\n",
                            "    <tr>\n",
                            "      <th>79</th>\n",
                            "      <td>359112</td>\n",
                            "      <td>35.9112</td>\n",
                            "      <td>9.4</td>\n",
                            "      <td>36.0</td>\n",
                            "      <td>4.0</td>\n",
                            "      <td>U. Makefield</td>\n",
                            "      <td>Bucks</td>\n",
                            "    </tr>\n",
                            "    <tr>\n",
                            "      <th>30</th>\n",
                            "      <td>389302</td>\n",
                            "      <td>38.9302</td>\n",
                            "      <td>17.8</td>\n",
                            "      <td>20.0</td>\n",
                            "      <td>1.5</td>\n",
                            "      <td>Horsham</td>\n",
                            "      <td>Montgome</td>\n",
                            "    </tr>\n",
                            "    <tr>\n",
                            "      <th>88</th>\n",
                            "      <td>436348</td>\n",
                            "      <td>43.6348</td>\n",
                            "      <td>22.1</td>\n",
                            "      <td>15.0</td>\n",
                            "      <td>1.3</td>\n",
                            "      <td>Villanova</td>\n",
                            "      <td>Montgome</td>\n",
                            "    </tr>\n",
                            "    <tr>\n",
                            "      <th>29</th>\n",
                            "      <td>436348</td>\n",
                            "      <td>43.6348</td>\n",
                            "      <td>16.5</td>\n",
                            "      <td>10.0</td>\n",
                            "      <td>-0.7</td>\n",
                            "      <td>Haverford</td>\n",
                            "      <td>Delaware</td>\n",
                            "    </tr>\n",
                            "    <tr>\n",
                            "      <th>26</th>\n",
                            "      <td>475112</td>\n",
                            "      <td>47.5112</td>\n",
                            "      <td>28.6</td>\n",
                            "      <td>12.0</td>\n",
                            "      <td>NaN</td>\n",
                            "      <td>Gladwyne</td>\n",
                            "      <td>Montgome</td>\n",
                            "    </tr>\n",
                            "  </tbody>\n",
                            "</table>\n",
                            "<p>99 rows × 7 columns</p>\n",
                            "</div>"
                        ],
                        "text/plain": [
                            "    HousePrice  HsPrc ($10,000)  CrimeRate  MilesPhila  PopChg          Name  \\\n",
                            "56       28000           2.8000       44.9         5.5    -8.4      Phila, N   \n",
                            "59       38000           3.8000       54.8         4.5    -5.1     Phila, SW   \n",
                            "60       38000           3.8000       53.5         2.0    -9.2  Phila, South   \n",
                            "14       40642           4.0642       45.7        15.0     0.0    Darby Bor.   \n",
                            "61       42000           4.2000       69.9         4.0    -5.7   Phila, West   \n",
                            "..         ...              ...        ...         ...     ...           ...   \n",
                            "79      359112          35.9112        9.4        36.0     4.0  U. Makefield   \n",
                            "30      389302          38.9302       17.8        20.0     1.5       Horsham   \n",
                            "88      436348          43.6348       22.1        15.0     1.3     Villanova   \n",
                            "29      436348          43.6348       16.5        10.0    -0.7     Haverford   \n",
                            "26      475112          47.5112       28.6        12.0     NaN      Gladwyne   \n",
                            "\n",
                            "      County  \n",
                            "56     Phila  \n",
                            "59     Phila  \n",
                            "60     Phila  \n",
                            "14  Delaware  \n",
                            "61     Phila  \n",
                            "..       ...  \n",
                            "79     Bucks  \n",
                            "30  Montgome  \n",
                            "88  Montgome  \n",
                            "29  Delaware  \n",
                            "26  Montgome  \n",
                            "\n",
                            "[99 rows x 7 columns]"
                        ]
                    },
                    "execution_count": 51,
                    "metadata": {},
                    "output_type": "execute_result"
                }
            ],
            "source": [
                "crime.sort_values(by=['HousePrice'])"
            ]
        },
        {
            "cell_type": "code",
            "execution_count": 52,
            "metadata": {},
            "outputs": [
                {
                    "data": {
                        "text/html": [
                            "<div>\n",
                            "<style scoped>\n",
                            "    .dataframe tbody tr th:only-of-type {\n",
                            "        vertical-align: middle;\n",
                            "    }\n",
                            "\n",
                            "    .dataframe tbody tr th {\n",
                            "        vertical-align: top;\n",
                            "    }\n",
                            "\n",
                            "    .dataframe thead th {\n",
                            "        text-align: right;\n",
                            "    }\n",
                            "</style>\n",
                            "<table border=\"1\" class=\"dataframe\">\n",
                            "  <thead>\n",
                            "    <tr style=\"text-align: right;\">\n",
                            "      <th></th>\n",
                            "      <th>HousePrice</th>\n",
                            "      <th>HsPrc ($10,000)</th>\n",
                            "      <th>CrimeRate</th>\n",
                            "      <th>MilesPhila</th>\n",
                            "      <th>PopChg</th>\n",
                            "      <th>Name</th>\n",
                            "      <th>County</th>\n",
                            "    </tr>\n",
                            "  </thead>\n",
                            "  <tbody>\n",
                            "    <tr>\n",
                            "      <th>62</th>\n",
                            "      <td>96200</td>\n",
                            "      <td>9.6200</td>\n",
                            "      <td>366.1</td>\n",
                            "      <td>0.0</td>\n",
                            "      <td>4.8</td>\n",
                            "      <td>Phila,CC</td>\n",
                            "      <td>Phila</td>\n",
                            "    </tr>\n",
                            "    <tr>\n",
                            "      <th>52</th>\n",
                            "      <td>71981</td>\n",
                            "      <td>7.1981</td>\n",
                            "      <td>73.3</td>\n",
                            "      <td>19.0</td>\n",
                            "      <td>4.9</td>\n",
                            "      <td>Norristown</td>\n",
                            "      <td>Montgome</td>\n",
                            "    </tr>\n",
                            "    <tr>\n",
                            "      <th>18</th>\n",
                            "      <td>215512</td>\n",
                            "      <td>21.5512</td>\n",
                            "      <td>71.9</td>\n",
                            "      <td>26.0</td>\n",
                            "      <td>5.8</td>\n",
                            "      <td>E. Bradford</td>\n",
                            "      <td>Chester</td>\n",
                            "    </tr>\n",
                            "    <tr>\n",
                            "      <th>89</th>\n",
                            "      <td>124478</td>\n",
                            "      <td>12.4478</td>\n",
                            "      <td>71.9</td>\n",
                            "      <td>22.0</td>\n",
                            "      <td>4.6</td>\n",
                            "      <td>W. Chester</td>\n",
                            "      <td>Chester</td>\n",
                            "    </tr>\n",
                            "    <tr>\n",
                            "      <th>61</th>\n",
                            "      <td>42000</td>\n",
                            "      <td>4.2000</td>\n",
                            "      <td>69.9</td>\n",
                            "      <td>4.0</td>\n",
                            "      <td>-5.7</td>\n",
                            "      <td>Phila, West</td>\n",
                            "      <td>Phila</td>\n",
                            "    </tr>\n",
                            "    <tr>\n",
                            "      <th>...</th>\n",
                            "      <td>...</td>\n",
                            "      <td>...</td>\n",
                            "      <td>...</td>\n",
                            "      <td>...</td>\n",
                            "      <td>...</td>\n",
                            "      <td>...</td>\n",
                            "      <td>...</td>\n",
                            "    </tr>\n",
                            "    <tr>\n",
                            "      <th>71</th>\n",
                            "      <td>229711</td>\n",
                            "      <td>22.9711</td>\n",
                            "      <td>9.8</td>\n",
                            "      <td>22.0</td>\n",
                            "      <td>5.3</td>\n",
                            "      <td>Schuylkill</td>\n",
                            "      <td>Chester</td>\n",
                            "    </tr>\n",
                            "    <tr>\n",
                            "      <th>79</th>\n",
                            "      <td>359112</td>\n",
                            "      <td>35.9112</td>\n",
                            "      <td>9.4</td>\n",
                            "      <td>36.0</td>\n",
                            "      <td>4.0</td>\n",
                            "      <td>U. Makefield</td>\n",
                            "      <td>Bucks</td>\n",
                            "    </tr>\n",
                            "    <tr>\n",
                            "      <th>73</th>\n",
                            "      <td>259506</td>\n",
                            "      <td>25.9506</td>\n",
                            "      <td>7.2</td>\n",
                            "      <td>40.0</td>\n",
                            "      <td>17.4</td>\n",
                            "      <td>Solebury</td>\n",
                            "      <td>Bucks</td>\n",
                            "    </tr>\n",
                            "    <tr>\n",
                            "      <th>53</th>\n",
                            "      <td>169401</td>\n",
                            "      <td>16.9401</td>\n",
                            "      <td>7.1</td>\n",
                            "      <td>22.0</td>\n",
                            "      <td>1.5</td>\n",
                            "      <td>Northampton</td>\n",
                            "      <td>Bucks</td>\n",
                            "    </tr>\n",
                            "    <tr>\n",
                            "      <th>82</th>\n",
                            "      <td>242821</td>\n",
                            "      <td>24.2821</td>\n",
                            "      <td>6.6</td>\n",
                            "      <td>21.0</td>\n",
                            "      <td>1.6</td>\n",
                            "      <td>U. Providence</td>\n",
                            "      <td>Delaware</td>\n",
                            "    </tr>\n",
                            "  </tbody>\n",
                            "</table>\n",
                            "<p>99 rows × 7 columns</p>\n",
                            "</div>"
                        ],
                        "text/plain": [
                            "    HousePrice  HsPrc ($10,000)  CrimeRate  MilesPhila  PopChg           Name  \\\n",
                            "62       96200           9.6200      366.1         0.0     4.8       Phila,CC   \n",
                            "52       71981           7.1981       73.3        19.0     4.9     Norristown   \n",
                            "18      215512          21.5512       71.9        26.0     5.8    E. Bradford   \n",
                            "89      124478          12.4478       71.9        22.0     4.6     W. Chester   \n",
                            "61       42000           4.2000       69.9         4.0    -5.7    Phila, West   \n",
                            "..         ...              ...        ...         ...     ...            ...   \n",
                            "71      229711          22.9711        9.8        22.0     5.3     Schuylkill   \n",
                            "79      359112          35.9112        9.4        36.0     4.0   U. Makefield   \n",
                            "73      259506          25.9506        7.2        40.0    17.4       Solebury   \n",
                            "53      169401          16.9401        7.1        22.0     1.5    Northampton   \n",
                            "82      242821          24.2821        6.6        21.0     1.6  U. Providence   \n",
                            "\n",
                            "      County  \n",
                            "62     Phila  \n",
                            "52  Montgome  \n",
                            "18   Chester  \n",
                            "89   Chester  \n",
                            "61     Phila  \n",
                            "..       ...  \n",
                            "71   Chester  \n",
                            "79     Bucks  \n",
                            "73     Bucks  \n",
                            "53     Bucks  \n",
                            "82  Delaware  \n",
                            "\n",
                            "[99 rows x 7 columns]"
                        ]
                    },
                    "execution_count": 52,
                    "metadata": {},
                    "output_type": "execute_result"
                }
            ],
            "source": [
                "crime.sort_values(by=['CrimeRate'], ascending=False)"
            ]
        },
        {
            "attachments": {},
            "cell_type": "markdown",
            "metadata": {},
            "source": [
                "Sort the dataset from highest population change (the fastest growing area) to least."
            ]
        },
        {
            "cell_type": "code",
            "execution_count": 55,
            "metadata": {},
            "outputs": [
                {
                    "data": {
                        "text/html": [
                            "<div>\n",
                            "<style scoped>\n",
                            "    .dataframe tbody tr th:only-of-type {\n",
                            "        vertical-align: middle;\n",
                            "    }\n",
                            "\n",
                            "    .dataframe tbody tr th {\n",
                            "        vertical-align: top;\n",
                            "    }\n",
                            "\n",
                            "    .dataframe thead th {\n",
                            "        text-align: right;\n",
                            "    }\n",
                            "</style>\n",
                            "<table border=\"1\" class=\"dataframe\">\n",
                            "  <thead>\n",
                            "    <tr style=\"text-align: right;\">\n",
                            "      <th></th>\n",
                            "      <th>HousePrice</th>\n",
                            "      <th>HsPrc ($10,000)</th>\n",
                            "      <th>CrimeRate</th>\n",
                            "      <th>MilesPhila</th>\n",
                            "      <th>PopChg</th>\n",
                            "      <th>Name</th>\n",
                            "      <th>County</th>\n",
                            "    </tr>\n",
                            "  </thead>\n",
                            "  <tbody>\n",
                            "    <tr>\n",
                            "      <th>39</th>\n",
                            "      <td>121024</td>\n",
                            "      <td>12.1024</td>\n",
                            "      <td>39.5</td>\n",
                            "      <td>35.0</td>\n",
                            "      <td>26.9</td>\n",
                            "      <td>Limerick</td>\n",
                            "      <td>Montgome</td>\n",
                            "    </tr>\n",
                            "    <tr>\n",
                            "      <th>93</th>\n",
                            "      <td>152624</td>\n",
                            "      <td>15.2624</td>\n",
                            "      <td>24.0</td>\n",
                            "      <td>19.0</td>\n",
                            "      <td>23.1</td>\n",
                            "      <td>Warrington</td>\n",
                            "      <td>Bucks</td>\n",
                            "    </tr>\n",
                            "    <tr>\n",
                            "      <th>73</th>\n",
                            "      <td>259506</td>\n",
                            "      <td>25.9506</td>\n",
                            "      <td>7.2</td>\n",
                            "      <td>40.0</td>\n",
                            "      <td>17.4</td>\n",
                            "      <td>Solebury</td>\n",
                            "      <td>Bucks</td>\n",
                            "    </tr>\n",
                            "    <tr>\n",
                            "      <th>34</th>\n",
                            "      <td>194435</td>\n",
                            "      <td>19.4435</td>\n",
                            "      <td>15.7</td>\n",
                            "      <td>32.0</td>\n",
                            "      <td>15.0</td>\n",
                            "      <td>L. Makefield</td>\n",
                            "      <td>Bucks</td>\n",
                            "    </tr>\n",
                            "    <tr>\n",
                            "      <th>91</th>\n",
                            "      <td>114157</td>\n",
                            "      <td>11.4157</td>\n",
                            "      <td>44.6</td>\n",
                            "      <td>38.0</td>\n",
                            "      <td>14.6</td>\n",
                            "      <td>W. Whiteland</td>\n",
                            "      <td>Chester</td>\n",
                            "    </tr>\n",
                            "    <tr>\n",
                            "      <th>...</th>\n",
                            "      <td>...</td>\n",
                            "      <td>...</td>\n",
                            "      <td>...</td>\n",
                            "      <td>...</td>\n",
                            "      <td>...</td>\n",
                            "      <td>...</td>\n",
                            "      <td>...</td>\n",
                            "    </tr>\n",
                            "    <tr>\n",
                            "      <th>61</th>\n",
                            "      <td>42000</td>\n",
                            "      <td>4.2000</td>\n",
                            "      <td>69.9</td>\n",
                            "      <td>4.0</td>\n",
                            "      <td>-5.7</td>\n",
                            "      <td>Phila, West</td>\n",
                            "      <td>Phila</td>\n",
                            "    </tr>\n",
                            "    <tr>\n",
                            "      <th>58</th>\n",
                            "      <td>61800</td>\n",
                            "      <td>6.1800</td>\n",
                            "      <td>49.9</td>\n",
                            "      <td>9.0</td>\n",
                            "      <td>-6.4</td>\n",
                            "      <td>Phila, NW</td>\n",
                            "      <td>Phila</td>\n",
                            "    </tr>\n",
                            "    <tr>\n",
                            "      <th>56</th>\n",
                            "      <td>28000</td>\n",
                            "      <td>2.8000</td>\n",
                            "      <td>44.9</td>\n",
                            "      <td>5.5</td>\n",
                            "      <td>-8.4</td>\n",
                            "      <td>Phila, N</td>\n",
                            "      <td>Phila</td>\n",
                            "    </tr>\n",
                            "    <tr>\n",
                            "      <th>60</th>\n",
                            "      <td>38000</td>\n",
                            "      <td>3.8000</td>\n",
                            "      <td>53.5</td>\n",
                            "      <td>2.0</td>\n",
                            "      <td>-9.2</td>\n",
                            "      <td>Phila, South</td>\n",
                            "      <td>Phila</td>\n",
                            "    </tr>\n",
                            "    <tr>\n",
                            "      <th>26</th>\n",
                            "      <td>475112</td>\n",
                            "      <td>47.5112</td>\n",
                            "      <td>28.6</td>\n",
                            "      <td>12.0</td>\n",
                            "      <td>NaN</td>\n",
                            "      <td>Gladwyne</td>\n",
                            "      <td>Montgome</td>\n",
                            "    </tr>\n",
                            "  </tbody>\n",
                            "</table>\n",
                            "<p>99 rows × 7 columns</p>\n",
                            "</div>"
                        ],
                        "text/plain": [
                            "    HousePrice  HsPrc ($10,000)  CrimeRate  MilesPhila  PopChg          Name  \\\n",
                            "39      121024          12.1024       39.5        35.0    26.9      Limerick   \n",
                            "93      152624          15.2624       24.0        19.0    23.1    Warrington   \n",
                            "73      259506          25.9506        7.2        40.0    17.4      Solebury   \n",
                            "34      194435          19.4435       15.7        32.0    15.0  L. Makefield   \n",
                            "91      114157          11.4157       44.6        38.0    14.6  W. Whiteland   \n",
                            "..         ...              ...        ...         ...     ...           ...   \n",
                            "61       42000           4.2000       69.9         4.0    -5.7   Phila, West   \n",
                            "58       61800           6.1800       49.9         9.0    -6.4     Phila, NW   \n",
                            "56       28000           2.8000       44.9         5.5    -8.4      Phila, N   \n",
                            "60       38000           3.8000       53.5         2.0    -9.2  Phila, South   \n",
                            "26      475112          47.5112       28.6        12.0     NaN      Gladwyne   \n",
                            "\n",
                            "      County  \n",
                            "39  Montgome  \n",
                            "93     Bucks  \n",
                            "73     Bucks  \n",
                            "34     Bucks  \n",
                            "91   Chester  \n",
                            "..       ...  \n",
                            "61     Phila  \n",
                            "58     Phila  \n",
                            "56     Phila  \n",
                            "60     Phila  \n",
                            "26  Montgome  \n",
                            "\n",
                            "[99 rows x 7 columns]"
                        ]
                    },
                    "execution_count": 55,
                    "metadata": {},
                    "output_type": "execute_result"
                }
            ],
            "source": [
                "crime.sort_values(by=\"PopChg\", ascending=False)"
            ]
        },
        {
            "attachments": {},
            "cell_type": "markdown",
            "metadata": {},
            "source": [
                "## 3d: Problems"
            ]
        },
        {
            "attachments": {},
            "cell_type": "markdown",
            "metadata": {},
            "source": [
                "**[Discussion]** what biases can exist when using a dataset and training a model to predict crime rates?"
            ]
        },
        {
            "attachments": {},
            "cell_type": "markdown",
            "metadata": {},
            "source": [
                "### 1)\n",
                "* a) print out all the rows in the dataset where the crimerate is between 15 and 25 percent\n",
                "* b) how many entries in the dataset are there for this criteria?\n",
                "* c) how many unique counties are there for this criteria?\n",
                "\n",
                "For Part C) I haven't given you one of the functions that you need yet. Search Google for \"pandas num unique\" to find a relevant function in the documentation."
            ]
        },
        {
            "cell_type": "code",
            "execution_count": null,
            "metadata": {},
            "outputs": [],
            "source": []
        },
        {
            "attachments": {},
            "cell_type": "markdown",
            "metadata": {},
            "source": [
                "2)\n",
                "* a) print out the average houseprice in Montgome county\n",
                "* b) what is the most expensive house in the entire dataset? What county is it located in?"
            ]
        },
        {
            "cell_type": "code",
            "execution_count": null,
            "metadata": {},
            "outputs": [],
            "source": [
                "\n"
            ]
        },
        {
            "attachments": {},
            "cell_type": "markdown",
            "metadata": {},
            "source": [
                "3) (Extra) what is the average price per county \n",
                "* [groupby documentation](https://pandas.pydata.org/pandas-docs/stable/reference/api/pandas.DataFrame.groupby.html)"
            ]
        },
        {
            "cell_type": "code",
            "execution_count": null,
            "metadata": {},
            "outputs": [],
            "source": []
        },
        {
            "attachments": {},
            "cell_type": "markdown",
            "metadata": {},
            "source": [
                "# 4. Introduction to sklearn/scikit-learn"
            ]
        },
        {
            "attachments": {},
            "cell_type": "markdown",
            "metadata": {},
            "source": [
                "`scikit-learn`/`sklearn` is a machine learning Python library used to implement machine learning models and perform statistical modeling."
            ]
        },
        {
            "attachments": {},
            "cell_type": "markdown",
            "metadata": {},
            "source": [
                "In this example, we will use a dataset related to diabetes and various health metrics and glucose levels and try to **predict a person's blood sugar level.** "
            ]
        },
        {
            "attachments": {},
            "cell_type": "markdown",
            "metadata": {},
            "source": [
                "Note that the `sklearn` datasets come pre-separated. What we mean by that is the data inputs are separate from the labels. The input data is stored in the `.data` field and the labels in the `.target` field."
            ]
        },
        {
            "attachments": {},
            "cell_type": "markdown",
            "metadata": {},
            "source": [
                "First, let us load the dataset and investigate it."
            ]
        },
        {
            "cell_type": "code",
            "execution_count": 3,
            "metadata": {},
            "outputs": [],
            "source": [
                "from sklearn import datasets\n",
                "diabetes = datasets.load_diabetes()"
            ]
        },
        {
            "cell_type": "code",
            "execution_count": 4,
            "metadata": {},
            "outputs": [],
            "source": [
                "# Check the shape of the input data.\n",
                "# 442 rows, 10 columns\n",
                "\n",
                "diabetes.data.shape"
            ]
        },
        {
            "cell_type": "code",
            "execution_count": 5,
            "metadata": {},
            "outputs": [],
            "source": [
                "# Check the shape of the target\n",
                "# 442 rows (no columns, just an array)\n",
                "\n",
                "diabetes.target.shape"
            ]
        },
        {
            "cell_type": "code",
            "execution_count": 6,
            "metadata": {},
            "outputs": [],
            "source": [
                "# Names of the columns\n",
                "\n",
                "diabetes.feature_names"
            ]
        },
        {
            "cell_type": "code",
            "execution_count": 7,
            "metadata": {},
            "outputs": [],
            "source": [
                "# targets - actual blood sugar levels\n",
                "\n",
                "diabetes.target"
            ]
        },
        {
            "attachments": {},
            "cell_type": "markdown",
            "metadata": {},
            "source": [
                "## 4a: Train a Model"
            ]
        },
        {
            "attachments": {},
            "cell_type": "markdown",
            "metadata": {},
            "source": [
                "To train a model, we will use sklearn's `LinearRegression` model. You can see the documentation for `LinearRegression` [here](https://scikit-learn.org/stable/modules/generated/sklearn.linear_model.LinearRegression.html).\n",
                "\n",
                "How would you train a linear regression model?"
            ]
        },
        {
            "cell_type": "code",
            "execution_count": 1,
            "metadata": {},
            "outputs": [],
            "source": []
        },
        {
            "attachments": {},
            "cell_type": "markdown",
            "metadata": {},
            "source": [
                "From the documentation, you can see that there are lots of other functions / properties you can look at. \n",
                "\n",
                "Let's say you want to view the learned weights. How would you do that?"
            ]
        },
        {
            "cell_type": "code",
            "execution_count": 9,
            "metadata": {},
            "outputs": [],
            "source": []
        },
        {
            "attachments": {},
            "cell_type": "markdown",
            "metadata": {},
            "source": [
                "## 4b: Predicting values"
            ]
        },
        {
            "attachments": {},
            "cell_type": "markdown",
            "metadata": {},
            "source": [
                "How would you predict the blood sugar levels with your model?"
            ]
        },
        {
            "cell_type": "code",
            "execution_count": 11,
            "metadata": {},
            "outputs": [],
            "source": []
        }
    ],
    "metadata": {
        "kernelspec": {
            "display_name": "Python 3 (ipykernel)",
            "language": "python",
            "name": "python3"
        },
        "language_info": {
            "codemirror_mode": {
                "name": "ipython",
                "version": 3
            },
            "file_extension": ".py",
            "mimetype": "text/x-python",
            "name": "python",
            "nbconvert_exporter": "python",
            "pygments_lexer": "ipython3",
            "version": "3.12.4"
        }
    },
    "nbformat": 4,
    "nbformat_minor": 0
}
