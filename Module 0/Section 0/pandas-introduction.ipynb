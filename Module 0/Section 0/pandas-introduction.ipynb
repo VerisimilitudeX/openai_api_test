{
    "metadata": {
        "kernelspec": {
            "name": "python3",
            "display_name": "Python 3 (ipykernel)",
            "language": "python"
        }
    },
    "nbformat": 4,
    "nbformat_minor": 0,
    "cells": [
        {
            "attachments": {},
            "cell_type": "markdown",
            "metadata": {},
            "source": [
                "# 1. Setting Up"
            ]
        },
        {
            "attachments": {},
            "cell_type": "markdown",
            "metadata": {},
            "source": [
                "We begin by importing the libraries we need: (1) Numpy (commonly refered to as `np`), and (2) Pandas (commonly refered to as `pd`)."
            ]
        },
        {
            "cell_type": "code",
            "execution_count": 2,
            "metadata": {},
            "outputs": [],
            "source": [
                "import numpy as np\n",
                "import pandas as pd"
            ]
        },
        {
            "attachments": {},
            "cell_type": "markdown",
            "metadata": {},
            "source": [
                "# 2. Introduction to Numpy"
            ]
        },
        {
            "attachments": {},
            "cell_type": "markdown",
            "metadata": {},
            "source": [
                "`numpy` is a popular python numerical processing library.\n",
                "\n",
                "`numpy`'s primary data structure is the `numpy.array`. An array will store a sequence of values *of the same type*.  "
            ]
        },
        {
            "attachments": {},
            "cell_type": "markdown",
            "metadata": {},
            "source": [
                "## 2a: More Than One Dimensions"
            ]
        },
        {
            "attachments": {},
            "cell_type": "markdown",
            "metadata": {},
            "source": [
                "In machine learning, we rarely store data in one-dimensional arrays. Typically, we store data in 2D arrays, where each row is a datapoint, and each column represents an attribute of the datapoint (more on this in the `pandas` section later). Numpy arrays are great for representing multi-dimensional data efficiently."
            ]
        },
        {
            "cell_type": "code",
            "execution_count": 4,
            "metadata": {},
            "outputs": [],
            "source": [
                "# np.ones actually takes a tuple, specifying the rows and columns of the all ones matrix (2D array)\n",
                "x = np.ones((3,4))\n",
                "print(x)"
            ]
        },
        {
            "attachments": {},
            "cell_type": "markdown",
            "metadata": {},
            "source": [
                "The `reshape` function allows us to take an array and change its shape while maintaining its data."
            ]
        },
        {
            "cell_type": "code",
            "execution_count": 5,
            "metadata": {},
            "outputs": [],
            "source": [
                "# Create an array of the values 0 to 20 (exclusive)\n",
                "x = np.arange(20)\n",
                "print('Before reshape')\n",
                "print(x)\n",
                "print()"
            ]
        },
        {
            "cell_type": "code",
            "execution_count": 0,
            "metadata": {},
            "outputs": [],
            "source": [
                "# Reshape the array such that it has dimensions 5x4 (5 rows, 4 columns)\n",
                "y = x.reshape((5,4))\n",
                "print('After reshape')\n",
                "print(y)"
            ]
        },
        {
            "cell_type": "code",
            "execution_count": 6,
            "metadata": {},
            "outputs": [],
            "source": [
                "# What happens if we reshape to a different number of entries?\n",
                "\n",
                "# Fewer entries\n",
                "z = x.reshape((6,3))\n",
                "print(z)"
            ]
        },
        {
            "attachments": {},
            "cell_type": "markdown",
            "metadata": {},
            "source": [
                "Create an array that contains the numbers 0-24."
            ]
        },
        {
            "cell_type": "code",
            "execution_count": 0,
            "metadata": {},
            "outputs": [],
            "source": [
                "arr = # something"
            ]
        },
        {
            "attachments": {},
            "cell_type": "markdown",
            "metadata": {},
            "source": [
                "Reshape the array to be 5x5."
            ]
        },
        {
            "cell_type": "code",
            "execution_count": 0,
            "metadata": {},
            "outputs": [],
            "source": [
                ""
            ]
        },
        {
            "attachments": {},
            "cell_type": "markdown",
            "metadata": {},
            "source": [
                "## 2b: Accessing Data"
            ]
        },
        {
            "attachments": {},
            "cell_type": "markdown",
            "metadata": {},
            "source": [
                "How do we access data at a particular location (e.g., a particular row and column) in an array? This process is referred to as **\"indexing\"**. If you are selecting multiple rows or columns, it is referred to as **\"slicing\"**."
            ]
        },
        {
            "cell_type": "code",
            "execution_count": 0,
            "metadata": {},
            "outputs": [],
            "source": [
                "# What will this cell output? \n",
                "\n",
                "# Access one value\n",
                "print('First: y[1,2]')\n",
                "y1 = y[1,2]\n",
                "print(y1)\n",
                "print()"
            ]
        },
        {
            "cell_type": "code",
            "execution_count": 0,
            "metadata": {},
            "outputs": [],
            "source": [
                "# Use slice notation [a:b, c:d], where pre:post has pre inclusive, post exclusive\n",
                "\n",
                "# Slice first element of tuple\n",
                "print('Second: y[3:5, 1]')\n",
                "y2 = y[3:5, 1]\n",
                "print(y2)\n",
                "print()"
            ]
        },
        {
            "cell_type": "code",
            "execution_count": 0,
            "metadata": {},
            "outputs": [],
            "source": [
                "# Slice second element of tuple\n",
                "print('Third: y[3, 1:3]')\n",
                "y3 = y[3, 1:3]\n",
                "print(y3)\n",
                "print()"
            ]
        },
        {
            "cell_type": "code",
            "execution_count": 0,
            "metadata": {},
            "outputs": [],
            "source": [
                "# Slice both elements of tuple\n",
                "print('Fourth: y[0:5, 2:5]')\n",
                "y4 = y[0:5, 2:5]\n",
                "print(y4)"
            ]
        },
        {
            "cell_type": "code",
            "execution_count": 0,
            "metadata": {},
            "outputs": [],
            "source": [
                "# Slice notation has a \"and everything else\" syntax\n",
                "print('Fifth: y[1, :]')\n",
                "y5 = y[1, :]\n",
                "print(y5) # Everything in the first row\n",
                "print()"
            ]
        },
        {
            "cell_type": "code",
            "execution_count": 0,
            "metadata": {},
            "outputs": [],
            "source": [
                "print('Sixth: y[:, 3]')\n",
                "y6 = y[:, 3]\n",
                "print(y6) # Everything in the third column\n",
                "print()\n",
                ""
            ]
        },
        {
            "attachments": {},
            "cell_type": "markdown",
            "metadata": {},
            "source": [
                "Access the elements in the 4th row of y, from the first two columns."
            ]
        },
        {
            "cell_type": "code",
            "execution_count": 0,
            "metadata": {},
            "outputs": [],
            "source": [
                ""
            ]
        },
        {
            "attachments": {},
            "cell_type": "markdown",
            "metadata": {},
            "source": [
                "## 2c: Shape of Numpy Arrays"
            ]
        },
        {
            "attachments": {},
            "cell_type": "markdown",
            "metadata": {},
            "source": [
                "We often need to know how many datapoints are in our dataset (num rows), or how many attributes there are per point (num columns). This is referred to as the numpy.array's \"shape.\""
            ]
        },
        {
            "cell_type": "code",
            "execution_count": 0,
            "metadata": {},
            "outputs": [],
            "source": [
                "# What do each of these return? How do you interpret the result?\n",
                "\n",
                "print('y.shape')\n",
                "print(y.shape)\n",
                "print()"
            ]
        },
        {
            "cell_type": "code",
            "execution_count": 0,
            "metadata": {},
            "outputs": [],
            "source": [
                "# What happens when we reshape the y4 array?\n",
                "\n",
                "print('y4')\n",
                "print(y4)\n",
                "print()\n",
                "\n",
                "print('y4.shape')\n",
                "print(y4.shape)\n",
                "print()\n",
                "\n",
                "\n",
                "# Reshape it\n",
                "y4_r = y4.reshape(2,5)\n",
                "\n",
                "print('y4_r')\n",
                "print(y4_r)\n",
                "print()\n",
                "\n",
                "print('y4_r.shape')\n",
                "print(y4_r.shape)\n",
                "print()"
            ]
        },
        {
            "attachments": {},
            "cell_type": "markdown",
            "metadata": {},
            "source": [
                "Note, this is *not* the same as the transpose operation! When we reshape we maintain the order of the elements, left to right and top to bottom."
            ]
        },
        {
            "attachments": {},
            "cell_type": "markdown",
            "metadata": {},
            "source": [
                "## 2d: Numpy Functions"
            ]
        },
        {
            "attachments": {},
            "cell_type": "markdown",
            "metadata": {},
            "source": [
                "Numpy has functions that can be applied to arrays and their subsets! Many of the standard functions we might want to use are supported.\n",
                "- mean()\n",
                "- max()\n",
                "- min()"
            ]
        },
        {
            "cell_type": "code",
            "execution_count": 0,
            "metadata": {},
            "outputs": [],
            "source": [
                "# Reusing y from above (digits 1 - 20 exclusive, in a 5x4 array)\n",
                "print('y')\n",
                "print(y)\n",
                "print()\n",
                "\n",
                "print('Mean y')\n",
                "print(np.mean(y))\n",
                "print()\n",
                "\n",
                "print('min of the second column of y')\n",
                "print(np.min(y[:,1]))\n",
                "print()\n",
                "\n",
                "# Technically, we could have also used our knowledge of the data to answer this question without computation.\n",
                "# We know how the data is distributed across the array; in particular, elements increase left to right and top to bottom.\n",
                "# Leveraging this knowledge would save us computation in situations with vast, many dimensional arrays."
            ]
        },
        {
            "attachments": {},
            "cell_type": "markdown",
            "metadata": {},
            "source": [
                "You can also get apply the function across particular axes. "
            ]
        },
        {
            "cell_type": "code",
            "execution_count": 0,
            "metadata": {},
            "outputs": [],
            "source": [
                "# Another syntax for numpy functions across arrays\n",
                "print(np.max(y, axis=0))"
            ]
        },
        {
            "cell_type": "code",
            "execution_count": 0,
            "metadata": {},
            "outputs": [],
            "source": [
                "print(np.max(y, axis=1))\n",
                "\n",
                "# What are we returning here?"
            ]
        },
        {
            "attachments": {},
            "cell_type": "markdown",
            "metadata": {},
            "source": [
                "Axis 0 is the rows (down the columns), axis 1 is the columns (down the rows)."
            ]
        },
        {
            "attachments": {},
            "cell_type": "markdown",
            "metadata": {},
            "source": [
                "How do you find the numpy functions you need? Search Google for \"numpy [function description].\" Numpy has very useful documentation and examples that can help you understand its functions!"
            ]
        },
        {
            "attachments": {},
            "cell_type": "markdown",
            "metadata": {},
            "source": [
                "# 3. Introduction to Pandas"
            ]
        },
        {
            "attachments": {},
            "cell_type": "markdown",
            "metadata": {},
            "source": [
                "Pandas is used to represent dataframes. \n",
                "\n",
                "Imagine you're storing a dataset that consists of average home price and the crime rate for neighborhoods near Philadelphia. You could use a Numpy array where you always store the home price in column 1, the crime rate in column 2, etc. But it becomes ***very difficult*** to remember which column has what data, and it makes it hard for anyone else to understand your code. \n",
                "\n",
                "To overcome these challenges, we use Pandas dataframes, which lets us label each column with a description of the data it contains. \n",
                "\n",
                "First, let us load the dataset."
            ]
        },
        {
            "cell_type": "code",
            "execution_count": 3,
            "metadata": {},
            "outputs": [],
            "source": [
                "crime = pd.read_csv('Philadelphia_Crime_Rate_noNA.csv')"
            ]
        },
        {
            "attachments": {},
            "cell_type": "markdown",
            "metadata": {},
            "source": [
                "Let's begin by seeing what our dataset looks like:"
            ]
        },
        {
            "cell_type": "code",
            "execution_count": 3,
            "metadata": {},
            "outputs": [],
            "source": [
                "crime"
            ]
        },
        {
            "attachments": {},
            "cell_type": "markdown",
            "metadata": {},
            "source": [
                "If the dataset is particularly large we can look at only the first few rows using the `head` method"
            ]
        },
        {
            "cell_type": "code",
            "execution_count": 5,
            "metadata": {},
            "outputs": [],
            "source": [
                "crime.head()"
            ]
        },
        {
            "attachments": {},
            "cell_type": "markdown",
            "metadata": {},
            "source": [
                "Select all values in the `HousePrice` column"
            ]
        },
        {
            "cell_type": "code",
            "execution_count": 8,
            "metadata": {},
            "outputs": [],
            "source": [
                "crime['HousePrice']"
            ]
        },
        {
            "attachments": {},
            "cell_type": "markdown",
            "metadata": {},
            "source": [
                "Using a single column we can apply a variety of aggregate functions to summarize the data:\n",
                "* min()\n",
                "* max()\n",
                "* mean()"
            ]
        },
        {
            "cell_type": "code",
            "execution_count": 6,
            "metadata": {},
            "outputs": [],
            "source": [
                "crime['HousePrice']. # enter methods here."
            ]
        },
        {
            "cell_type": "code",
            "execution_count": 0,
            "metadata": {},
            "outputs": [],
            "source": [
                "crime['HousePrice']. # enter methods here."
            ]
        },
        {
            "cell_type": "code",
            "execution_count": 0,
            "metadata": {},
            "outputs": [],
            "source": [
                "crime['HousePrice']. # enter methods here."
            ]
        },
        {
            "attachments": {},
            "cell_type": "markdown",
            "metadata": {},
            "source": [
                "## 3a: Accessing the Data\n",
                "\n",
                "Different columns may have different types. Let's find out the type of each column!"
            ]
        },
        {
            "cell_type": "code",
            "execution_count": 0,
            "metadata": {},
            "outputs": [],
            "source": [
                "crime.dtypes"
            ]
        },
        {
            "attachments": {},
            "cell_type": "markdown",
            "metadata": {},
            "source": [
                "We can index into pandas dataframes and series using indicies using the `iloc` function"
            ]
        },
        {
            "cell_type": "code",
            "execution_count": 0,
            "metadata": {},
            "outputs": [],
            "source": [
                "crime.iloc[10]"
            ]
        },
        {
            "cell_type": "code",
            "execution_count": 0,
            "metadata": {},
            "outputs": [],
            "source": [
                "crime['HousePrice'].iloc[10]"
            ]
        },
        {
            "cell_type": "code",
            "execution_count": 0,
            "metadata": {},
            "outputs": [],
            "source": [
                "crime.iloc[10]['HousePrice']"
            ]
        },
        {
            "attachments": {},
            "cell_type": "markdown",
            "metadata": {},
            "source": [
                "Get the house price of the city at row 73 of the dataset."
            ]
        },
        {
            "cell_type": "code",
            "execution_count": 0,
            "metadata": {},
            "outputs": [],
            "source": [
                ""
            ]
        },
        {
            "attachments": {},
            "cell_type": "markdown",
            "metadata": {},
            "source": [
                "## 3b: Filters\n",
                "\n",
                "One of the most powerful features of pandas is being able to filter data based on certain criteria."
            ]
        },
        {
            "attachments": {},
            "cell_type": "markdown",
            "metadata": {},
            "source": [
                "Let's start by getting all rows in our dataset that are located in Bucks county"
            ]
        },
        {
            "cell_type": "code",
            "execution_count": 1,
            "metadata": {},
            "outputs": [],
            "source": [
                "crime[crime[\"County\"] == \"Bucks\"]"
            ]
        },
        {
            "attachments": {},
            "cell_type": "markdown",
            "metadata": {},
            "source": [
                "What exactly is this doing? "
            ]
        },
        {
            "attachments": {},
            "cell_type": "markdown",
            "metadata": {},
            "source": [
                "Filters can also be combined to have multiple criteria. Let's start by looking at all rows in the dataset that are located in Bucks county with a crimerate greater than 15"
            ]
        },
        {
            "cell_type": "code",
            "execution_count": 0,
            "metadata": {},
            "outputs": [],
            "source": [
                "crime[(crime[\"County\"] == \"Bucks\") \u0026 (crime[\"CrimeRate\"] \u003e 15)]"
            ]
        },
        {
            "attachments": {},
            "cell_type": "markdown",
            "metadata": {},
            "source": [
                "How many rows are there in this dataset?"
            ]
        },
        {
            "cell_type": "code",
            "execution_count": 0,
            "metadata": {},
            "outputs": [],
            "source": [
                "crime[(crime[\"County\"] == \"Bucks\") \u0026 (crime[\"CrimeRate\"] \u003e 15)].shape"
            ]
        },
        {
            "attachments": {},
            "cell_type": "markdown",
            "metadata": {},
            "source": [
                "Get the rows in Delaware county with home prices less than $100,000."
            ]
        },
        {
            "cell_type": "code",
            "execution_count": 7,
            "metadata": {},
            "outputs": [],
            "source": [
                ""
            ]
        },
        {
            "attachments": {},
            "cell_type": "markdown",
            "metadata": {},
            "source": [
                "How many rows are there in this dataset?"
            ]
        },
        {
            "cell_type": "code",
            "execution_count": 8,
            "metadata": {},
            "outputs": [],
            "source": [
                ""
            ]
        },
        {
            "attachments": {},
            "cell_type": "markdown",
            "metadata": {},
            "source": [
                "## 3c: Sorting"
            ]
        },
        {
            "attachments": {},
            "cell_type": "markdown",
            "metadata": {},
            "source": [
                "Sometimes, it is easier to view a dataset after sorting all the datapoints by a particular attribute."
            ]
        },
        {
            "cell_type": "code",
            "execution_count": 1,
            "metadata": {},
            "outputs": [],
            "source": [
                "crime.sort_values(by=['HousePrice'])"
            ]
        },
        {
            "cell_type": "code",
            "execution_count": 0,
            "metadata": {},
            "outputs": [],
            "source": [
                "crime.sort_values(by=['CrimeRate'], ascending=False)"
            ]
        },
        {
            "attachments": {},
            "cell_type": "markdown",
            "metadata": {},
            "source": [
                "Sort the dataset from highest population change (the fastest growing area) to least."
            ]
        },
        {
            "cell_type": "code",
            "execution_count": 0,
            "metadata": {},
            "outputs": [],
            "source": [
                ""
            ]
        },
        {
            "attachments": {},
            "cell_type": "markdown",
            "metadata": {},
            "source": [
                "## 3d: Problems"
            ]
        },
        {
            "attachments": {},
            "cell_type": "markdown",
            "metadata": {},
            "source": [
                "**[Discussion]** what biases can exist when using a dataset and training a model to predict crime rates?"
            ]
        },
        {
            "attachments": {},
            "cell_type": "markdown",
            "metadata": {},
            "source": [
                "### 1)\n",
                "* a) print out all the rows in the dataset where the crimerate is between 15 and 25 percent\n",
                "* b) how many entries in the dataset are there for this criteria?\n",
                "* c) how many unique counties are there for this criteria?\n",
                "\n",
                "For Part C) I haven't given you one of the functions that you need yet. Search Google for \"pandas num unique\" to find a relevant function in the documentation."
            ]
        },
        {
            "cell_type": "code",
            "execution_count": 0,
            "metadata": {},
            "outputs": [],
            "source": [
                ""
            ]
        },
        {
            "attachments": {},
            "cell_type": "markdown",
            "metadata": {},
            "source": [
                "2)\n",
                "* a) print out the average houseprice in Montgome county\n",
                "* b) what is the most expensive house in the entire dataset? What county is it located in?"
            ]
        },
        {
            "cell_type": "code",
            "execution_count": 0,
            "metadata": {},
            "outputs": [],
            "source": [
                "\n",
                ""
            ]
        },
        {
            "attachments": {},
            "cell_type": "markdown",
            "metadata": {},
            "source": [
                "3) (Extra) what is the average price per county \n",
                "* [groupby documentation](https://pandas.pydata.org/pandas-docs/stable/reference/api/pandas.DataFrame.groupby.html)"
            ]
        },
        {
            "cell_type": "code",
            "execution_count": 0,
            "metadata": {},
            "outputs": [],
            "source": [
                ""
            ]
        },
        {
            "attachments": {},
            "cell_type": "markdown",
            "metadata": {},
            "source": [
                "# 4. Introduction to sklearn/scikit-learn"
            ]
        },
        {
            "attachments": {},
            "cell_type": "markdown",
            "metadata": {},
            "source": [
                "`scikit-learn`/`sklearn` is a machine learning Python library used to implement machine learning models and perform statistical modeling."
            ]
        },
        {
            "attachments": {},
            "cell_type": "markdown",
            "metadata": {},
            "source": [
                "In this example, we will use a dataset related to diabetes and various health metrics and glucose levels and try to **predict a person's blood sugar level.** "
            ]
        },
        {
            "attachments": {},
            "cell_type": "markdown",
            "metadata": {},
            "source": [
                "Note that the `sklearn` datasets come pre-separated. What we mean by that is the data inputs are separate from the labels. The input data is stored in the `.data` field and the labels in the `.target` field."
            ]
        },
        {
            "attachments": {},
            "cell_type": "markdown",
            "metadata": {},
            "source": [
                "First, let us load the dataset and investigate it."
            ]
        },
        {
            "cell_type": "code",
            "execution_count": 3,
            "metadata": {},
            "outputs": [],
            "source": [
                "from sklearn import datasets\n",
                "diabetes = datasets.load_diabetes()"
            ]
        },
        {
            "cell_type": "code",
            "execution_count": 4,
            "metadata": {},
            "outputs": [],
            "source": [
                "# Check the shape of the input data.\n",
                "# 442 rows, 10 columns\n",
                "\n",
                "diabetes.data.shape"
            ]
        },
        {
            "cell_type": "code",
            "execution_count": 5,
            "metadata": {},
            "outputs": [],
            "source": [
                "# Check the shape of the target\n",
                "# 442 rows (no columns, just an array)\n",
                "\n",
                "diabetes.target.shape"
            ]
        },
        {
            "cell_type": "code",
            "execution_count": 6,
            "metadata": {},
            "outputs": [],
            "source": [
                "# Names of the columns\n",
                "\n",
                "diabetes.feature_names"
            ]
        },
        {
            "cell_type": "code",
            "execution_count": 7,
            "metadata": {},
            "outputs": [],
            "source": [
                "# targets - actual blood sugar levels\n",
                "\n",
                "diabetes.target"
            ]
        },
        {
            "attachments": {},
            "cell_type": "markdown",
            "metadata": {},
            "source": [
                "## 4a: Train a Model"
            ]
        },
        {
            "attachments": {},
            "cell_type": "markdown",
            "metadata": {},
            "source": [
                "To train a model, we will use sklearn's `LinearRegression` model. You can see the documentation for `LinearRegression` [here](https://scikit-learn.org/stable/modules/generated/sklearn.linear_model.LinearRegression.html).\n",
                "\n",
                "How would you train a linear regression model?"
            ]
        },
        {
            "cell_type": "code",
            "execution_count": 1,
            "metadata": {},
            "outputs": [],
            "source": [
                ""
            ]
        },
        {
            "attachments": {},
            "cell_type": "markdown",
            "metadata": {},
            "source": [
                "From the documentation, you can see that there are lots of other functions / properties you can look at. \n",
                "\n",
                "Let's say you want to view the learned weights. How would you do that?"
            ]
        },
        {
            "cell_type": "code",
            "execution_count": 9,
            "metadata": {},
            "outputs": [],
            "source": [
                ""
            ]
        },
        {
            "attachments": {},
            "cell_type": "markdown",
            "metadata": {},
            "source": [
                "## 4b: Predicting values"
            ]
        },
        {
            "attachments": {},
            "cell_type": "markdown",
            "metadata": {},
            "source": [
                "How would you predict the blood sugar levels with your model?"
            ]
        },
        {
            "cell_type": "code",
            "execution_count": 11,
            "metadata": {},
            "outputs": [],
            "source": [
                ""
            ]
        }
    ]
}
