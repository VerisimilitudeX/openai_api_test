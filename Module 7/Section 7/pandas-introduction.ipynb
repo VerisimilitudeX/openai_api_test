{
    "cells": [
        {
            "attachments": {},
            "cell_type": "markdown",
            "metadata": {},
            "source": [
                "# 1. Setting Up"
            ]
        },
        {
            "cell_type": "code",
            "execution_count": 57,
            "metadata": {},
            "outputs": [],
            "source": [
                "import numpy as np"
            ]
        },
        {
            "attachments": {},
            "cell_type": "markdown",
            "metadata": {},
            "source": [
                "## 2a: More Than One Dimensions"
            ]
        },
        {
            "attachments": {},
            "cell_type": "markdown",
            "metadata": {},
            "source": [
                "`np.zeros()` and `np.ones()` return the numpy arrays filled respectively with zeros and ones, of the given shape.  "
            ]
        },
        {
            "cell_type": "code",
            "execution_count": 58,
            "metadata": {},
            "outputs": [
                {
                    "name": "stdout",
                    "output_type": "stream",
                    "text": [
                        "[[1. 1. 1. 1.]\n",
                        " [1. 1. 1. 1.]\n",
                        " [1. 1. 1. 1.]]\n"
                    ]
                }
            ],
            "source": [
                "# np.ones actually takes a tuple, specifying the rows and columns of the all ones matrix (2D array)\n",
                "x = np.ones((3,4))\n",
                "print(x)"
            ]
        },
        {
            "attachments": {},
            "cell_type": "markdown",
            "metadata": {},
            "source": [
                "The `reshape` function allows us to take an array and change its shape while maintaining its data."
            ]
        },
        {
            "cell_type": "code",
            "execution_count": 59,
            "metadata": {},
            "outputs": [
                {
                    "name": "stdout",
                    "output_type": "stream",
                    "text": [
                        "Before reshape\n",
                        "[ 0  1  2  3  4  5  6  7  8  9 10 11 12 13 14 15 16 17 18 19]\n",
                        "\n"
                    ]
                }
            ],
            "source": [
                "# Create an array of the values 0 to 20 (exclusive)\n",
                "x = np.arange(20)\n",
                "print('Before reshape')\n",
                "print(x)\n",
                "print()"
            ]
        },
        {
            "cell_type": "code",
            "execution_count": 60,
            "metadata": {},
            "outputs": [
                {
                    "name": "stdout",
                    "output_type": "stream",
                    "text": [
                        "After reshape\n",
                        "[[ 0  1  2  3]\n",
                        " [ 4  5  6  7]\n",
                        " [ 8  9 10 11]\n",
                        " [12 13 14 15]\n",
                        " [16 17 18 19]]\n",
                        "\n"
                    ]
                }
            ],
            "source": [
                "y = np.reshape(x, (5, 4))\n",
                "print(\"After reshape\")\n",
                "print(y)\n",
                "print()\n"
            ]
        },
        {
            "attachments": {},
            "cell_type": "markdown",
            "metadata": {},
            "source": [
                "## 2b: Accessing Data"
            ]
        },
        {
            "attachments": {},
            "cell_type": "markdown",
            "metadata": {},
            "source": [
                "How do we access data at a particular location (e.g., a particular row and column) in an array? This process is referred to as **\"indexing\"**. If you are selecting multiple rows or columns, it is referred to as **\"slicing\"**."
            ]
        },
        {
            "cell_type": "code",
            "execution_count": 61,
            "metadata": {},
            "outputs": [
                {
                    "name": "stdout",
                    "output_type": "stream",
                    "text": [
                        "First: y[1,2]\n",
                        "6\n",
                        "\n"
                    ]
                }
            ],
            "source": [
                "# What will this cell output? \n",
                "\n",
                "# Access one value\n",
                "print('First: y[1,2]')\n",
                "y1 = y[1,2]\n",
                "print(y1)\n",
                "print()"
            ]
        },
        {
            "cell_type": "code",
            "execution_count": 62,
            "metadata": {},
            "outputs": [
                {
                    "name": "stdout",
                    "output_type": "stream",
                    "text": [
                        "Second: y[0:6, 2:5]\n",
                        "[[ 2  3]\n",
                        " [ 6  7]\n",
                        " [10 11]\n",
                        " [14 15]\n",
                        " [18 19]]\n"
                    ]
                }
            ],
            "source": [
                "# Slice both elements of tuple\n",
                "print('Second: y[0:6, 2:5]')\n",
                "y2 = y[0:6, 2:5]\n",
                "print(y2)"
            ]
        },
        {
            "cell_type": "code",
            "execution_count": 63,
            "metadata": {},
            "outputs": [
                {
                    "name": "stdout",
                    "output_type": "stream",
                    "text": [
                        "Third: y[1, :]\n",
                        "[4 5 6 7]\n",
                        "\n"
                    ]
                }
            ],
            "source": [
                "# Slice notation has a \"and everything else\" syntax\n",
                "print('Third: y[1, :]')\n",
                "y3 = y[1, :]\n",
                "print(y3) # Everything in the first row\n",
                "print()"
            ]
        },
        {
            "cell_type": "code",
            "execution_count": 64,
            "metadata": {},
            "outputs": [
                {
                    "name": "stdout",
                    "output_type": "stream",
                    "text": [
                        "Fourth: y[:, 3]\n",
                        "[ 3  7 11 15 19]\n",
                        "\n"
                    ]
                }
            ],
            "source": [
                "print('Fourth: y[:, 3]')\n",
                "y4 = y[:, 3]\n",
                "print(y4) # Everything in the third column\n",
                "print()\n"
            ]
        },
        {
            "attachments": {},
            "cell_type": "markdown",
            "metadata": {},
            "source": [
                "## 2c: Shape of Numpy Arrays"
            ]
        },
        {
            "attachments": {},
            "cell_type": "markdown",
            "metadata": {},
            "source": [
                "We often need to know how many datapoints are in our dataset (num rows), or how many attributes there are per point (num columns). This is referred to as the numpy.array's \"shape.\""
            ]
        },
        {
            "cell_type": "code",
            "execution_count": 65,
            "metadata": {},
            "outputs": [
                {
                    "name": "stdout",
                    "output_type": "stream",
                    "text": [
                        "y.shape\n",
                        "(5, 4)\n",
                        "\n"
                    ]
                }
            ],
            "source": [
                "# What do each of these return? How do you interpret the result?\n",
                "\n",
                "print('y.shape')\n",
                "print(y.shape)\n",
                "print()"
            ]
        },
        {
            "attachments": {},
            "cell_type": "markdown",
            "metadata": {},
            "source": [
                "## 2d: Numpy Functions"
            ]
        },
        {
            "attachments": {},
            "cell_type": "markdown",
            "metadata": {},
            "source": [
                "Numpy has functions that can be applied to arrays and their subsets! Many of the standard functions we might want to use are supported.\n",
                "- mean()\n",
                "- max()\n",
                "- min()"
            ]
        },
        {
            "cell_type": "code",
            "execution_count": 66,
            "metadata": {},
            "outputs": [
                {
                    "name": "stdout",
                    "output_type": "stream",
                    "text": [
                        "Mean y\n",
                        "9.5\n",
                        "\n",
                        "min of the second column of y\n",
                        "4\n",
                        "\n",
                        "max of the second row\n",
                        "7\n",
                        "\n"
                    ]
                }
            ],
            "source": [
                "# Reusing y from above (digits 1 - 20 exclusive, in a 5x4 array)\n",
                "print('Mean y')\n",
                "mean = y.mean()\n",
                "print(mean)\n",
                "\n",
                "print()\n",
                "\n",
                "print('min of the second column of y')\n",
                "min = y[1].min()\n",
                "print(min)\n",
                "\n",
                "print()\n",
                "\n",
                "print('max of the second row')\n",
                "max = y[1].max()\n",
                "print(max)\n",
                "\n",
                "print()\n",
                "\n",
                "# Technically, we could have also used our knowledge of the data to answer this question without computation.\n",
                "# We know how the data is distributed across the array; in particular, elements increase left to right and top to bottom.\n",
                "# Leveraging this knowledge would save us computation in situations with vast, many dimensional arrays."
            ]
        },
        {
            "attachments": {},
            "cell_type": "markdown",
            "metadata": {},
            "source": [
                "You can also get apply the function across particular axes. "
            ]
        },
        {
            "cell_type": "code",
            "execution_count": 67,
            "metadata": {},
            "outputs": [
                {
                    "name": "stdout",
                    "output_type": "stream",
                    "text": [
                        "[16 17 18 19]\n"
                    ]
                }
            ],
            "source": [
                "# Another syntax for numpy functions across arrays\n",
                "print(np.max(y, axis=0))"
            ]
        },
        {
            "cell_type": "code",
            "execution_count": 68,
            "metadata": {},
            "outputs": [
                {
                    "name": "stdout",
                    "output_type": "stream",
                    "text": [
                        "[ 3  7 11 15 19]\n"
                    ]
                }
            ],
            "source": [
                "print(np.max(y, axis=1))\n",
                "\n",
                "# What are we returning here?"
            ]
        },
        {
            "attachments": {},
            "cell_type": "markdown",
            "metadata": {},
            "source": [
                "Axis 0 is the rows (down the columns), axis 1 is the columns (down the rows)."
            ]
        },
        {
            "attachments": {},
            "cell_type": "markdown",
            "metadata": {},
            "source": [
                "## 2E: Bincount"
            ]
        },
        {
            "cell_type": "code",
            "execution_count": 69,
            "metadata": {},
            "outputs": [
                {
                    "name": "stdout",
                    "output_type": "stream",
                    "text": [
                        "[ 1  1  2  5  9  9  8  3  1  4  5  7  1  6  9  0  4  4  1 15]\n"
                    ]
                }
            ],
            "source": [
                "z = [1,1,2,5,9,9,8,3,1,4,5,7,1,6,9,0,4,4,1, 15]\n",
                "z = np.array(z)\n",
                "print(z)\n",
                "\n",
                "#TODO: print an array representing the numbers in z in its indices and their counts\n",
                "#      as the values stored a those indices.  \n",
                "\n"
            ]
        },
        {
            "attachments": {},
            "cell_type": "markdown",
            "metadata": {},
            "source": [
                "# **How do you find the numpy functions you need? Search Google for \"numpy [function description].\" Numpy has very useful documentation and examples that can help you understand its functions!**"
            ]
        }
    ],
    "metadata": {
        "kernelspec": {
            "display_name": "Python 3 (ipykernel)",
            "language": "python",
            "name": "python3"
        },
        "language_info": {
            "codemirror_mode": {
                "name": "ipython",
                "version": 3
            },
            "file_extension": ".py",
            "mimetype": "text/x-python",
            "name": "python",
            "nbconvert_exporter": "python",
            "pygments_lexer": "ipython3",
            "version": "3.12.4"
        }
    },
    "nbformat": 4,
    "nbformat_minor": 0
}
