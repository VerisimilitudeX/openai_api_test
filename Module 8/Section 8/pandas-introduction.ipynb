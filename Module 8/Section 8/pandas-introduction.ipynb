{
    "cells": [
        {
            "attachments": {},
            "cell_type": "markdown",
            "metadata": {},
            "source": [
                "## Setup"
            ]
        },
        {
            "cell_type": "code",
            "execution_count": 31,
            "metadata": {},
            "outputs": [],
            "source": [
                "import numpy as np\n",
                "import pandas as pd\n",
                "import matplotlib.pyplot as plt\n",
                "import seaborn as sns\n",
                "from sklearn.decomposition import PCA\n",
                "from sklearn.impute import SimpleImputer\n",
                "from sklearn.preprocessing import StandardScaler"
            ]
        },
        {
            "attachments": {},
            "cell_type": "markdown",
            "metadata": {},
            "source": [
                "The data: Protein quantity measurements of brain tissue samples from multiple regions."
            ]
        },
        {
            "attachments": {},
            "cell_type": "markdown",
            "metadata": {},
            "source": [
                "Here we read in the data, store a feature for visualization later, and drop non-numeric features from the dataset."
            ]
        },
        {
            "cell_type": "code",
            "execution_count": 32,
            "metadata": {},
            "outputs": [],
            "source": [
                "data = pd.read_csv('ProteinAndPathologyQuantifications.csv')\n",
                "structures = data['structure_acronym']"
            ]
        },
        {
            "cell_type": "code",
            "execution_count": 33,
            "metadata": {},
            "outputs": [],
            "source": [
                "clean_data = data.drop(columns=['donor_id', 'donor_name', 'structure_id', 'structure_acronym'])"
            ]
        },
        {
            "attachments": {},
            "cell_type": "markdown",
            "metadata": {},
            "source": [
                "## Pre-processing"
            ]
        },
        {
            "attachments": {},
            "cell_type": "markdown",
            "metadata": {},
            "source": [
                "Next, we replace NaN values with mean values and normalize the data."
            ]
        },
        {
            "cell_type": "code",
            "execution_count": 34,
            "metadata": {},
            "outputs": [
                {
                    "name": "stdout",
                    "output_type": "stream",
                    "text": [
                        "[[7.79282730e-05 2.35802722e-03 1.13707657e-03 ... 9.38000000e+00\n",
                        "  1.17800000e+01 5.23292251e+02]\n",
                        " [6.28024529e-05 2.76219563e-03 1.27181308e-03 ... 8.10000000e+00\n",
                        "  4.50200000e+01 8.14938750e+01]\n",
                        " [6.41346519e-05 3.46832366e-03 1.37873651e-02 ... 2.70000000e+01\n",
                        "  1.58200000e+01 4.70734514e+02]\n",
                        " ...\n",
                        " [6.63881638e-05 2.27534536e-03 6.33726487e-03 ... 2.19600000e+01\n",
                        "  6.00000000e-01 1.81375000e-01]\n",
                        " [7.92516891e-04 4.38366336e-03 1.26577462e-03 ... 0.00000000e+00\n",
                        "  1.24600000e+01 2.05886650e+02]\n",
                        " [7.92517323e-05 2.13531976e-03 1.35058218e-03 ... 8.82000000e+00\n",
                        "  9.50000000e+00 3.78056250e-01]]\n"
                    ]
                }
            ],
            "source": [
                "imp_mean = SimpleImputer(missing_values=np.nan, strategy='mean')\n",
                "clean_data = imp_mean.fit_transform(clean_data)\n",
                "\n",
                "print(clean_data)"
            ]
        },
        {
            "cell_type": "code",
            "execution_count": 35,
            "metadata": {},
            "outputs": [],
            "source": [
                "scaler = StandardScaler()\n",
                "\n",
                "clean_data = scaler.fit_transform(clean_data)\n",
                "\n",
                "print(clean_data)"
            ]
        },
        {
            "attachments": {},
            "cell_type": "markdown",
            "metadata": {},
            "source": [
                "##  PCA"
            ]
        },
        {
            "attachments": {},
            "cell_type": "markdown",
            "metadata": {},
            "source": [
                "Finally, we set-up our PCA model, fit it, and transform the data (embedd in low dimensional space)"
            ]
        },
        {
            "cell_type": "code",
            "execution_count": 36,
            "metadata": {},
            "outputs": [
                {
                    "data": {
                        "text/plain": [
                            "Ellipsis"
                        ]
                    },
                    "execution_count": 36,
                    "metadata": {},
                    "output_type": "execute_result"
                }
            ],
            "source": [
                "pca = PCA(n_components=clean_data.shape[1])\n",
                "# Fit our PCA model and transform the data (storing it in a seperate variable named 'transformed')\n",
                "..."
            ]
        },
        {
            "attachments": {},
            "cell_type": "markdown",
            "metadata": {},
            "source": [
                "We can see how much variance each PC explains"
            ]
        },
        {
            "cell_type": "code",
            "execution_count": 37,
            "metadata": {},
            "outputs": [],
            "source": [
                "# Display the explained variance ratio of the first 5 PCs\n",
                "..."
            ]
        },
        {
            "attachments": {},
            "cell_type": "markdown",
            "metadata": {},
            "source": [
                "## Plots"
            ]
        },
        {
            "attachments": {},
            "cell_type": "markdown",
            "metadata": {},
            "source": [
                "Here we see that two main clusters are apparent in this low dimensional space"
            ]
        },
        {
            "cell_type": "code",
            "execution_count": 38,
            "metadata": {},
            "outputs": [
                {
                    "ename": "NameError",
                    "evalue": "name 'transformed' is not defined",
                    "output_type": "error",
                    "traceback": [
                        "\u001b[1;31m---------------------------------------------------------------------------\u001b[0m",
                        "\u001b[1;31mNameError\u001b[0m                                 Traceback (most recent call last)",
                        "Cell \u001b[1;32mIn[38], line 1\u001b[0m\n\u001b[1;32m----> 1\u001b[0m sns\u001b[38;5;241m.\u001b[39mscatterplot(x\u001b[38;5;241m=\u001b[39m\u001b[43mtransformed\u001b[49m[:,\u001b[38;5;241m0\u001b[39m], y\u001b[38;5;241m=\u001b[39mtransformed[:,\u001b[38;5;241m1\u001b[39m])\n\u001b[0;32m      2\u001b[0m plt\u001b[38;5;241m.\u001b[39mxlabel(\u001b[38;5;124m'\u001b[39m\u001b[38;5;124mPC1\u001b[39m\u001b[38;5;124m'\u001b[39m)\n\u001b[0;32m      3\u001b[0m plt\u001b[38;5;241m.\u001b[39mylabel(\u001b[38;5;124m'\u001b[39m\u001b[38;5;124mPC2\u001b[39m\u001b[38;5;124m'\u001b[39m)\n",
                        "\u001b[1;31mNameError\u001b[0m: name 'transformed' is not defined"
                    ]
                }
            ],
            "source": [
                "sns.scatterplot(x=transformed[:,0], y=transformed[:,1])\n",
                "plt.xlabel('PC1')\n",
                "plt.ylabel('PC2')\n",
                "plt.show()"
            ]
        },
        {
            "attachments": {},
            "cell_type": "markdown",
            "metadata": {},
            "source": [
                "After coloring by brain region, we can see that the islands represent the difference between the hippocampus and other brain regions"
            ]
        },
        {
            "cell_type": "code",
            "execution_count": null,
            "metadata": {},
            "outputs": [],
            "source": [
                "sns.scatterplot(x=transformed[:,0], y=transformed[:,1], hue=structures)\n",
                "plt.xlabel('PC1')\n",
                "plt.ylabel('PC2')\n",
                "plt.show()"
            ]
        },
        {
            "attachments": {},
            "cell_type": "markdown",
            "metadata": {},
            "source": [
                "We can look at other PCs as well. There are outliers that become apparent here!"
            ]
        },
        {
            "cell_type": "code",
            "execution_count": null,
            "metadata": {},
            "outputs": [],
            "source": [
                "sns.scatterplot(x=transformed[:,1], y=transformed[:,2], hue=structures)\n",
                "plt.xlabel('PC2')\n",
                "plt.ylabel('PC3')\n",
                "plt.show()"
            ]
        },
        {
            "cell_type": "code",
            "execution_count": null,
            "metadata": {},
            "outputs": [],
            "source": []
        }
    ],
    "metadata": {
        "kernelspec": {
            "display_name": "Python 3",
            "language": "python",
            "name": "python3"
        },
        "language_info": {
            "codemirror_mode": {
                "name": "ipython",
                "version": 3
            },
            "file_extension": ".py",
            "mimetype": "text/x-python",
            "name": "python",
            "nbconvert_exporter": "python",
            "pygments_lexer": "ipython3",
            "version": "3.12.4"
        }
    },
    "nbformat": 4,
    "nbformat_minor": 0
}
