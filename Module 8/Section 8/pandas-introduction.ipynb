{
    "metadata": {
        "kernelspec": {
            "name": "python3",
            "display_name": "Python 3",
            "language": "python"
        }
    },
    "nbformat": 4,
    "nbformat_minor": 0,
    "cells": [
        {
            "attachments": {},
            "cell_type": "markdown",
            "metadata": {},
            "source": [
                "## Setup"
            ]
        },
        {
            "cell_type": "code",
            "execution_count": 1,
            "metadata": {},
            "outputs": [],
            "source": [
                "import numpy as np\n",
                "import pandas as pd\n",
                "import matplotlib.pyplot as plt\n",
                "import seaborn as sns\n",
                "from sklearn.decomposition import PCA\n",
                "from sklearn.impute import SimpleImputer\n",
                "from sklearn.preprocessing import StandardScaler"
            ]
        },
        {
            "attachments": {},
            "cell_type": "markdown",
            "metadata": {},
            "source": [
                "The data: Protein quantity measurements of brain tissue samples from multiple regions."
            ]
        },
        {
            "attachments": {},
            "cell_type": "markdown",
            "metadata": {},
            "source": [
                "Here we read in the data, store a feature for visualization later, and drop non-numeric features from the dataset."
            ]
        },
        {
            "cell_type": "code",
            "execution_count": 2,
            "metadata": {},
            "outputs": [],
            "source": [
                "data = pd.read_csv('ProteinAndPathologyQuantifications.csv')\n",
                "structures = data['structure_acronym']"
            ]
        },
        {
            "cell_type": "code",
            "execution_count": 3,
            "metadata": {},
            "outputs": [],
            "source": [
                "clean_data = data.drop(columns=['donor_id', 'donor_name', 'structure_id', 'structure_acronym'])"
            ]
        },
        {
            "attachments": {},
            "cell_type": "markdown",
            "metadata": {},
            "source": [
                "## Pre-processing"
            ]
        },
        {
            "attachments": {},
            "cell_type": "markdown",
            "metadata": {},
            "source": [
                "Next, we replace NaN values with mean values and normalize the data."
            ]
        },
        {
            "cell_type": "code",
            "execution_count": 4,
            "metadata": {},
            "outputs": [],
            "source": [
                "imp_mean = SimpleImputer(missing_values=np.nan, strategy='mean')\n",
                "clean_data = ... # fit and transform the data using our imputer"
            ]
        },
        {
            "cell_type": "code",
            "execution_count": 5,
            "metadata": {},
            "outputs": [],
            "source": [
                "clean_data = ... # fit and transform the data using the StandardScaler"
            ]
        },
        {
            "attachments": {},
            "cell_type": "markdown",
            "metadata": {},
            "source": [
                "##  PCA"
            ]
        },
        {
            "attachments": {},
            "cell_type": "markdown",
            "metadata": {},
            "source": [
                "Finally, we set-up our PCA model, fit it, and transform the data (embedd in low dimensional space)"
            ]
        },
        {
            "cell_type": "code",
            "execution_count": 6,
            "metadata": {},
            "outputs": [],
            "source": [
                "pca = PCA(n_components=clean_data.shape[1])\n",
                "# Fit our PCA model and transform the data (storing it in a seperate variable named 'transformed')\n",
                "..."
            ]
        },
        {
            "attachments": {},
            "cell_type": "markdown",
            "metadata": {},
            "source": [
                "We can see how much variance each PC explains"
            ]
        },
        {
            "cell_type": "code",
            "execution_count": 7,
            "metadata": {},
            "outputs": [],
            "source": [
                "# Display the explained variance ratio of the first 5 PCs\n",
                "..."
            ]
        },
        {
            "attachments": {},
            "cell_type": "markdown",
            "metadata": {},
            "source": [
                "## Plots"
            ]
        },
        {
            "attachments": {},
            "cell_type": "markdown",
            "metadata": {},
            "source": [
                "Here we see that two main clusters are apparent in this low dimensional space"
            ]
        },
        {
            "cell_type": "code",
            "execution_count": 8,
            "metadata": {},
            "outputs": [],
            "source": [
                "sns.scatterplot(x=transformed[:,0], y=transformed[:,1])\n",
                "plt.xlabel('PC1')\n",
                "plt.ylabel('PC2')\n",
                "plt.show()"
            ]
        },
        {
            "attachments": {},
            "cell_type": "markdown",
            "metadata": {},
            "source": [
                "After coloring by brain region, we can see that the islands represent the difference between the hippocampus and other brain regions"
            ]
        },
        {
            "cell_type": "code",
            "execution_count": 9,
            "metadata": {},
            "outputs": [],
            "source": [
                "sns.scatterplot(x=transformed[:,0], y=transformed[:,1], hue=structures)\n",
                "plt.xlabel('PC1')\n",
                "plt.ylabel('PC2')\n",
                "plt.show()"
            ]
        },
        {
            "attachments": {},
            "cell_type": "markdown",
            "metadata": {},
            "source": [
                "We can look at other PCs as well. There are outliers that become apparent here!"
            ]
        },
        {
            "cell_type": "code",
            "execution_count": 10,
            "metadata": {},
            "outputs": [],
            "source": [
                "sns.scatterplot(x=transformed[:,1], y=transformed[:,2], hue=structures)\n",
                "plt.xlabel('PC2')\n",
                "plt.ylabel('PC3')\n",
                "plt.show()"
            ]
        },
        {
            "cell_type": "code",
            "execution_count": 11,
            "metadata": {},
            "outputs": [],
            "source": [
                ""
            ]
        }
    ]
}
